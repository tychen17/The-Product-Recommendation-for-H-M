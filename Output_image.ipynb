{
 "cells": [
  {
   "cell_type": "code",
   "execution_count": 1,
   "id": "87db8966",
   "metadata": {},
   "outputs": [],
   "source": [
    "import numpy as np\n",
    "import pandas as pd\n",
    "import matplotlib.image as mpimg\n",
    "import matplotlib.pyplot as plt\n",
    "import re"
   ]
  },
  {
   "cell_type": "code",
   "execution_count": 2,
   "id": "9bd7e8e8",
   "metadata": {},
   "outputs": [
    {
     "data": {
      "text/html": [
       "<div>\n",
       "<style scoped>\n",
       "    .dataframe tbody tr th:only-of-type {\n",
       "        vertical-align: middle;\n",
       "    }\n",
       "\n",
       "    .dataframe tbody tr th {\n",
       "        vertical-align: top;\n",
       "    }\n",
       "\n",
       "    .dataframe thead th {\n",
       "        text-align: right;\n",
       "    }\n",
       "</style>\n",
       "<table border=\"1\" class=\"dataframe\">\n",
       "  <thead>\n",
       "    <tr style=\"text-align: right;\">\n",
       "      <th></th>\n",
       "      <th>customer_id</th>\n",
       "      <th>article_id</th>\n",
       "    </tr>\n",
       "  </thead>\n",
       "  <tbody>\n",
       "    <tr>\n",
       "      <th>0</th>\n",
       "      <td>a08e284bb18add2d71129f0c9bf6a1b4e7a16ae4af54a4...</td>\n",
       "      <td>0857030003 0942955002 0807362001 0834378002 08...</td>\n",
       "    </tr>\n",
       "    <tr>\n",
       "      <th>1</th>\n",
       "      <td>012611429367ef74cb9008dcf0069284501071e90717e5...</td>\n",
       "      <td>0860820001 0807362001 0857030003 0674052013 08...</td>\n",
       "    </tr>\n",
       "    <tr>\n",
       "      <th>2</th>\n",
       "      <td>b082866c41c9301903250bb9b1a93083bbd741ec4bfcb5...</td>\n",
       "      <td>0857030003 0808628001 0674052013 0817416002 08...</td>\n",
       "    </tr>\n",
       "    <tr>\n",
       "      <th>3</th>\n",
       "      <td>071462f2e395227659c39d35f6692bbf2854cd78cf53c9...</td>\n",
       "      <td>0857030003 0807362001 0674052013 0711399004 08...</td>\n",
       "    </tr>\n",
       "    <tr>\n",
       "      <th>4</th>\n",
       "      <td>4ebaab0fab59c10a4aebc458de70477499a356716e606e...</td>\n",
       "      <td>0857030003 0807362001 0810818001 0894210001 08...</td>\n",
       "    </tr>\n",
       "    <tr>\n",
       "      <th>...</th>\n",
       "      <td>...</td>\n",
       "      <td>...</td>\n",
       "    </tr>\n",
       "    <tr>\n",
       "      <th>10037</th>\n",
       "      <td>e8e625a95270f99feadfd45242b504d0f2e57facb956d3...</td>\n",
       "      <td>0857030003 0894210001 0810818001 0807362001 08...</td>\n",
       "    </tr>\n",
       "    <tr>\n",
       "      <th>10038</th>\n",
       "      <td>eeed0202a669f67ba050545db289842e9a9f24d1c62308...</td>\n",
       "      <td>0857030003 0810818001 0883684002 0807362001 08...</td>\n",
       "    </tr>\n",
       "    <tr>\n",
       "      <th>10039</th>\n",
       "      <td>f1e5da9d758bc02250442977641796133c6018c2474eb2...</td>\n",
       "      <td>0894210001 0942955002 0807362001 0674052013 08...</td>\n",
       "    </tr>\n",
       "    <tr>\n",
       "      <th>10040</th>\n",
       "      <td>f5bd9cb67bcd2bdf3358fdf52c5afba8d8574571faf0f8...</td>\n",
       "      <td>0894210001 0857030003 0834378002 0807362001 08...</td>\n",
       "    </tr>\n",
       "    <tr>\n",
       "      <th>10041</th>\n",
       "      <td>f70588b8e99bda6b240b8ff381deff5fc1333ccffdb5e1...</td>\n",
       "      <td>0857030003 0894210001 0807362001 0865926001 08...</td>\n",
       "    </tr>\n",
       "  </tbody>\n",
       "</table>\n",
       "<p>10042 rows × 2 columns</p>\n",
       "</div>"
      ],
      "text/plain": [
       "                                             customer_id  \\\n",
       "0      a08e284bb18add2d71129f0c9bf6a1b4e7a16ae4af54a4...   \n",
       "1      012611429367ef74cb9008dcf0069284501071e90717e5...   \n",
       "2      b082866c41c9301903250bb9b1a93083bbd741ec4bfcb5...   \n",
       "3      071462f2e395227659c39d35f6692bbf2854cd78cf53c9...   \n",
       "4      4ebaab0fab59c10a4aebc458de70477499a356716e606e...   \n",
       "...                                                  ...   \n",
       "10037  e8e625a95270f99feadfd45242b504d0f2e57facb956d3...   \n",
       "10038  eeed0202a669f67ba050545db289842e9a9f24d1c62308...   \n",
       "10039  f1e5da9d758bc02250442977641796133c6018c2474eb2...   \n",
       "10040  f5bd9cb67bcd2bdf3358fdf52c5afba8d8574571faf0f8...   \n",
       "10041  f70588b8e99bda6b240b8ff381deff5fc1333ccffdb5e1...   \n",
       "\n",
       "                                              article_id  \n",
       "0      0857030003 0942955002 0807362001 0834378002 08...  \n",
       "1      0860820001 0807362001 0857030003 0674052013 08...  \n",
       "2      0857030003 0808628001 0674052013 0817416002 08...  \n",
       "3      0857030003 0807362001 0674052013 0711399004 08...  \n",
       "4      0857030003 0807362001 0810818001 0894210001 08...  \n",
       "...                                                  ...  \n",
       "10037  0857030003 0894210001 0810818001 0807362001 08...  \n",
       "10038  0857030003 0810818001 0883684002 0807362001 08...  \n",
       "10039  0894210001 0942955002 0807362001 0674052013 08...  \n",
       "10040  0894210001 0857030003 0834378002 0807362001 08...  \n",
       "10041  0857030003 0894210001 0807362001 0865926001 08...  \n",
       "\n",
       "[10042 rows x 2 columns]"
      ]
     },
     "execution_count": 2,
     "metadata": {},
     "output_type": "execute_result"
    }
   ],
   "source": [
    "df = pd.read_csv(\"recommendation.csv\")\n",
    "df"
   ]
  },
  {
   "cell_type": "code",
   "execution_count": 3,
   "id": "51816e27",
   "metadata": {},
   "outputs": [],
   "source": [
    "PATH = 'C:/Users/ctyrm/Downloads/679/images'"
   ]
  },
  {
   "cell_type": "code",
   "execution_count": 4,
   "id": "18f15277",
   "metadata": {},
   "outputs": [
    {
     "data": {
      "text/plain": [
       "['0857030003', '0942955002', '0807362001', '0834378002', '0810818001']"
      ]
     },
     "execution_count": 4,
     "metadata": {},
     "output_type": "execute_result"
    }
   ],
   "source": [
    "customer = df.iloc[0,1].split()\n",
    "customer"
   ]
  },
  {
   "cell_type": "code",
   "execution_count": 5,
   "id": "1afafac9",
   "metadata": {},
   "outputs": [
    {
     "data": {
      "text/plain": [
       "['C:/Users/ctyrm/Downloads/679/images/08/0857030003.jpg',\n",
       " 'C:/Users/ctyrm/Downloads/679/images/09/0942955002.jpg',\n",
       " 'C:/Users/ctyrm/Downloads/679/images/08/0807362001.jpg',\n",
       " 'C:/Users/ctyrm/Downloads/679/images/08/0834378002.jpg',\n",
       " 'C:/Users/ctyrm/Downloads/679/images/08/0810818001.jpg']"
      ]
     },
     "execution_count": 5,
     "metadata": {},
     "output_type": "execute_result"
    }
   ],
   "source": [
    "customer_recommendations = [PATH + \"/\" + i[:2] + \"/\"+ i + \".jpg\" for i in customer]\n",
    "customer_recommendations"
   ]
  },
  {
   "cell_type": "code",
   "execution_count": 77,
   "id": "aa846558",
   "metadata": {},
   "outputs": [],
   "source": [
    "def rmimage(customer_id):\n",
    "    PATH = 'C:/Users/ctyrm/Downloads/679/images'\n",
    "    customer = df[df['customer_id'] == customer_id]['article_id'].iloc[0].split()\n",
    "    customer2 = [PATH + '/' + i[:3] + '/' + i + '.jpg' for i in customer]\n",
    "    for i in range(0,len(customer2)):\n",
    "        img = mpimg.imread(customer2[i])\n",
    "        plt.subplot(2,3,i+1)\n",
    "        plt.xticks([])\n",
    "        plt.yticks([])\n",
    "        plt.imshow(img)\n",
    "    plt.show()"
   ]
  },
  {
   "cell_type": "code",
   "execution_count": null,
   "id": "4f069f37",
   "metadata": {},
   "outputs": [],
   "source": [
    "rmimage('a08e284bb18add2d71129f0c9bf6a1b4e7a16ae4af54a48e7b8201eab887f7b5')"
   ]
  },
  {
   "cell_type": "code",
   "execution_count": null,
   "id": "8311b5de",
   "metadata": {},
   "outputs": [],
   "source": []
  }
 ],
 "metadata": {
  "kernelspec": {
   "display_name": "Python 3 (ipykernel)",
   "language": "python",
   "name": "python3"
  },
  "language_info": {
   "codemirror_mode": {
    "name": "ipython",
    "version": 3
   },
   "file_extension": ".py",
   "mimetype": "text/x-python",
   "name": "python",
   "nbconvert_exporter": "python",
   "pygments_lexer": "ipython3",
   "version": "3.9.7"
  }
 },
 "nbformat": 4,
 "nbformat_minor": 5
}
