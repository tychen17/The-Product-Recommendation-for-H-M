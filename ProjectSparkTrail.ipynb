{
 "cells": [
  {
   "cell_type": "markdown",
   "id": "f6d8dcb8",
   "metadata": {},
   "source": [
    "## **1. Environment Set-up**"
   ]
  },
  {
   "cell_type": "code",
   "execution_count": 1,
   "id": "26275c8a",
   "metadata": {},
   "outputs": [],
   "source": [
    "#!pip install pyspark"
   ]
  },
  {
   "cell_type": "code",
   "execution_count": 2,
   "id": "b537c4ab",
   "metadata": {},
   "outputs": [
    {
     "name": "stdout",
     "output_type": "stream",
     "text": [
      "22/10/19 12:23:09 WARN Utils: Your hostname, Haos-MacBook-Air.local resolves to a loopback address: 127.0.0.1; using 192.168.1.2 instead (on interface en0)\n",
      "22/10/19 12:23:09 WARN Utils: Set SPARK_LOCAL_IP if you need to bind to another address\n"
     ]
    },
    {
     "name": "stderr",
     "output_type": "stream",
     "text": [
      "Setting default log level to \"WARN\".\n",
      "To adjust logging level use sc.setLogLevel(newLevel). For SparkR, use setLogLevel(newLevel).\n"
     ]
    },
    {
     "name": "stdout",
     "output_type": "stream",
     "text": [
      "22/10/19 12:23:10 WARN NativeCodeLoader: Unable to load native-hadoop library for your platform... using builtin-java classes where applicable\n",
      "22/10/19 12:23:11 WARN Utils: Service 'SparkUI' could not bind on port 4040. Attempting port 4041.\n",
      "22/10/19 12:23:11 WARN Utils: Service 'SparkUI' could not bind on port 4041. Attempting port 4042.\n"
     ]
    }
   ],
   "source": [
    "import pyspark\n",
    "import numpy as np\n",
    "import pandas as pd\n",
    "from pyspark.sql import SparkSession\n",
    "from pyspark.sql import SQLContext \n",
    "from pyspark.sql.types import *\n",
    "from pyspark.sql.functions import *\n",
    "from pyspark.sql.window import *\n",
    "\n",
    "groupproject = SparkSession.builder.appName(\"HM_Recommendations\").config(\"spark.sql.files.maxPartitionBytes\", 5000000).getOrCreate()\n",
    "spark = SparkSession(groupproject)"
   ]
  },
  {
   "cell_type": "markdown",
   "id": "87f15513",
   "metadata": {},
   "source": [
    "## **2. Dataset check & data choose**"
   ]
  },
  {
   "cell_type": "code",
   "execution_count": 3,
   "id": "22bfd976",
   "metadata": {},
   "outputs": [
    {
     "name": "stderr",
     "output_type": "stream",
     "text": [
      "                                                                                \r"
     ]
    },
    {
     "name": "stdout",
     "output_type": "stream",
     "text": [
      "root\n",
      " |-- t_dat: string (nullable = true)\n",
      " |-- customer_id: string (nullable = true)\n",
      " |-- article_id: string (nullable = true)\n",
      " |-- price: string (nullable = true)\n",
      " |-- sales_channel_id: string (nullable = true)\n",
      "\n"
     ]
    }
   ],
   "source": [
    "transaction = spark.read.option(\"header\",True) \\\n",
    "              .csv(\"transactions_train.csv\")\n",
    "transaction.printSchema()"
   ]
  },
  {
   "cell_type": "code",
   "execution_count": 4,
   "id": "7b85dfa9",
   "metadata": {},
   "outputs": [
    {
     "name": "stderr",
     "output_type": "stream",
     "text": [
      "                                                                                \r"
     ]
    },
    {
     "name": "stdout",
     "output_type": "stream",
     "text": [
      "2018-09-20 2020-09-22\n"
     ]
    },
    {
     "name": "stderr",
     "output_type": "stream",
     "text": [
      "[Stage 4:======================================================>(696 + 2) / 698]\r"
     ]
    },
    {
     "name": "stdout",
     "output_type": "stream",
     "text": [
      "+--------------------+----------+-----+\n",
      "|         customer_id|article_id|count|\n",
      "+--------------------+----------+-----+\n",
      "|00f7bc5c0df4c615b...|0780418013|    1|\n",
      "|02094817e46f3b692...|0791587001|    1|\n",
      "|0333e5dda0257e9f4...|0839332002|    2|\n",
      "|07c7a1172caf8fb97...|0573085043|    1|\n",
      "|081373184e601470c...|0714790020|    1|\n",
      "|09bec2a61046ccbea...|0860336002|    1|\n",
      "|0be4f1ecce204ee32...|0573085028|    1|\n",
      "|0c4b30343292b5101...|0918522001|    1|\n",
      "|0e10e02358875468b...|0579541001|    1|\n",
      "|0fc371e67e61a31d7...|0907170001|    1|\n",
      "|10817b19177f6a53e...|0718278019|    1|\n",
      "|10ac90988da6052dd...|0934212003|    1|\n",
      "|14a298482fa7f9d52...|0894353002|    1|\n",
      "|14f4b1b17991c32d2...|0803685001|    1|\n",
      "|1601fa3c3f39aa623...|0730683001|    1|\n",
      "|164e1a251f0e3d764...|0831267001|    1|\n",
      "|165d2c0b0128d5619...|0909081004|    1|\n",
      "|166546028742fe655...|0767423013|    1|\n",
      "|189b7275c513a84c8...|0877711001|    1|\n",
      "|1918933afff08e955...|0914672001|    1|\n",
      "+--------------------+----------+-----+\n",
      "only showing top 20 rows\n",
      "\n"
     ]
    },
    {
     "name": "stderr",
     "output_type": "stream",
     "text": [
      "                                                                                \r"
     ]
    }
   ],
   "source": [
    "from pyspark.sql.functions import min, max\n",
    "from pyspark.sql.functions import unix_timestamp, lit\n",
    "min_date, max_date = transaction.select(min(\"t_dat\"), max(\"t_dat\")).first()\n",
    "print(min_date, max_date)\n",
    "\n",
    "datahm =  transaction.withColumn('t_dat', transaction['t_dat'].cast('string'))\n",
    "datahm = datahm.withColumn('date', from_unixtime(unix_timestamp('t_dat', 'yyyy-MM-dd')))\n",
    "datahm = datahm.withColumn('year', year(col('date')))\n",
    "datahm = datahm.withColumn('month', month(col('date')))\n",
    "datahm = datahm.withColumn('day', date_format(col('date'), \"d\"))\n",
    "\n",
    "datahm = datahm[datahm['year'] == 2020]\n",
    "datahm = datahm[datahm['month'] == 9]\n",
    "datahm = datahm[datahm['day'] == 22]\n",
    "transaction.unpersist()\n",
    "\n",
    "# Prepare the dataset\n",
    "datahm = datahm.groupby('customer_id', 'article_id').count()\n",
    "datahm.show()\n"
   ]
  },
  {
   "cell_type": "code",
   "execution_count": 5,
   "id": "18c8a228",
   "metadata": {},
   "outputs": [
    {
     "name": "stderr",
     "output_type": "stream",
     "text": [
      "[Stage 7:======================================================>(696 + 2) / 698]\r"
     ]
    },
    {
     "name": "stdout",
     "output_type": "stream",
     "text": [
      "+--------------------+-----+\n",
      "|         customer_id|count|\n",
      "+--------------------+-----+\n",
      "|30b6056bacc5f5c9d...|   28|\n",
      "|5e8fb4d457fdffc61...|   28|\n",
      "|dc1b173e541f8d3c1...|   27|\n",
      "|6335d496ef463bc40...|   25|\n",
      "|1796e87fd2e88932b...|   25|\n",
      "|f50287d9cf052d4b4...|   24|\n",
      "|54e8ebd39543b5a4d...|   23|\n",
      "|fd5ce8716faf00f6a...|   23|\n",
      "|850ec77661a417d27...|   22|\n",
      "|ad3663a848dccbdda...|   21|\n",
      "|32f3a6a7ce63d302c...|   21|\n",
      "|b606fe5786c00151a...|   21|\n",
      "|298523b6637340717...|   21|\n",
      "|b49647f84a99ced53...|   21|\n",
      "|fc783381f1ea2174c...|   21|\n",
      "|a08e284bb18add2d7...|   21|\n",
      "|383e1b07e2c1fe169...|   21|\n",
      "|3ca77aab50ae4532b...|   20|\n",
      "|2a721767cd9864ed5...|   20|\n",
      "|af5166e0f89b0d433...|   19|\n",
      "+--------------------+-----+\n",
      "only showing top 20 rows\n",
      "\n"
     ]
    },
    {
     "name": "stderr",
     "output_type": "stream",
     "text": [
      "                                                                                \r"
     ]
    }
   ],
   "source": [
    "userId_count = datahm.groupBy(\"customer_id\").count().orderBy('count', ascending=False)\n",
    "userId_count.show()"
   ]
  },
  {
   "cell_type": "code",
   "execution_count": 6,
   "id": "ba2fd4d5",
   "metadata": {
    "scrolled": true
   },
   "outputs": [
    {
     "name": "stderr",
     "output_type": "stream",
     "text": [
      "[Stage 13:=====================================================>(696 + 2) / 698]\r"
     ]
    },
    {
     "name": "stdout",
     "output_type": "stream",
     "text": [
      "+----------+-----+\n",
      "|article_id|count|\n",
      "+----------+-----+\n",
      "|0924243002|   91|\n",
      "|0918522001|   88|\n",
      "|0866731001|   78|\n",
      "|0751471001|   75|\n",
      "|0448509014|   73|\n",
      "|0714790020|   72|\n",
      "|0762846027|   68|\n",
      "|0928206001|   67|\n",
      "|0893432002|   66|\n",
      "|0918292001|   65|\n",
      "|0915529005|   64|\n",
      "|0788575004|   63|\n",
      "|0915529003|   63|\n",
      "|0863583001|   60|\n",
      "|0930380001|   59|\n",
      "|0573085028|   59|\n",
      "|0919273002|   58|\n",
      "|0850917001|   57|\n",
      "|0573085042|   56|\n",
      "|0874110016|   53|\n",
      "+----------+-----+\n",
      "only showing top 20 rows\n",
      "\n"
     ]
    },
    {
     "name": "stderr",
     "output_type": "stream",
     "text": [
      "                                                                                \r"
     ]
    }
   ],
   "source": [
    "articleId_count = datahm.groupBy(\"article_id\").count().orderBy('count', ascending=False)\n",
    "articleId_count.show()"
   ]
  },
  {
   "cell_type": "markdown",
   "id": "995bcbd5",
   "metadata": {},
   "source": [
    "## **3. Model build & Evaluator generate**"
   ]
  },
  {
   "cell_type": "code",
   "execution_count": 7,
   "id": "fea988ef",
   "metadata": {},
   "outputs": [
    {
     "name": "stderr",
     "output_type": "stream",
     "text": [
      "[Stage 31:=====================================================>(696 + 2) / 698]\r"
     ]
    },
    {
     "name": "stdout",
     "output_type": "stream",
     "text": [
      "22/10/19 12:26:05 WARN DAGScheduler: Broadcasting large task binary with size 1210.8 KiB\n",
      "+--------------------+----------+-----+----------------+-----------------+\n",
      "|         customer_id|article_id|count|article_id_index|customer_id_index|\n",
      "+--------------------+----------+-----+----------------+-----------------+\n",
      "|00f7bc5c0df4c615b...|0780418013|    1|          2237.0|            783.0|\n",
      "|02094817e46f3b692...|0791587001|    1|            35.0|            785.0|\n",
      "|0333e5dda0257e9f4...|0839332002|    2|           732.0|           4098.0|\n",
      "|07c7a1172caf8fb97...|0573085043|    1|            44.0|           1702.0|\n",
      "|081373184e601470c...|0714790020|    1|             5.0|           4146.0|\n",
      "|09bec2a61046ccbea...|0860336002|    1|          2368.0|           6792.0|\n",
      "|0be4f1ecce204ee32...|0573085028|    1|            14.0|            799.0|\n",
      "|0c4b30343292b5101...|0918522001|    1|             1.0|           6825.0|\n",
      "|0e10e02358875468b...|0579541001|    1|            53.0|           2689.0|\n",
      "|0fc371e67e61a31d7...|0907170001|    1|          1978.0|           1737.0|\n",
      "|10817b19177f6a53e...|0718278019|    1|           419.0|            805.0|\n",
      "|10ac90988da6052dd...|0934212003|    1|          2058.0|            806.0|\n",
      "|14a298482fa7f9d52...|0894353002|    1|          3772.0|             87.0|\n",
      "|14f4b1b17991c32d2...|0803685001|    1|           725.0|           1184.0|\n",
      "|1601fa3c3f39aa623...|0730683001|    1|          2994.0|           4284.0|\n",
      "|164e1a251f0e3d764...|0831267001|    1|          5979.0|           4287.0|\n",
      "|165d2c0b0128d5619...|0909081004|    1|          1293.0|             88.0|\n",
      "|166546028742fe655...|0767423013|    1|           974.0|            814.0|\n",
      "|189b7275c513a84c8...|0877711001|    1|          6890.0|            204.0|\n",
      "|1918933afff08e955...|0914672001|    1|          7685.0|            285.0|\n",
      "+--------------------+----------+-----+----------------+-----------------+\n",
      "only showing top 20 rows\n",
      "\n"
     ]
    },
    {
     "name": "stderr",
     "output_type": "stream",
     "text": [
      "                                                                                \r"
     ]
    }
   ],
   "source": [
    "from pyspark.ml.evaluation import RegressionEvaluator\n",
    "from pyspark.ml.recommendation import ALS\n",
    "from pyspark.ml.feature import StringIndexer\n",
    "from pyspark.ml import Pipeline\n",
    "from pyspark.sql.functions import col\n",
    "\n",
    "indexer = [StringIndexer(inputCol=column, outputCol=column+\"_index\") for column in list(set(datahm.columns)-set(['count'])) ]\n",
    "pipeline = Pipeline(stages=indexer)\n",
    "transformed = pipeline.fit(datahm).transform(datahm)\n",
    "transformed.show()"
   ]
  },
  {
   "cell_type": "code",
   "execution_count": 8,
   "id": "0450a8d6",
   "metadata": {},
   "outputs": [],
   "source": [
    "#dataset build with randomsplit \"8:2\"\n",
    "(training,test)=transformed.randomSplit([0.8, 0.2])"
   ]
  },
  {
   "cell_type": "code",
   "execution_count": 9,
   "id": "4d38c62e",
   "metadata": {
    "scrolled": true
   },
   "outputs": [
    {
     "name": "stderr",
     "output_type": "stream",
     "text": [
      "[Stage 34:=====================================================>(696 + 2) / 698]\r"
     ]
    },
    {
     "name": "stdout",
     "output_type": "stream",
     "text": [
      "22/10/19 12:26:30 WARN DAGScheduler: Broadcasting large task binary with size 1237.4 KiB\n"
     ]
    },
    {
     "name": "stderr",
     "output_type": "stream",
     "text": [
      "                                                                                \r"
     ]
    },
    {
     "name": "stdout",
     "output_type": "stream",
     "text": [
      "22/10/19 12:26:31 WARN DAGScheduler: Broadcasting large task binary with size 1238.8 KiB\n"
     ]
    },
    {
     "name": "stderr",
     "output_type": "stream",
     "text": [
      "[Stage 37:====================================================> (196 + 4) / 200]\r"
     ]
    },
    {
     "name": "stdout",
     "output_type": "stream",
     "text": [
      "22/10/19 12:26:34 WARN DAGScheduler: Broadcasting large task binary with size 1240.3 KiB\n"
     ]
    },
    {
     "name": "stderr",
     "output_type": "stream",
     "text": [
      "[Stage 38:========================================>            (154 + 11) / 200]\r"
     ]
    },
    {
     "name": "stdout",
     "output_type": "stream",
     "text": [
      "22/10/19 12:26:36 WARN DAGScheduler: Broadcasting large task binary with size 1241.6 KiB\n"
     ]
    },
    {
     "name": "stderr",
     "output_type": "stream",
     "text": [
      "                                                                                \r"
     ]
    },
    {
     "name": "stdout",
     "output_type": "stream",
     "text": [
      "22/10/19 12:26:36 WARN DAGScheduler: Broadcasting large task binary with size 1240.6 KiB\n"
     ]
    },
    {
     "name": "stderr",
     "output_type": "stream",
     "text": [
      "[Stage 42:===================================>                  (131 + 8) / 200]\r"
     ]
    },
    {
     "name": "stdout",
     "output_type": "stream",
     "text": [
      "22/10/19 12:26:37 WARN DAGScheduler: Broadcasting large task binary with size 1241.9 KiB\n"
     ]
    },
    {
     "name": "stderr",
     "output_type": "stream",
     "text": [
      "                                                                                \r"
     ]
    },
    {
     "name": "stdout",
     "output_type": "stream",
     "text": [
      "22/10/19 12:26:37 WARN DAGScheduler: Broadcasting large task binary with size 1242.6 KiB\n",
      "22/10/19 12:26:38 WARN InstanceBuilder$NativeBLAS: Failed to load implementation from:dev.ludovic.netlib.blas.JNIBLAS\n",
      "22/10/19 12:26:38 WARN InstanceBuilder$NativeBLAS: Failed to load implementation from:dev.ludovic.netlib.blas.ForeignLinkerBLAS\n",
      "22/10/19 12:26:38 WARN DAGScheduler: Broadcasting large task binary with size 1245.7 KiB\n",
      "22/10/19 12:26:38 WARN DAGScheduler: Broadcasting large task binary with size 1247.1 KiB\n",
      "22/10/19 12:26:38 WARN DAGScheduler: Broadcasting large task binary with size 1248.5 KiB\n",
      "22/10/19 12:26:38 WARN DAGScheduler: Broadcasting large task binary with size 1249.9 KiB\n",
      "22/10/19 12:26:38 WARN DAGScheduler: Broadcasting large task binary with size 1251.3 KiB\n",
      "22/10/19 12:26:39 WARN DAGScheduler: Broadcasting large task binary with size 1252.7 KiB\n",
      "22/10/19 12:26:39 WARN DAGScheduler: Broadcasting large task binary with size 1254.1 KiB\n",
      "22/10/19 12:26:39 WARN DAGScheduler: Broadcasting large task binary with size 1255.5 KiB\n",
      "22/10/19 12:26:39 WARN DAGScheduler: Broadcasting large task binary with size 1256.8 KiB\n",
      "22/10/19 12:26:39 WARN DAGScheduler: Broadcasting large task binary with size 1258.8 KiB\n",
      "22/10/19 12:26:39 WARN DAGScheduler: Broadcasting large task binary with size 1257.4 KiB\n",
      "22/10/19 12:26:41 WARN DAGScheduler: Broadcasting large task binary with size 1266.5 KiB\n",
      "22/10/19 12:26:41 WARN DAGScheduler: Broadcasting large task binary with size 1265.1 KiB\n"
     ]
    },
    {
     "name": "stderr",
     "output_type": "stream",
     "text": [
      "[Stage 89:>                (0 + 8) / 10][Stage 90:>                (0 + 0) / 10]\r"
     ]
    },
    {
     "name": "stdout",
     "output_type": "stream",
     "text": [
      "22/10/19 12:27:06 WARN DAGScheduler: Broadcasting large task binary with size 1228.6 KiB\n"
     ]
    },
    {
     "name": "stderr",
     "output_type": "stream",
     "text": [
      "                                                                                \r"
     ]
    },
    {
     "name": "stdout",
     "output_type": "stream",
     "text": [
      "22/10/19 12:27:09 WARN DAGScheduler: Broadcasting large task binary with size 1328.2 KiB\n",
      "22/10/19 12:27:10 WARN DAGScheduler: Broadcasting large task binary with size 1237.5 KiB\n",
      "22/10/19 12:27:10 WARN DAGScheduler: Broadcasting large task binary with size 1238.9 KiB\n"
     ]
    },
    {
     "name": "stderr",
     "output_type": "stream",
     "text": [
      "[Stage 115:================================================>    (183 + 8) / 200]\r"
     ]
    },
    {
     "name": "stdout",
     "output_type": "stream",
     "text": [
      "22/10/19 12:27:12 WARN DAGScheduler: Broadcasting large task binary with size 1240.4 KiB\n"
     ]
    },
    {
     "name": "stderr",
     "output_type": "stream",
     "text": [
      "[Stage 116:===========================================>         (163 + 9) / 200]\r"
     ]
    },
    {
     "name": "stdout",
     "output_type": "stream",
     "text": [
      "22/10/19 12:27:13 WARN DAGScheduler: Broadcasting large task binary with size 1241.7 KiB\n",
      "22/10/19 12:27:13 WARN DAGScheduler: Broadcasting large task binary with size 1240.7 KiB\n"
     ]
    },
    {
     "name": "stderr",
     "output_type": "stream",
     "text": [
      "[Stage 120:=================================>                   (128 + 9) / 200]\r"
     ]
    },
    {
     "name": "stdout",
     "output_type": "stream",
     "text": [
      "22/10/19 12:27:14 WARN DAGScheduler: Broadcasting large task binary with size 1242.0 KiB\n"
     ]
    },
    {
     "name": "stderr",
     "output_type": "stream",
     "text": [
      "                                                                                \r"
     ]
    },
    {
     "name": "stdout",
     "output_type": "stream",
     "text": [
      "22/10/19 12:27:14 WARN DAGScheduler: Broadcasting large task binary with size 1242.7 KiB\n",
      "22/10/19 12:27:14 WARN DAGScheduler: Broadcasting large task binary with size 1245.8 KiB\n",
      "22/10/19 12:27:14 WARN DAGScheduler: Broadcasting large task binary with size 1247.2 KiB\n",
      "22/10/19 12:27:14 WARN DAGScheduler: Broadcasting large task binary with size 1248.6 KiB\n",
      "22/10/19 12:27:14 WARN DAGScheduler: Broadcasting large task binary with size 1250.0 KiB\n",
      "22/10/19 12:27:14 WARN DAGScheduler: Broadcasting large task binary with size 1251.4 KiB\n",
      "22/10/19 12:27:14 WARN DAGScheduler: Broadcasting large task binary with size 1252.8 KiB\n",
      "22/10/19 12:27:15 WARN DAGScheduler: Broadcasting large task binary with size 1254.2 KiB\n",
      "22/10/19 12:27:15 WARN DAGScheduler: Broadcasting large task binary with size 1255.6 KiB\n",
      "22/10/19 12:27:15 WARN DAGScheduler: Broadcasting large task binary with size 1256.9 KiB\n",
      "22/10/19 12:27:15 WARN DAGScheduler: Broadcasting large task binary with size 1258.9 KiB\n",
      "22/10/19 12:27:15 WARN DAGScheduler: Broadcasting large task binary with size 1257.5 KiB\n",
      "22/10/19 12:27:16 WARN DAGScheduler: Broadcasting large task binary with size 1228.6 KiB\n",
      "22/10/19 12:27:16 WARN DAGScheduler: Broadcasting large task binary with size 1266.5 KiB\n",
      "22/10/19 12:27:16 WARN DAGScheduler: Broadcasting large task binary with size 1265.1 KiB\n"
     ]
    },
    {
     "name": "stderr",
     "output_type": "stream",
     "text": [
      "                                                                                \r"
     ]
    },
    {
     "name": "stdout",
     "output_type": "stream",
     "text": [
      "22/10/19 12:27:18 WARN DAGScheduler: Broadcasting large task binary with size 1328.2 KiB\n",
      "22/10/19 12:27:18 WARN DAGScheduler: Broadcasting large task binary with size 1237.5 KiB\n",
      "22/10/19 12:27:18 WARN DAGScheduler: Broadcasting large task binary with size 1238.9 KiB\n"
     ]
    },
    {
     "name": "stderr",
     "output_type": "stream",
     "text": [
      "[Stage 193:=============================================>       (171 + 8) / 200]\r"
     ]
    },
    {
     "name": "stdout",
     "output_type": "stream",
     "text": [
      "22/10/19 12:27:19 WARN DAGScheduler: Broadcasting large task binary with size 1240.4 KiB\n"
     ]
    },
    {
     "name": "stderr",
     "output_type": "stream",
     "text": [
      "                                                                                \r"
     ]
    },
    {
     "name": "stdout",
     "output_type": "stream",
     "text": [
      "22/10/19 12:27:20 WARN DAGScheduler: Broadcasting large task binary with size 1241.7 KiB\n",
      "22/10/19 12:27:20 WARN DAGScheduler: Broadcasting large task binary with size 1240.7 KiB\n",
      "22/10/19 12:27:21 WARN DAGScheduler: Broadcasting large task binary with size 1242.0 KiB\n",
      "22/10/19 12:27:21 WARN DAGScheduler: Broadcasting large task binary with size 1242.7 KiB\n",
      "22/10/19 12:27:21 WARN DAGScheduler: Broadcasting large task binary with size 1245.8 KiB\n",
      "22/10/19 12:27:21 WARN DAGScheduler: Broadcasting large task binary with size 1247.2 KiB\n",
      "22/10/19 12:27:22 WARN DAGScheduler: Broadcasting large task binary with size 1248.6 KiB\n",
      "22/10/19 12:27:22 WARN DAGScheduler: Broadcasting large task binary with size 1250.0 KiB\n",
      "22/10/19 12:27:22 WARN DAGScheduler: Broadcasting large task binary with size 1251.4 KiB\n",
      "22/10/19 12:27:22 WARN DAGScheduler: Broadcasting large task binary with size 1252.8 KiB\n",
      "22/10/19 12:27:22 WARN DAGScheduler: Broadcasting large task binary with size 1254.2 KiB\n",
      "22/10/19 12:27:22 WARN DAGScheduler: Broadcasting large task binary with size 1255.6 KiB\n",
      "22/10/19 12:27:22 WARN DAGScheduler: Broadcasting large task binary with size 1256.9 KiB\n",
      "22/10/19 12:27:22 WARN DAGScheduler: Broadcasting large task binary with size 1258.9 KiB\n",
      "22/10/19 12:27:22 WARN DAGScheduler: Broadcasting large task binary with size 1257.5 KiB\n",
      "22/10/19 12:27:23 WARN DAGScheduler: Broadcasting large task binary with size 1228.6 KiB\n",
      "22/10/19 12:27:23 WARN DAGScheduler: Broadcasting large task binary with size 1266.5 KiB\n",
      "22/10/19 12:27:23 WARN DAGScheduler: Broadcasting large task binary with size 1265.1 KiB\n"
     ]
    },
    {
     "name": "stderr",
     "output_type": "stream",
     "text": [
      "                                                                                \r"
     ]
    },
    {
     "name": "stdout",
     "output_type": "stream",
     "text": [
      "22/10/19 12:27:24 WARN DAGScheduler: Broadcasting large task binary with size 1328.2 KiB\n",
      "22/10/19 12:27:25 WARN DAGScheduler: Broadcasting large task binary with size 1237.5 KiB\n",
      "22/10/19 12:27:25 WARN DAGScheduler: Broadcasting large task binary with size 1238.9 KiB\n"
     ]
    },
    {
     "name": "stderr",
     "output_type": "stream",
     "text": [
      "[Stage 271:===============================================>     (181 + 8) / 200]\r"
     ]
    },
    {
     "name": "stdout",
     "output_type": "stream",
     "text": [
      "22/10/19 12:27:26 WARN DAGScheduler: Broadcasting large task binary with size 1240.4 KiB\n"
     ]
    },
    {
     "name": "stderr",
     "output_type": "stream",
     "text": [
      "                                                                                \r"
     ]
    },
    {
     "name": "stdout",
     "output_type": "stream",
     "text": [
      "22/10/19 12:27:27 WARN DAGScheduler: Broadcasting large task binary with size 1241.7 KiB\n",
      "22/10/19 12:27:27 WARN DAGScheduler: Broadcasting large task binary with size 1240.7 KiB\n",
      "22/10/19 12:27:28 WARN DAGScheduler: Broadcasting large task binary with size 1242.0 KiB\n",
      "22/10/19 12:27:28 WARN DAGScheduler: Broadcasting large task binary with size 1242.7 KiB\n",
      "22/10/19 12:27:28 WARN DAGScheduler: Broadcasting large task binary with size 1245.8 KiB\n",
      "22/10/19 12:27:28 WARN DAGScheduler: Broadcasting large task binary with size 1247.2 KiB\n",
      "22/10/19 12:27:28 WARN DAGScheduler: Broadcasting large task binary with size 1248.6 KiB\n",
      "22/10/19 12:27:28 WARN DAGScheduler: Broadcasting large task binary with size 1250.0 KiB\n",
      "22/10/19 12:27:28 WARN DAGScheduler: Broadcasting large task binary with size 1251.4 KiB\n",
      "22/10/19 12:27:28 WARN DAGScheduler: Broadcasting large task binary with size 1252.8 KiB\n",
      "22/10/19 12:27:28 WARN DAGScheduler: Broadcasting large task binary with size 1254.2 KiB\n",
      "22/10/19 12:27:28 WARN DAGScheduler: Broadcasting large task binary with size 1255.6 KiB\n",
      "22/10/19 12:27:29 WARN DAGScheduler: Broadcasting large task binary with size 1256.9 KiB\n",
      "22/10/19 12:27:29 WARN DAGScheduler: Broadcasting large task binary with size 1258.3 KiB\n",
      "22/10/19 12:27:29 WARN DAGScheduler: Broadcasting large task binary with size 1259.7 KiB\n",
      "22/10/19 12:27:29 WARN DAGScheduler: Broadcasting large task binary with size 1261.1 KiB\n",
      "22/10/19 12:27:29 WARN DAGScheduler: Broadcasting large task binary with size 1262.5 KiB\n",
      "22/10/19 12:27:29 WARN DAGScheduler: Broadcasting large task binary with size 1263.9 KiB\n",
      "22/10/19 12:27:29 WARN DAGScheduler: Broadcasting large task binary with size 1265.3 KiB\n",
      "22/10/19 12:27:29 WARN DAGScheduler: Broadcasting large task binary with size 1266.6 KiB\n",
      "22/10/19 12:27:29 WARN DAGScheduler: Broadcasting large task binary with size 1268.0 KiB\n",
      "22/10/19 12:27:29 WARN DAGScheduler: Broadcasting large task binary with size 1269.4 KiB\n",
      "22/10/19 12:27:29 WARN DAGScheduler: Broadcasting large task binary with size 1270.8 KiB\n"
     ]
    },
    {
     "name": "stderr",
     "output_type": "stream",
     "text": [
      "[Stage 301:============================================>           (8 + 2) / 10]\r"
     ]
    },
    {
     "name": "stdout",
     "output_type": "stream",
     "text": [
      "22/10/19 12:27:30 WARN DAGScheduler: Broadcasting large task binary with size 1272.8 KiB\n"
     ]
    },
    {
     "name": "stderr",
     "output_type": "stream",
     "text": [
      "                                                                                \r"
     ]
    },
    {
     "name": "stdout",
     "output_type": "stream",
     "text": [
      "22/10/19 12:27:30 WARN DAGScheduler: Broadcasting large task binary with size 1271.4 KiB\n",
      "22/10/19 12:27:31 WARN DAGScheduler: Broadcasting large task binary with size 1228.6 KiB\n",
      "22/10/19 12:27:31 WARN DAGScheduler: Broadcasting large task binary with size 1280.4 KiB\n",
      "22/10/19 12:27:31 WARN DAGScheduler: Broadcasting large task binary with size 1279.0 KiB\n"
     ]
    },
    {
     "name": "stderr",
     "output_type": "stream",
     "text": [
      "                                                                                \r"
     ]
    },
    {
     "name": "stdout",
     "output_type": "stream",
     "text": [
      "22/10/19 12:27:33 WARN DAGScheduler: Broadcasting large task binary with size 1342.0 KiB\n",
      "22/10/19 12:27:34 WARN DAGScheduler: Broadcasting large task binary with size 1237.5 KiB\n",
      "22/10/19 12:27:34 WARN DAGScheduler: Broadcasting large task binary with size 1238.9 KiB\n"
     ]
    },
    {
     "name": "stderr",
     "output_type": "stream",
     "text": [
      "[Stage 389:=================================================>   (187 + 8) / 200]\r"
     ]
    },
    {
     "name": "stdout",
     "output_type": "stream",
     "text": [
      "22/10/19 12:27:35 WARN DAGScheduler: Broadcasting large task binary with size 1240.4 KiB\n"
     ]
    },
    {
     "name": "stderr",
     "output_type": "stream",
     "text": [
      "[Stage 390:================================>                    (121 + 8) / 200]\r"
     ]
    },
    {
     "name": "stdout",
     "output_type": "stream",
     "text": [
      "22/10/19 12:27:36 WARN DAGScheduler: Broadcasting large task binary with size 1241.7 KiB\n",
      "22/10/19 12:27:36 WARN DAGScheduler: Broadcasting large task binary with size 1240.7 KiB\n"
     ]
    },
    {
     "name": "stderr",
     "output_type": "stream",
     "text": [
      "                                                                                \r"
     ]
    },
    {
     "name": "stdout",
     "output_type": "stream",
     "text": [
      "22/10/19 12:27:36 WARN DAGScheduler: Broadcasting large task binary with size 1242.0 KiB\n",
      "22/10/19 12:27:37 WARN DAGScheduler: Broadcasting large task binary with size 1242.7 KiB\n",
      "22/10/19 12:27:37 WARN DAGScheduler: Broadcasting large task binary with size 1245.8 KiB\n",
      "22/10/19 12:27:37 WARN DAGScheduler: Broadcasting large task binary with size 1247.2 KiB\n",
      "22/10/19 12:27:37 WARN DAGScheduler: Broadcasting large task binary with size 1248.6 KiB\n",
      "22/10/19 12:27:37 WARN DAGScheduler: Broadcasting large task binary with size 1250.0 KiB\n",
      "22/10/19 12:27:37 WARN DAGScheduler: Broadcasting large task binary with size 1251.4 KiB\n",
      "22/10/19 12:27:37 WARN DAGScheduler: Broadcasting large task binary with size 1252.8 KiB\n",
      "22/10/19 12:27:37 WARN DAGScheduler: Broadcasting large task binary with size 1254.2 KiB\n",
      "22/10/19 12:27:37 WARN DAGScheduler: Broadcasting large task binary with size 1255.6 KiB\n",
      "22/10/19 12:27:37 WARN DAGScheduler: Broadcasting large task binary with size 1256.9 KiB\n",
      "22/10/19 12:27:37 WARN DAGScheduler: Broadcasting large task binary with size 1258.3 KiB\n",
      "22/10/19 12:27:37 WARN DAGScheduler: Broadcasting large task binary with size 1259.7 KiB\n",
      "22/10/19 12:27:37 WARN DAGScheduler: Broadcasting large task binary with size 1261.1 KiB\n",
      "22/10/19 12:27:37 WARN DAGScheduler: Broadcasting large task binary with size 1262.5 KiB\n",
      "22/10/19 12:27:37 WARN DAGScheduler: Broadcasting large task binary with size 1263.9 KiB\n",
      "22/10/19 12:27:37 WARN DAGScheduler: Broadcasting large task binary with size 1265.3 KiB\n",
      "22/10/19 12:27:38 WARN DAGScheduler: Broadcasting large task binary with size 1266.6 KiB\n",
      "22/10/19 12:27:38 WARN DAGScheduler: Broadcasting large task binary with size 1268.0 KiB\n",
      "22/10/19 12:27:38 WARN DAGScheduler: Broadcasting large task binary with size 1269.4 KiB\n",
      "22/10/19 12:27:38 WARN DAGScheduler: Broadcasting large task binary with size 1270.8 KiB\n",
      "22/10/19 12:27:38 WARN DAGScheduler: Broadcasting large task binary with size 1272.8 KiB\n",
      "22/10/19 12:27:38 WARN DAGScheduler: Broadcasting large task binary with size 1271.4 KiB\n",
      "22/10/19 12:27:38 WARN DAGScheduler: Broadcasting large task binary with size 1228.6 KiB\n",
      "22/10/19 12:27:38 WARN DAGScheduler: Broadcasting large task binary with size 1280.4 KiB\n",
      "22/10/19 12:27:39 WARN DAGScheduler: Broadcasting large task binary with size 1279.0 KiB\n"
     ]
    },
    {
     "name": "stderr",
     "output_type": "stream",
     "text": [
      "                                                                                \r"
     ]
    },
    {
     "name": "stdout",
     "output_type": "stream",
     "text": [
      "22/10/19 12:27:40 WARN DAGScheduler: Broadcasting large task binary with size 1342.0 KiB\n",
      "22/10/19 12:27:40 WARN DAGScheduler: Broadcasting large task binary with size 1237.5 KiB\n",
      "22/10/19 12:27:40 WARN DAGScheduler: Broadcasting large task binary with size 1238.9 KiB\n"
     ]
    },
    {
     "name": "stderr",
     "output_type": "stream",
     "text": [
      "[Stage 507:================================================>    (183 + 8) / 200]\r"
     ]
    },
    {
     "name": "stdout",
     "output_type": "stream",
     "text": [
      "22/10/19 12:27:41 WARN DAGScheduler: Broadcasting large task binary with size 1240.4 KiB\n"
     ]
    },
    {
     "name": "stderr",
     "output_type": "stream",
     "text": [
      "                                                                                \r"
     ]
    },
    {
     "name": "stdout",
     "output_type": "stream",
     "text": [
      "22/10/19 12:27:42 WARN DAGScheduler: Broadcasting large task binary with size 1241.7 KiB\n",
      "22/10/19 12:27:42 WARN DAGScheduler: Broadcasting large task binary with size 1240.7 KiB\n",
      "22/10/19 12:27:43 WARN DAGScheduler: Broadcasting large task binary with size 1242.0 KiB\n",
      "22/10/19 12:27:43 WARN DAGScheduler: Broadcasting large task binary with size 1242.7 KiB\n",
      "22/10/19 12:27:43 WARN DAGScheduler: Broadcasting large task binary with size 1245.8 KiB\n",
      "22/10/19 12:27:43 WARN DAGScheduler: Broadcasting large task binary with size 1247.2 KiB\n",
      "22/10/19 12:27:43 WARN DAGScheduler: Broadcasting large task binary with size 1248.6 KiB\n",
      "22/10/19 12:27:43 WARN DAGScheduler: Broadcasting large task binary with size 1250.0 KiB\n",
      "22/10/19 12:27:43 WARN DAGScheduler: Broadcasting large task binary with size 1251.4 KiB\n",
      "22/10/19 12:27:43 WARN DAGScheduler: Broadcasting large task binary with size 1252.8 KiB\n",
      "22/10/19 12:27:43 WARN DAGScheduler: Broadcasting large task binary with size 1254.2 KiB\n",
      "22/10/19 12:27:43 WARN DAGScheduler: Broadcasting large task binary with size 1255.6 KiB\n",
      "22/10/19 12:27:44 WARN DAGScheduler: Broadcasting large task binary with size 1256.9 KiB\n",
      "22/10/19 12:27:44 WARN DAGScheduler: Broadcasting large task binary with size 1258.3 KiB\n",
      "22/10/19 12:27:44 WARN DAGScheduler: Broadcasting large task binary with size 1259.7 KiB\n",
      "22/10/19 12:27:44 WARN DAGScheduler: Broadcasting large task binary with size 1261.1 KiB\n",
      "22/10/19 12:27:44 WARN DAGScheduler: Broadcasting large task binary with size 1262.5 KiB\n",
      "22/10/19 12:27:44 WARN DAGScheduler: Broadcasting large task binary with size 1263.9 KiB\n",
      "22/10/19 12:27:44 WARN DAGScheduler: Broadcasting large task binary with size 1265.3 KiB\n",
      "22/10/19 12:27:44 WARN DAGScheduler: Broadcasting large task binary with size 1266.6 KiB\n",
      "22/10/19 12:27:44 WARN DAGScheduler: Broadcasting large task binary with size 1268.0 KiB\n",
      "22/10/19 12:27:44 WARN DAGScheduler: Broadcasting large task binary with size 1269.4 KiB\n",
      "22/10/19 12:27:44 WARN DAGScheduler: Broadcasting large task binary with size 1270.8 KiB\n",
      "22/10/19 12:27:44 WARN DAGScheduler: Broadcasting large task binary with size 1272.8 KiB\n",
      "22/10/19 12:27:44 WARN DAGScheduler: Broadcasting large task binary with size 1271.4 KiB\n",
      "22/10/19 12:27:45 WARN DAGScheduler: Broadcasting large task binary with size 1228.6 KiB\n",
      "22/10/19 12:27:45 WARN DAGScheduler: Broadcasting large task binary with size 1280.4 KiB\n",
      "22/10/19 12:27:45 WARN DAGScheduler: Broadcasting large task binary with size 1279.0 KiB\n"
     ]
    },
    {
     "name": "stderr",
     "output_type": "stream",
     "text": [
      "                                                                                \r"
     ]
    },
    {
     "name": "stdout",
     "output_type": "stream",
     "text": [
      "22/10/19 12:27:46 WARN DAGScheduler: Broadcasting large task binary with size 1342.0 KiB\n",
      "22/10/19 12:27:46 WARN DAGScheduler: Broadcasting large task binary with size 1237.5 KiB\n",
      "22/10/19 12:27:46 WARN DAGScheduler: Broadcasting large task binary with size 1238.9 KiB\n"
     ]
    },
    {
     "name": "stderr",
     "output_type": "stream",
     "text": [
      "[Stage 602:==========================================>          (162 + 8) / 200]\r"
     ]
    },
    {
     "name": "stdout",
     "output_type": "stream",
     "text": [
      "22/10/19 12:27:48 WARN DAGScheduler: Broadcasting large task binary with size 1240.4 KiB\n"
     ]
    },
    {
     "name": "stderr",
     "output_type": "stream",
     "text": [
      "                                                                                \r"
     ]
    },
    {
     "name": "stdout",
     "output_type": "stream",
     "text": [
      "22/10/19 12:27:48 WARN DAGScheduler: Broadcasting large task binary with size 1241.7 KiB\n",
      "22/10/19 12:27:49 WARN DAGScheduler: Broadcasting large task binary with size 1240.7 KiB\n"
     ]
    },
    {
     "name": "stderr",
     "output_type": "stream",
     "text": [
      "[Stage 607:=============================================>       (171 + 8) / 200]\r"
     ]
    },
    {
     "name": "stdout",
     "output_type": "stream",
     "text": [
      "22/10/19 12:27:50 WARN DAGScheduler: Broadcasting large task binary with size 1242.0 KiB\n"
     ]
    },
    {
     "name": "stderr",
     "output_type": "stream",
     "text": [
      "                                                                                \r"
     ]
    },
    {
     "name": "stdout",
     "output_type": "stream",
     "text": [
      "22/10/19 12:27:50 WARN DAGScheduler: Broadcasting large task binary with size 1242.7 KiB\n",
      "22/10/19 12:27:50 WARN DAGScheduler: Broadcasting large task binary with size 1245.8 KiB\n",
      "22/10/19 12:27:50 WARN DAGScheduler: Broadcasting large task binary with size 1247.2 KiB\n",
      "22/10/19 12:27:50 WARN DAGScheduler: Broadcasting large task binary with size 1248.6 KiB\n",
      "22/10/19 12:27:50 WARN DAGScheduler: Broadcasting large task binary with size 1250.0 KiB\n",
      "22/10/19 12:27:50 WARN DAGScheduler: Broadcasting large task binary with size 1251.4 KiB\n",
      "22/10/19 12:27:51 WARN DAGScheduler: Broadcasting large task binary with size 1252.8 KiB\n",
      "22/10/19 12:27:51 WARN DAGScheduler: Broadcasting large task binary with size 1254.2 KiB\n",
      "22/10/19 12:27:51 WARN DAGScheduler: Broadcasting large task binary with size 1255.6 KiB\n",
      "22/10/19 12:27:51 WARN DAGScheduler: Broadcasting large task binary with size 1256.9 KiB\n",
      "22/10/19 12:27:51 WARN DAGScheduler: Broadcasting large task binary with size 1258.3 KiB\n",
      "22/10/19 12:27:51 WARN DAGScheduler: Broadcasting large task binary with size 1259.7 KiB\n",
      "22/10/19 12:27:51 WARN DAGScheduler: Broadcasting large task binary with size 1261.1 KiB\n",
      "22/10/19 12:27:51 WARN DAGScheduler: Broadcasting large task binary with size 1262.5 KiB\n",
      "22/10/19 12:27:51 WARN DAGScheduler: Broadcasting large task binary with size 1263.9 KiB\n",
      "22/10/19 12:27:51 WARN DAGScheduler: Broadcasting large task binary with size 1265.3 KiB\n",
      "22/10/19 12:27:51 WARN DAGScheduler: Broadcasting large task binary with size 1266.6 KiB\n",
      "22/10/19 12:27:51 WARN DAGScheduler: Broadcasting large task binary with size 1268.0 KiB\n",
      "22/10/19 12:27:51 WARN DAGScheduler: Broadcasting large task binary with size 1269.4 KiB\n",
      "22/10/19 12:27:51 WARN DAGScheduler: Broadcasting large task binary with size 1270.8 KiB\n",
      "22/10/19 12:27:51 WARN DAGScheduler: Broadcasting large task binary with size 1272.2 KiB\n",
      "22/10/19 12:27:51 WARN DAGScheduler: Broadcasting large task binary with size 1273.6 KiB\n",
      "22/10/19 12:27:51 WARN DAGScheduler: Broadcasting large task binary with size 1275.0 KiB\n",
      "22/10/19 12:27:51 WARN DAGScheduler: Broadcasting large task binary with size 1276.4 KiB\n",
      "22/10/19 12:27:52 WARN DAGScheduler: Broadcasting large task binary with size 1277.7 KiB\n",
      "22/10/19 12:27:52 WARN DAGScheduler: Broadcasting large task binary with size 1279.1 KiB\n",
      "22/10/19 12:27:52 WARN DAGScheduler: Broadcasting large task binary with size 1280.5 KiB\n",
      "22/10/19 12:27:52 WARN DAGScheduler: Broadcasting large task binary with size 1281.9 KiB\n",
      "22/10/19 12:27:52 WARN DAGScheduler: Broadcasting large task binary with size 1283.3 KiB\n",
      "22/10/19 12:27:52 WARN DAGScheduler: Broadcasting large task binary with size 1284.7 KiB\n",
      "22/10/19 12:27:52 WARN DAGScheduler: Broadcasting large task binary with size 1286.6 KiB\n",
      "22/10/19 12:27:52 WARN DAGScheduler: Broadcasting large task binary with size 1285.2 KiB\n",
      "22/10/19 12:27:53 WARN DAGScheduler: Broadcasting large task binary with size 1228.6 KiB\n",
      "22/10/19 12:27:53 WARN DAGScheduler: Broadcasting large task binary with size 1294.3 KiB\n",
      "22/10/19 12:27:53 WARN DAGScheduler: Broadcasting large task binary with size 1292.9 KiB\n"
     ]
    },
    {
     "name": "stderr",
     "output_type": "stream",
     "text": [
      "                                                                                \r"
     ]
    },
    {
     "name": "stdout",
     "output_type": "stream",
     "text": [
      "22/10/19 12:27:54 WARN DAGScheduler: Broadcasting large task binary with size 1355.9 KiB\n",
      "22/10/19 12:27:55 WARN DAGScheduler: Broadcasting large task binary with size 1237.5 KiB\n",
      "22/10/19 12:27:55 WARN DAGScheduler: Broadcasting large task binary with size 1238.9 KiB\n"
     ]
    },
    {
     "name": "stderr",
     "output_type": "stream",
     "text": [
      "[Stage 760:====================================================>(198 + 2) / 200]\r"
     ]
    },
    {
     "name": "stdout",
     "output_type": "stream",
     "text": [
      "22/10/19 12:27:56 WARN DAGScheduler: Broadcasting large task binary with size 1240.4 KiB\n"
     ]
    },
    {
     "name": "stderr",
     "output_type": "stream",
     "text": [
      "                                                                                \r"
     ]
    },
    {
     "name": "stdout",
     "output_type": "stream",
     "text": [
      "22/10/19 12:27:57 WARN DAGScheduler: Broadcasting large task binary with size 1241.7 KiB\n",
      "22/10/19 12:27:57 WARN DAGScheduler: Broadcasting large task binary with size 1240.7 KiB\n",
      "22/10/19 12:27:57 WARN DAGScheduler: Broadcasting large task binary with size 1242.0 KiB\n",
      "22/10/19 12:27:58 WARN DAGScheduler: Broadcasting large task binary with size 1242.7 KiB\n",
      "22/10/19 12:27:58 WARN DAGScheduler: Broadcasting large task binary with size 1245.8 KiB\n",
      "22/10/19 12:27:58 WARN DAGScheduler: Broadcasting large task binary with size 1247.2 KiB\n",
      "22/10/19 12:27:58 WARN DAGScheduler: Broadcasting large task binary with size 1248.6 KiB\n",
      "22/10/19 12:27:58 WARN DAGScheduler: Broadcasting large task binary with size 1250.0 KiB\n",
      "22/10/19 12:27:58 WARN DAGScheduler: Broadcasting large task binary with size 1251.4 KiB\n",
      "22/10/19 12:27:58 WARN DAGScheduler: Broadcasting large task binary with size 1252.8 KiB\n",
      "22/10/19 12:27:58 WARN DAGScheduler: Broadcasting large task binary with size 1254.2 KiB\n",
      "22/10/19 12:27:58 WARN DAGScheduler: Broadcasting large task binary with size 1255.6 KiB\n",
      "22/10/19 12:27:58 WARN DAGScheduler: Broadcasting large task binary with size 1256.9 KiB\n",
      "22/10/19 12:27:58 WARN DAGScheduler: Broadcasting large task binary with size 1258.3 KiB\n",
      "22/10/19 12:27:58 WARN DAGScheduler: Broadcasting large task binary with size 1259.7 KiB\n",
      "22/10/19 12:27:58 WARN DAGScheduler: Broadcasting large task binary with size 1261.1 KiB\n",
      "22/10/19 12:27:58 WARN DAGScheduler: Broadcasting large task binary with size 1262.5 KiB\n",
      "22/10/19 12:27:58 WARN DAGScheduler: Broadcasting large task binary with size 1263.9 KiB\n",
      "22/10/19 12:27:58 WARN DAGScheduler: Broadcasting large task binary with size 1265.3 KiB\n",
      "22/10/19 12:27:59 WARN DAGScheduler: Broadcasting large task binary with size 1266.6 KiB\n",
      "22/10/19 12:27:59 WARN DAGScheduler: Broadcasting large task binary with size 1268.0 KiB\n",
      "22/10/19 12:27:59 WARN DAGScheduler: Broadcasting large task binary with size 1269.4 KiB\n",
      "22/10/19 12:27:59 WARN DAGScheduler: Broadcasting large task binary with size 1270.8 KiB\n",
      "22/10/19 12:27:59 WARN DAGScheduler: Broadcasting large task binary with size 1272.2 KiB\n",
      "22/10/19 12:27:59 WARN DAGScheduler: Broadcasting large task binary with size 1273.6 KiB\n",
      "22/10/19 12:27:59 WARN DAGScheduler: Broadcasting large task binary with size 1275.0 KiB\n",
      "22/10/19 12:27:59 WARN DAGScheduler: Broadcasting large task binary with size 1276.4 KiB\n",
      "22/10/19 12:27:59 WARN DAGScheduler: Broadcasting large task binary with size 1277.7 KiB\n",
      "22/10/19 12:27:59 WARN DAGScheduler: Broadcasting large task binary with size 1279.1 KiB\n",
      "22/10/19 12:27:59 WARN DAGScheduler: Broadcasting large task binary with size 1280.5 KiB\n",
      "22/10/19 12:27:59 WARN DAGScheduler: Broadcasting large task binary with size 1281.9 KiB\n",
      "22/10/19 12:27:59 WARN DAGScheduler: Broadcasting large task binary with size 1283.3 KiB\n",
      "22/10/19 12:27:59 WARN DAGScheduler: Broadcasting large task binary with size 1284.7 KiB\n",
      "22/10/19 12:27:59 WARN DAGScheduler: Broadcasting large task binary with size 1286.6 KiB\n",
      "22/10/19 12:27:59 WARN DAGScheduler: Broadcasting large task binary with size 1285.2 KiB\n",
      "22/10/19 12:28:00 WARN DAGScheduler: Broadcasting large task binary with size 1228.6 KiB\n",
      "22/10/19 12:28:00 WARN DAGScheduler: Broadcasting large task binary with size 1294.3 KiB\n",
      "22/10/19 12:28:00 WARN DAGScheduler: Broadcasting large task binary with size 1292.9 KiB\n"
     ]
    },
    {
     "name": "stderr",
     "output_type": "stream",
     "text": [
      "                                                                                \r"
     ]
    },
    {
     "name": "stdout",
     "output_type": "stream",
     "text": [
      "22/10/19 12:28:02 WARN DAGScheduler: Broadcasting large task binary with size 1355.9 KiB\n",
      "22/10/19 12:28:02 WARN DAGScheduler: Broadcasting large task binary with size 1237.5 KiB\n",
      "22/10/19 12:28:02 WARN DAGScheduler: Broadcasting large task binary with size 1238.9 KiB\n"
     ]
    },
    {
     "name": "stderr",
     "output_type": "stream",
     "text": [
      "[Stage 918:================================================>    (184 + 8) / 200]\r"
     ]
    },
    {
     "name": "stdout",
     "output_type": "stream",
     "text": [
      "22/10/19 12:28:03 WARN DAGScheduler: Broadcasting large task binary with size 1240.4 KiB\n"
     ]
    },
    {
     "name": "stderr",
     "output_type": "stream",
     "text": [
      "                                                                                \r"
     ]
    },
    {
     "name": "stdout",
     "output_type": "stream",
     "text": [
      "22/10/19 12:28:04 WARN DAGScheduler: Broadcasting large task binary with size 1241.7 KiB\n",
      "22/10/19 12:28:04 WARN DAGScheduler: Broadcasting large task binary with size 1240.7 KiB\n",
      "22/10/19 12:28:04 WARN DAGScheduler: Broadcasting large task binary with size 1242.0 KiB\n",
      "22/10/19 12:28:05 WARN DAGScheduler: Broadcasting large task binary with size 1242.7 KiB\n",
      "22/10/19 12:28:05 WARN DAGScheduler: Broadcasting large task binary with size 1245.8 KiB\n",
      "22/10/19 12:28:05 WARN DAGScheduler: Broadcasting large task binary with size 1247.2 KiB\n",
      "22/10/19 12:28:05 WARN DAGScheduler: Broadcasting large task binary with size 1248.6 KiB\n",
      "22/10/19 12:28:05 WARN DAGScheduler: Broadcasting large task binary with size 1250.0 KiB\n",
      "22/10/19 12:28:05 WARN DAGScheduler: Broadcasting large task binary with size 1251.4 KiB\n",
      "22/10/19 12:28:05 WARN DAGScheduler: Broadcasting large task binary with size 1252.8 KiB\n",
      "22/10/19 12:28:05 WARN DAGScheduler: Broadcasting large task binary with size 1254.2 KiB\n",
      "22/10/19 12:28:05 WARN DAGScheduler: Broadcasting large task binary with size 1255.6 KiB\n",
      "22/10/19 12:28:06 WARN DAGScheduler: Broadcasting large task binary with size 1256.9 KiB\n",
      "22/10/19 12:28:06 WARN DAGScheduler: Broadcasting large task binary with size 1258.3 KiB\n",
      "22/10/19 12:28:06 WARN DAGScheduler: Broadcasting large task binary with size 1259.7 KiB\n",
      "22/10/19 12:28:06 WARN DAGScheduler: Broadcasting large task binary with size 1261.1 KiB\n",
      "22/10/19 12:28:06 WARN DAGScheduler: Broadcasting large task binary with size 1262.5 KiB\n",
      "22/10/19 12:28:06 WARN DAGScheduler: Broadcasting large task binary with size 1263.9 KiB\n",
      "22/10/19 12:28:06 WARN DAGScheduler: Broadcasting large task binary with size 1265.3 KiB\n",
      "22/10/19 12:28:06 WARN DAGScheduler: Broadcasting large task binary with size 1266.6 KiB\n",
      "22/10/19 12:28:06 WARN DAGScheduler: Broadcasting large task binary with size 1268.0 KiB\n",
      "22/10/19 12:28:06 WARN DAGScheduler: Broadcasting large task binary with size 1269.4 KiB\n",
      "22/10/19 12:28:06 WARN DAGScheduler: Broadcasting large task binary with size 1270.8 KiB\n",
      "22/10/19 12:28:06 WARN DAGScheduler: Broadcasting large task binary with size 1272.2 KiB\n",
      "22/10/19 12:28:06 WARN DAGScheduler: Broadcasting large task binary with size 1273.6 KiB\n",
      "22/10/19 12:28:06 WARN DAGScheduler: Broadcasting large task binary with size 1275.0 KiB\n",
      "22/10/19 12:28:06 WARN DAGScheduler: Broadcasting large task binary with size 1276.4 KiB\n",
      "22/10/19 12:28:06 WARN DAGScheduler: Broadcasting large task binary with size 1277.7 KiB\n",
      "22/10/19 12:28:07 WARN DAGScheduler: Broadcasting large task binary with size 1279.1 KiB\n",
      "22/10/19 12:28:07 WARN DAGScheduler: Broadcasting large task binary with size 1280.5 KiB\n",
      "22/10/19 12:28:07 WARN DAGScheduler: Broadcasting large task binary with size 1281.9 KiB\n",
      "22/10/19 12:28:07 WARN DAGScheduler: Broadcasting large task binary with size 1283.3 KiB\n",
      "22/10/19 12:28:07 WARN DAGScheduler: Broadcasting large task binary with size 1284.7 KiB\n",
      "22/10/19 12:28:07 WARN DAGScheduler: Broadcasting large task binary with size 1286.6 KiB\n",
      "22/10/19 12:28:07 WARN DAGScheduler: Broadcasting large task binary with size 1285.2 KiB\n",
      "22/10/19 12:28:07 WARN DAGScheduler: Broadcasting large task binary with size 1228.6 KiB\n",
      "22/10/19 12:28:07 WARN DAGScheduler: Broadcasting large task binary with size 1294.3 KiB\n",
      "22/10/19 12:28:07 WARN DAGScheduler: Broadcasting large task binary with size 1292.9 KiB\n"
     ]
    },
    {
     "name": "stderr",
     "output_type": "stream",
     "text": [
      "                                                                                \r"
     ]
    },
    {
     "name": "stdout",
     "output_type": "stream",
     "text": [
      "22/10/19 12:28:10 WARN DAGScheduler: Broadcasting large task binary with size 1355.9 KiB\n",
      "22/10/19 12:28:11 WARN DAGScheduler: Broadcasting large task binary with size 1237.5 KiB\n",
      "22/10/19 12:28:11 WARN DAGScheduler: Broadcasting large task binary with size 1238.9 KiB\n"
     ]
    },
    {
     "name": "stderr",
     "output_type": "stream",
     "text": [
      "[Stage 1076:==============================================>     (177 + 8) / 200]\r"
     ]
    },
    {
     "name": "stdout",
     "output_type": "stream",
     "text": [
      "22/10/19 12:28:12 WARN DAGScheduler: Broadcasting large task binary with size 1240.4 KiB\n"
     ]
    },
    {
     "name": "stderr",
     "output_type": "stream",
     "text": [
      "                                                                                \r"
     ]
    },
    {
     "name": "stdout",
     "output_type": "stream",
     "text": [
      "22/10/19 12:28:13 WARN DAGScheduler: Broadcasting large task binary with size 1241.7 KiB\n",
      "22/10/19 12:28:13 WARN DAGScheduler: Broadcasting large task binary with size 1240.7 KiB\n",
      "22/10/19 12:28:13 WARN DAGScheduler: Broadcasting large task binary with size 1242.0 KiB\n",
      "22/10/19 12:28:14 WARN DAGScheduler: Broadcasting large task binary with size 1242.7 KiB\n",
      "22/10/19 12:28:14 WARN DAGScheduler: Broadcasting large task binary with size 1245.8 KiB\n",
      "22/10/19 12:28:14 WARN DAGScheduler: Broadcasting large task binary with size 1247.2 KiB\n",
      "22/10/19 12:28:14 WARN DAGScheduler: Broadcasting large task binary with size 1248.6 KiB\n",
      "22/10/19 12:28:14 WARN DAGScheduler: Broadcasting large task binary with size 1250.0 KiB\n",
      "22/10/19 12:28:14 WARN DAGScheduler: Broadcasting large task binary with size 1251.4 KiB\n",
      "22/10/19 12:28:14 WARN DAGScheduler: Broadcasting large task binary with size 1252.8 KiB\n",
      "22/10/19 12:28:14 WARN DAGScheduler: Broadcasting large task binary with size 1254.2 KiB\n",
      "22/10/19 12:28:14 WARN DAGScheduler: Broadcasting large task binary with size 1255.6 KiB\n",
      "22/10/19 12:28:14 WARN DAGScheduler: Broadcasting large task binary with size 1256.9 KiB\n",
      "22/10/19 12:28:14 WARN DAGScheduler: Broadcasting large task binary with size 1258.9 KiB\n",
      "22/10/19 12:28:14 WARN DAGScheduler: Broadcasting large task binary with size 1257.5 KiB\n",
      "22/10/19 12:28:15 WARN DAGScheduler: Broadcasting large task binary with size 1228.6 KiB\n",
      "22/10/19 12:28:15 WARN DAGScheduler: Broadcasting large task binary with size 1266.5 KiB\n",
      "22/10/19 12:28:15 WARN DAGScheduler: Broadcasting large task binary with size 1265.1 KiB\n"
     ]
    },
    {
     "name": "stderr",
     "output_type": "stream",
     "text": [
      "                                                                                \r"
     ]
    },
    {
     "name": "stdout",
     "output_type": "stream",
     "text": [
      "22/10/19 12:28:16 WARN DAGScheduler: Broadcasting large task binary with size 1328.2 KiB\n",
      "22/10/19 12:28:17 WARN DAGScheduler: Broadcasting large task binary with size 1237.5 KiB\n",
      "22/10/19 12:28:17 WARN DAGScheduler: Broadcasting large task binary with size 1238.9 KiB\n"
     ]
    },
    {
     "name": "stderr",
     "output_type": "stream",
     "text": [
      "[Stage 1154:===========================================>        (167 + 8) / 200]\r"
     ]
    },
    {
     "name": "stdout",
     "output_type": "stream",
     "text": [
      "22/10/19 12:28:18 WARN DAGScheduler: Broadcasting large task binary with size 1240.4 KiB\n"
     ]
    },
    {
     "name": "stderr",
     "output_type": "stream",
     "text": [
      "                                                                                \r"
     ]
    },
    {
     "name": "stdout",
     "output_type": "stream",
     "text": [
      "22/10/19 12:28:18 WARN DAGScheduler: Broadcasting large task binary with size 1241.7 KiB\n",
      "22/10/19 12:28:19 WARN DAGScheduler: Broadcasting large task binary with size 1240.7 KiB\n",
      "22/10/19 12:28:19 WARN DAGScheduler: Broadcasting large task binary with size 1242.0 KiB\n",
      "22/10/19 12:28:19 WARN DAGScheduler: Broadcasting large task binary with size 1242.7 KiB\n",
      "22/10/19 12:28:19 WARN DAGScheduler: Broadcasting large task binary with size 1245.8 KiB\n",
      "22/10/19 12:28:19 WARN DAGScheduler: Broadcasting large task binary with size 1247.2 KiB\n",
      "22/10/19 12:28:19 WARN DAGScheduler: Broadcasting large task binary with size 1248.6 KiB\n",
      "22/10/19 12:28:19 WARN DAGScheduler: Broadcasting large task binary with size 1250.0 KiB\n",
      "22/10/19 12:28:20 WARN DAGScheduler: Broadcasting large task binary with size 1251.4 KiB\n",
      "22/10/19 12:28:20 WARN DAGScheduler: Broadcasting large task binary with size 1252.8 KiB\n",
      "22/10/19 12:28:20 WARN DAGScheduler: Broadcasting large task binary with size 1254.2 KiB\n",
      "22/10/19 12:28:20 WARN DAGScheduler: Broadcasting large task binary with size 1255.6 KiB\n",
      "22/10/19 12:28:20 WARN DAGScheduler: Broadcasting large task binary with size 1256.9 KiB\n",
      "22/10/19 12:28:20 WARN DAGScheduler: Broadcasting large task binary with size 1258.9 KiB\n",
      "22/10/19 12:28:20 WARN DAGScheduler: Broadcasting large task binary with size 1257.5 KiB\n",
      "22/10/19 12:28:20 WARN DAGScheduler: Broadcasting large task binary with size 1228.6 KiB\n",
      "22/10/19 12:28:21 WARN DAGScheduler: Broadcasting large task binary with size 1266.5 KiB\n",
      "22/10/19 12:28:21 WARN DAGScheduler: Broadcasting large task binary with size 1265.1 KiB\n"
     ]
    },
    {
     "name": "stderr",
     "output_type": "stream",
     "text": [
      "                                                                                \r"
     ]
    },
    {
     "name": "stdout",
     "output_type": "stream",
     "text": [
      "22/10/19 12:28:22 WARN DAGScheduler: Broadcasting large task binary with size 1328.2 KiB\n",
      "22/10/19 12:28:23 WARN DAGScheduler: Broadcasting large task binary with size 1237.5 KiB\n",
      "22/10/19 12:28:23 WARN DAGScheduler: Broadcasting large task binary with size 1238.9 KiB\n"
     ]
    },
    {
     "name": "stderr",
     "output_type": "stream",
     "text": [
      "[Stage 1232:==========================================>         (164 + 8) / 200]\r"
     ]
    },
    {
     "name": "stdout",
     "output_type": "stream",
     "text": [
      "22/10/19 12:28:24 WARN DAGScheduler: Broadcasting large task binary with size 1240.4 KiB\n"
     ]
    },
    {
     "name": "stderr",
     "output_type": "stream",
     "text": [
      "                                                                                \r"
     ]
    },
    {
     "name": "stdout",
     "output_type": "stream",
     "text": [
      "22/10/19 12:28:24 WARN DAGScheduler: Broadcasting large task binary with size 1241.7 KiB\n",
      "22/10/19 12:28:25 WARN DAGScheduler: Broadcasting large task binary with size 1240.7 KiB\n",
      "22/10/19 12:28:25 WARN DAGScheduler: Broadcasting large task binary with size 1242.0 KiB\n",
      "22/10/19 12:28:25 WARN DAGScheduler: Broadcasting large task binary with size 1242.7 KiB\n",
      "22/10/19 12:28:25 WARN DAGScheduler: Broadcasting large task binary with size 1245.8 KiB\n",
      "22/10/19 12:28:25 WARN DAGScheduler: Broadcasting large task binary with size 1247.2 KiB\n",
      "22/10/19 12:28:26 WARN DAGScheduler: Broadcasting large task binary with size 1248.6 KiB\n",
      "22/10/19 12:28:26 WARN DAGScheduler: Broadcasting large task binary with size 1250.0 KiB\n",
      "22/10/19 12:28:26 WARN DAGScheduler: Broadcasting large task binary with size 1251.4 KiB\n",
      "22/10/19 12:28:26 WARN DAGScheduler: Broadcasting large task binary with size 1252.8 KiB\n",
      "22/10/19 12:28:26 WARN DAGScheduler: Broadcasting large task binary with size 1254.2 KiB\n",
      "22/10/19 12:28:26 WARN DAGScheduler: Broadcasting large task binary with size 1255.6 KiB\n",
      "22/10/19 12:28:26 WARN DAGScheduler: Broadcasting large task binary with size 1256.9 KiB\n",
      "22/10/19 12:28:26 WARN DAGScheduler: Broadcasting large task binary with size 1258.9 KiB\n",
      "22/10/19 12:28:26 WARN DAGScheduler: Broadcasting large task binary with size 1257.5 KiB\n",
      "22/10/19 12:28:26 WARN DAGScheduler: Broadcasting large task binary with size 1228.6 KiB\n",
      "22/10/19 12:28:26 WARN DAGScheduler: Broadcasting large task binary with size 1266.5 KiB\n",
      "22/10/19 12:28:26 WARN DAGScheduler: Broadcasting large task binary with size 1265.1 KiB\n"
     ]
    },
    {
     "name": "stderr",
     "output_type": "stream",
     "text": [
      "                                                                                \r"
     ]
    },
    {
     "name": "stdout",
     "output_type": "stream",
     "text": [
      "22/10/19 12:28:28 WARN DAGScheduler: Broadcasting large task binary with size 1328.2 KiB\n",
      "22/10/19 12:28:28 WARN DAGScheduler: Broadcasting large task binary with size 1237.5 KiB\n",
      "22/10/19 12:28:28 WARN DAGScheduler: Broadcasting large task binary with size 1238.9 KiB\n"
     ]
    },
    {
     "name": "stderr",
     "output_type": "stream",
     "text": [
      "[Stage 1310:==========================================>         (164 + 8) / 200]\r"
     ]
    },
    {
     "name": "stdout",
     "output_type": "stream",
     "text": [
      "22/10/19 12:28:30 WARN DAGScheduler: Broadcasting large task binary with size 1240.4 KiB\n"
     ]
    },
    {
     "name": "stderr",
     "output_type": "stream",
     "text": [
      "[Stage 1311:========================================>           (157 + 8) / 200]\r"
     ]
    },
    {
     "name": "stdout",
     "output_type": "stream",
     "text": [
      "22/10/19 12:28:31 WARN DAGScheduler: Broadcasting large task binary with size 1241.7 KiB\n",
      "22/10/19 12:28:31 WARN DAGScheduler: Broadcasting large task binary with size 1240.7 KiB\n"
     ]
    },
    {
     "name": "stderr",
     "output_type": "stream",
     "text": [
      "                                                                                \r"
     ]
    },
    {
     "name": "stdout",
     "output_type": "stream",
     "text": [
      "22/10/19 12:28:31 WARN DAGScheduler: Broadcasting large task binary with size 1242.0 KiB\n",
      "22/10/19 12:28:31 WARN DAGScheduler: Broadcasting large task binary with size 1242.7 KiB\n",
      "22/10/19 12:28:31 WARN DAGScheduler: Broadcasting large task binary with size 1245.8 KiB\n",
      "22/10/19 12:28:32 WARN DAGScheduler: Broadcasting large task binary with size 1247.2 KiB\n",
      "22/10/19 12:28:32 WARN DAGScheduler: Broadcasting large task binary with size 1248.6 KiB\n",
      "22/10/19 12:28:32 WARN DAGScheduler: Broadcasting large task binary with size 1250.0 KiB\n",
      "22/10/19 12:28:32 WARN DAGScheduler: Broadcasting large task binary with size 1251.4 KiB\n",
      "22/10/19 12:28:32 WARN DAGScheduler: Broadcasting large task binary with size 1252.8 KiB\n",
      "22/10/19 12:28:32 WARN DAGScheduler: Broadcasting large task binary with size 1254.2 KiB\n",
      "22/10/19 12:28:32 WARN DAGScheduler: Broadcasting large task binary with size 1255.6 KiB\n",
      "22/10/19 12:28:32 WARN DAGScheduler: Broadcasting large task binary with size 1256.9 KiB\n",
      "22/10/19 12:28:32 WARN DAGScheduler: Broadcasting large task binary with size 1258.3 KiB\n",
      "22/10/19 12:28:32 WARN DAGScheduler: Broadcasting large task binary with size 1259.7 KiB\n",
      "22/10/19 12:28:32 WARN DAGScheduler: Broadcasting large task binary with size 1261.1 KiB\n",
      "22/10/19 12:28:32 WARN DAGScheduler: Broadcasting large task binary with size 1262.5 KiB\n",
      "22/10/19 12:28:32 WARN DAGScheduler: Broadcasting large task binary with size 1263.9 KiB\n",
      "22/10/19 12:28:32 WARN DAGScheduler: Broadcasting large task binary with size 1265.3 KiB\n",
      "22/10/19 12:28:33 WARN DAGScheduler: Broadcasting large task binary with size 1266.6 KiB\n",
      "22/10/19 12:28:33 WARN DAGScheduler: Broadcasting large task binary with size 1268.0 KiB\n",
      "22/10/19 12:28:33 WARN DAGScheduler: Broadcasting large task binary with size 1269.4 KiB\n",
      "22/10/19 12:28:33 WARN DAGScheduler: Broadcasting large task binary with size 1270.8 KiB\n",
      "22/10/19 12:28:33 WARN DAGScheduler: Broadcasting large task binary with size 1272.8 KiB\n",
      "22/10/19 12:28:33 WARN DAGScheduler: Broadcasting large task binary with size 1271.4 KiB\n"
     ]
    },
    {
     "name": "stderr",
     "output_type": "stream",
     "text": [
      "                                                                                \r"
     ]
    },
    {
     "name": "stdout",
     "output_type": "stream",
     "text": [
      "22/10/19 12:28:34 WARN DAGScheduler: Broadcasting large task binary with size 1228.6 KiB\n",
      "22/10/19 12:28:34 WARN DAGScheduler: Broadcasting large task binary with size 1280.4 KiB\n",
      "22/10/19 12:28:34 WARN DAGScheduler: Broadcasting large task binary with size 1279.0 KiB\n"
     ]
    },
    {
     "name": "stderr",
     "output_type": "stream",
     "text": [
      "                                                                                \r"
     ]
    },
    {
     "name": "stdout",
     "output_type": "stream",
     "text": [
      "22/10/19 12:28:36 WARN DAGScheduler: Broadcasting large task binary with size 1342.0 KiB\n",
      "22/10/19 12:28:36 WARN DAGScheduler: Broadcasting large task binary with size 1237.5 KiB\n",
      "22/10/19 12:28:36 WARN DAGScheduler: Broadcasting large task binary with size 1238.9 KiB\n"
     ]
    },
    {
     "name": "stderr",
     "output_type": "stream",
     "text": [
      "[Stage 1428:============================================>       (170 + 8) / 200]\r"
     ]
    },
    {
     "name": "stdout",
     "output_type": "stream",
     "text": [
      "22/10/19 12:28:38 WARN DAGScheduler: Broadcasting large task binary with size 1240.4 KiB\n"
     ]
    },
    {
     "name": "stderr",
     "output_type": "stream",
     "text": [
      "                                                                                \r"
     ]
    },
    {
     "name": "stdout",
     "output_type": "stream",
     "text": [
      "22/10/19 12:28:38 WARN DAGScheduler: Broadcasting large task binary with size 1241.7 KiB\n",
      "22/10/19 12:28:38 WARN DAGScheduler: Broadcasting large task binary with size 1240.7 KiB\n",
      "22/10/19 12:28:39 WARN DAGScheduler: Broadcasting large task binary with size 1242.0 KiB\n",
      "22/10/19 12:28:39 WARN DAGScheduler: Broadcasting large task binary with size 1242.7 KiB\n",
      "22/10/19 12:28:39 WARN DAGScheduler: Broadcasting large task binary with size 1245.8 KiB\n",
      "22/10/19 12:28:39 WARN DAGScheduler: Broadcasting large task binary with size 1247.2 KiB\n",
      "22/10/19 12:28:39 WARN DAGScheduler: Broadcasting large task binary with size 1248.6 KiB\n",
      "22/10/19 12:28:39 WARN DAGScheduler: Broadcasting large task binary with size 1250.0 KiB\n",
      "22/10/19 12:28:39 WARN DAGScheduler: Broadcasting large task binary with size 1251.4 KiB\n",
      "22/10/19 12:28:39 WARN DAGScheduler: Broadcasting large task binary with size 1252.8 KiB\n",
      "22/10/19 12:28:40 WARN DAGScheduler: Broadcasting large task binary with size 1254.2 KiB\n",
      "22/10/19 12:28:40 WARN DAGScheduler: Broadcasting large task binary with size 1255.6 KiB\n",
      "22/10/19 12:28:40 WARN DAGScheduler: Broadcasting large task binary with size 1256.9 KiB\n",
      "22/10/19 12:28:40 WARN DAGScheduler: Broadcasting large task binary with size 1258.3 KiB\n",
      "22/10/19 12:28:40 WARN DAGScheduler: Broadcasting large task binary with size 1259.7 KiB\n",
      "22/10/19 12:28:40 WARN DAGScheduler: Broadcasting large task binary with size 1261.1 KiB\n",
      "22/10/19 12:28:40 WARN DAGScheduler: Broadcasting large task binary with size 1262.5 KiB\n",
      "22/10/19 12:28:40 WARN DAGScheduler: Broadcasting large task binary with size 1263.9 KiB\n",
      "22/10/19 12:28:40 WARN DAGScheduler: Broadcasting large task binary with size 1265.3 KiB\n",
      "22/10/19 12:28:40 WARN DAGScheduler: Broadcasting large task binary with size 1266.6 KiB\n",
      "22/10/19 12:28:40 WARN DAGScheduler: Broadcasting large task binary with size 1268.0 KiB\n",
      "22/10/19 12:28:40 WARN DAGScheduler: Broadcasting large task binary with size 1269.4 KiB\n",
      "22/10/19 12:28:40 WARN DAGScheduler: Broadcasting large task binary with size 1270.8 KiB\n",
      "22/10/19 12:28:40 WARN DAGScheduler: Broadcasting large task binary with size 1272.8 KiB\n",
      "22/10/19 12:28:40 WARN DAGScheduler: Broadcasting large task binary with size 1271.4 KiB\n",
      "22/10/19 12:28:41 WARN DAGScheduler: Broadcasting large task binary with size 1228.6 KiB\n",
      "22/10/19 12:28:41 WARN DAGScheduler: Broadcasting large task binary with size 1280.4 KiB\n",
      "22/10/19 12:28:41 WARN DAGScheduler: Broadcasting large task binary with size 1279.0 KiB\n"
     ]
    },
    {
     "name": "stderr",
     "output_type": "stream",
     "text": [
      "                                                                                \r"
     ]
    },
    {
     "name": "stdout",
     "output_type": "stream",
     "text": [
      "22/10/19 12:28:42 WARN DAGScheduler: Broadcasting large task binary with size 1342.0 KiB\n",
      "22/10/19 12:28:43 WARN DAGScheduler: Broadcasting large task binary with size 1237.5 KiB\n",
      "22/10/19 12:28:43 WARN DAGScheduler: Broadcasting large task binary with size 1238.9 KiB\n"
     ]
    },
    {
     "name": "stderr",
     "output_type": "stream",
     "text": [
      "[Stage 1546:============================================>       (172 + 8) / 200]\r"
     ]
    },
    {
     "name": "stdout",
     "output_type": "stream",
     "text": [
      "22/10/19 12:28:44 WARN DAGScheduler: Broadcasting large task binary with size 1240.4 KiB\n"
     ]
    },
    {
     "name": "stderr",
     "output_type": "stream",
     "text": [
      "                                                                                \r"
     ]
    },
    {
     "name": "stdout",
     "output_type": "stream",
     "text": [
      "22/10/19 12:28:45 WARN DAGScheduler: Broadcasting large task binary with size 1241.7 KiB\n",
      "22/10/19 12:28:45 WARN DAGScheduler: Broadcasting large task binary with size 1240.7 KiB\n",
      "22/10/19 12:28:45 WARN DAGScheduler: Broadcasting large task binary with size 1242.0 KiB\n",
      "22/10/19 12:28:46 WARN DAGScheduler: Broadcasting large task binary with size 1242.7 KiB\n",
      "22/10/19 12:28:46 WARN DAGScheduler: Broadcasting large task binary with size 1245.8 KiB\n",
      "22/10/19 12:28:46 WARN DAGScheduler: Broadcasting large task binary with size 1247.2 KiB\n",
      "22/10/19 12:28:46 WARN DAGScheduler: Broadcasting large task binary with size 1248.6 KiB\n",
      "22/10/19 12:28:46 WARN DAGScheduler: Broadcasting large task binary with size 1250.0 KiB\n",
      "22/10/19 12:28:46 WARN DAGScheduler: Broadcasting large task binary with size 1251.4 KiB\n",
      "22/10/19 12:28:46 WARN DAGScheduler: Broadcasting large task binary with size 1252.8 KiB\n",
      "22/10/19 12:28:46 WARN DAGScheduler: Broadcasting large task binary with size 1254.2 KiB\n",
      "22/10/19 12:28:46 WARN DAGScheduler: Broadcasting large task binary with size 1255.6 KiB\n",
      "22/10/19 12:28:46 WARN DAGScheduler: Broadcasting large task binary with size 1256.9 KiB\n",
      "22/10/19 12:28:46 WARN DAGScheduler: Broadcasting large task binary with size 1258.3 KiB\n",
      "22/10/19 12:28:46 WARN DAGScheduler: Broadcasting large task binary with size 1259.7 KiB\n",
      "22/10/19 12:28:46 WARN DAGScheduler: Broadcasting large task binary with size 1261.1 KiB\n",
      "22/10/19 12:28:46 WARN DAGScheduler: Broadcasting large task binary with size 1262.5 KiB\n",
      "22/10/19 12:28:46 WARN DAGScheduler: Broadcasting large task binary with size 1263.9 KiB\n",
      "22/10/19 12:28:46 WARN DAGScheduler: Broadcasting large task binary with size 1265.3 KiB\n",
      "22/10/19 12:28:47 WARN DAGScheduler: Broadcasting large task binary with size 1266.6 KiB\n",
      "22/10/19 12:28:47 WARN DAGScheduler: Broadcasting large task binary with size 1268.0 KiB\n",
      "22/10/19 12:28:47 WARN DAGScheduler: Broadcasting large task binary with size 1269.4 KiB\n",
      "22/10/19 12:28:47 WARN DAGScheduler: Broadcasting large task binary with size 1270.8 KiB\n",
      "22/10/19 12:28:47 WARN DAGScheduler: Broadcasting large task binary with size 1272.8 KiB\n",
      "22/10/19 12:28:47 WARN DAGScheduler: Broadcasting large task binary with size 1271.4 KiB\n",
      "22/10/19 12:28:47 WARN DAGScheduler: Broadcasting large task binary with size 1228.6 KiB\n",
      "22/10/19 12:28:47 WARN DAGScheduler: Broadcasting large task binary with size 1280.4 KiB\n",
      "22/10/19 12:28:47 WARN DAGScheduler: Broadcasting large task binary with size 1279.0 KiB\n"
     ]
    },
    {
     "name": "stderr",
     "output_type": "stream",
     "text": [
      "                                                                                \r"
     ]
    },
    {
     "name": "stdout",
     "output_type": "stream",
     "text": [
      "22/10/19 12:28:49 WARN DAGScheduler: Broadcasting large task binary with size 1342.0 KiB\n",
      "22/10/19 12:28:49 WARN DAGScheduler: Broadcasting large task binary with size 1237.5 KiB\n",
      "22/10/19 12:28:49 WARN DAGScheduler: Broadcasting large task binary with size 1238.9 KiB\n"
     ]
    },
    {
     "name": "stderr",
     "output_type": "stream",
     "text": [
      "[Stage 1664:===============================================>    (183 + 8) / 200]\r"
     ]
    },
    {
     "name": "stdout",
     "output_type": "stream",
     "text": [
      "22/10/19 12:28:50 WARN DAGScheduler: Broadcasting large task binary with size 1240.4 KiB\n"
     ]
    },
    {
     "name": "stderr",
     "output_type": "stream",
     "text": [
      "[Stage 1665:==================================>                 (131 + 8) / 200]\r"
     ]
    },
    {
     "name": "stdout",
     "output_type": "stream",
     "text": [
      "22/10/19 12:28:51 WARN DAGScheduler: Broadcasting large task binary with size 1241.7 KiB\n",
      "22/10/19 12:28:51 WARN DAGScheduler: Broadcasting large task binary with size 1240.7 KiB\n"
     ]
    },
    {
     "name": "stderr",
     "output_type": "stream",
     "text": [
      "                                                                                \r"
     ]
    },
    {
     "name": "stdout",
     "output_type": "stream",
     "text": [
      "22/10/19 12:28:52 WARN DAGScheduler: Broadcasting large task binary with size 1242.0 KiB\n",
      "22/10/19 12:28:52 WARN DAGScheduler: Broadcasting large task binary with size 1242.7 KiB\n",
      "22/10/19 12:28:52 WARN DAGScheduler: Broadcasting large task binary with size 1245.8 KiB\n",
      "22/10/19 12:28:52 WARN DAGScheduler: Broadcasting large task binary with size 1247.2 KiB\n",
      "22/10/19 12:28:52 WARN DAGScheduler: Broadcasting large task binary with size 1248.6 KiB\n",
      "22/10/19 12:28:52 WARN DAGScheduler: Broadcasting large task binary with size 1250.0 KiB\n",
      "22/10/19 12:28:52 WARN DAGScheduler: Broadcasting large task binary with size 1251.4 KiB\n",
      "22/10/19 12:28:52 WARN DAGScheduler: Broadcasting large task binary with size 1252.8 KiB\n",
      "22/10/19 12:28:52 WARN DAGScheduler: Broadcasting large task binary with size 1254.2 KiB\n",
      "22/10/19 12:28:52 WARN DAGScheduler: Broadcasting large task binary with size 1255.6 KiB\n",
      "22/10/19 12:28:53 WARN DAGScheduler: Broadcasting large task binary with size 1256.9 KiB\n",
      "22/10/19 12:28:53 WARN DAGScheduler: Broadcasting large task binary with size 1258.3 KiB\n",
      "22/10/19 12:28:53 WARN DAGScheduler: Broadcasting large task binary with size 1259.7 KiB\n",
      "22/10/19 12:28:53 WARN DAGScheduler: Broadcasting large task binary with size 1261.1 KiB\n",
      "22/10/19 12:28:53 WARN DAGScheduler: Broadcasting large task binary with size 1262.5 KiB\n",
      "22/10/19 12:28:53 WARN DAGScheduler: Broadcasting large task binary with size 1263.9 KiB\n",
      "22/10/19 12:28:53 WARN DAGScheduler: Broadcasting large task binary with size 1265.3 KiB\n",
      "22/10/19 12:28:53 WARN DAGScheduler: Broadcasting large task binary with size 1266.6 KiB\n",
      "22/10/19 12:28:53 WARN DAGScheduler: Broadcasting large task binary with size 1268.0 KiB\n",
      "22/10/19 12:28:53 WARN DAGScheduler: Broadcasting large task binary with size 1269.4 KiB\n",
      "22/10/19 12:28:53 WARN DAGScheduler: Broadcasting large task binary with size 1270.8 KiB\n",
      "22/10/19 12:28:53 WARN DAGScheduler: Broadcasting large task binary with size 1272.2 KiB\n",
      "22/10/19 12:28:53 WARN DAGScheduler: Broadcasting large task binary with size 1273.6 KiB\n",
      "22/10/19 12:28:53 WARN DAGScheduler: Broadcasting large task binary with size 1275.0 KiB\n",
      "22/10/19 12:28:54 WARN DAGScheduler: Broadcasting large task binary with size 1276.4 KiB\n",
      "22/10/19 12:28:54 WARN DAGScheduler: Broadcasting large task binary with size 1277.7 KiB\n",
      "22/10/19 12:28:54 WARN DAGScheduler: Broadcasting large task binary with size 1279.1 KiB\n",
      "22/10/19 12:28:54 WARN DAGScheduler: Broadcasting large task binary with size 1280.5 KiB\n",
      "22/10/19 12:28:54 WARN DAGScheduler: Broadcasting large task binary with size 1281.9 KiB\n",
      "22/10/19 12:28:54 WARN DAGScheduler: Broadcasting large task binary with size 1283.3 KiB\n",
      "22/10/19 12:28:54 WARN DAGScheduler: Broadcasting large task binary with size 1284.7 KiB\n",
      "22/10/19 12:28:54 WARN DAGScheduler: Broadcasting large task binary with size 1286.6 KiB\n",
      "22/10/19 12:28:54 WARN DAGScheduler: Broadcasting large task binary with size 1285.2 KiB\n",
      "22/10/19 12:28:54 WARN DAGScheduler: Broadcasting large task binary with size 1228.6 KiB\n",
      "22/10/19 12:28:54 WARN DAGScheduler: Broadcasting large task binary with size 1294.3 KiB\n",
      "22/10/19 12:28:55 WARN DAGScheduler: Broadcasting large task binary with size 1292.9 KiB\n"
     ]
    },
    {
     "name": "stderr",
     "output_type": "stream",
     "text": [
      "                                                                                \r"
     ]
    },
    {
     "name": "stdout",
     "output_type": "stream",
     "text": [
      "22/10/19 12:28:56 WARN DAGScheduler: Broadcasting large task binary with size 1355.9 KiB\n",
      "22/10/19 12:28:56 WARN DAGScheduler: Broadcasting large task binary with size 1237.5 KiB\n",
      "22/10/19 12:28:56 WARN DAGScheduler: Broadcasting large task binary with size 1238.9 KiB\n"
     ]
    },
    {
     "name": "stderr",
     "output_type": "stream",
     "text": [
      "[Stage 1822:=================================================>  (189 + 8) / 200]\r"
     ]
    },
    {
     "name": "stdout",
     "output_type": "stream",
     "text": [
      "22/10/19 12:28:58 WARN DAGScheduler: Broadcasting large task binary with size 1240.4 KiB\n"
     ]
    },
    {
     "name": "stderr",
     "output_type": "stream",
     "text": [
      "                                                                                \r"
     ]
    },
    {
     "name": "stdout",
     "output_type": "stream",
     "text": [
      "22/10/19 12:28:58 WARN DAGScheduler: Broadcasting large task binary with size 1241.7 KiB\n",
      "22/10/19 12:28:58 WARN DAGScheduler: Broadcasting large task binary with size 1240.7 KiB\n",
      "22/10/19 12:28:59 WARN DAGScheduler: Broadcasting large task binary with size 1242.0 KiB\n",
      "22/10/19 12:28:59 WARN DAGScheduler: Broadcasting large task binary with size 1242.7 KiB\n",
      "22/10/19 12:28:59 WARN DAGScheduler: Broadcasting large task binary with size 1245.8 KiB\n",
      "22/10/19 12:28:59 WARN DAGScheduler: Broadcasting large task binary with size 1247.2 KiB\n",
      "22/10/19 12:29:00 WARN DAGScheduler: Broadcasting large task binary with size 1248.6 KiB\n",
      "22/10/19 12:29:00 WARN DAGScheduler: Broadcasting large task binary with size 1250.0 KiB\n",
      "22/10/19 12:29:00 WARN DAGScheduler: Broadcasting large task binary with size 1251.4 KiB\n",
      "22/10/19 12:29:00 WARN DAGScheduler: Broadcasting large task binary with size 1252.8 KiB\n",
      "22/10/19 12:29:00 WARN DAGScheduler: Broadcasting large task binary with size 1254.2 KiB\n",
      "22/10/19 12:29:01 WARN DAGScheduler: Broadcasting large task binary with size 1255.6 KiB\n",
      "22/10/19 12:29:01 WARN DAGScheduler: Broadcasting large task binary with size 1256.9 KiB\n",
      "22/10/19 12:29:01 WARN DAGScheduler: Broadcasting large task binary with size 1258.3 KiB\n",
      "22/10/19 12:29:01 WARN DAGScheduler: Broadcasting large task binary with size 1259.7 KiB\n",
      "22/10/19 12:29:01 WARN DAGScheduler: Broadcasting large task binary with size 1261.1 KiB\n",
      "22/10/19 12:29:01 WARN DAGScheduler: Broadcasting large task binary with size 1262.5 KiB\n",
      "22/10/19 12:29:01 WARN DAGScheduler: Broadcasting large task binary with size 1263.9 KiB\n",
      "22/10/19 12:29:01 WARN DAGScheduler: Broadcasting large task binary with size 1265.3 KiB\n",
      "22/10/19 12:29:01 WARN DAGScheduler: Broadcasting large task binary with size 1266.6 KiB\n",
      "22/10/19 12:29:01 WARN DAGScheduler: Broadcasting large task binary with size 1268.0 KiB\n",
      "22/10/19 12:29:01 WARN DAGScheduler: Broadcasting large task binary with size 1269.4 KiB\n",
      "22/10/19 12:29:01 WARN DAGScheduler: Broadcasting large task binary with size 1270.8 KiB\n",
      "22/10/19 12:29:01 WARN DAGScheduler: Broadcasting large task binary with size 1272.2 KiB\n",
      "22/10/19 12:29:01 WARN DAGScheduler: Broadcasting large task binary with size 1273.6 KiB\n",
      "22/10/19 12:29:01 WARN DAGScheduler: Broadcasting large task binary with size 1275.0 KiB\n",
      "22/10/19 12:29:01 WARN DAGScheduler: Broadcasting large task binary with size 1276.4 KiB\n",
      "22/10/19 12:29:01 WARN DAGScheduler: Broadcasting large task binary with size 1277.7 KiB\n",
      "22/10/19 12:29:02 WARN DAGScheduler: Broadcasting large task binary with size 1279.1 KiB\n",
      "22/10/19 12:29:02 WARN DAGScheduler: Broadcasting large task binary with size 1280.5 KiB\n",
      "22/10/19 12:29:02 WARN DAGScheduler: Broadcasting large task binary with size 1281.9 KiB\n",
      "22/10/19 12:29:02 WARN DAGScheduler: Broadcasting large task binary with size 1283.3 KiB\n",
      "22/10/19 12:29:02 WARN DAGScheduler: Broadcasting large task binary with size 1284.7 KiB\n",
      "22/10/19 12:29:02 WARN DAGScheduler: Broadcasting large task binary with size 1286.6 KiB\n",
      "22/10/19 12:29:02 WARN DAGScheduler: Broadcasting large task binary with size 1285.2 KiB\n",
      "22/10/19 12:29:03 WARN DAGScheduler: Broadcasting large task binary with size 1228.6 KiB\n",
      "22/10/19 12:29:03 WARN DAGScheduler: Broadcasting large task binary with size 1294.3 KiB\n",
      "22/10/19 12:29:03 WARN DAGScheduler: Broadcasting large task binary with size 1292.9 KiB\n"
     ]
    },
    {
     "name": "stderr",
     "output_type": "stream",
     "text": [
      "                                                                                \r"
     ]
    },
    {
     "name": "stdout",
     "output_type": "stream",
     "text": [
      "22/10/19 12:29:04 WARN DAGScheduler: Broadcasting large task binary with size 1355.9 KiB\n",
      "22/10/19 12:29:05 WARN DAGScheduler: Broadcasting large task binary with size 1237.5 KiB\n",
      "22/10/19 12:29:05 WARN DAGScheduler: Broadcasting large task binary with size 1238.9 KiB\n"
     ]
    },
    {
     "name": "stderr",
     "output_type": "stream",
     "text": [
      "[Stage 1947:==================================================> (193 + 7) / 200]\r"
     ]
    },
    {
     "name": "stdout",
     "output_type": "stream",
     "text": [
      "22/10/19 12:29:06 WARN DAGScheduler: Broadcasting large task binary with size 1240.4 KiB\n"
     ]
    },
    {
     "name": "stderr",
     "output_type": "stream",
     "text": [
      "                                                                                \r"
     ]
    },
    {
     "name": "stdout",
     "output_type": "stream",
     "text": [
      "22/10/19 12:29:07 WARN DAGScheduler: Broadcasting large task binary with size 1241.7 KiB\n",
      "22/10/19 12:29:07 WARN DAGScheduler: Broadcasting large task binary with size 1240.7 KiB\n",
      "22/10/19 12:29:07 WARN DAGScheduler: Broadcasting large task binary with size 1242.0 KiB\n",
      "22/10/19 12:29:08 WARN DAGScheduler: Broadcasting large task binary with size 1242.7 KiB\n",
      "22/10/19 12:29:08 WARN DAGScheduler: Broadcasting large task binary with size 1245.8 KiB\n",
      "22/10/19 12:29:08 WARN DAGScheduler: Broadcasting large task binary with size 1247.2 KiB\n",
      "22/10/19 12:29:08 WARN DAGScheduler: Broadcasting large task binary with size 1248.6 KiB\n",
      "22/10/19 12:29:08 WARN DAGScheduler: Broadcasting large task binary with size 1250.0 KiB\n",
      "22/10/19 12:29:08 WARN DAGScheduler: Broadcasting large task binary with size 1251.4 KiB\n",
      "22/10/19 12:29:08 WARN DAGScheduler: Broadcasting large task binary with size 1252.8 KiB\n",
      "22/10/19 12:29:08 WARN DAGScheduler: Broadcasting large task binary with size 1254.2 KiB\n",
      "22/10/19 12:29:08 WARN DAGScheduler: Broadcasting large task binary with size 1255.6 KiB\n",
      "22/10/19 12:29:08 WARN DAGScheduler: Broadcasting large task binary with size 1256.9 KiB\n",
      "22/10/19 12:29:08 WARN DAGScheduler: Broadcasting large task binary with size 1258.3 KiB\n",
      "22/10/19 12:29:08 WARN DAGScheduler: Broadcasting large task binary with size 1259.7 KiB\n",
      "22/10/19 12:29:08 WARN DAGScheduler: Broadcasting large task binary with size 1261.1 KiB\n",
      "22/10/19 12:29:08 WARN DAGScheduler: Broadcasting large task binary with size 1262.5 KiB\n",
      "22/10/19 12:29:08 WARN DAGScheduler: Broadcasting large task binary with size 1263.9 KiB\n",
      "22/10/19 12:29:08 WARN DAGScheduler: Broadcasting large task binary with size 1265.3 KiB\n",
      "22/10/19 12:29:09 WARN DAGScheduler: Broadcasting large task binary with size 1266.6 KiB\n",
      "22/10/19 12:29:09 WARN DAGScheduler: Broadcasting large task binary with size 1268.0 KiB\n",
      "22/10/19 12:29:09 WARN DAGScheduler: Broadcasting large task binary with size 1269.4 KiB\n",
      "22/10/19 12:29:09 WARN DAGScheduler: Broadcasting large task binary with size 1270.8 KiB\n",
      "22/10/19 12:29:09 WARN DAGScheduler: Broadcasting large task binary with size 1272.2 KiB\n",
      "22/10/19 12:29:09 WARN DAGScheduler: Broadcasting large task binary with size 1273.6 KiB\n",
      "22/10/19 12:29:09 WARN DAGScheduler: Broadcasting large task binary with size 1275.0 KiB\n",
      "22/10/19 12:29:09 WARN DAGScheduler: Broadcasting large task binary with size 1276.4 KiB\n",
      "22/10/19 12:29:09 WARN DAGScheduler: Broadcasting large task binary with size 1277.7 KiB\n",
      "22/10/19 12:29:09 WARN DAGScheduler: Broadcasting large task binary with size 1279.1 KiB\n",
      "22/10/19 12:29:09 WARN DAGScheduler: Broadcasting large task binary with size 1280.5 KiB\n",
      "22/10/19 12:29:09 WARN DAGScheduler: Broadcasting large task binary with size 1281.9 KiB\n",
      "22/10/19 12:29:09 WARN DAGScheduler: Broadcasting large task binary with size 1283.3 KiB\n",
      "22/10/19 12:29:09 WARN DAGScheduler: Broadcasting large task binary with size 1284.7 KiB\n",
      "22/10/19 12:29:09 WARN DAGScheduler: Broadcasting large task binary with size 1286.6 KiB\n",
      "22/10/19 12:29:09 WARN DAGScheduler: Broadcasting large task binary with size 1285.2 KiB\n",
      "22/10/19 12:29:10 WARN DAGScheduler: Broadcasting large task binary with size 1228.6 KiB\n",
      "22/10/19 12:29:10 WARN DAGScheduler: Broadcasting large task binary with size 1294.3 KiB\n",
      "22/10/19 12:29:10 WARN DAGScheduler: Broadcasting large task binary with size 1292.9 KiB\n"
     ]
    },
    {
     "name": "stderr",
     "output_type": "stream",
     "text": [
      "                                                                                \r"
     ]
    },
    {
     "name": "stdout",
     "output_type": "stream",
     "text": [
      "22/10/19 12:29:12 WARN DAGScheduler: Broadcasting large task binary with size 1355.9 KiB\n",
      "22/10/19 12:29:12 WARN DAGScheduler: Broadcasting large task binary with size 1237.5 KiB\n",
      "22/10/19 12:29:12 WARN DAGScheduler: Broadcasting large task binary with size 1238.9 KiB\n"
     ]
    },
    {
     "name": "stderr",
     "output_type": "stream",
     "text": [
      "[Stage 2105:==============================================>     (180 + 8) / 200]\r"
     ]
    },
    {
     "name": "stdout",
     "output_type": "stream",
     "text": [
      "22/10/19 12:29:13 WARN DAGScheduler: Broadcasting large task binary with size 1240.4 KiB\n"
     ]
    },
    {
     "name": "stderr",
     "output_type": "stream",
     "text": [
      "                                                                                \r"
     ]
    },
    {
     "name": "stdout",
     "output_type": "stream",
     "text": [
      "22/10/19 12:29:14 WARN DAGScheduler: Broadcasting large task binary with size 1241.7 KiB\n",
      "22/10/19 12:29:14 WARN DAGScheduler: Broadcasting large task binary with size 1240.7 KiB\n",
      "22/10/19 12:29:14 WARN DAGScheduler: Broadcasting large task binary with size 1242.0 KiB\n",
      "22/10/19 12:29:15 WARN DAGScheduler: Broadcasting large task binary with size 1242.7 KiB\n",
      "22/10/19 12:29:15 WARN DAGScheduler: Broadcasting large task binary with size 1245.8 KiB\n",
      "22/10/19 12:29:15 WARN DAGScheduler: Broadcasting large task binary with size 1247.2 KiB\n",
      "22/10/19 12:29:15 WARN DAGScheduler: Broadcasting large task binary with size 1248.6 KiB\n",
      "22/10/19 12:29:15 WARN DAGScheduler: Broadcasting large task binary with size 1250.0 KiB\n",
      "22/10/19 12:29:15 WARN DAGScheduler: Broadcasting large task binary with size 1251.4 KiB\n",
      "22/10/19 12:29:15 WARN DAGScheduler: Broadcasting large task binary with size 1252.8 KiB\n",
      "22/10/19 12:29:15 WARN DAGScheduler: Broadcasting large task binary with size 1254.2 KiB\n",
      "22/10/19 12:29:15 WARN DAGScheduler: Broadcasting large task binary with size 1255.6 KiB\n",
      "22/10/19 12:29:15 WARN DAGScheduler: Broadcasting large task binary with size 1256.9 KiB\n",
      "22/10/19 12:29:15 WARN DAGScheduler: Broadcasting large task binary with size 1258.9 KiB\n",
      "22/10/19 12:29:15 WARN DAGScheduler: Broadcasting large task binary with size 1257.5 KiB\n",
      "22/10/19 12:29:16 WARN DAGScheduler: Broadcasting large task binary with size 1228.6 KiB\n",
      "22/10/19 12:29:16 WARN DAGScheduler: Broadcasting large task binary with size 1266.5 KiB\n",
      "22/10/19 12:29:16 WARN DAGScheduler: Broadcasting large task binary with size 1265.1 KiB\n"
     ]
    },
    {
     "name": "stderr",
     "output_type": "stream",
     "text": [
      "                                                                                \r"
     ]
    },
    {
     "name": "stdout",
     "output_type": "stream",
     "text": [
      "22/10/19 12:29:17 WARN DAGScheduler: Broadcasting large task binary with size 1328.2 KiB\n",
      "22/10/19 12:29:18 WARN DAGScheduler: Broadcasting large task binary with size 1237.5 KiB\n",
      "22/10/19 12:29:18 WARN DAGScheduler: Broadcasting large task binary with size 1238.9 KiB\n"
     ]
    },
    {
     "name": "stderr",
     "output_type": "stream",
     "text": [
      "[Stage 2170:============================================>       (170 + 9) / 200]\r"
     ]
    },
    {
     "name": "stdout",
     "output_type": "stream",
     "text": [
      "22/10/19 12:29:19 WARN DAGScheduler: Broadcasting large task binary with size 1240.4 KiB\n",
      "22/10/19 12:29:20 WARN DAGScheduler: Broadcasting large task binary with size 1241.7 KiB\n",
      "22/10/19 12:29:20 WARN DAGScheduler: Broadcasting large task binary with size 1240.7 KiB\n"
     ]
    },
    {
     "name": "stderr",
     "output_type": "stream",
     "text": [
      "                                                                                \r"
     ]
    },
    {
     "name": "stdout",
     "output_type": "stream",
     "text": [
      "22/10/19 12:29:20 WARN DAGScheduler: Broadcasting large task binary with size 1242.0 KiB\n",
      "22/10/19 12:29:20 WARN DAGScheduler: Broadcasting large task binary with size 1242.7 KiB\n",
      "22/10/19 12:29:20 WARN DAGScheduler: Broadcasting large task binary with size 1245.8 KiB\n",
      "22/10/19 12:29:20 WARN DAGScheduler: Broadcasting large task binary with size 1247.2 KiB\n",
      "22/10/19 12:29:20 WARN DAGScheduler: Broadcasting large task binary with size 1248.6 KiB\n",
      "22/10/19 12:29:21 WARN DAGScheduler: Broadcasting large task binary with size 1250.0 KiB\n",
      "22/10/19 12:29:21 WARN DAGScheduler: Broadcasting large task binary with size 1251.4 KiB\n",
      "22/10/19 12:29:21 WARN DAGScheduler: Broadcasting large task binary with size 1252.8 KiB\n",
      "22/10/19 12:29:21 WARN DAGScheduler: Broadcasting large task binary with size 1254.2 KiB\n",
      "22/10/19 12:29:21 WARN DAGScheduler: Broadcasting large task binary with size 1255.6 KiB\n",
      "22/10/19 12:29:21 WARN DAGScheduler: Broadcasting large task binary with size 1256.9 KiB\n",
      "22/10/19 12:29:21 WARN DAGScheduler: Broadcasting large task binary with size 1258.9 KiB\n",
      "22/10/19 12:29:21 WARN DAGScheduler: Broadcasting large task binary with size 1257.5 KiB\n",
      "22/10/19 12:29:21 WARN DAGScheduler: Broadcasting large task binary with size 1228.6 KiB\n",
      "22/10/19 12:29:22 WARN DAGScheduler: Broadcasting large task binary with size 1266.5 KiB\n",
      "22/10/19 12:29:22 WARN DAGScheduler: Broadcasting large task binary with size 1265.1 KiB\n"
     ]
    },
    {
     "name": "stderr",
     "output_type": "stream",
     "text": [
      "                                                                                \r"
     ]
    },
    {
     "name": "stdout",
     "output_type": "stream",
     "text": [
      "22/10/19 12:29:24 WARN DAGScheduler: Broadcasting large task binary with size 1328.2 KiB\n",
      "22/10/19 12:29:25 WARN DAGScheduler: Broadcasting large task binary with size 1237.5 KiB\n",
      "22/10/19 12:29:25 WARN DAGScheduler: Broadcasting large task binary with size 1238.9 KiB\n"
     ]
    },
    {
     "name": "stderr",
     "output_type": "stream",
     "text": [
      "[Stage 2248:==========================================>         (163 + 8) / 200]\r"
     ]
    },
    {
     "name": "stdout",
     "output_type": "stream",
     "text": [
      "22/10/19 12:29:26 WARN DAGScheduler: Broadcasting large task binary with size 1240.4 KiB\n"
     ]
    },
    {
     "name": "stderr",
     "output_type": "stream",
     "text": [
      "                                                                                \r"
     ]
    },
    {
     "name": "stdout",
     "output_type": "stream",
     "text": [
      "22/10/19 12:29:26 WARN DAGScheduler: Broadcasting large task binary with size 1241.7 KiB\n",
      "22/10/19 12:29:27 WARN DAGScheduler: Broadcasting large task binary with size 1240.7 KiB\n",
      "22/10/19 12:29:27 WARN DAGScheduler: Broadcasting large task binary with size 1242.0 KiB\n",
      "22/10/19 12:29:27 WARN DAGScheduler: Broadcasting large task binary with size 1242.7 KiB\n",
      "22/10/19 12:29:27 WARN DAGScheduler: Broadcasting large task binary with size 1245.8 KiB\n",
      "22/10/19 12:29:27 WARN DAGScheduler: Broadcasting large task binary with size 1247.2 KiB\n",
      "22/10/19 12:29:27 WARN DAGScheduler: Broadcasting large task binary with size 1248.6 KiB\n",
      "22/10/19 12:29:27 WARN DAGScheduler: Broadcasting large task binary with size 1250.0 KiB\n",
      "22/10/19 12:29:28 WARN DAGScheduler: Broadcasting large task binary with size 1251.4 KiB\n",
      "22/10/19 12:29:28 WARN DAGScheduler: Broadcasting large task binary with size 1252.8 KiB\n",
      "22/10/19 12:29:28 WARN DAGScheduler: Broadcasting large task binary with size 1254.2 KiB\n",
      "22/10/19 12:29:28 WARN DAGScheduler: Broadcasting large task binary with size 1255.6 KiB\n",
      "22/10/19 12:29:28 WARN DAGScheduler: Broadcasting large task binary with size 1256.9 KiB\n",
      "22/10/19 12:29:28 WARN DAGScheduler: Broadcasting large task binary with size 1258.9 KiB\n",
      "22/10/19 12:29:28 WARN DAGScheduler: Broadcasting large task binary with size 1257.5 KiB\n",
      "22/10/19 12:29:28 WARN DAGScheduler: Broadcasting large task binary with size 1228.6 KiB\n",
      "22/10/19 12:29:28 WARN DAGScheduler: Broadcasting large task binary with size 1266.5 KiB\n",
      "22/10/19 12:29:28 WARN DAGScheduler: Broadcasting large task binary with size 1265.1 KiB\n"
     ]
    },
    {
     "name": "stderr",
     "output_type": "stream",
     "text": [
      "                                                                                \r"
     ]
    },
    {
     "name": "stdout",
     "output_type": "stream",
     "text": [
      "22/10/19 12:29:30 WARN DAGScheduler: Broadcasting large task binary with size 1328.2 KiB\n",
      "22/10/19 12:29:30 WARN DAGScheduler: Broadcasting large task binary with size 1237.5 KiB\n",
      "22/10/19 12:29:30 WARN DAGScheduler: Broadcasting large task binary with size 1238.9 KiB\n"
     ]
    },
    {
     "name": "stderr",
     "output_type": "stream",
     "text": [
      "[Stage 2313:==================================================> (196 + 4) / 200]\r"
     ]
    },
    {
     "name": "stdout",
     "output_type": "stream",
     "text": [
      "22/10/19 12:29:31 WARN DAGScheduler: Broadcasting large task binary with size 1240.4 KiB\n"
     ]
    },
    {
     "name": "stderr",
     "output_type": "stream",
     "text": [
      "                                                                                \r"
     ]
    },
    {
     "name": "stdout",
     "output_type": "stream",
     "text": [
      "22/10/19 12:29:32 WARN DAGScheduler: Broadcasting large task binary with size 1241.7 KiB\n",
      "22/10/19 12:29:32 WARN DAGScheduler: Broadcasting large task binary with size 1240.7 KiB\n",
      "22/10/19 12:29:33 WARN DAGScheduler: Broadcasting large task binary with size 1242.0 KiB\n",
      "22/10/19 12:29:33 WARN DAGScheduler: Broadcasting large task binary with size 1242.7 KiB\n",
      "22/10/19 12:29:33 WARN DAGScheduler: Broadcasting large task binary with size 1245.8 KiB\n",
      "22/10/19 12:29:33 WARN DAGScheduler: Broadcasting large task binary with size 1247.2 KiB\n",
      "22/10/19 12:29:33 WARN DAGScheduler: Broadcasting large task binary with size 1248.6 KiB\n",
      "22/10/19 12:29:33 WARN DAGScheduler: Broadcasting large task binary with size 1250.0 KiB\n",
      "22/10/19 12:29:33 WARN DAGScheduler: Broadcasting large task binary with size 1251.4 KiB\n",
      "22/10/19 12:29:33 WARN DAGScheduler: Broadcasting large task binary with size 1252.8 KiB\n",
      "22/10/19 12:29:33 WARN DAGScheduler: Broadcasting large task binary with size 1254.2 KiB\n",
      "22/10/19 12:29:33 WARN DAGScheduler: Broadcasting large task binary with size 1255.6 KiB\n",
      "22/10/19 12:29:33 WARN DAGScheduler: Broadcasting large task binary with size 1256.9 KiB\n",
      "22/10/19 12:29:33 WARN DAGScheduler: Broadcasting large task binary with size 1258.3 KiB\n",
      "22/10/19 12:29:33 WARN DAGScheduler: Broadcasting large task binary with size 1259.7 KiB\n",
      "22/10/19 12:29:33 WARN DAGScheduler: Broadcasting large task binary with size 1261.1 KiB\n",
      "22/10/19 12:29:34 WARN DAGScheduler: Broadcasting large task binary with size 1262.5 KiB\n",
      "22/10/19 12:29:34 WARN DAGScheduler: Broadcasting large task binary with size 1263.9 KiB\n",
      "22/10/19 12:29:34 WARN DAGScheduler: Broadcasting large task binary with size 1265.3 KiB\n",
      "22/10/19 12:29:34 WARN DAGScheduler: Broadcasting large task binary with size 1266.6 KiB\n",
      "22/10/19 12:29:34 WARN DAGScheduler: Broadcasting large task binary with size 1268.0 KiB\n",
      "22/10/19 12:29:34 WARN DAGScheduler: Broadcasting large task binary with size 1269.4 KiB\n",
      "22/10/19 12:29:34 WARN DAGScheduler: Broadcasting large task binary with size 1270.8 KiB\n",
      "22/10/19 12:29:34 WARN DAGScheduler: Broadcasting large task binary with size 1272.8 KiB\n",
      "22/10/19 12:29:34 WARN DAGScheduler: Broadcasting large task binary with size 1271.4 KiB\n",
      "22/10/19 12:29:34 WARN DAGScheduler: Broadcasting large task binary with size 1228.6 KiB\n",
      "22/10/19 12:29:35 WARN DAGScheduler: Broadcasting large task binary with size 1280.4 KiB\n",
      "22/10/19 12:29:35 WARN DAGScheduler: Broadcasting large task binary with size 1279.0 KiB\n"
     ]
    },
    {
     "name": "stderr",
     "output_type": "stream",
     "text": [
      "                                                                                \r"
     ]
    },
    {
     "name": "stdout",
     "output_type": "stream",
     "text": [
      "22/10/19 12:29:36 WARN DAGScheduler: Broadcasting large task binary with size 1342.0 KiB\n",
      "22/10/19 12:29:37 WARN DAGScheduler: Broadcasting large task binary with size 1237.5 KiB\n",
      "22/10/19 12:29:37 WARN DAGScheduler: Broadcasting large task binary with size 1238.9 KiB\n"
     ]
    },
    {
     "name": "stderr",
     "output_type": "stream",
     "text": [
      "[Stage 2408:============================================>       (171 + 8) / 200]\r"
     ]
    },
    {
     "name": "stdout",
     "output_type": "stream",
     "text": [
      "22/10/19 12:29:38 WARN DAGScheduler: Broadcasting large task binary with size 1240.4 KiB\n",
      "22/10/19 12:29:39 WARN DAGScheduler: Broadcasting large task binary with size 1241.7 KiB\n",
      "22/10/19 12:29:39 WARN DAGScheduler: Broadcasting large task binary with size 1240.7 KiB\n"
     ]
    },
    {
     "name": "stderr",
     "output_type": "stream",
     "text": [
      "                                                                                \r"
     ]
    },
    {
     "name": "stdout",
     "output_type": "stream",
     "text": [
      "22/10/19 12:29:39 WARN DAGScheduler: Broadcasting large task binary with size 1242.0 KiB\n",
      "22/10/19 12:29:39 WARN DAGScheduler: Broadcasting large task binary with size 1242.7 KiB\n",
      "22/10/19 12:29:39 WARN DAGScheduler: Broadcasting large task binary with size 1245.8 KiB\n",
      "22/10/19 12:29:39 WARN DAGScheduler: Broadcasting large task binary with size 1247.2 KiB\n",
      "22/10/19 12:29:39 WARN DAGScheduler: Broadcasting large task binary with size 1248.6 KiB\n",
      "22/10/19 12:29:40 WARN DAGScheduler: Broadcasting large task binary with size 1250.0 KiB\n",
      "22/10/19 12:29:40 WARN DAGScheduler: Broadcasting large task binary with size 1251.4 KiB\n",
      "22/10/19 12:29:40 WARN DAGScheduler: Broadcasting large task binary with size 1252.8 KiB\n",
      "22/10/19 12:29:40 WARN DAGScheduler: Broadcasting large task binary with size 1254.2 KiB\n",
      "22/10/19 12:29:40 WARN DAGScheduler: Broadcasting large task binary with size 1255.6 KiB\n",
      "22/10/19 12:29:40 WARN DAGScheduler: Broadcasting large task binary with size 1256.9 KiB\n",
      "22/10/19 12:29:40 WARN DAGScheduler: Broadcasting large task binary with size 1258.3 KiB\n",
      "22/10/19 12:29:40 WARN DAGScheduler: Broadcasting large task binary with size 1259.7 KiB\n",
      "22/10/19 12:29:40 WARN DAGScheduler: Broadcasting large task binary with size 1261.1 KiB\n",
      "22/10/19 12:29:40 WARN DAGScheduler: Broadcasting large task binary with size 1262.5 KiB\n",
      "22/10/19 12:29:40 WARN DAGScheduler: Broadcasting large task binary with size 1263.9 KiB\n",
      "22/10/19 12:29:40 WARN DAGScheduler: Broadcasting large task binary with size 1265.3 KiB\n",
      "22/10/19 12:29:40 WARN DAGScheduler: Broadcasting large task binary with size 1266.6 KiB\n",
      "22/10/19 12:29:40 WARN DAGScheduler: Broadcasting large task binary with size 1268.0 KiB\n",
      "22/10/19 12:29:40 WARN DAGScheduler: Broadcasting large task binary with size 1269.4 KiB\n",
      "22/10/19 12:29:40 WARN DAGScheduler: Broadcasting large task binary with size 1270.8 KiB\n",
      "22/10/19 12:29:41 WARN DAGScheduler: Broadcasting large task binary with size 1272.8 KiB\n",
      "22/10/19 12:29:41 WARN DAGScheduler: Broadcasting large task binary with size 1271.4 KiB\n",
      "22/10/19 12:29:41 WARN DAGScheduler: Broadcasting large task binary with size 1228.6 KiB\n",
      "22/10/19 12:29:41 WARN DAGScheduler: Broadcasting large task binary with size 1280.4 KiB\n",
      "22/10/19 12:29:41 WARN DAGScheduler: Broadcasting large task binary with size 1279.0 KiB\n"
     ]
    },
    {
     "name": "stderr",
     "output_type": "stream",
     "text": [
      "                                                                                \r"
     ]
    },
    {
     "name": "stdout",
     "output_type": "stream",
     "text": [
      "22/10/19 12:29:43 WARN DAGScheduler: Broadcasting large task binary with size 1342.0 KiB\n",
      "22/10/19 12:29:44 WARN DAGScheduler: Broadcasting large task binary with size 1237.5 KiB\n",
      "22/10/19 12:29:44 WARN DAGScheduler: Broadcasting large task binary with size 1238.9 KiB\n"
     ]
    },
    {
     "name": "stderr",
     "output_type": "stream",
     "text": [
      "[Stage 2526:===============================================>    (181 + 9) / 200]\r"
     ]
    },
    {
     "name": "stdout",
     "output_type": "stream",
     "text": [
      "22/10/19 12:29:45 WARN DAGScheduler: Broadcasting large task binary with size 1240.4 KiB\n"
     ]
    },
    {
     "name": "stderr",
     "output_type": "stream",
     "text": [
      "                                                                                \r"
     ]
    },
    {
     "name": "stdout",
     "output_type": "stream",
     "text": [
      "22/10/19 12:29:46 WARN DAGScheduler: Broadcasting large task binary with size 1241.7 KiB\n",
      "22/10/19 12:29:46 WARN DAGScheduler: Broadcasting large task binary with size 1240.7 KiB\n",
      "22/10/19 12:29:47 WARN DAGScheduler: Broadcasting large task binary with size 1242.0 KiB\n",
      "22/10/19 12:29:47 WARN DAGScheduler: Broadcasting large task binary with size 1242.7 KiB\n",
      "22/10/19 12:29:47 WARN DAGScheduler: Broadcasting large task binary with size 1245.8 KiB\n",
      "22/10/19 12:29:47 WARN DAGScheduler: Broadcasting large task binary with size 1247.2 KiB\n",
      "22/10/19 12:29:47 WARN DAGScheduler: Broadcasting large task binary with size 1248.6 KiB\n",
      "22/10/19 12:29:47 WARN DAGScheduler: Broadcasting large task binary with size 1250.0 KiB\n",
      "22/10/19 12:29:47 WARN DAGScheduler: Broadcasting large task binary with size 1251.4 KiB\n",
      "22/10/19 12:29:47 WARN DAGScheduler: Broadcasting large task binary with size 1252.8 KiB\n",
      "22/10/19 12:29:47 WARN DAGScheduler: Broadcasting large task binary with size 1254.2 KiB\n",
      "22/10/19 12:29:47 WARN DAGScheduler: Broadcasting large task binary with size 1255.6 KiB\n",
      "22/10/19 12:29:47 WARN DAGScheduler: Broadcasting large task binary with size 1256.9 KiB\n",
      "22/10/19 12:29:47 WARN DAGScheduler: Broadcasting large task binary with size 1258.3 KiB\n",
      "22/10/19 12:29:47 WARN DAGScheduler: Broadcasting large task binary with size 1259.7 KiB\n",
      "22/10/19 12:29:47 WARN DAGScheduler: Broadcasting large task binary with size 1261.1 KiB\n",
      "22/10/19 12:29:48 WARN DAGScheduler: Broadcasting large task binary with size 1262.5 KiB\n",
      "22/10/19 12:29:48 WARN DAGScheduler: Broadcasting large task binary with size 1263.9 KiB\n",
      "22/10/19 12:29:48 WARN DAGScheduler: Broadcasting large task binary with size 1265.3 KiB\n",
      "22/10/19 12:29:48 WARN DAGScheduler: Broadcasting large task binary with size 1266.6 KiB\n",
      "22/10/19 12:29:48 WARN DAGScheduler: Broadcasting large task binary with size 1268.0 KiB\n",
      "22/10/19 12:29:48 WARN DAGScheduler: Broadcasting large task binary with size 1269.4 KiB\n",
      "22/10/19 12:29:48 WARN DAGScheduler: Broadcasting large task binary with size 1270.8 KiB\n",
      "22/10/19 12:29:48 WARN DAGScheduler: Broadcasting large task binary with size 1272.8 KiB\n",
      "22/10/19 12:29:48 WARN DAGScheduler: Broadcasting large task binary with size 1271.4 KiB\n",
      "22/10/19 12:29:49 WARN DAGScheduler: Broadcasting large task binary with size 1228.6 KiB\n",
      "22/10/19 12:29:49 WARN DAGScheduler: Broadcasting large task binary with size 1280.4 KiB\n",
      "22/10/19 12:29:49 WARN DAGScheduler: Broadcasting large task binary with size 1279.0 KiB\n"
     ]
    },
    {
     "name": "stderr",
     "output_type": "stream",
     "text": [
      "                                                                                \r"
     ]
    },
    {
     "name": "stdout",
     "output_type": "stream",
     "text": [
      "22/10/19 12:29:50 WARN DAGScheduler: Broadcasting large task binary with size 1342.0 KiB\n",
      "22/10/19 12:29:51 WARN DAGScheduler: Broadcasting large task binary with size 1237.5 KiB\n",
      "22/10/19 12:29:51 WARN DAGScheduler: Broadcasting large task binary with size 1238.9 KiB\n"
     ]
    },
    {
     "name": "stderr",
     "output_type": "stream",
     "text": [
      "[Stage 2621:=============================================>      (174 + 8) / 200]\r"
     ]
    },
    {
     "name": "stdout",
     "output_type": "stream",
     "text": [
      "22/10/19 12:29:52 WARN DAGScheduler: Broadcasting large task binary with size 1240.4 KiB\n",
      "22/10/19 12:29:53 WARN DAGScheduler: Broadcasting large task binary with size 1241.7 KiB\n",
      "22/10/19 12:29:53 WARN DAGScheduler: Broadcasting large task binary with size 1240.7 KiB\n"
     ]
    },
    {
     "name": "stderr",
     "output_type": "stream",
     "text": [
      "                                                                                \r"
     ]
    },
    {
     "name": "stdout",
     "output_type": "stream",
     "text": [
      "22/10/19 12:29:53 WARN DAGScheduler: Broadcasting large task binary with size 1242.0 KiB\n",
      "22/10/19 12:29:53 WARN DAGScheduler: Broadcasting large task binary with size 1242.7 KiB\n",
      "22/10/19 12:29:54 WARN DAGScheduler: Broadcasting large task binary with size 1245.8 KiB\n",
      "22/10/19 12:29:54 WARN DAGScheduler: Broadcasting large task binary with size 1247.2 KiB\n",
      "22/10/19 12:29:54 WARN DAGScheduler: Broadcasting large task binary with size 1248.6 KiB\n",
      "22/10/19 12:29:54 WARN DAGScheduler: Broadcasting large task binary with size 1250.0 KiB\n",
      "22/10/19 12:29:54 WARN DAGScheduler: Broadcasting large task binary with size 1251.4 KiB\n",
      "22/10/19 12:29:54 WARN DAGScheduler: Broadcasting large task binary with size 1252.8 KiB\n",
      "22/10/19 12:29:54 WARN DAGScheduler: Broadcasting large task binary with size 1254.2 KiB\n",
      "22/10/19 12:29:54 WARN DAGScheduler: Broadcasting large task binary with size 1255.6 KiB\n",
      "22/10/19 12:29:54 WARN DAGScheduler: Broadcasting large task binary with size 1256.9 KiB\n",
      "22/10/19 12:29:54 WARN DAGScheduler: Broadcasting large task binary with size 1258.3 KiB\n",
      "22/10/19 12:29:54 WARN DAGScheduler: Broadcasting large task binary with size 1259.7 KiB\n",
      "22/10/19 12:29:54 WARN DAGScheduler: Broadcasting large task binary with size 1261.1 KiB\n",
      "22/10/19 12:29:54 WARN DAGScheduler: Broadcasting large task binary with size 1262.5 KiB\n",
      "22/10/19 12:29:54 WARN DAGScheduler: Broadcasting large task binary with size 1263.9 KiB\n",
      "22/10/19 12:29:54 WARN DAGScheduler: Broadcasting large task binary with size 1265.3 KiB\n",
      "22/10/19 12:29:54 WARN DAGScheduler: Broadcasting large task binary with size 1266.6 KiB\n",
      "22/10/19 12:29:55 WARN DAGScheduler: Broadcasting large task binary with size 1268.0 KiB\n",
      "22/10/19 12:29:55 WARN DAGScheduler: Broadcasting large task binary with size 1269.4 KiB\n",
      "22/10/19 12:29:55 WARN DAGScheduler: Broadcasting large task binary with size 1270.8 KiB\n",
      "22/10/19 12:29:55 WARN DAGScheduler: Broadcasting large task binary with size 1272.2 KiB\n",
      "22/10/19 12:29:55 WARN DAGScheduler: Broadcasting large task binary with size 1273.6 KiB\n",
      "22/10/19 12:29:55 WARN DAGScheduler: Broadcasting large task binary with size 1275.0 KiB\n",
      "22/10/19 12:29:55 WARN DAGScheduler: Broadcasting large task binary with size 1276.4 KiB\n",
      "22/10/19 12:29:55 WARN DAGScheduler: Broadcasting large task binary with size 1277.7 KiB\n",
      "22/10/19 12:29:55 WARN DAGScheduler: Broadcasting large task binary with size 1279.1 KiB\n",
      "22/10/19 12:29:55 WARN DAGScheduler: Broadcasting large task binary with size 1280.5 KiB\n",
      "22/10/19 12:29:55 WARN DAGScheduler: Broadcasting large task binary with size 1281.9 KiB\n",
      "22/10/19 12:29:55 WARN DAGScheduler: Broadcasting large task binary with size 1283.3 KiB\n",
      "22/10/19 12:29:55 WARN DAGScheduler: Broadcasting large task binary with size 1284.7 KiB\n",
      "22/10/19 12:29:55 WARN DAGScheduler: Broadcasting large task binary with size 1286.6 KiB\n",
      "22/10/19 12:29:55 WARN DAGScheduler: Broadcasting large task binary with size 1285.2 KiB\n",
      "22/10/19 12:29:56 WARN DAGScheduler: Broadcasting large task binary with size 1228.6 KiB\n",
      "22/10/19 12:29:56 WARN DAGScheduler: Broadcasting large task binary with size 1294.3 KiB\n",
      "22/10/19 12:29:56 WARN DAGScheduler: Broadcasting large task binary with size 1292.9 KiB\n"
     ]
    },
    {
     "name": "stderr",
     "output_type": "stream",
     "text": [
      "                                                                                \r"
     ]
    },
    {
     "name": "stdout",
     "output_type": "stream",
     "text": [
      "22/10/19 12:29:58 WARN DAGScheduler: Broadcasting large task binary with size 1355.9 KiB\n",
      "22/10/19 12:29:59 WARN DAGScheduler: Broadcasting large task binary with size 1237.5 KiB\n",
      "22/10/19 12:29:59 WARN DAGScheduler: Broadcasting large task binary with size 1238.9 KiB\n"
     ]
    },
    {
     "name": "stderr",
     "output_type": "stream",
     "text": [
      "[Stage 2779:============================================>       (172 + 8) / 200]\r"
     ]
    },
    {
     "name": "stdout",
     "output_type": "stream",
     "text": [
      "22/10/19 12:30:00 WARN DAGScheduler: Broadcasting large task binary with size 1240.4 KiB\n",
      "22/10/19 12:30:01 WARN DAGScheduler: Broadcasting large task binary with size 1241.7 KiB\n",
      "22/10/19 12:30:01 WARN DAGScheduler: Broadcasting large task binary with size 1240.7 KiB\n"
     ]
    },
    {
     "name": "stderr",
     "output_type": "stream",
     "text": [
      "                                                                                \r"
     ]
    },
    {
     "name": "stdout",
     "output_type": "stream",
     "text": [
      "22/10/19 12:30:01 WARN DAGScheduler: Broadcasting large task binary with size 1242.0 KiB\n",
      "22/10/19 12:30:02 WARN DAGScheduler: Broadcasting large task binary with size 1242.7 KiB\n",
      "22/10/19 12:30:02 WARN DAGScheduler: Broadcasting large task binary with size 1245.8 KiB\n",
      "22/10/19 12:30:02 WARN DAGScheduler: Broadcasting large task binary with size 1247.2 KiB\n",
      "22/10/19 12:30:02 WARN DAGScheduler: Broadcasting large task binary with size 1248.6 KiB\n",
      "22/10/19 12:30:02 WARN DAGScheduler: Broadcasting large task binary with size 1250.0 KiB\n",
      "22/10/19 12:30:02 WARN DAGScheduler: Broadcasting large task binary with size 1251.4 KiB\n",
      "22/10/19 12:30:02 WARN DAGScheduler: Broadcasting large task binary with size 1252.8 KiB\n",
      "22/10/19 12:30:02 WARN DAGScheduler: Broadcasting large task binary with size 1254.2 KiB\n",
      "22/10/19 12:30:02 WARN DAGScheduler: Broadcasting large task binary with size 1255.6 KiB\n",
      "22/10/19 12:30:02 WARN DAGScheduler: Broadcasting large task binary with size 1256.9 KiB\n",
      "22/10/19 12:30:02 WARN DAGScheduler: Broadcasting large task binary with size 1258.3 KiB\n",
      "22/10/19 12:30:02 WARN DAGScheduler: Broadcasting large task binary with size 1259.7 KiB\n",
      "22/10/19 12:30:02 WARN DAGScheduler: Broadcasting large task binary with size 1261.1 KiB\n",
      "22/10/19 12:30:03 WARN DAGScheduler: Broadcasting large task binary with size 1262.5 KiB\n",
      "22/10/19 12:30:03 WARN DAGScheduler: Broadcasting large task binary with size 1263.9 KiB\n",
      "22/10/19 12:30:03 WARN DAGScheduler: Broadcasting large task binary with size 1265.3 KiB\n",
      "22/10/19 12:30:03 WARN DAGScheduler: Broadcasting large task binary with size 1266.6 KiB\n",
      "22/10/19 12:30:03 WARN DAGScheduler: Broadcasting large task binary with size 1268.0 KiB\n",
      "22/10/19 12:30:03 WARN DAGScheduler: Broadcasting large task binary with size 1269.4 KiB\n",
      "22/10/19 12:30:03 WARN DAGScheduler: Broadcasting large task binary with size 1270.8 KiB\n",
      "22/10/19 12:30:03 WARN DAGScheduler: Broadcasting large task binary with size 1272.2 KiB\n",
      "22/10/19 12:30:03 WARN DAGScheduler: Broadcasting large task binary with size 1273.6 KiB\n",
      "22/10/19 12:30:03 WARN DAGScheduler: Broadcasting large task binary with size 1275.0 KiB\n",
      "22/10/19 12:30:03 WARN DAGScheduler: Broadcasting large task binary with size 1276.4 KiB\n",
      "22/10/19 12:30:03 WARN DAGScheduler: Broadcasting large task binary with size 1277.7 KiB\n",
      "22/10/19 12:30:03 WARN DAGScheduler: Broadcasting large task binary with size 1279.1 KiB\n",
      "22/10/19 12:30:03 WARN DAGScheduler: Broadcasting large task binary with size 1280.5 KiB\n",
      "22/10/19 12:30:03 WARN DAGScheduler: Broadcasting large task binary with size 1281.9 KiB\n",
      "22/10/19 12:30:03 WARN DAGScheduler: Broadcasting large task binary with size 1283.3 KiB\n",
      "22/10/19 12:30:04 WARN DAGScheduler: Broadcasting large task binary with size 1284.7 KiB\n",
      "22/10/19 12:30:04 WARN DAGScheduler: Broadcasting large task binary with size 1286.6 KiB\n",
      "22/10/19 12:30:04 WARN DAGScheduler: Broadcasting large task binary with size 1285.2 KiB\n",
      "22/10/19 12:30:04 WARN DAGScheduler: Broadcasting large task binary with size 1228.6 KiB\n",
      "22/10/19 12:30:04 WARN DAGScheduler: Broadcasting large task binary with size 1294.3 KiB\n",
      "22/10/19 12:30:04 WARN DAGScheduler: Broadcasting large task binary with size 1292.9 KiB\n"
     ]
    },
    {
     "name": "stderr",
     "output_type": "stream",
     "text": [
      "                                                                                \r"
     ]
    },
    {
     "name": "stdout",
     "output_type": "stream",
     "text": [
      "22/10/19 12:30:06 WARN DAGScheduler: Broadcasting large task binary with size 1355.9 KiB\n",
      "22/10/19 12:30:06 WARN DAGScheduler: Broadcasting large task binary with size 1237.5 KiB\n",
      "22/10/19 12:30:06 WARN DAGScheduler: Broadcasting large task binary with size 1238.9 KiB\n"
     ]
    },
    {
     "name": "stderr",
     "output_type": "stream",
     "text": [
      "[Stage 2937:=================================================>  (189 + 8) / 200]\r"
     ]
    },
    {
     "name": "stdout",
     "output_type": "stream",
     "text": [
      "22/10/19 12:30:08 WARN DAGScheduler: Broadcasting large task binary with size 1240.4 KiB\n"
     ]
    },
    {
     "name": "stderr",
     "output_type": "stream",
     "text": [
      "                                                                                \r"
     ]
    },
    {
     "name": "stdout",
     "output_type": "stream",
     "text": [
      "22/10/19 12:30:08 WARN DAGScheduler: Broadcasting large task binary with size 1241.7 KiB\n",
      "22/10/19 12:30:08 WARN DAGScheduler: Broadcasting large task binary with size 1240.7 KiB\n",
      "22/10/19 12:30:09 WARN DAGScheduler: Broadcasting large task binary with size 1242.0 KiB\n",
      "22/10/19 12:30:09 WARN DAGScheduler: Broadcasting large task binary with size 1242.7 KiB\n",
      "22/10/19 12:30:09 WARN DAGScheduler: Broadcasting large task binary with size 1245.8 KiB\n",
      "22/10/19 12:30:09 WARN DAGScheduler: Broadcasting large task binary with size 1247.2 KiB\n",
      "22/10/19 12:30:09 WARN DAGScheduler: Broadcasting large task binary with size 1248.6 KiB\n",
      "22/10/19 12:30:09 WARN DAGScheduler: Broadcasting large task binary with size 1250.0 KiB\n",
      "22/10/19 12:30:10 WARN DAGScheduler: Broadcasting large task binary with size 1251.4 KiB\n",
      "22/10/19 12:30:10 WARN DAGScheduler: Broadcasting large task binary with size 1252.8 KiB\n",
      "22/10/19 12:30:10 WARN DAGScheduler: Broadcasting large task binary with size 1254.2 KiB\n",
      "22/10/19 12:30:10 WARN DAGScheduler: Broadcasting large task binary with size 1255.6 KiB\n",
      "22/10/19 12:30:10 WARN DAGScheduler: Broadcasting large task binary with size 1256.9 KiB\n",
      "22/10/19 12:30:10 WARN DAGScheduler: Broadcasting large task binary with size 1258.3 KiB\n",
      "22/10/19 12:30:10 WARN DAGScheduler: Broadcasting large task binary with size 1259.7 KiB\n",
      "22/10/19 12:30:10 WARN DAGScheduler: Broadcasting large task binary with size 1261.1 KiB\n",
      "22/10/19 12:30:10 WARN DAGScheduler: Broadcasting large task binary with size 1262.5 KiB\n",
      "22/10/19 12:30:10 WARN DAGScheduler: Broadcasting large task binary with size 1263.9 KiB\n",
      "22/10/19 12:30:10 WARN DAGScheduler: Broadcasting large task binary with size 1265.3 KiB\n",
      "22/10/19 12:30:10 WARN DAGScheduler: Broadcasting large task binary with size 1266.6 KiB\n",
      "22/10/19 12:30:10 WARN DAGScheduler: Broadcasting large task binary with size 1268.0 KiB\n",
      "22/10/19 12:30:10 WARN DAGScheduler: Broadcasting large task binary with size 1269.4 KiB\n",
      "22/10/19 12:30:10 WARN DAGScheduler: Broadcasting large task binary with size 1270.8 KiB\n",
      "22/10/19 12:30:10 WARN DAGScheduler: Broadcasting large task binary with size 1272.2 KiB\n",
      "22/10/19 12:30:10 WARN DAGScheduler: Broadcasting large task binary with size 1273.6 KiB\n",
      "22/10/19 12:30:11 WARN DAGScheduler: Broadcasting large task binary with size 1275.0 KiB\n",
      "22/10/19 12:30:11 WARN DAGScheduler: Broadcasting large task binary with size 1276.4 KiB\n",
      "22/10/19 12:30:11 WARN DAGScheduler: Broadcasting large task binary with size 1277.7 KiB\n",
      "22/10/19 12:30:11 WARN DAGScheduler: Broadcasting large task binary with size 1279.1 KiB\n",
      "22/10/19 12:30:11 WARN DAGScheduler: Broadcasting large task binary with size 1280.5 KiB\n",
      "22/10/19 12:30:11 WARN DAGScheduler: Broadcasting large task binary with size 1281.9 KiB\n",
      "22/10/19 12:30:11 WARN DAGScheduler: Broadcasting large task binary with size 1283.3 KiB\n",
      "22/10/19 12:30:11 WARN DAGScheduler: Broadcasting large task binary with size 1284.7 KiB\n",
      "22/10/19 12:30:11 WARN DAGScheduler: Broadcasting large task binary with size 1286.6 KiB\n",
      "22/10/19 12:30:11 WARN DAGScheduler: Broadcasting large task binary with size 1285.2 KiB\n",
      "22/10/19 12:30:12 WARN DAGScheduler: Broadcasting large task binary with size 1228.6 KiB\n",
      "22/10/19 12:30:12 WARN DAGScheduler: Broadcasting large task binary with size 1294.3 KiB\n",
      "22/10/19 12:30:12 WARN DAGScheduler: Broadcasting large task binary with size 1292.9 KiB\n"
     ]
    },
    {
     "name": "stderr",
     "output_type": "stream",
     "text": [
      "                                                                                \r"
     ]
    },
    {
     "name": "stdout",
     "output_type": "stream",
     "text": [
      "22/10/19 12:30:13 WARN DAGScheduler: Broadcasting large task binary with size 1355.9 KiB\n"
     ]
    },
    {
     "name": "stderr",
     "output_type": "stream",
     "text": [
      "[Stage 3092:===================================================>(696 + 2) / 698]\r"
     ]
    },
    {
     "name": "stdout",
     "output_type": "stream",
     "text": [
      "22/10/19 12:30:38 WARN DAGScheduler: Broadcasting large task binary with size 1237.5 KiB\n"
     ]
    },
    {
     "name": "stderr",
     "output_type": "stream",
     "text": [
      "                                                                                \r"
     ]
    },
    {
     "name": "stdout",
     "output_type": "stream",
     "text": [
      "22/10/19 12:30:38 WARN DAGScheduler: Broadcasting large task binary with size 1238.9 KiB\n"
     ]
    },
    {
     "name": "stderr",
     "output_type": "stream",
     "text": [
      "[Stage 3095:===============================================>    (183 + 8) / 200]\r"
     ]
    },
    {
     "name": "stdout",
     "output_type": "stream",
     "text": [
      "22/10/19 12:30:40 WARN DAGScheduler: Broadcasting large task binary with size 1240.4 KiB\n",
      "22/10/19 12:30:41 WARN DAGScheduler: Broadcasting large task binary with size 1241.7 KiB\n",
      "22/10/19 12:30:41 WARN DAGScheduler: Broadcasting large task binary with size 1240.7 KiB\n"
     ]
    },
    {
     "name": "stderr",
     "output_type": "stream",
     "text": [
      "                                                                                \r"
     ]
    },
    {
     "name": "stdout",
     "output_type": "stream",
     "text": [
      "22/10/19 12:30:41 WARN DAGScheduler: Broadcasting large task binary with size 1242.0 KiB\n",
      "22/10/19 12:30:42 WARN DAGScheduler: Broadcasting large task binary with size 1242.7 KiB\n",
      "22/10/19 12:30:42 WARN DAGScheduler: Broadcasting large task binary with size 1245.8 KiB\n",
      "22/10/19 12:30:42 WARN DAGScheduler: Broadcasting large task binary with size 1247.2 KiB\n",
      "22/10/19 12:30:42 WARN DAGScheduler: Broadcasting large task binary with size 1248.6 KiB\n",
      "22/10/19 12:30:42 WARN DAGScheduler: Broadcasting large task binary with size 1250.0 KiB\n",
      "22/10/19 12:30:42 WARN DAGScheduler: Broadcasting large task binary with size 1251.4 KiB\n",
      "22/10/19 12:30:42 WARN DAGScheduler: Broadcasting large task binary with size 1252.8 KiB\n",
      "22/10/19 12:30:42 WARN DAGScheduler: Broadcasting large task binary with size 1254.2 KiB\n",
      "22/10/19 12:30:42 WARN DAGScheduler: Broadcasting large task binary with size 1255.6 KiB\n",
      "22/10/19 12:30:42 WARN DAGScheduler: Broadcasting large task binary with size 1257.0 KiB\n",
      "22/10/19 12:30:42 WARN DAGScheduler: Broadcasting large task binary with size 1258.9 KiB\n",
      "22/10/19 12:30:42 WARN DAGScheduler: Broadcasting large task binary with size 1257.5 KiB\n",
      "22/10/19 12:30:44 WARN DAGScheduler: Broadcasting large task binary with size 1266.5 KiB\n",
      "22/10/19 12:30:44 WARN DAGScheduler: Broadcasting large task binary with size 1265.1 KiB\n"
     ]
    },
    {
     "name": "stderr",
     "output_type": "stream",
     "text": [
      "[Stage 3147:==========>    (7 + 3) / 10][Stage 3148:>              (0 + 6) / 10]]\r"
     ]
    },
    {
     "name": "stdout",
     "output_type": "stream",
     "text": [
      "22/10/19 12:31:07 WARN DAGScheduler: Broadcasting large task binary with size 1228.6 KiB\n"
     ]
    },
    {
     "name": "stderr",
     "output_type": "stream",
     "text": [
      "                                                                                \r"
     ]
    },
    {
     "name": "stdout",
     "output_type": "stream",
     "text": [
      "22/10/19 12:31:09 WARN DAGScheduler: Broadcasting large task binary with size 1328.2 KiB\n",
      "22/10/19 12:31:09 WARN DAGScheduler: Broadcasting large task binary with size 1237.5 KiB\n",
      "22/10/19 12:31:09 WARN DAGScheduler: Broadcasting large task binary with size 1238.9 KiB\n"
     ]
    },
    {
     "name": "stderr",
     "output_type": "stream",
     "text": [
      "[Stage 3173:============================================>       (172 + 9) / 200]\r"
     ]
    },
    {
     "name": "stdout",
     "output_type": "stream",
     "text": [
      "22/10/19 12:31:11 WARN DAGScheduler: Broadcasting large task binary with size 1240.4 KiB\n",
      "22/10/19 12:31:11 WARN DAGScheduler: Broadcasting large task binary with size 1241.7 KiB\n",
      "22/10/19 12:31:11 WARN DAGScheduler: Broadcasting large task binary with size 1240.7 KiB\n"
     ]
    },
    {
     "name": "stderr",
     "output_type": "stream",
     "text": [
      "                                                                                \r"
     ]
    },
    {
     "name": "stdout",
     "output_type": "stream",
     "text": [
      "22/10/19 12:31:12 WARN DAGScheduler: Broadcasting large task binary with size 1242.0 KiB\n",
      "22/10/19 12:31:12 WARN DAGScheduler: Broadcasting large task binary with size 1242.7 KiB\n",
      "22/10/19 12:31:12 WARN DAGScheduler: Broadcasting large task binary with size 1245.8 KiB\n",
      "22/10/19 12:31:12 WARN DAGScheduler: Broadcasting large task binary with size 1247.2 KiB\n",
      "22/10/19 12:31:12 WARN DAGScheduler: Broadcasting large task binary with size 1248.6 KiB\n",
      "22/10/19 12:31:12 WARN DAGScheduler: Broadcasting large task binary with size 1250.0 KiB\n",
      "22/10/19 12:31:12 WARN DAGScheduler: Broadcasting large task binary with size 1251.4 KiB\n",
      "22/10/19 12:31:12 WARN DAGScheduler: Broadcasting large task binary with size 1252.8 KiB\n",
      "22/10/19 12:31:12 WARN DAGScheduler: Broadcasting large task binary with size 1254.2 KiB\n",
      "22/10/19 12:31:12 WARN DAGScheduler: Broadcasting large task binary with size 1255.6 KiB\n",
      "22/10/19 12:31:13 WARN DAGScheduler: Broadcasting large task binary with size 1256.9 KiB\n",
      "22/10/19 12:31:13 WARN DAGScheduler: Broadcasting large task binary with size 1258.9 KiB\n",
      "22/10/19 12:31:13 WARN DAGScheduler: Broadcasting large task binary with size 1257.5 KiB\n",
      "22/10/19 12:31:13 WARN DAGScheduler: Broadcasting large task binary with size 1228.6 KiB\n",
      "22/10/19 12:31:13 WARN DAGScheduler: Broadcasting large task binary with size 1266.5 KiB\n",
      "22/10/19 12:31:13 WARN DAGScheduler: Broadcasting large task binary with size 1265.1 KiB\n"
     ]
    },
    {
     "name": "stderr",
     "output_type": "stream",
     "text": [
      "                                                                                \r"
     ]
    },
    {
     "name": "stdout",
     "output_type": "stream",
     "text": [
      "22/10/19 12:31:15 WARN DAGScheduler: Broadcasting large task binary with size 1328.2 KiB\n",
      "22/10/19 12:31:15 WARN DAGScheduler: Broadcasting large task binary with size 1237.5 KiB\n",
      "22/10/19 12:31:15 WARN DAGScheduler: Broadcasting large task binary with size 1238.9 KiB\n"
     ]
    },
    {
     "name": "stderr",
     "output_type": "stream",
     "text": [
      "[Stage 3251:================================================>   (185 + 8) / 200]\r"
     ]
    },
    {
     "name": "stdout",
     "output_type": "stream",
     "text": [
      "22/10/19 12:31:16 WARN DAGScheduler: Broadcasting large task binary with size 1240.4 KiB\n"
     ]
    },
    {
     "name": "stderr",
     "output_type": "stream",
     "text": [
      "                                                                                \r"
     ]
    },
    {
     "name": "stdout",
     "output_type": "stream",
     "text": [
      "22/10/19 12:31:17 WARN DAGScheduler: Broadcasting large task binary with size 1241.7 KiB\n",
      "22/10/19 12:31:17 WARN DAGScheduler: Broadcasting large task binary with size 1240.7 KiB\n",
      "22/10/19 12:31:18 WARN DAGScheduler: Broadcasting large task binary with size 1242.0 KiB\n",
      "22/10/19 12:31:18 WARN DAGScheduler: Broadcasting large task binary with size 1242.7 KiB\n",
      "22/10/19 12:31:18 WARN DAGScheduler: Broadcasting large task binary with size 1245.8 KiB\n",
      "22/10/19 12:31:18 WARN DAGScheduler: Broadcasting large task binary with size 1247.2 KiB\n",
      "22/10/19 12:31:18 WARN DAGScheduler: Broadcasting large task binary with size 1248.6 KiB\n",
      "22/10/19 12:31:18 WARN DAGScheduler: Broadcasting large task binary with size 1250.0 KiB\n",
      "22/10/19 12:31:18 WARN DAGScheduler: Broadcasting large task binary with size 1251.4 KiB\n",
      "22/10/19 12:31:18 WARN DAGScheduler: Broadcasting large task binary with size 1252.8 KiB\n",
      "22/10/19 12:31:18 WARN DAGScheduler: Broadcasting large task binary with size 1254.2 KiB\n",
      "22/10/19 12:31:18 WARN DAGScheduler: Broadcasting large task binary with size 1255.6 KiB\n",
      "22/10/19 12:31:18 WARN DAGScheduler: Broadcasting large task binary with size 1256.9 KiB\n",
      "22/10/19 12:31:18 WARN DAGScheduler: Broadcasting large task binary with size 1258.9 KiB\n",
      "22/10/19 12:31:18 WARN DAGScheduler: Broadcasting large task binary with size 1257.5 KiB\n",
      "22/10/19 12:31:19 WARN DAGScheduler: Broadcasting large task binary with size 1228.6 KiB\n",
      "22/10/19 12:31:19 WARN DAGScheduler: Broadcasting large task binary with size 1266.5 KiB\n",
      "22/10/19 12:31:19 WARN DAGScheduler: Broadcasting large task binary with size 1265.1 KiB\n"
     ]
    },
    {
     "name": "stderr",
     "output_type": "stream",
     "text": [
      "                                                                                \r"
     ]
    },
    {
     "name": "stdout",
     "output_type": "stream",
     "text": [
      "22/10/19 12:31:20 WARN DAGScheduler: Broadcasting large task binary with size 1328.2 KiB\n",
      "22/10/19 12:31:21 WARN DAGScheduler: Broadcasting large task binary with size 1237.5 KiB\n",
      "22/10/19 12:31:21 WARN DAGScheduler: Broadcasting large task binary with size 1238.9 KiB\n"
     ]
    },
    {
     "name": "stderr",
     "output_type": "stream",
     "text": [
      "[Stage 3329:================================================>   (187 + 8) / 200]\r"
     ]
    },
    {
     "name": "stdout",
     "output_type": "stream",
     "text": [
      "22/10/19 12:31:22 WARN DAGScheduler: Broadcasting large task binary with size 1240.4 KiB\n"
     ]
    },
    {
     "name": "stderr",
     "output_type": "stream",
     "text": [
      "                                                                                \r"
     ]
    },
    {
     "name": "stdout",
     "output_type": "stream",
     "text": [
      "22/10/19 12:31:23 WARN DAGScheduler: Broadcasting large task binary with size 1241.7 KiB\n",
      "22/10/19 12:31:23 WARN DAGScheduler: Broadcasting large task binary with size 1240.7 KiB\n",
      "22/10/19 12:31:23 WARN DAGScheduler: Broadcasting large task binary with size 1242.0 KiB\n",
      "22/10/19 12:31:24 WARN DAGScheduler: Broadcasting large task binary with size 1242.7 KiB\n",
      "22/10/19 12:31:24 WARN DAGScheduler: Broadcasting large task binary with size 1245.8 KiB\n",
      "22/10/19 12:31:24 WARN DAGScheduler: Broadcasting large task binary with size 1247.2 KiB\n",
      "22/10/19 12:31:24 WARN DAGScheduler: Broadcasting large task binary with size 1248.6 KiB\n",
      "22/10/19 12:31:24 WARN DAGScheduler: Broadcasting large task binary with size 1250.0 KiB\n",
      "22/10/19 12:31:24 WARN DAGScheduler: Broadcasting large task binary with size 1251.4 KiB\n",
      "22/10/19 12:31:24 WARN DAGScheduler: Broadcasting large task binary with size 1252.8 KiB\n",
      "22/10/19 12:31:24 WARN DAGScheduler: Broadcasting large task binary with size 1254.2 KiB\n",
      "22/10/19 12:31:24 WARN DAGScheduler: Broadcasting large task binary with size 1255.6 KiB\n",
      "22/10/19 12:31:24 WARN DAGScheduler: Broadcasting large task binary with size 1256.9 KiB\n",
      "22/10/19 12:31:24 WARN DAGScheduler: Broadcasting large task binary with size 1258.3 KiB\n",
      "22/10/19 12:31:24 WARN DAGScheduler: Broadcasting large task binary with size 1259.7 KiB\n",
      "22/10/19 12:31:24 WARN DAGScheduler: Broadcasting large task binary with size 1261.1 KiB\n",
      "22/10/19 12:31:24 WARN DAGScheduler: Broadcasting large task binary with size 1262.5 KiB\n",
      "22/10/19 12:31:25 WARN DAGScheduler: Broadcasting large task binary with size 1263.9 KiB\n",
      "22/10/19 12:31:25 WARN DAGScheduler: Broadcasting large task binary with size 1265.3 KiB\n",
      "22/10/19 12:31:25 WARN DAGScheduler: Broadcasting large task binary with size 1266.7 KiB\n",
      "22/10/19 12:31:25 WARN DAGScheduler: Broadcasting large task binary with size 1268.0 KiB\n",
      "22/10/19 12:31:25 WARN DAGScheduler: Broadcasting large task binary with size 1269.4 KiB\n",
      "22/10/19 12:31:25 WARN DAGScheduler: Broadcasting large task binary with size 1270.8 KiB\n",
      "22/10/19 12:31:25 WARN DAGScheduler: Broadcasting large task binary with size 1272.8 KiB\n",
      "22/10/19 12:31:25 WARN DAGScheduler: Broadcasting large task binary with size 1271.4 KiB\n",
      "22/10/19 12:31:25 WARN DAGScheduler: Broadcasting large task binary with size 1228.6 KiB\n",
      "22/10/19 12:31:25 WARN DAGScheduler: Broadcasting large task binary with size 1280.4 KiB\n",
      "22/10/19 12:31:25 WARN DAGScheduler: Broadcasting large task binary with size 1279.0 KiB\n"
     ]
    },
    {
     "name": "stderr",
     "output_type": "stream",
     "text": [
      "                                                                                \r"
     ]
    },
    {
     "name": "stdout",
     "output_type": "stream",
     "text": [
      "22/10/19 12:31:28 WARN DAGScheduler: Broadcasting large task binary with size 1342.0 KiB\n",
      "22/10/19 12:31:28 WARN DAGScheduler: Broadcasting large task binary with size 1237.5 KiB\n",
      "22/10/19 12:31:28 WARN DAGScheduler: Broadcasting large task binary with size 1238.9 KiB\n"
     ]
    },
    {
     "name": "stderr",
     "output_type": "stream",
     "text": [
      "[Stage 3447:=============================================>      (174 + 8) / 200]\r"
     ]
    },
    {
     "name": "stdout",
     "output_type": "stream",
     "text": [
      "22/10/19 12:31:30 WARN DAGScheduler: Broadcasting large task binary with size 1240.4 KiB\n"
     ]
    },
    {
     "name": "stderr",
     "output_type": "stream",
     "text": [
      "                                                                                \r"
     ]
    },
    {
     "name": "stdout",
     "output_type": "stream",
     "text": [
      "22/10/19 12:31:30 WARN DAGScheduler: Broadcasting large task binary with size 1241.7 KiB\n",
      "22/10/19 12:31:31 WARN DAGScheduler: Broadcasting large task binary with size 1240.7 KiB\n",
      "22/10/19 12:31:31 WARN DAGScheduler: Broadcasting large task binary with size 1242.0 KiB\n",
      "22/10/19 12:31:31 WARN DAGScheduler: Broadcasting large task binary with size 1242.7 KiB\n",
      "22/10/19 12:31:31 WARN DAGScheduler: Broadcasting large task binary with size 1245.8 KiB\n",
      "22/10/19 12:31:31 WARN DAGScheduler: Broadcasting large task binary with size 1247.2 KiB\n",
      "22/10/19 12:31:31 WARN DAGScheduler: Broadcasting large task binary with size 1248.6 KiB\n",
      "22/10/19 12:31:32 WARN DAGScheduler: Broadcasting large task binary with size 1250.0 KiB\n",
      "22/10/19 12:31:32 WARN DAGScheduler: Broadcasting large task binary with size 1251.4 KiB\n",
      "22/10/19 12:31:32 WARN DAGScheduler: Broadcasting large task binary with size 1252.8 KiB\n",
      "22/10/19 12:31:32 WARN DAGScheduler: Broadcasting large task binary with size 1254.2 KiB\n",
      "22/10/19 12:31:32 WARN DAGScheduler: Broadcasting large task binary with size 1255.6 KiB\n",
      "22/10/19 12:31:32 WARN DAGScheduler: Broadcasting large task binary with size 1256.9 KiB\n",
      "22/10/19 12:31:32 WARN DAGScheduler: Broadcasting large task binary with size 1258.3 KiB\n",
      "22/10/19 12:31:32 WARN DAGScheduler: Broadcasting large task binary with size 1259.7 KiB\n",
      "22/10/19 12:31:32 WARN DAGScheduler: Broadcasting large task binary with size 1261.1 KiB\n",
      "22/10/19 12:31:32 WARN DAGScheduler: Broadcasting large task binary with size 1262.5 KiB\n",
      "22/10/19 12:31:32 WARN DAGScheduler: Broadcasting large task binary with size 1263.9 KiB\n",
      "22/10/19 12:31:32 WARN DAGScheduler: Broadcasting large task binary with size 1265.3 KiB\n",
      "22/10/19 12:31:32 WARN DAGScheduler: Broadcasting large task binary with size 1266.7 KiB\n",
      "22/10/19 12:31:32 WARN DAGScheduler: Broadcasting large task binary with size 1268.0 KiB\n",
      "22/10/19 12:31:32 WARN DAGScheduler: Broadcasting large task binary with size 1269.4 KiB\n",
      "22/10/19 12:31:32 WARN DAGScheduler: Broadcasting large task binary with size 1270.8 KiB\n",
      "22/10/19 12:31:32 WARN DAGScheduler: Broadcasting large task binary with size 1272.8 KiB\n",
      "22/10/19 12:31:33 WARN DAGScheduler: Broadcasting large task binary with size 1271.4 KiB\n",
      "22/10/19 12:31:33 WARN DAGScheduler: Broadcasting large task binary with size 1228.6 KiB\n",
      "22/10/19 12:31:33 WARN DAGScheduler: Broadcasting large task binary with size 1280.4 KiB\n",
      "22/10/19 12:31:33 WARN DAGScheduler: Broadcasting large task binary with size 1279.0 KiB\n"
     ]
    },
    {
     "name": "stderr",
     "output_type": "stream",
     "text": [
      "                                                                                \r"
     ]
    },
    {
     "name": "stdout",
     "output_type": "stream",
     "text": [
      "22/10/19 12:31:35 WARN DAGScheduler: Broadcasting large task binary with size 1342.0 KiB\n",
      "22/10/19 12:31:35 WARN DAGScheduler: Broadcasting large task binary with size 1237.5 KiB\n",
      "22/10/19 12:31:35 WARN DAGScheduler: Broadcasting large task binary with size 1238.9 KiB\n"
     ]
    },
    {
     "name": "stderr",
     "output_type": "stream",
     "text": [
      "[Stage 3565:===========================================>        (166 + 8) / 200]\r"
     ]
    },
    {
     "name": "stdout",
     "output_type": "stream",
     "text": [
      "22/10/19 12:31:36 WARN DAGScheduler: Broadcasting large task binary with size 1240.4 KiB\n"
     ]
    },
    {
     "name": "stderr",
     "output_type": "stream",
     "text": [
      "                                                                                \r"
     ]
    },
    {
     "name": "stdout",
     "output_type": "stream",
     "text": [
      "22/10/19 12:31:37 WARN DAGScheduler: Broadcasting large task binary with size 1241.7 KiB\n",
      "22/10/19 12:31:37 WARN DAGScheduler: Broadcasting large task binary with size 1240.7 KiB\n",
      "22/10/19 12:31:38 WARN DAGScheduler: Broadcasting large task binary with size 1242.0 KiB\n",
      "22/10/19 12:31:38 WARN DAGScheduler: Broadcasting large task binary with size 1242.7 KiB\n",
      "22/10/19 12:31:38 WARN DAGScheduler: Broadcasting large task binary with size 1245.8 KiB\n",
      "22/10/19 12:31:38 WARN DAGScheduler: Broadcasting large task binary with size 1247.2 KiB\n",
      "22/10/19 12:31:38 WARN DAGScheduler: Broadcasting large task binary with size 1248.6 KiB\n",
      "22/10/19 12:31:38 WARN DAGScheduler: Broadcasting large task binary with size 1250.0 KiB\n",
      "22/10/19 12:31:38 WARN DAGScheduler: Broadcasting large task binary with size 1251.4 KiB\n",
      "22/10/19 12:31:38 WARN DAGScheduler: Broadcasting large task binary with size 1252.8 KiB\n",
      "22/10/19 12:31:38 WARN DAGScheduler: Broadcasting large task binary with size 1254.2 KiB\n",
      "22/10/19 12:31:38 WARN DAGScheduler: Broadcasting large task binary with size 1255.6 KiB\n",
      "22/10/19 12:31:38 WARN DAGScheduler: Broadcasting large task binary with size 1256.9 KiB\n",
      "22/10/19 12:31:39 WARN DAGScheduler: Broadcasting large task binary with size 1258.3 KiB\n",
      "22/10/19 12:31:39 WARN DAGScheduler: Broadcasting large task binary with size 1259.7 KiB\n",
      "22/10/19 12:31:39 WARN DAGScheduler: Broadcasting large task binary with size 1261.1 KiB\n",
      "22/10/19 12:31:39 WARN DAGScheduler: Broadcasting large task binary with size 1262.5 KiB\n",
      "22/10/19 12:31:39 WARN DAGScheduler: Broadcasting large task binary with size 1263.9 KiB\n",
      "22/10/19 12:31:39 WARN DAGScheduler: Broadcasting large task binary with size 1265.3 KiB\n",
      "22/10/19 12:31:39 WARN DAGScheduler: Broadcasting large task binary with size 1266.7 KiB\n",
      "22/10/19 12:31:39 WARN DAGScheduler: Broadcasting large task binary with size 1268.0 KiB\n",
      "22/10/19 12:31:39 WARN DAGScheduler: Broadcasting large task binary with size 1269.4 KiB\n",
      "22/10/19 12:31:39 WARN DAGScheduler: Broadcasting large task binary with size 1270.8 KiB\n",
      "22/10/19 12:31:39 WARN DAGScheduler: Broadcasting large task binary with size 1272.8 KiB\n",
      "22/10/19 12:31:39 WARN DAGScheduler: Broadcasting large task binary with size 1271.4 KiB\n",
      "22/10/19 12:31:40 WARN DAGScheduler: Broadcasting large task binary with size 1228.6 KiB\n",
      "22/10/19 12:31:40 WARN DAGScheduler: Broadcasting large task binary with size 1280.4 KiB\n",
      "22/10/19 12:31:40 WARN DAGScheduler: Broadcasting large task binary with size 1279.0 KiB\n"
     ]
    },
    {
     "name": "stderr",
     "output_type": "stream",
     "text": [
      "                                                                                \r"
     ]
    },
    {
     "name": "stdout",
     "output_type": "stream",
     "text": [
      "22/10/19 12:31:41 WARN DAGScheduler: Broadcasting large task binary with size 1342.0 KiB\n",
      "22/10/19 12:31:42 WARN DAGScheduler: Broadcasting large task binary with size 1237.5 KiB\n",
      "22/10/19 12:31:42 WARN DAGScheduler: Broadcasting large task binary with size 1238.9 KiB\n"
     ]
    },
    {
     "name": "stderr",
     "output_type": "stream",
     "text": [
      "[Stage 3683:==========================================>         (164 + 8) / 200]\r"
     ]
    },
    {
     "name": "stdout",
     "output_type": "stream",
     "text": [
      "22/10/19 12:31:43 WARN DAGScheduler: Broadcasting large task binary with size 1240.4 KiB\n"
     ]
    },
    {
     "name": "stderr",
     "output_type": "stream",
     "text": [
      "                                                                                \r"
     ]
    },
    {
     "name": "stdout",
     "output_type": "stream",
     "text": [
      "22/10/19 12:31:44 WARN DAGScheduler: Broadcasting large task binary with size 1241.7 KiB\n",
      "22/10/19 12:31:44 WARN DAGScheduler: Broadcasting large task binary with size 1240.7 KiB\n",
      "22/10/19 12:31:44 WARN DAGScheduler: Broadcasting large task binary with size 1242.0 KiB\n",
      "22/10/19 12:31:45 WARN DAGScheduler: Broadcasting large task binary with size 1242.7 KiB\n",
      "22/10/19 12:31:45 WARN DAGScheduler: Broadcasting large task binary with size 1245.8 KiB\n",
      "22/10/19 12:31:45 WARN DAGScheduler: Broadcasting large task binary with size 1247.2 KiB\n",
      "22/10/19 12:31:45 WARN DAGScheduler: Broadcasting large task binary with size 1248.6 KiB\n",
      "22/10/19 12:31:45 WARN DAGScheduler: Broadcasting large task binary with size 1250.0 KiB\n",
      "22/10/19 12:31:45 WARN DAGScheduler: Broadcasting large task binary with size 1251.4 KiB\n",
      "22/10/19 12:31:45 WARN DAGScheduler: Broadcasting large task binary with size 1252.8 KiB\n",
      "22/10/19 12:31:45 WARN DAGScheduler: Broadcasting large task binary with size 1254.2 KiB\n",
      "22/10/19 12:31:45 WARN DAGScheduler: Broadcasting large task binary with size 1255.6 KiB\n",
      "22/10/19 12:31:45 WARN DAGScheduler: Broadcasting large task binary with size 1256.9 KiB\n",
      "22/10/19 12:31:45 WARN DAGScheduler: Broadcasting large task binary with size 1258.3 KiB\n",
      "22/10/19 12:31:45 WARN DAGScheduler: Broadcasting large task binary with size 1259.7 KiB\n",
      "22/10/19 12:31:46 WARN DAGScheduler: Broadcasting large task binary with size 1261.1 KiB\n",
      "22/10/19 12:31:46 WARN DAGScheduler: Broadcasting large task binary with size 1262.5 KiB\n",
      "22/10/19 12:31:46 WARN DAGScheduler: Broadcasting large task binary with size 1263.9 KiB\n",
      "22/10/19 12:31:46 WARN DAGScheduler: Broadcasting large task binary with size 1265.3 KiB\n",
      "22/10/19 12:31:46 WARN DAGScheduler: Broadcasting large task binary with size 1266.7 KiB\n",
      "22/10/19 12:31:46 WARN DAGScheduler: Broadcasting large task binary with size 1268.0 KiB\n",
      "22/10/19 12:31:46 WARN DAGScheduler: Broadcasting large task binary with size 1269.4 KiB\n",
      "22/10/19 12:31:46 WARN DAGScheduler: Broadcasting large task binary with size 1270.8 KiB\n",
      "22/10/19 12:31:46 WARN DAGScheduler: Broadcasting large task binary with size 1272.2 KiB\n",
      "22/10/19 12:31:46 WARN DAGScheduler: Broadcasting large task binary with size 1273.6 KiB\n",
      "22/10/19 12:31:47 WARN DAGScheduler: Broadcasting large task binary with size 1275.0 KiB\n",
      "22/10/19 12:31:47 WARN DAGScheduler: Broadcasting large task binary with size 1276.4 KiB\n",
      "22/10/19 12:31:47 WARN DAGScheduler: Broadcasting large task binary with size 1277.7 KiB\n",
      "22/10/19 12:31:47 WARN DAGScheduler: Broadcasting large task binary with size 1279.1 KiB\n",
      "22/10/19 12:31:47 WARN DAGScheduler: Broadcasting large task binary with size 1280.5 KiB\n",
      "22/10/19 12:31:47 WARN DAGScheduler: Broadcasting large task binary with size 1281.9 KiB\n",
      "22/10/19 12:31:47 WARN DAGScheduler: Broadcasting large task binary with size 1283.3 KiB\n",
      "22/10/19 12:31:47 WARN DAGScheduler: Broadcasting large task binary with size 1284.7 KiB\n",
      "22/10/19 12:31:47 WARN DAGScheduler: Broadcasting large task binary with size 1286.6 KiB\n",
      "22/10/19 12:31:47 WARN DAGScheduler: Broadcasting large task binary with size 1285.3 KiB\n",
      "22/10/19 12:31:48 WARN DAGScheduler: Broadcasting large task binary with size 1228.6 KiB\n",
      "22/10/19 12:31:48 WARN DAGScheduler: Broadcasting large task binary with size 1294.3 KiB\n",
      "22/10/19 12:31:48 WARN DAGScheduler: Broadcasting large task binary with size 1292.9 KiB\n"
     ]
    },
    {
     "name": "stderr",
     "output_type": "stream",
     "text": [
      "                                                                                \r"
     ]
    },
    {
     "name": "stdout",
     "output_type": "stream",
     "text": [
      "22/10/19 12:31:49 WARN DAGScheduler: Broadcasting large task binary with size 1355.9 KiB\n",
      "22/10/19 12:31:50 WARN DAGScheduler: Broadcasting large task binary with size 1237.5 KiB\n",
      "22/10/19 12:31:50 WARN DAGScheduler: Broadcasting large task binary with size 1238.9 KiB\n"
     ]
    },
    {
     "name": "stderr",
     "output_type": "stream",
     "text": [
      "[Stage 3841:============================================>       (172 + 8) / 200]\r"
     ]
    },
    {
     "name": "stdout",
     "output_type": "stream",
     "text": [
      "22/10/19 12:31:51 WARN DAGScheduler: Broadcasting large task binary with size 1240.4 KiB\n"
     ]
    },
    {
     "name": "stderr",
     "output_type": "stream",
     "text": [
      "                                                                                \r"
     ]
    },
    {
     "name": "stdout",
     "output_type": "stream",
     "text": [
      "22/10/19 12:31:52 WARN DAGScheduler: Broadcasting large task binary with size 1241.7 KiB\n",
      "22/10/19 12:31:52 WARN DAGScheduler: Broadcasting large task binary with size 1240.7 KiB\n",
      "22/10/19 12:31:52 WARN DAGScheduler: Broadcasting large task binary with size 1242.0 KiB\n",
      "22/10/19 12:31:53 WARN DAGScheduler: Broadcasting large task binary with size 1242.7 KiB\n",
      "22/10/19 12:31:53 WARN DAGScheduler: Broadcasting large task binary with size 1245.8 KiB\n",
      "22/10/19 12:31:53 WARN DAGScheduler: Broadcasting large task binary with size 1247.2 KiB\n",
      "22/10/19 12:31:53 WARN DAGScheduler: Broadcasting large task binary with size 1248.6 KiB\n",
      "22/10/19 12:31:53 WARN DAGScheduler: Broadcasting large task binary with size 1250.0 KiB\n",
      "22/10/19 12:31:53 WARN DAGScheduler: Broadcasting large task binary with size 1251.4 KiB\n",
      "22/10/19 12:31:53 WARN DAGScheduler: Broadcasting large task binary with size 1252.8 KiB\n",
      "22/10/19 12:31:53 WARN DAGScheduler: Broadcasting large task binary with size 1254.2 KiB\n",
      "22/10/19 12:31:53 WARN DAGScheduler: Broadcasting large task binary with size 1255.6 KiB\n",
      "22/10/19 12:31:53 WARN DAGScheduler: Broadcasting large task binary with size 1256.9 KiB\n",
      "22/10/19 12:31:53 WARN DAGScheduler: Broadcasting large task binary with size 1258.3 KiB\n",
      "22/10/19 12:31:53 WARN DAGScheduler: Broadcasting large task binary with size 1259.7 KiB\n",
      "22/10/19 12:31:53 WARN DAGScheduler: Broadcasting large task binary with size 1261.1 KiB\n",
      "22/10/19 12:31:53 WARN DAGScheduler: Broadcasting large task binary with size 1262.5 KiB\n",
      "22/10/19 12:31:53 WARN DAGScheduler: Broadcasting large task binary with size 1263.9 KiB\n",
      "22/10/19 12:31:53 WARN DAGScheduler: Broadcasting large task binary with size 1265.3 KiB\n",
      "22/10/19 12:31:54 WARN DAGScheduler: Broadcasting large task binary with size 1266.7 KiB\n",
      "22/10/19 12:31:54 WARN DAGScheduler: Broadcasting large task binary with size 1268.0 KiB\n",
      "22/10/19 12:31:54 WARN DAGScheduler: Broadcasting large task binary with size 1269.4 KiB\n",
      "22/10/19 12:31:54 WARN DAGScheduler: Broadcasting large task binary with size 1270.8 KiB\n",
      "22/10/19 12:31:54 WARN DAGScheduler: Broadcasting large task binary with size 1272.2 KiB\n",
      "22/10/19 12:31:54 WARN DAGScheduler: Broadcasting large task binary with size 1273.6 KiB\n",
      "22/10/19 12:31:54 WARN DAGScheduler: Broadcasting large task binary with size 1275.0 KiB\n",
      "22/10/19 12:31:54 WARN DAGScheduler: Broadcasting large task binary with size 1276.4 KiB\n",
      "22/10/19 12:31:54 WARN DAGScheduler: Broadcasting large task binary with size 1277.7 KiB\n",
      "22/10/19 12:31:54 WARN DAGScheduler: Broadcasting large task binary with size 1279.1 KiB\n",
      "22/10/19 12:31:54 WARN DAGScheduler: Broadcasting large task binary with size 1280.5 KiB\n",
      "22/10/19 12:31:54 WARN DAGScheduler: Broadcasting large task binary with size 1281.9 KiB\n",
      "22/10/19 12:31:54 WARN DAGScheduler: Broadcasting large task binary with size 1283.3 KiB\n",
      "22/10/19 12:31:54 WARN DAGScheduler: Broadcasting large task binary with size 1284.7 KiB\n",
      "22/10/19 12:31:54 WARN DAGScheduler: Broadcasting large task binary with size 1286.6 KiB\n",
      "22/10/19 12:31:54 WARN DAGScheduler: Broadcasting large task binary with size 1285.3 KiB\n",
      "22/10/19 12:31:55 WARN DAGScheduler: Broadcasting large task binary with size 1228.6 KiB\n",
      "22/10/19 12:31:55 WARN DAGScheduler: Broadcasting large task binary with size 1294.3 KiB\n",
      "22/10/19 12:31:55 WARN DAGScheduler: Broadcasting large task binary with size 1292.9 KiB\n"
     ]
    },
    {
     "name": "stderr",
     "output_type": "stream",
     "text": [
      "                                                                                \r"
     ]
    },
    {
     "name": "stdout",
     "output_type": "stream",
     "text": [
      "22/10/19 12:31:57 WARN DAGScheduler: Broadcasting large task binary with size 1355.9 KiB\n",
      "22/10/19 12:31:57 WARN DAGScheduler: Broadcasting large task binary with size 1237.5 KiB\n",
      "22/10/19 12:31:57 WARN DAGScheduler: Broadcasting large task binary with size 1238.9 KiB\n"
     ]
    },
    {
     "name": "stderr",
     "output_type": "stream",
     "text": [
      "[Stage 3966:==================================================> (194 + 6) / 200]\r"
     ]
    },
    {
     "name": "stdout",
     "output_type": "stream",
     "text": [
      "22/10/19 12:31:58 WARN DAGScheduler: Broadcasting large task binary with size 1240.4 KiB\n"
     ]
    },
    {
     "name": "stderr",
     "output_type": "stream",
     "text": [
      "                                                                                \r"
     ]
    },
    {
     "name": "stdout",
     "output_type": "stream",
     "text": [
      "22/10/19 12:31:59 WARN DAGScheduler: Broadcasting large task binary with size 1241.7 KiB\n",
      "22/10/19 12:31:59 WARN DAGScheduler: Broadcasting large task binary with size 1240.7 KiB\n",
      "22/10/19 12:32:00 WARN DAGScheduler: Broadcasting large task binary with size 1242.0 KiB\n",
      "22/10/19 12:32:00 WARN DAGScheduler: Broadcasting large task binary with size 1242.7 KiB\n",
      "22/10/19 12:32:00 WARN DAGScheduler: Broadcasting large task binary with size 1245.8 KiB\n",
      "22/10/19 12:32:00 WARN DAGScheduler: Broadcasting large task binary with size 1247.2 KiB\n",
      "22/10/19 12:32:00 WARN DAGScheduler: Broadcasting large task binary with size 1248.6 KiB\n",
      "22/10/19 12:32:00 WARN DAGScheduler: Broadcasting large task binary with size 1250.0 KiB\n",
      "22/10/19 12:32:00 WARN DAGScheduler: Broadcasting large task binary with size 1251.4 KiB\n",
      "22/10/19 12:32:00 WARN DAGScheduler: Broadcasting large task binary with size 1252.8 KiB\n",
      "22/10/19 12:32:00 WARN DAGScheduler: Broadcasting large task binary with size 1254.2 KiB\n",
      "22/10/19 12:32:01 WARN DAGScheduler: Broadcasting large task binary with size 1255.6 KiB\n",
      "22/10/19 12:32:01 WARN DAGScheduler: Broadcasting large task binary with size 1256.9 KiB\n",
      "22/10/19 12:32:01 WARN DAGScheduler: Broadcasting large task binary with size 1258.3 KiB\n",
      "22/10/19 12:32:01 WARN DAGScheduler: Broadcasting large task binary with size 1259.7 KiB\n",
      "22/10/19 12:32:01 WARN DAGScheduler: Broadcasting large task binary with size 1261.1 KiB\n",
      "22/10/19 12:32:01 WARN DAGScheduler: Broadcasting large task binary with size 1262.5 KiB\n",
      "22/10/19 12:32:01 WARN DAGScheduler: Broadcasting large task binary with size 1263.9 KiB\n",
      "22/10/19 12:32:01 WARN DAGScheduler: Broadcasting large task binary with size 1265.3 KiB\n",
      "22/10/19 12:32:01 WARN DAGScheduler: Broadcasting large task binary with size 1266.7 KiB\n",
      "22/10/19 12:32:01 WARN DAGScheduler: Broadcasting large task binary with size 1268.0 KiB\n",
      "22/10/19 12:32:01 WARN DAGScheduler: Broadcasting large task binary with size 1269.4 KiB\n",
      "22/10/19 12:32:01 WARN DAGScheduler: Broadcasting large task binary with size 1270.8 KiB\n",
      "22/10/19 12:32:01 WARN DAGScheduler: Broadcasting large task binary with size 1272.2 KiB\n",
      "22/10/19 12:32:01 WARN DAGScheduler: Broadcasting large task binary with size 1273.6 KiB\n",
      "22/10/19 12:32:01 WARN DAGScheduler: Broadcasting large task binary with size 1275.0 KiB\n",
      "22/10/19 12:32:01 WARN DAGScheduler: Broadcasting large task binary with size 1276.4 KiB\n",
      "22/10/19 12:32:01 WARN DAGScheduler: Broadcasting large task binary with size 1277.7 KiB\n",
      "22/10/19 12:32:02 WARN DAGScheduler: Broadcasting large task binary with size 1279.1 KiB\n",
      "22/10/19 12:32:02 WARN DAGScheduler: Broadcasting large task binary with size 1280.5 KiB\n",
      "22/10/19 12:32:02 WARN DAGScheduler: Broadcasting large task binary with size 1281.9 KiB\n",
      "22/10/19 12:32:02 WARN DAGScheduler: Broadcasting large task binary with size 1283.3 KiB\n",
      "22/10/19 12:32:02 WARN DAGScheduler: Broadcasting large task binary with size 1284.7 KiB\n",
      "22/10/19 12:32:02 WARN DAGScheduler: Broadcasting large task binary with size 1286.6 KiB\n",
      "22/10/19 12:32:02 WARN DAGScheduler: Broadcasting large task binary with size 1285.3 KiB\n",
      "22/10/19 12:32:02 WARN DAGScheduler: Broadcasting large task binary with size 1228.6 KiB\n",
      "22/10/19 12:32:02 WARN DAGScheduler: Broadcasting large task binary with size 1294.3 KiB\n",
      "22/10/19 12:32:02 WARN DAGScheduler: Broadcasting large task binary with size 1292.9 KiB\n"
     ]
    },
    {
     "name": "stderr",
     "output_type": "stream",
     "text": [
      "                                                                                \r"
     ]
    },
    {
     "name": "stdout",
     "output_type": "stream",
     "text": [
      "22/10/19 12:32:04 WARN DAGScheduler: Broadcasting large task binary with size 1355.9 KiB\n",
      "22/10/19 12:32:04 WARN DAGScheduler: Broadcasting large task binary with size 1237.5 KiB\n",
      "22/10/19 12:32:04 WARN DAGScheduler: Broadcasting large task binary with size 1238.9 KiB\n"
     ]
    },
    {
     "name": "stderr",
     "output_type": "stream",
     "text": [
      "[Stage 4091:=================================================>  (191 + 8) / 200]\r"
     ]
    },
    {
     "name": "stdout",
     "output_type": "stream",
     "text": [
      "22/10/19 12:32:06 WARN DAGScheduler: Broadcasting large task binary with size 1240.4 KiB\n"
     ]
    },
    {
     "name": "stderr",
     "output_type": "stream",
     "text": [
      "[Stage 4092:===================================>                (137 + 8) / 200]\r"
     ]
    },
    {
     "name": "stdout",
     "output_type": "stream",
     "text": [
      "22/10/19 12:32:06 WARN DAGScheduler: Broadcasting large task binary with size 1241.7 KiB\n",
      "22/10/19 12:32:06 WARN DAGScheduler: Broadcasting large task binary with size 1240.7 KiB\n"
     ]
    },
    {
     "name": "stderr",
     "output_type": "stream",
     "text": [
      "                                                                                \r"
     ]
    },
    {
     "name": "stdout",
     "output_type": "stream",
     "text": [
      "22/10/19 12:32:07 WARN DAGScheduler: Broadcasting large task binary with size 1242.0 KiB\n",
      "22/10/19 12:32:07 WARN DAGScheduler: Broadcasting large task binary with size 1242.7 KiB\n",
      "22/10/19 12:32:07 WARN DAGScheduler: Broadcasting large task binary with size 1245.8 KiB\n",
      "22/10/19 12:32:07 WARN DAGScheduler: Broadcasting large task binary with size 1247.2 KiB\n",
      "22/10/19 12:32:07 WARN DAGScheduler: Broadcasting large task binary with size 1248.6 KiB\n",
      "22/10/19 12:32:07 WARN DAGScheduler: Broadcasting large task binary with size 1250.0 KiB\n",
      "22/10/19 12:32:07 WARN DAGScheduler: Broadcasting large task binary with size 1251.4 KiB\n",
      "22/10/19 12:32:07 WARN DAGScheduler: Broadcasting large task binary with size 1252.8 KiB\n",
      "22/10/19 12:32:08 WARN DAGScheduler: Broadcasting large task binary with size 1254.2 KiB\n",
      "22/10/19 12:32:08 WARN DAGScheduler: Broadcasting large task binary with size 1255.6 KiB\n",
      "22/10/19 12:32:08 WARN DAGScheduler: Broadcasting large task binary with size 1256.9 KiB\n",
      "22/10/19 12:32:08 WARN DAGScheduler: Broadcasting large task binary with size 1258.9 KiB\n",
      "22/10/19 12:32:08 WARN DAGScheduler: Broadcasting large task binary with size 1257.5 KiB\n",
      "22/10/19 12:32:08 WARN DAGScheduler: Broadcasting large task binary with size 1228.6 KiB\n",
      "22/10/19 12:32:08 WARN DAGScheduler: Broadcasting large task binary with size 1266.5 KiB\n",
      "22/10/19 12:32:08 WARN DAGScheduler: Broadcasting large task binary with size 1265.1 KiB\n"
     ]
    },
    {
     "name": "stderr",
     "output_type": "stream",
     "text": [
      "                                                                                \r"
     ]
    },
    {
     "name": "stdout",
     "output_type": "stream",
     "text": [
      "22/10/19 12:32:10 WARN DAGScheduler: Broadcasting large task binary with size 1328.2 KiB\n",
      "22/10/19 12:32:10 WARN DAGScheduler: Broadcasting large task binary with size 1237.5 KiB\n",
      "22/10/19 12:32:10 WARN DAGScheduler: Broadcasting large task binary with size 1238.9 KiB\n"
     ]
    },
    {
     "name": "stderr",
     "output_type": "stream",
     "text": [
      "[Stage 4169:================================================>   (187 + 8) / 200]\r"
     ]
    },
    {
     "name": "stdout",
     "output_type": "stream",
     "text": [
      "22/10/19 12:32:12 WARN DAGScheduler: Broadcasting large task binary with size 1240.4 KiB\n"
     ]
    },
    {
     "name": "stderr",
     "output_type": "stream",
     "text": [
      "                                                                                \r"
     ]
    },
    {
     "name": "stdout",
     "output_type": "stream",
     "text": [
      "22/10/19 12:32:13 WARN DAGScheduler: Broadcasting large task binary with size 1241.7 KiB\n",
      "22/10/19 12:32:13 WARN DAGScheduler: Broadcasting large task binary with size 1240.7 KiB\n",
      "22/10/19 12:32:14 WARN DAGScheduler: Broadcasting large task binary with size 1242.0 KiB\n",
      "22/10/19 12:32:14 WARN DAGScheduler: Broadcasting large task binary with size 1242.7 KiB\n",
      "22/10/19 12:32:14 WARN DAGScheduler: Broadcasting large task binary with size 1245.8 KiB\n",
      "22/10/19 12:32:14 WARN DAGScheduler: Broadcasting large task binary with size 1247.2 KiB\n",
      "22/10/19 12:32:14 WARN DAGScheduler: Broadcasting large task binary with size 1248.6 KiB\n",
      "22/10/19 12:32:14 WARN DAGScheduler: Broadcasting large task binary with size 1250.0 KiB\n",
      "22/10/19 12:32:14 WARN DAGScheduler: Broadcasting large task binary with size 1251.4 KiB\n",
      "22/10/19 12:32:14 WARN DAGScheduler: Broadcasting large task binary with size 1252.8 KiB\n",
      "22/10/19 12:32:14 WARN DAGScheduler: Broadcasting large task binary with size 1254.2 KiB\n",
      "22/10/19 12:32:14 WARN DAGScheduler: Broadcasting large task binary with size 1255.6 KiB\n",
      "22/10/19 12:32:14 WARN DAGScheduler: Broadcasting large task binary with size 1256.9 KiB\n",
      "22/10/19 12:32:14 WARN DAGScheduler: Broadcasting large task binary with size 1258.9 KiB\n",
      "22/10/19 12:32:14 WARN DAGScheduler: Broadcasting large task binary with size 1257.5 KiB\n",
      "22/10/19 12:32:15 WARN DAGScheduler: Broadcasting large task binary with size 1228.6 KiB\n",
      "22/10/19 12:32:15 WARN DAGScheduler: Broadcasting large task binary with size 1266.5 KiB\n",
      "22/10/19 12:32:15 WARN DAGScheduler: Broadcasting large task binary with size 1265.1 KiB\n"
     ]
    },
    {
     "name": "stderr",
     "output_type": "stream",
     "text": [
      "                                                                                \r"
     ]
    },
    {
     "name": "stdout",
     "output_type": "stream",
     "text": [
      "22/10/19 12:32:17 WARN DAGScheduler: Broadcasting large task binary with size 1328.2 KiB\n",
      "22/10/19 12:32:17 WARN DAGScheduler: Broadcasting large task binary with size 1237.5 KiB\n",
      "22/10/19 12:32:17 WARN DAGScheduler: Broadcasting large task binary with size 1238.9 KiB\n"
     ]
    },
    {
     "name": "stderr",
     "output_type": "stream",
     "text": [
      "[Stage 4234:==================================================> (195 + 5) / 200]\r"
     ]
    },
    {
     "name": "stdout",
     "output_type": "stream",
     "text": [
      "22/10/19 12:32:18 WARN DAGScheduler: Broadcasting large task binary with size 1240.4 KiB\n"
     ]
    },
    {
     "name": "stderr",
     "output_type": "stream",
     "text": [
      "                                                                                \r"
     ]
    },
    {
     "name": "stdout",
     "output_type": "stream",
     "text": [
      "22/10/19 12:32:19 WARN DAGScheduler: Broadcasting large task binary with size 1241.7 KiB\n",
      "22/10/19 12:32:19 WARN DAGScheduler: Broadcasting large task binary with size 1240.7 KiB\n",
      "22/10/19 12:32:20 WARN DAGScheduler: Broadcasting large task binary with size 1242.0 KiB\n",
      "22/10/19 12:32:20 WARN DAGScheduler: Broadcasting large task binary with size 1242.7 KiB\n",
      "22/10/19 12:32:20 WARN DAGScheduler: Broadcasting large task binary with size 1245.8 KiB\n",
      "22/10/19 12:32:20 WARN DAGScheduler: Broadcasting large task binary with size 1247.2 KiB\n",
      "22/10/19 12:32:20 WARN DAGScheduler: Broadcasting large task binary with size 1248.6 KiB\n",
      "22/10/19 12:32:20 WARN DAGScheduler: Broadcasting large task binary with size 1250.0 KiB\n",
      "22/10/19 12:32:20 WARN DAGScheduler: Broadcasting large task binary with size 1251.4 KiB\n",
      "22/10/19 12:32:20 WARN DAGScheduler: Broadcasting large task binary with size 1252.8 KiB\n",
      "22/10/19 12:32:20 WARN DAGScheduler: Broadcasting large task binary with size 1254.2 KiB\n",
      "22/10/19 12:32:20 WARN DAGScheduler: Broadcasting large task binary with size 1255.6 KiB\n",
      "22/10/19 12:32:20 WARN DAGScheduler: Broadcasting large task binary with size 1256.9 KiB\n",
      "22/10/19 12:32:20 WARN DAGScheduler: Broadcasting large task binary with size 1258.9 KiB\n",
      "22/10/19 12:32:20 WARN DAGScheduler: Broadcasting large task binary with size 1257.5 KiB\n",
      "22/10/19 12:32:21 WARN DAGScheduler: Broadcasting large task binary with size 1228.6 KiB\n",
      "22/10/19 12:32:21 WARN DAGScheduler: Broadcasting large task binary with size 1266.5 KiB\n",
      "22/10/19 12:32:21 WARN DAGScheduler: Broadcasting large task binary with size 1265.1 KiB\n"
     ]
    },
    {
     "name": "stderr",
     "output_type": "stream",
     "text": [
      "                                                                                \r"
     ]
    },
    {
     "name": "stdout",
     "output_type": "stream",
     "text": [
      "22/10/19 12:32:23 WARN DAGScheduler: Broadcasting large task binary with size 1328.2 KiB\n",
      "22/10/19 12:32:23 WARN DAGScheduler: Broadcasting large task binary with size 1237.5 KiB\n",
      "22/10/19 12:32:23 WARN DAGScheduler: Broadcasting large task binary with size 1238.9 KiB\n"
     ]
    },
    {
     "name": "stderr",
     "output_type": "stream",
     "text": [
      "[Stage 4299:===================================================>(198 + 2) / 200]\r"
     ]
    },
    {
     "name": "stdout",
     "output_type": "stream",
     "text": [
      "22/10/19 12:32:24 WARN DAGScheduler: Broadcasting large task binary with size 1240.4 KiB\n"
     ]
    },
    {
     "name": "stderr",
     "output_type": "stream",
     "text": [
      "                                                                                \r"
     ]
    },
    {
     "name": "stdout",
     "output_type": "stream",
     "text": [
      "22/10/19 12:32:25 WARN DAGScheduler: Broadcasting large task binary with size 1241.7 KiB\n",
      "22/10/19 12:32:25 WARN DAGScheduler: Broadcasting large task binary with size 1240.7 KiB\n",
      "22/10/19 12:32:26 WARN DAGScheduler: Broadcasting large task binary with size 1242.0 KiB\n",
      "22/10/19 12:32:26 WARN DAGScheduler: Broadcasting large task binary with size 1242.7 KiB\n",
      "22/10/19 12:32:26 WARN DAGScheduler: Broadcasting large task binary with size 1245.8 KiB\n",
      "22/10/19 12:32:26 WARN DAGScheduler: Broadcasting large task binary with size 1247.2 KiB\n",
      "22/10/19 12:32:26 WARN DAGScheduler: Broadcasting large task binary with size 1248.6 KiB\n",
      "22/10/19 12:32:26 WARN DAGScheduler: Broadcasting large task binary with size 1250.0 KiB\n",
      "22/10/19 12:32:26 WARN DAGScheduler: Broadcasting large task binary with size 1251.4 KiB\n",
      "22/10/19 12:32:26 WARN DAGScheduler: Broadcasting large task binary with size 1252.8 KiB\n",
      "22/10/19 12:32:26 WARN DAGScheduler: Broadcasting large task binary with size 1254.2 KiB\n"
     ]
    },
    {
     "name": "stderr",
     "output_type": "stream",
     "text": [
      "[Stage 4317:>                                                      (0 + 9) / 10]\r"
     ]
    },
    {
     "name": "stdout",
     "output_type": "stream",
     "text": [
      "22/10/19 12:32:27 WARN DAGScheduler: Broadcasting large task binary with size 1255.6 KiB\n",
      "22/10/19 12:32:27 WARN DAGScheduler: Broadcasting large task binary with size 1256.9 KiB\n",
      "22/10/19 12:32:27 WARN DAGScheduler: Broadcasting large task binary with size 1258.3 KiB\n",
      "22/10/19 12:32:27 WARN DAGScheduler: Broadcasting large task binary with size 1259.7 KiB\n",
      "22/10/19 12:32:27 WARN DAGScheduler: Broadcasting large task binary with size 1261.1 KiB\n",
      "22/10/19 12:32:27 WARN DAGScheduler: Broadcasting large task binary with size 1262.5 KiB\n",
      "22/10/19 12:32:27 WARN DAGScheduler: Broadcasting large task binary with size 1263.9 KiB\n",
      "22/10/19 12:32:27 WARN DAGScheduler: Broadcasting large task binary with size 1265.3 KiB\n",
      "22/10/19 12:32:28 WARN DAGScheduler: Broadcasting large task binary with size 1266.7 KiB\n",
      "22/10/19 12:32:28 WARN DAGScheduler: Broadcasting large task binary with size 1268.0 KiB\n",
      "22/10/19 12:32:28 WARN DAGScheduler: Broadcasting large task binary with size 1269.4 KiB\n",
      "22/10/19 12:32:28 WARN DAGScheduler: Broadcasting large task binary with size 1270.8 KiB\n",
      "22/10/19 12:32:28 WARN DAGScheduler: Broadcasting large task binary with size 1272.8 KiB\n",
      "22/10/19 12:32:28 WARN DAGScheduler: Broadcasting large task binary with size 1271.4 KiB\n"
     ]
    },
    {
     "name": "stderr",
     "output_type": "stream",
     "text": [
      "                                                                                \r"
     ]
    },
    {
     "name": "stdout",
     "output_type": "stream",
     "text": [
      "22/10/19 12:32:28 WARN DAGScheduler: Broadcasting large task binary with size 1228.6 KiB\n",
      "22/10/19 12:32:28 WARN DAGScheduler: Broadcasting large task binary with size 1280.4 KiB\n",
      "22/10/19 12:32:28 WARN DAGScheduler: Broadcasting large task binary with size 1279.0 KiB\n"
     ]
    },
    {
     "name": "stderr",
     "output_type": "stream",
     "text": [
      "                                                                                \r"
     ]
    },
    {
     "name": "stdout",
     "output_type": "stream",
     "text": [
      "22/10/19 12:32:30 WARN DAGScheduler: Broadcasting large task binary with size 1342.0 KiB\n",
      "22/10/19 12:32:30 WARN DAGScheduler: Broadcasting large task binary with size 1237.5 KiB\n",
      "22/10/19 12:32:30 WARN DAGScheduler: Broadcasting large task binary with size 1238.9 KiB\n"
     ]
    },
    {
     "name": "stderr",
     "output_type": "stream",
     "text": [
      "[Stage 4417:============================================>       (172 + 8) / 200]\r"
     ]
    },
    {
     "name": "stdout",
     "output_type": "stream",
     "text": [
      "22/10/19 12:32:32 WARN DAGScheduler: Broadcasting large task binary with size 1240.4 KiB\n"
     ]
    },
    {
     "name": "stderr",
     "output_type": "stream",
     "text": [
      "                                                                                \r"
     ]
    },
    {
     "name": "stdout",
     "output_type": "stream",
     "text": [
      "22/10/19 12:32:32 WARN DAGScheduler: Broadcasting large task binary with size 1241.7 KiB\n",
      "22/10/19 12:32:32 WARN DAGScheduler: Broadcasting large task binary with size 1240.7 KiB\n",
      "22/10/19 12:32:33 WARN DAGScheduler: Broadcasting large task binary with size 1242.0 KiB\n",
      "22/10/19 12:32:33 WARN DAGScheduler: Broadcasting large task binary with size 1242.7 KiB\n",
      "22/10/19 12:32:33 WARN DAGScheduler: Broadcasting large task binary with size 1245.8 KiB\n",
      "22/10/19 12:32:33 WARN DAGScheduler: Broadcasting large task binary with size 1247.2 KiB\n",
      "22/10/19 12:32:33 WARN DAGScheduler: Broadcasting large task binary with size 1248.6 KiB\n",
      "22/10/19 12:32:33 WARN DAGScheduler: Broadcasting large task binary with size 1250.0 KiB\n",
      "22/10/19 12:32:33 WARN DAGScheduler: Broadcasting large task binary with size 1251.4 KiB\n",
      "22/10/19 12:32:33 WARN DAGScheduler: Broadcasting large task binary with size 1252.8 KiB\n",
      "22/10/19 12:32:34 WARN DAGScheduler: Broadcasting large task binary with size 1254.2 KiB\n",
      "22/10/19 12:32:34 WARN DAGScheduler: Broadcasting large task binary with size 1255.6 KiB\n",
      "22/10/19 12:32:34 WARN DAGScheduler: Broadcasting large task binary with size 1256.9 KiB\n",
      "22/10/19 12:32:34 WARN DAGScheduler: Broadcasting large task binary with size 1258.3 KiB\n",
      "22/10/19 12:32:34 WARN DAGScheduler: Broadcasting large task binary with size 1259.7 KiB\n",
      "22/10/19 12:32:34 WARN DAGScheduler: Broadcasting large task binary with size 1261.1 KiB\n",
      "22/10/19 12:32:34 WARN DAGScheduler: Broadcasting large task binary with size 1262.5 KiB\n",
      "22/10/19 12:32:34 WARN DAGScheduler: Broadcasting large task binary with size 1263.9 KiB\n",
      "22/10/19 12:32:34 WARN DAGScheduler: Broadcasting large task binary with size 1265.3 KiB\n",
      "22/10/19 12:32:34 WARN DAGScheduler: Broadcasting large task binary with size 1266.7 KiB\n",
      "22/10/19 12:32:34 WARN DAGScheduler: Broadcasting large task binary with size 1268.0 KiB\n",
      "22/10/19 12:32:34 WARN DAGScheduler: Broadcasting large task binary with size 1269.4 KiB\n",
      "22/10/19 12:32:34 WARN DAGScheduler: Broadcasting large task binary with size 1270.8 KiB\n",
      "22/10/19 12:32:34 WARN DAGScheduler: Broadcasting large task binary with size 1272.8 KiB\n",
      "22/10/19 12:32:34 WARN DAGScheduler: Broadcasting large task binary with size 1271.4 KiB\n",
      "22/10/19 12:32:35 WARN DAGScheduler: Broadcasting large task binary with size 1228.6 KiB\n",
      "22/10/19 12:32:35 WARN DAGScheduler: Broadcasting large task binary with size 1280.4 KiB\n",
      "22/10/19 12:32:35 WARN DAGScheduler: Broadcasting large task binary with size 1279.0 KiB\n"
     ]
    },
    {
     "name": "stderr",
     "output_type": "stream",
     "text": [
      "                                                                                \r"
     ]
    },
    {
     "name": "stdout",
     "output_type": "stream",
     "text": [
      "22/10/19 12:32:37 WARN DAGScheduler: Broadcasting large task binary with size 1342.0 KiB\n",
      "22/10/19 12:32:37 WARN DAGScheduler: Broadcasting large task binary with size 1237.5 KiB\n",
      "22/10/19 12:32:37 WARN DAGScheduler: Broadcasting large task binary with size 1238.9 KiB\n"
     ]
    },
    {
     "name": "stderr",
     "output_type": "stream",
     "text": [
      "[Stage 4512:==============================================>     (178 + 8) / 200]\r"
     ]
    },
    {
     "name": "stdout",
     "output_type": "stream",
     "text": [
      "22/10/19 12:32:38 WARN DAGScheduler: Broadcasting large task binary with size 1240.4 KiB\n"
     ]
    },
    {
     "name": "stderr",
     "output_type": "stream",
     "text": [
      "                                                                                \r"
     ]
    },
    {
     "name": "stdout",
     "output_type": "stream",
     "text": [
      "22/10/19 12:32:39 WARN DAGScheduler: Broadcasting large task binary with size 1241.7 KiB\n",
      "22/10/19 12:32:39 WARN DAGScheduler: Broadcasting large task binary with size 1240.7 KiB\n"
     ]
    },
    {
     "name": "stderr",
     "output_type": "stream",
     "text": [
      "                                                                                \r"
     ]
    },
    {
     "name": "stdout",
     "output_type": "stream",
     "text": [
      "22/10/19 12:32:40 WARN DAGScheduler: Broadcasting large task binary with size 1242.0 KiB\n",
      "22/10/19 12:32:40 WARN DAGScheduler: Broadcasting large task binary with size 1242.7 KiB\n",
      "22/10/19 12:32:40 WARN DAGScheduler: Broadcasting large task binary with size 1245.8 KiB\n",
      "22/10/19 12:32:40 WARN DAGScheduler: Broadcasting large task binary with size 1247.2 KiB\n",
      "22/10/19 12:32:40 WARN DAGScheduler: Broadcasting large task binary with size 1248.6 KiB\n",
      "22/10/19 12:32:40 WARN DAGScheduler: Broadcasting large task binary with size 1250.0 KiB\n",
      "22/10/19 12:32:40 WARN DAGScheduler: Broadcasting large task binary with size 1251.4 KiB\n",
      "22/10/19 12:32:40 WARN DAGScheduler: Broadcasting large task binary with size 1252.8 KiB\n",
      "22/10/19 12:32:40 WARN DAGScheduler: Broadcasting large task binary with size 1254.2 KiB\n",
      "22/10/19 12:32:40 WARN DAGScheduler: Broadcasting large task binary with size 1255.6 KiB\n",
      "22/10/19 12:32:40 WARN DAGScheduler: Broadcasting large task binary with size 1256.9 KiB\n",
      "22/10/19 12:32:40 WARN DAGScheduler: Broadcasting large task binary with size 1258.3 KiB\n",
      "22/10/19 12:32:41 WARN DAGScheduler: Broadcasting large task binary with size 1259.7 KiB\n",
      "22/10/19 12:32:41 WARN DAGScheduler: Broadcasting large task binary with size 1261.1 KiB\n",
      "22/10/19 12:32:41 WARN DAGScheduler: Broadcasting large task binary with size 1262.5 KiB\n",
      "22/10/19 12:32:41 WARN DAGScheduler: Broadcasting large task binary with size 1263.9 KiB\n",
      "22/10/19 12:32:41 WARN DAGScheduler: Broadcasting large task binary with size 1265.3 KiB\n",
      "22/10/19 12:32:41 WARN DAGScheduler: Broadcasting large task binary with size 1266.7 KiB\n",
      "22/10/19 12:32:41 WARN DAGScheduler: Broadcasting large task binary with size 1268.0 KiB\n",
      "22/10/19 12:32:41 WARN DAGScheduler: Broadcasting large task binary with size 1269.4 KiB\n",
      "22/10/19 12:32:41 WARN DAGScheduler: Broadcasting large task binary with size 1270.8 KiB\n",
      "22/10/19 12:32:41 WARN DAGScheduler: Broadcasting large task binary with size 1272.8 KiB\n",
      "22/10/19 12:32:41 WARN DAGScheduler: Broadcasting large task binary with size 1271.4 KiB\n",
      "22/10/19 12:32:42 WARN DAGScheduler: Broadcasting large task binary with size 1228.6 KiB\n",
      "22/10/19 12:32:42 WARN DAGScheduler: Broadcasting large task binary with size 1280.4 KiB\n",
      "22/10/19 12:32:42 WARN DAGScheduler: Broadcasting large task binary with size 1279.0 KiB\n"
     ]
    },
    {
     "name": "stderr",
     "output_type": "stream",
     "text": [
      "                                                                                \r"
     ]
    },
    {
     "name": "stdout",
     "output_type": "stream",
     "text": [
      "22/10/19 12:32:43 WARN DAGScheduler: Broadcasting large task binary with size 1342.0 KiB\n",
      "22/10/19 12:32:43 WARN DAGScheduler: Broadcasting large task binary with size 1237.5 KiB\n",
      "22/10/19 12:32:43 WARN DAGScheduler: Broadcasting large task binary with size 1238.9 KiB\n"
     ]
    },
    {
     "name": "stderr",
     "output_type": "stream",
     "text": [
      "[Stage 4630:===============================================>    (182 + 8) / 200]\r"
     ]
    },
    {
     "name": "stdout",
     "output_type": "stream",
     "text": [
      "22/10/19 12:32:45 WARN DAGScheduler: Broadcasting large task binary with size 1240.4 KiB\n"
     ]
    },
    {
     "name": "stderr",
     "output_type": "stream",
     "text": [
      "[Stage 4631:=================================>                  (127 + 8) / 200]\r"
     ]
    },
    {
     "name": "stdout",
     "output_type": "stream",
     "text": [
      "22/10/19 12:32:45 WARN DAGScheduler: Broadcasting large task binary with size 1241.7 KiB\n",
      "22/10/19 12:32:46 WARN DAGScheduler: Broadcasting large task binary with size 1240.7 KiB\n"
     ]
    },
    {
     "name": "stderr",
     "output_type": "stream",
     "text": [
      "                                                                                \r"
     ]
    },
    {
     "name": "stdout",
     "output_type": "stream",
     "text": [
      "22/10/19 12:32:46 WARN DAGScheduler: Broadcasting large task binary with size 1242.0 KiB\n",
      "22/10/19 12:32:47 WARN DAGScheduler: Broadcasting large task binary with size 1242.7 KiB\n",
      "22/10/19 12:32:47 WARN DAGScheduler: Broadcasting large task binary with size 1245.8 KiB\n",
      "22/10/19 12:32:47 WARN DAGScheduler: Broadcasting large task binary with size 1247.2 KiB\n",
      "22/10/19 12:32:47 WARN DAGScheduler: Broadcasting large task binary with size 1248.6 KiB\n",
      "22/10/19 12:32:47 WARN DAGScheduler: Broadcasting large task binary with size 1250.0 KiB\n",
      "22/10/19 12:32:47 WARN DAGScheduler: Broadcasting large task binary with size 1251.4 KiB\n",
      "22/10/19 12:32:47 WARN DAGScheduler: Broadcasting large task binary with size 1252.8 KiB\n",
      "22/10/19 12:32:47 WARN DAGScheduler: Broadcasting large task binary with size 1254.2 KiB\n",
      "22/10/19 12:32:47 WARN DAGScheduler: Broadcasting large task binary with size 1255.6 KiB\n",
      "22/10/19 12:32:47 WARN DAGScheduler: Broadcasting large task binary with size 1256.9 KiB\n",
      "22/10/19 12:32:47 WARN DAGScheduler: Broadcasting large task binary with size 1258.3 KiB\n",
      "22/10/19 12:32:47 WARN DAGScheduler: Broadcasting large task binary with size 1259.7 KiB\n",
      "22/10/19 12:32:47 WARN DAGScheduler: Broadcasting large task binary with size 1261.1 KiB\n",
      "22/10/19 12:32:47 WARN DAGScheduler: Broadcasting large task binary with size 1262.5 KiB\n",
      "22/10/19 12:32:47 WARN DAGScheduler: Broadcasting large task binary with size 1263.9 KiB\n",
      "22/10/19 12:32:47 WARN DAGScheduler: Broadcasting large task binary with size 1265.3 KiB\n",
      "22/10/19 12:32:48 WARN DAGScheduler: Broadcasting large task binary with size 1266.7 KiB\n",
      "22/10/19 12:32:48 WARN DAGScheduler: Broadcasting large task binary with size 1268.0 KiB\n",
      "22/10/19 12:32:48 WARN DAGScheduler: Broadcasting large task binary with size 1269.4 KiB\n",
      "22/10/19 12:32:48 WARN DAGScheduler: Broadcasting large task binary with size 1270.8 KiB\n",
      "22/10/19 12:32:48 WARN DAGScheduler: Broadcasting large task binary with size 1272.2 KiB\n",
      "22/10/19 12:32:48 WARN DAGScheduler: Broadcasting large task binary with size 1273.6 KiB\n",
      "22/10/19 12:32:48 WARN DAGScheduler: Broadcasting large task binary with size 1275.0 KiB\n",
      "22/10/19 12:32:48 WARN DAGScheduler: Broadcasting large task binary with size 1276.4 KiB\n",
      "22/10/19 12:32:48 WARN DAGScheduler: Broadcasting large task binary with size 1277.7 KiB\n",
      "22/10/19 12:32:48 WARN DAGScheduler: Broadcasting large task binary with size 1279.1 KiB\n",
      "22/10/19 12:32:48 WARN DAGScheduler: Broadcasting large task binary with size 1280.5 KiB\n",
      "22/10/19 12:32:48 WARN DAGScheduler: Broadcasting large task binary with size 1281.9 KiB\n",
      "22/10/19 12:32:48 WARN DAGScheduler: Broadcasting large task binary with size 1283.3 KiB\n",
      "22/10/19 12:32:48 WARN DAGScheduler: Broadcasting large task binary with size 1284.7 KiB\n",
      "22/10/19 12:32:49 WARN DAGScheduler: Broadcasting large task binary with size 1286.6 KiB\n",
      "22/10/19 12:32:49 WARN DAGScheduler: Broadcasting large task binary with size 1285.3 KiB\n",
      "22/10/19 12:32:49 WARN DAGScheduler: Broadcasting large task binary with size 1228.6 KiB\n",
      "22/10/19 12:32:49 WARN DAGScheduler: Broadcasting large task binary with size 1294.3 KiB\n",
      "22/10/19 12:32:49 WARN DAGScheduler: Broadcasting large task binary with size 1292.9 KiB\n"
     ]
    },
    {
     "name": "stderr",
     "output_type": "stream",
     "text": [
      "                                                                                \r"
     ]
    },
    {
     "name": "stdout",
     "output_type": "stream",
     "text": [
      "22/10/19 12:32:51 WARN DAGScheduler: Broadcasting large task binary with size 1355.9 KiB\n",
      "22/10/19 12:32:51 WARN DAGScheduler: Broadcasting large task binary with size 1237.5 KiB\n",
      "22/10/19 12:32:51 WARN DAGScheduler: Broadcasting large task binary with size 1238.9 KiB\n"
     ]
    },
    {
     "name": "stderr",
     "output_type": "stream",
     "text": [
      "[Stage 4788:==========================================>         (164 + 8) / 200]\r"
     ]
    },
    {
     "name": "stdout",
     "output_type": "stream",
     "text": [
      "22/10/19 12:32:52 WARN DAGScheduler: Broadcasting large task binary with size 1240.4 KiB\n"
     ]
    },
    {
     "name": "stderr",
     "output_type": "stream",
     "text": [
      "                                                                                \r"
     ]
    },
    {
     "name": "stdout",
     "output_type": "stream",
     "text": [
      "22/10/19 12:32:53 WARN DAGScheduler: Broadcasting large task binary with size 1241.7 KiB\n",
      "22/10/19 12:32:53 WARN DAGScheduler: Broadcasting large task binary with size 1240.7 KiB\n"
     ]
    },
    {
     "name": "stderr",
     "output_type": "stream",
     "text": [
      "[Stage 4793:===================================>                (136 + 8) / 200]\r"
     ]
    },
    {
     "name": "stdout",
     "output_type": "stream",
     "text": [
      "22/10/19 12:32:54 WARN DAGScheduler: Broadcasting large task binary with size 1242.0 KiB\n"
     ]
    },
    {
     "name": "stderr",
     "output_type": "stream",
     "text": [
      "                                                                                \r"
     ]
    },
    {
     "name": "stdout",
     "output_type": "stream",
     "text": [
      "22/10/19 12:32:55 WARN DAGScheduler: Broadcasting large task binary with size 1242.7 KiB\n",
      "22/10/19 12:32:55 WARN DAGScheduler: Broadcasting large task binary with size 1245.8 KiB\n",
      "22/10/19 12:32:55 WARN DAGScheduler: Broadcasting large task binary with size 1247.2 KiB\n",
      "22/10/19 12:32:55 WARN DAGScheduler: Broadcasting large task binary with size 1248.6 KiB\n",
      "22/10/19 12:32:55 WARN DAGScheduler: Broadcasting large task binary with size 1250.0 KiB\n",
      "22/10/19 12:32:55 WARN DAGScheduler: Broadcasting large task binary with size 1251.4 KiB\n",
      "22/10/19 12:32:55 WARN DAGScheduler: Broadcasting large task binary with size 1252.8 KiB\n",
      "22/10/19 12:32:55 WARN DAGScheduler: Broadcasting large task binary with size 1254.2 KiB\n",
      "22/10/19 12:32:55 WARN DAGScheduler: Broadcasting large task binary with size 1255.6 KiB\n",
      "22/10/19 12:32:55 WARN DAGScheduler: Broadcasting large task binary with size 1256.9 KiB\n",
      "22/10/19 12:32:55 WARN DAGScheduler: Broadcasting large task binary with size 1258.3 KiB\n",
      "22/10/19 12:32:55 WARN DAGScheduler: Broadcasting large task binary with size 1259.7 KiB\n",
      "22/10/19 12:32:55 WARN DAGScheduler: Broadcasting large task binary with size 1261.1 KiB\n",
      "22/10/19 12:32:55 WARN DAGScheduler: Broadcasting large task binary with size 1262.5 KiB\n",
      "22/10/19 12:32:56 WARN DAGScheduler: Broadcasting large task binary with size 1263.9 KiB\n",
      "22/10/19 12:32:56 WARN DAGScheduler: Broadcasting large task binary with size 1265.3 KiB\n",
      "22/10/19 12:32:56 WARN DAGScheduler: Broadcasting large task binary with size 1266.7 KiB\n",
      "22/10/19 12:32:56 WARN DAGScheduler: Broadcasting large task binary with size 1268.0 KiB\n",
      "22/10/19 12:32:56 WARN DAGScheduler: Broadcasting large task binary with size 1269.4 KiB\n",
      "22/10/19 12:32:56 WARN DAGScheduler: Broadcasting large task binary with size 1270.8 KiB\n",
      "22/10/19 12:32:56 WARN DAGScheduler: Broadcasting large task binary with size 1272.2 KiB\n",
      "22/10/19 12:32:56 WARN DAGScheduler: Broadcasting large task binary with size 1273.6 KiB\n",
      "22/10/19 12:32:56 WARN DAGScheduler: Broadcasting large task binary with size 1275.0 KiB\n",
      "22/10/19 12:32:56 WARN DAGScheduler: Broadcasting large task binary with size 1276.4 KiB\n",
      "22/10/19 12:32:56 WARN DAGScheduler: Broadcasting large task binary with size 1277.7 KiB\n",
      "22/10/19 12:32:56 WARN DAGScheduler: Broadcasting large task binary with size 1279.1 KiB\n",
      "22/10/19 12:32:56 WARN DAGScheduler: Broadcasting large task binary with size 1280.5 KiB\n",
      "22/10/19 12:32:56 WARN DAGScheduler: Broadcasting large task binary with size 1281.9 KiB\n",
      "22/10/19 12:32:56 WARN DAGScheduler: Broadcasting large task binary with size 1283.3 KiB\n",
      "22/10/19 12:32:56 WARN DAGScheduler: Broadcasting large task binary with size 1284.7 KiB\n",
      "22/10/19 12:32:57 WARN DAGScheduler: Broadcasting large task binary with size 1286.6 KiB\n",
      "22/10/19 12:32:57 WARN DAGScheduler: Broadcasting large task binary with size 1285.3 KiB\n",
      "22/10/19 12:32:57 WARN DAGScheduler: Broadcasting large task binary with size 1228.6 KiB\n",
      "22/10/19 12:32:57 WARN DAGScheduler: Broadcasting large task binary with size 1294.3 KiB\n",
      "22/10/19 12:32:57 WARN DAGScheduler: Broadcasting large task binary with size 1292.9 KiB\n"
     ]
    },
    {
     "name": "stderr",
     "output_type": "stream",
     "text": [
      "                                                                                \r"
     ]
    },
    {
     "name": "stdout",
     "output_type": "stream",
     "text": [
      "22/10/19 12:32:59 WARN DAGScheduler: Broadcasting large task binary with size 1355.9 KiB\n",
      "22/10/19 12:32:59 WARN DAGScheduler: Broadcasting large task binary with size 1237.5 KiB\n",
      "22/10/19 12:32:59 WARN DAGScheduler: Broadcasting large task binary with size 1238.9 KiB\n"
     ]
    },
    {
     "name": "stderr",
     "output_type": "stream",
     "text": [
      "[Stage 4946:============================================>       (170 + 8) / 200]\r"
     ]
    },
    {
     "name": "stdout",
     "output_type": "stream",
     "text": [
      "22/10/19 12:33:01 WARN DAGScheduler: Broadcasting large task binary with size 1240.4 KiB\n"
     ]
    },
    {
     "name": "stderr",
     "output_type": "stream",
     "text": [
      "                                                                                \r"
     ]
    },
    {
     "name": "stdout",
     "output_type": "stream",
     "text": [
      "22/10/19 12:33:01 WARN DAGScheduler: Broadcasting large task binary with size 1241.7 KiB\n",
      "22/10/19 12:33:01 WARN DAGScheduler: Broadcasting large task binary with size 1240.7 KiB\n",
      "22/10/19 12:33:02 WARN DAGScheduler: Broadcasting large task binary with size 1242.0 KiB\n",
      "22/10/19 12:33:02 WARN DAGScheduler: Broadcasting large task binary with size 1242.7 KiB\n",
      "22/10/19 12:33:02 WARN DAGScheduler: Broadcasting large task binary with size 1245.8 KiB\n",
      "22/10/19 12:33:02 WARN DAGScheduler: Broadcasting large task binary with size 1247.2 KiB\n",
      "22/10/19 12:33:02 WARN DAGScheduler: Broadcasting large task binary with size 1248.6 KiB\n",
      "22/10/19 12:33:02 WARN DAGScheduler: Broadcasting large task binary with size 1250.0 KiB\n",
      "22/10/19 12:33:02 WARN DAGScheduler: Broadcasting large task binary with size 1251.4 KiB\n",
      "22/10/19 12:33:03 WARN DAGScheduler: Broadcasting large task binary with size 1252.8 KiB\n",
      "22/10/19 12:33:03 WARN DAGScheduler: Broadcasting large task binary with size 1254.2 KiB\n",
      "22/10/19 12:33:03 WARN DAGScheduler: Broadcasting large task binary with size 1255.6 KiB\n",
      "22/10/19 12:33:03 WARN DAGScheduler: Broadcasting large task binary with size 1256.9 KiB\n",
      "22/10/19 12:33:03 WARN DAGScheduler: Broadcasting large task binary with size 1258.3 KiB\n",
      "22/10/19 12:33:03 WARN DAGScheduler: Broadcasting large task binary with size 1259.7 KiB\n",
      "22/10/19 12:33:03 WARN DAGScheduler: Broadcasting large task binary with size 1261.1 KiB\n",
      "22/10/19 12:33:03 WARN DAGScheduler: Broadcasting large task binary with size 1262.5 KiB\n",
      "22/10/19 12:33:03 WARN DAGScheduler: Broadcasting large task binary with size 1263.9 KiB\n",
      "22/10/19 12:33:03 WARN DAGScheduler: Broadcasting large task binary with size 1265.3 KiB\n",
      "22/10/19 12:33:03 WARN DAGScheduler: Broadcasting large task binary with size 1266.7 KiB\n",
      "22/10/19 12:33:03 WARN DAGScheduler: Broadcasting large task binary with size 1268.0 KiB\n",
      "22/10/19 12:33:03 WARN DAGScheduler: Broadcasting large task binary with size 1269.4 KiB\n",
      "22/10/19 12:33:03 WARN DAGScheduler: Broadcasting large task binary with size 1270.8 KiB\n",
      "22/10/19 12:33:03 WARN DAGScheduler: Broadcasting large task binary with size 1272.2 KiB\n",
      "22/10/19 12:33:03 WARN DAGScheduler: Broadcasting large task binary with size 1273.6 KiB\n",
      "22/10/19 12:33:04 WARN DAGScheduler: Broadcasting large task binary with size 1275.0 KiB\n",
      "22/10/19 12:33:04 WARN DAGScheduler: Broadcasting large task binary with size 1276.4 KiB\n",
      "22/10/19 12:33:04 WARN DAGScheduler: Broadcasting large task binary with size 1277.7 KiB\n",
      "22/10/19 12:33:04 WARN DAGScheduler: Broadcasting large task binary with size 1279.1 KiB\n",
      "22/10/19 12:33:04 WARN DAGScheduler: Broadcasting large task binary with size 1280.5 KiB\n",
      "22/10/19 12:33:04 WARN DAGScheduler: Broadcasting large task binary with size 1281.9 KiB\n",
      "22/10/19 12:33:04 WARN DAGScheduler: Broadcasting large task binary with size 1283.3 KiB\n",
      "22/10/19 12:33:04 WARN DAGScheduler: Broadcasting large task binary with size 1284.7 KiB\n",
      "22/10/19 12:33:04 WARN DAGScheduler: Broadcasting large task binary with size 1286.6 KiB\n",
      "22/10/19 12:33:04 WARN DAGScheduler: Broadcasting large task binary with size 1285.3 KiB\n",
      "22/10/19 12:33:05 WARN DAGScheduler: Broadcasting large task binary with size 1228.6 KiB\n",
      "22/10/19 12:33:05 WARN DAGScheduler: Broadcasting large task binary with size 1294.3 KiB\n",
      "22/10/19 12:33:05 WARN DAGScheduler: Broadcasting large task binary with size 1292.9 KiB\n"
     ]
    },
    {
     "name": "stderr",
     "output_type": "stream",
     "text": [
      "                                                                                \r"
     ]
    },
    {
     "name": "stdout",
     "output_type": "stream",
     "text": [
      "22/10/19 12:33:06 WARN DAGScheduler: Broadcasting large task binary with size 1355.9 KiB\n",
      "22/10/19 12:33:07 WARN DAGScheduler: Broadcasting large task binary with size 1237.5 KiB\n",
      "22/10/19 12:33:07 WARN DAGScheduler: Broadcasting large task binary with size 1238.9 KiB\n"
     ]
    },
    {
     "name": "stderr",
     "output_type": "stream",
     "text": [
      "[Stage 5071:=============================================>      (175 + 8) / 200]\r"
     ]
    },
    {
     "name": "stdout",
     "output_type": "stream",
     "text": [
      "22/10/19 12:33:08 WARN DAGScheduler: Broadcasting large task binary with size 1240.4 KiB\n"
     ]
    },
    {
     "name": "stderr",
     "output_type": "stream",
     "text": [
      "                                                                                \r"
     ]
    },
    {
     "name": "stdout",
     "output_type": "stream",
     "text": [
      "22/10/19 12:33:09 WARN DAGScheduler: Broadcasting large task binary with size 1241.7 KiB\n",
      "22/10/19 12:33:09 WARN DAGScheduler: Broadcasting large task binary with size 1240.7 KiB\n",
      "22/10/19 12:33:09 WARN DAGScheduler: Broadcasting large task binary with size 1242.0 KiB\n",
      "22/10/19 12:33:09 WARN DAGScheduler: Broadcasting large task binary with size 1242.7 KiB\n",
      "22/10/19 12:33:09 WARN DAGScheduler: Broadcasting large task binary with size 1245.8 KiB\n",
      "22/10/19 12:33:10 WARN DAGScheduler: Broadcasting large task binary with size 1247.2 KiB\n",
      "22/10/19 12:33:10 WARN DAGScheduler: Broadcasting large task binary with size 1248.6 KiB\n",
      "22/10/19 12:33:10 WARN DAGScheduler: Broadcasting large task binary with size 1250.0 KiB\n",
      "22/10/19 12:33:10 WARN DAGScheduler: Broadcasting large task binary with size 1251.4 KiB\n",
      "22/10/19 12:33:10 WARN DAGScheduler: Broadcasting large task binary with size 1252.8 KiB\n",
      "22/10/19 12:33:10 WARN DAGScheduler: Broadcasting large task binary with size 1254.2 KiB\n",
      "22/10/19 12:33:10 WARN DAGScheduler: Broadcasting large task binary with size 1255.6 KiB\n",
      "22/10/19 12:33:10 WARN DAGScheduler: Broadcasting large task binary with size 1256.9 KiB\n",
      "22/10/19 12:33:10 WARN DAGScheduler: Broadcasting large task binary with size 1258.9 KiB\n",
      "22/10/19 12:33:10 WARN DAGScheduler: Broadcasting large task binary with size 1257.5 KiB\n",
      "22/10/19 12:33:11 WARN DAGScheduler: Broadcasting large task binary with size 1228.6 KiB\n",
      "22/10/19 12:33:11 WARN DAGScheduler: Broadcasting large task binary with size 1266.5 KiB\n",
      "22/10/19 12:33:11 WARN DAGScheduler: Broadcasting large task binary with size 1265.1 KiB\n"
     ]
    },
    {
     "name": "stderr",
     "output_type": "stream",
     "text": [
      "                                                                                \r"
     ]
    },
    {
     "name": "stdout",
     "output_type": "stream",
     "text": [
      "22/10/19 12:33:12 WARN DAGScheduler: Broadcasting large task binary with size 1328.2 KiB\n",
      "22/10/19 12:33:13 WARN DAGScheduler: Broadcasting large task binary with size 1237.5 KiB\n",
      "22/10/19 12:33:13 WARN DAGScheduler: Broadcasting large task binary with size 1238.9 KiB\n"
     ]
    },
    {
     "name": "stderr",
     "output_type": "stream",
     "text": [
      "[Stage 5149:=================================================>  (192 + 8) / 200]\r"
     ]
    },
    {
     "name": "stdout",
     "output_type": "stream",
     "text": [
      "22/10/19 12:33:15 WARN DAGScheduler: Broadcasting large task binary with size 1240.4 KiB\n"
     ]
    },
    {
     "name": "stderr",
     "output_type": "stream",
     "text": [
      "                                                                                \r"
     ]
    },
    {
     "name": "stdout",
     "output_type": "stream",
     "text": [
      "22/10/19 12:33:16 WARN DAGScheduler: Broadcasting large task binary with size 1241.7 KiB\n",
      "22/10/19 12:33:16 WARN DAGScheduler: Broadcasting large task binary with size 1240.7 KiB\n",
      "22/10/19 12:33:16 WARN DAGScheduler: Broadcasting large task binary with size 1242.0 KiB\n",
      "22/10/19 12:33:16 WARN DAGScheduler: Broadcasting large task binary with size 1242.7 KiB\n",
      "22/10/19 12:33:16 WARN DAGScheduler: Broadcasting large task binary with size 1245.8 KiB\n",
      "22/10/19 12:33:17 WARN DAGScheduler: Broadcasting large task binary with size 1247.2 KiB\n",
      "22/10/19 12:33:17 WARN DAGScheduler: Broadcasting large task binary with size 1248.6 KiB\n",
      "22/10/19 12:33:17 WARN DAGScheduler: Broadcasting large task binary with size 1250.0 KiB\n",
      "22/10/19 12:33:17 WARN DAGScheduler: Broadcasting large task binary with size 1251.4 KiB\n",
      "22/10/19 12:33:17 WARN DAGScheduler: Broadcasting large task binary with size 1252.8 KiB\n",
      "22/10/19 12:33:17 WARN DAGScheduler: Broadcasting large task binary with size 1254.2 KiB\n",
      "22/10/19 12:33:17 WARN DAGScheduler: Broadcasting large task binary with size 1255.6 KiB\n",
      "22/10/19 12:33:17 WARN DAGScheduler: Broadcasting large task binary with size 1256.9 KiB\n",
      "22/10/19 12:33:17 WARN DAGScheduler: Broadcasting large task binary with size 1258.9 KiB\n",
      "22/10/19 12:33:17 WARN DAGScheduler: Broadcasting large task binary with size 1257.5 KiB\n",
      "22/10/19 12:33:18 WARN DAGScheduler: Broadcasting large task binary with size 1228.6 KiB\n",
      "22/10/19 12:33:18 WARN DAGScheduler: Broadcasting large task binary with size 1266.5 KiB\n",
      "22/10/19 12:33:18 WARN DAGScheduler: Broadcasting large task binary with size 1265.1 KiB\n"
     ]
    },
    {
     "name": "stderr",
     "output_type": "stream",
     "text": [
      "                                                                                \r"
     ]
    },
    {
     "name": "stdout",
     "output_type": "stream",
     "text": [
      "22/10/19 12:33:19 WARN DAGScheduler: Broadcasting large task binary with size 1328.2 KiB\n",
      "22/10/19 12:33:20 WARN DAGScheduler: Broadcasting large task binary with size 1237.5 KiB\n",
      "22/10/19 12:33:20 WARN DAGScheduler: Broadcasting large task binary with size 1238.9 KiB\n"
     ]
    },
    {
     "name": "stderr",
     "output_type": "stream",
     "text": [
      "[Stage 5227:===========================================>        (166 + 8) / 200]\r"
     ]
    },
    {
     "name": "stdout",
     "output_type": "stream",
     "text": [
      "22/10/19 12:33:21 WARN DAGScheduler: Broadcasting large task binary with size 1240.4 KiB\n"
     ]
    },
    {
     "name": "stderr",
     "output_type": "stream",
     "text": [
      "                                                                                \r"
     ]
    },
    {
     "name": "stdout",
     "output_type": "stream",
     "text": [
      "22/10/19 12:33:22 WARN DAGScheduler: Broadcasting large task binary with size 1241.7 KiB\n",
      "22/10/19 12:33:22 WARN DAGScheduler: Broadcasting large task binary with size 1240.7 KiB\n",
      "22/10/19 12:33:22 WARN DAGScheduler: Broadcasting large task binary with size 1242.0 KiB\n",
      "22/10/19 12:33:23 WARN DAGScheduler: Broadcasting large task binary with size 1242.7 KiB\n",
      "22/10/19 12:33:23 WARN DAGScheduler: Broadcasting large task binary with size 1245.8 KiB\n",
      "22/10/19 12:33:23 WARN DAGScheduler: Broadcasting large task binary with size 1247.2 KiB\n",
      "22/10/19 12:33:23 WARN DAGScheduler: Broadcasting large task binary with size 1248.6 KiB\n",
      "22/10/19 12:33:23 WARN DAGScheduler: Broadcasting large task binary with size 1250.0 KiB\n",
      "22/10/19 12:33:23 WARN DAGScheduler: Broadcasting large task binary with size 1251.4 KiB\n",
      "22/10/19 12:33:23 WARN DAGScheduler: Broadcasting large task binary with size 1252.8 KiB\n",
      "22/10/19 12:33:23 WARN DAGScheduler: Broadcasting large task binary with size 1254.2 KiB\n",
      "22/10/19 12:33:23 WARN DAGScheduler: Broadcasting large task binary with size 1255.6 KiB\n",
      "22/10/19 12:33:23 WARN DAGScheduler: Broadcasting large task binary with size 1256.9 KiB\n",
      "22/10/19 12:33:23 WARN DAGScheduler: Broadcasting large task binary with size 1258.9 KiB\n",
      "22/10/19 12:33:23 WARN DAGScheduler: Broadcasting large task binary with size 1257.5 KiB\n",
      "22/10/19 12:33:24 WARN DAGScheduler: Broadcasting large task binary with size 1228.6 KiB\n",
      "22/10/19 12:33:24 WARN DAGScheduler: Broadcasting large task binary with size 1266.5 KiB\n",
      "22/10/19 12:33:24 WARN DAGScheduler: Broadcasting large task binary with size 1265.1 KiB\n"
     ]
    },
    {
     "name": "stderr",
     "output_type": "stream",
     "text": [
      "                                                                                \r"
     ]
    },
    {
     "name": "stdout",
     "output_type": "stream",
     "text": [
      "22/10/19 12:33:26 WARN DAGScheduler: Broadcasting large task binary with size 1328.2 KiB\n",
      "22/10/19 12:33:26 WARN DAGScheduler: Broadcasting large task binary with size 1237.5 KiB\n",
      "22/10/19 12:33:26 WARN DAGScheduler: Broadcasting large task binary with size 1238.9 KiB\n"
     ]
    },
    {
     "name": "stderr",
     "output_type": "stream",
     "text": [
      "[Stage 5292:================================================>   (185 + 8) / 200]\r"
     ]
    },
    {
     "name": "stdout",
     "output_type": "stream",
     "text": [
      "22/10/19 12:33:27 WARN DAGScheduler: Broadcasting large task binary with size 1240.4 KiB\n"
     ]
    },
    {
     "name": "stderr",
     "output_type": "stream",
     "text": [
      "                                                                                \r"
     ]
    },
    {
     "name": "stdout",
     "output_type": "stream",
     "text": [
      "22/10/19 12:33:28 WARN DAGScheduler: Broadcasting large task binary with size 1241.7 KiB\n",
      "22/10/19 12:33:28 WARN DAGScheduler: Broadcasting large task binary with size 1240.7 KiB\n",
      "22/10/19 12:33:28 WARN DAGScheduler: Broadcasting large task binary with size 1242.0 KiB\n",
      "22/10/19 12:33:29 WARN DAGScheduler: Broadcasting large task binary with size 1242.7 KiB\n",
      "22/10/19 12:33:29 WARN DAGScheduler: Broadcasting large task binary with size 1245.8 KiB\n",
      "22/10/19 12:33:29 WARN DAGScheduler: Broadcasting large task binary with size 1247.2 KiB\n",
      "22/10/19 12:33:29 WARN DAGScheduler: Broadcasting large task binary with size 1248.6 KiB\n",
      "22/10/19 12:33:29 WARN DAGScheduler: Broadcasting large task binary with size 1250.0 KiB\n",
      "22/10/19 12:33:29 WARN DAGScheduler: Broadcasting large task binary with size 1251.4 KiB\n",
      "22/10/19 12:33:29 WARN DAGScheduler: Broadcasting large task binary with size 1252.8 KiB\n",
      "22/10/19 12:33:29 WARN DAGScheduler: Broadcasting large task binary with size 1254.2 KiB\n",
      "22/10/19 12:33:29 WARN DAGScheduler: Broadcasting large task binary with size 1255.6 KiB\n",
      "22/10/19 12:33:29 WARN DAGScheduler: Broadcasting large task binary with size 1256.9 KiB\n",
      "22/10/19 12:33:29 WARN DAGScheduler: Broadcasting large task binary with size 1258.3 KiB\n",
      "22/10/19 12:33:29 WARN DAGScheduler: Broadcasting large task binary with size 1259.7 KiB\n",
      "22/10/19 12:33:29 WARN DAGScheduler: Broadcasting large task binary with size 1261.1 KiB\n",
      "22/10/19 12:33:29 WARN DAGScheduler: Broadcasting large task binary with size 1262.5 KiB\n",
      "22/10/19 12:33:29 WARN DAGScheduler: Broadcasting large task binary with size 1263.9 KiB\n",
      "22/10/19 12:33:30 WARN DAGScheduler: Broadcasting large task binary with size 1265.3 KiB\n",
      "22/10/19 12:33:30 WARN DAGScheduler: Broadcasting large task binary with size 1266.7 KiB\n",
      "22/10/19 12:33:30 WARN DAGScheduler: Broadcasting large task binary with size 1268.0 KiB\n",
      "22/10/19 12:33:30 WARN DAGScheduler: Broadcasting large task binary with size 1269.4 KiB\n",
      "22/10/19 12:33:30 WARN DAGScheduler: Broadcasting large task binary with size 1270.8 KiB\n",
      "22/10/19 12:33:30 WARN DAGScheduler: Broadcasting large task binary with size 1272.8 KiB\n",
      "22/10/19 12:33:30 WARN DAGScheduler: Broadcasting large task binary with size 1271.4 KiB\n",
      "22/10/19 12:33:30 WARN DAGScheduler: Broadcasting large task binary with size 1228.6 KiB\n",
      "22/10/19 12:33:30 WARN DAGScheduler: Broadcasting large task binary with size 1280.4 KiB\n",
      "22/10/19 12:33:30 WARN DAGScheduler: Broadcasting large task binary with size 1279.0 KiB\n"
     ]
    },
    {
     "name": "stderr",
     "output_type": "stream",
     "text": [
      "                                                                                \r"
     ]
    },
    {
     "name": "stdout",
     "output_type": "stream",
     "text": [
      "22/10/19 12:33:32 WARN DAGScheduler: Broadcasting large task binary with size 1342.0 KiB\n",
      "22/10/19 12:33:32 WARN DAGScheduler: Broadcasting large task binary with size 1237.5 KiB\n",
      "22/10/19 12:33:33 WARN DAGScheduler: Broadcasting large task binary with size 1238.9 KiB\n"
     ]
    },
    {
     "name": "stderr",
     "output_type": "stream",
     "text": [
      "[Stage 5387:==============================================>     (178 + 8) / 200]\r"
     ]
    },
    {
     "name": "stdout",
     "output_type": "stream",
     "text": [
      "22/10/19 12:33:34 WARN DAGScheduler: Broadcasting large task binary with size 1240.4 KiB\n"
     ]
    },
    {
     "name": "stderr",
     "output_type": "stream",
     "text": [
      "                                                                                \r"
     ]
    },
    {
     "name": "stdout",
     "output_type": "stream",
     "text": [
      "22/10/19 12:33:35 WARN DAGScheduler: Broadcasting large task binary with size 1241.7 KiB\n",
      "22/10/19 12:33:35 WARN DAGScheduler: Broadcasting large task binary with size 1240.7 KiB\n",
      "22/10/19 12:33:36 WARN DAGScheduler: Broadcasting large task binary with size 1242.0 KiB\n",
      "22/10/19 12:33:36 WARN DAGScheduler: Broadcasting large task binary with size 1242.7 KiB\n",
      "22/10/19 12:33:36 WARN DAGScheduler: Broadcasting large task binary with size 1245.8 KiB\n",
      "22/10/19 12:33:36 WARN DAGScheduler: Broadcasting large task binary with size 1247.2 KiB\n",
      "22/10/19 12:33:36 WARN DAGScheduler: Broadcasting large task binary with size 1248.6 KiB\n",
      "22/10/19 12:33:36 WARN DAGScheduler: Broadcasting large task binary with size 1250.0 KiB\n",
      "22/10/19 12:33:36 WARN DAGScheduler: Broadcasting large task binary with size 1251.4 KiB\n",
      "22/10/19 12:33:36 WARN DAGScheduler: Broadcasting large task binary with size 1252.8 KiB\n",
      "22/10/19 12:33:36 WARN DAGScheduler: Broadcasting large task binary with size 1254.2 KiB\n",
      "22/10/19 12:33:36 WARN DAGScheduler: Broadcasting large task binary with size 1255.6 KiB\n",
      "22/10/19 12:33:37 WARN DAGScheduler: Broadcasting large task binary with size 1256.9 KiB\n",
      "22/10/19 12:33:37 WARN DAGScheduler: Broadcasting large task binary with size 1258.3 KiB\n",
      "22/10/19 12:33:37 WARN DAGScheduler: Broadcasting large task binary with size 1259.7 KiB\n",
      "22/10/19 12:33:37 WARN DAGScheduler: Broadcasting large task binary with size 1261.1 KiB\n",
      "22/10/19 12:33:37 WARN DAGScheduler: Broadcasting large task binary with size 1262.5 KiB\n",
      "22/10/19 12:33:37 WARN DAGScheduler: Broadcasting large task binary with size 1263.9 KiB\n",
      "22/10/19 12:33:37 WARN DAGScheduler: Broadcasting large task binary with size 1265.3 KiB\n",
      "22/10/19 12:33:37 WARN DAGScheduler: Broadcasting large task binary with size 1266.7 KiB\n",
      "22/10/19 12:33:37 WARN DAGScheduler: Broadcasting large task binary with size 1268.0 KiB\n",
      "22/10/19 12:33:37 WARN DAGScheduler: Broadcasting large task binary with size 1269.4 KiB\n",
      "22/10/19 12:33:37 WARN DAGScheduler: Broadcasting large task binary with size 1270.8 KiB\n",
      "22/10/19 12:33:37 WARN DAGScheduler: Broadcasting large task binary with size 1272.8 KiB\n",
      "22/10/19 12:33:37 WARN DAGScheduler: Broadcasting large task binary with size 1271.4 KiB\n",
      "22/10/19 12:33:38 WARN DAGScheduler: Broadcasting large task binary with size 1228.6 KiB\n",
      "22/10/19 12:33:38 WARN DAGScheduler: Broadcasting large task binary with size 1280.4 KiB\n",
      "22/10/19 12:33:38 WARN DAGScheduler: Broadcasting large task binary with size 1279.0 KiB\n"
     ]
    },
    {
     "name": "stderr",
     "output_type": "stream",
     "text": [
      "                                                                                \r"
     ]
    },
    {
     "name": "stdout",
     "output_type": "stream",
     "text": [
      "22/10/19 12:33:39 WARN DAGScheduler: Broadcasting large task binary with size 1342.0 KiB\n",
      "22/10/19 12:33:39 WARN DAGScheduler: Broadcasting large task binary with size 1237.5 KiB\n",
      "22/10/19 12:33:40 WARN DAGScheduler: Broadcasting large task binary with size 1238.9 KiB\n"
     ]
    },
    {
     "name": "stderr",
     "output_type": "stream",
     "text": [
      "[Stage 5505:==========================================>         (162 + 9) / 200]\r"
     ]
    },
    {
     "name": "stdout",
     "output_type": "stream",
     "text": [
      "22/10/19 12:33:41 WARN DAGScheduler: Broadcasting large task binary with size 1240.4 KiB\n"
     ]
    },
    {
     "name": "stderr",
     "output_type": "stream",
     "text": [
      "                                                                                \r"
     ]
    },
    {
     "name": "stdout",
     "output_type": "stream",
     "text": [
      "22/10/19 12:33:41 WARN DAGScheduler: Broadcasting large task binary with size 1241.7 KiB\n",
      "22/10/19 12:33:42 WARN DAGScheduler: Broadcasting large task binary with size 1240.7 KiB\n",
      "22/10/19 12:33:42 WARN DAGScheduler: Broadcasting large task binary with size 1242.0 KiB\n",
      "22/10/19 12:33:42 WARN DAGScheduler: Broadcasting large task binary with size 1242.7 KiB\n",
      "22/10/19 12:33:42 WARN DAGScheduler: Broadcasting large task binary with size 1245.8 KiB\n",
      "22/10/19 12:33:42 WARN DAGScheduler: Broadcasting large task binary with size 1247.2 KiB\n",
      "22/10/19 12:33:42 WARN DAGScheduler: Broadcasting large task binary with size 1248.6 KiB\n",
      "22/10/19 12:33:43 WARN DAGScheduler: Broadcasting large task binary with size 1250.0 KiB\n",
      "22/10/19 12:33:43 WARN DAGScheduler: Broadcasting large task binary with size 1251.4 KiB\n",
      "22/10/19 12:33:43 WARN DAGScheduler: Broadcasting large task binary with size 1252.8 KiB\n",
      "22/10/19 12:33:43 WARN DAGScheduler: Broadcasting large task binary with size 1254.2 KiB\n",
      "22/10/19 12:33:43 WARN DAGScheduler: Broadcasting large task binary with size 1255.6 KiB\n",
      "22/10/19 12:33:43 WARN DAGScheduler: Broadcasting large task binary with size 1256.9 KiB\n",
      "22/10/19 12:33:43 WARN DAGScheduler: Broadcasting large task binary with size 1258.3 KiB\n",
      "22/10/19 12:33:43 WARN DAGScheduler: Broadcasting large task binary with size 1259.7 KiB\n",
      "22/10/19 12:33:43 WARN DAGScheduler: Broadcasting large task binary with size 1261.1 KiB\n",
      "22/10/19 12:33:43 WARN DAGScheduler: Broadcasting large task binary with size 1262.5 KiB\n",
      "22/10/19 12:33:43 WARN DAGScheduler: Broadcasting large task binary with size 1263.9 KiB\n",
      "22/10/19 12:33:43 WARN DAGScheduler: Broadcasting large task binary with size 1265.3 KiB\n",
      "22/10/19 12:33:43 WARN DAGScheduler: Broadcasting large task binary with size 1266.7 KiB\n",
      "22/10/19 12:33:43 WARN DAGScheduler: Broadcasting large task binary with size 1268.0 KiB\n",
      "22/10/19 12:33:43 WARN DAGScheduler: Broadcasting large task binary with size 1269.4 KiB\n",
      "22/10/19 12:33:44 WARN DAGScheduler: Broadcasting large task binary with size 1270.8 KiB\n",
      "22/10/19 12:33:44 WARN DAGScheduler: Broadcasting large task binary with size 1272.8 KiB\n",
      "22/10/19 12:33:44 WARN DAGScheduler: Broadcasting large task binary with size 1271.4 KiB\n",
      "22/10/19 12:33:44 WARN DAGScheduler: Broadcasting large task binary with size 1228.6 KiB\n",
      "22/10/19 12:33:44 WARN DAGScheduler: Broadcasting large task binary with size 1280.4 KiB\n",
      "22/10/19 12:33:44 WARN DAGScheduler: Broadcasting large task binary with size 1279.0 KiB\n"
     ]
    },
    {
     "name": "stderr",
     "output_type": "stream",
     "text": [
      "                                                                                \r"
     ]
    },
    {
     "name": "stdout",
     "output_type": "stream",
     "text": [
      "22/10/19 12:33:46 WARN DAGScheduler: Broadcasting large task binary with size 1342.0 KiB\n",
      "22/10/19 12:33:46 WARN DAGScheduler: Broadcasting large task binary with size 1237.5 KiB\n",
      "22/10/19 12:33:46 WARN DAGScheduler: Broadcasting large task binary with size 1238.9 KiB\n"
     ]
    },
    {
     "name": "stderr",
     "output_type": "stream",
     "text": [
      "[Stage 5600:============================================>      (174 + 10) / 200]\r"
     ]
    },
    {
     "name": "stdout",
     "output_type": "stream",
     "text": [
      "22/10/19 12:33:47 WARN DAGScheduler: Broadcasting large task binary with size 1240.4 KiB\n",
      "22/10/19 12:33:48 WARN DAGScheduler: Broadcasting large task binary with size 1241.7 KiB\n",
      "22/10/19 12:33:48 WARN DAGScheduler: Broadcasting large task binary with size 1240.7 KiB\n"
     ]
    },
    {
     "name": "stderr",
     "output_type": "stream",
     "text": [
      "                                                                                \r"
     ]
    },
    {
     "name": "stdout",
     "output_type": "stream",
     "text": [
      "22/10/19 12:33:49 WARN DAGScheduler: Broadcasting large task binary with size 1242.0 KiB\n",
      "22/10/19 12:33:49 WARN DAGScheduler: Broadcasting large task binary with size 1242.7 KiB\n",
      "22/10/19 12:33:49 WARN DAGScheduler: Broadcasting large task binary with size 1245.8 KiB\n",
      "22/10/19 12:33:49 WARN DAGScheduler: Broadcasting large task binary with size 1247.2 KiB\n",
      "22/10/19 12:33:49 WARN DAGScheduler: Broadcasting large task binary with size 1248.6 KiB\n",
      "22/10/19 12:33:49 WARN DAGScheduler: Broadcasting large task binary with size 1250.0 KiB\n",
      "22/10/19 12:33:49 WARN DAGScheduler: Broadcasting large task binary with size 1251.4 KiB\n",
      "22/10/19 12:33:49 WARN DAGScheduler: Broadcasting large task binary with size 1252.8 KiB\n",
      "22/10/19 12:33:49 WARN DAGScheduler: Broadcasting large task binary with size 1254.2 KiB\n",
      "22/10/19 12:33:49 WARN DAGScheduler: Broadcasting large task binary with size 1255.6 KiB\n",
      "22/10/19 12:33:49 WARN DAGScheduler: Broadcasting large task binary with size 1256.9 KiB\n",
      "22/10/19 12:33:50 WARN DAGScheduler: Broadcasting large task binary with size 1258.3 KiB\n",
      "22/10/19 12:33:50 WARN DAGScheduler: Broadcasting large task binary with size 1259.7 KiB\n",
      "22/10/19 12:33:50 WARN DAGScheduler: Broadcasting large task binary with size 1261.1 KiB\n",
      "22/10/19 12:33:50 WARN DAGScheduler: Broadcasting large task binary with size 1262.5 KiB\n",
      "22/10/19 12:33:50 WARN DAGScheduler: Broadcasting large task binary with size 1263.9 KiB\n",
      "22/10/19 12:33:50 WARN DAGScheduler: Broadcasting large task binary with size 1265.3 KiB\n",
      "22/10/19 12:33:50 WARN DAGScheduler: Broadcasting large task binary with size 1266.7 KiB\n",
      "22/10/19 12:33:50 WARN DAGScheduler: Broadcasting large task binary with size 1268.0 KiB\n",
      "22/10/19 12:33:50 WARN DAGScheduler: Broadcasting large task binary with size 1269.4 KiB\n",
      "22/10/19 12:33:50 WARN DAGScheduler: Broadcasting large task binary with size 1270.8 KiB\n",
      "22/10/19 12:33:50 WARN DAGScheduler: Broadcasting large task binary with size 1272.2 KiB\n",
      "22/10/19 12:33:50 WARN DAGScheduler: Broadcasting large task binary with size 1273.6 KiB\n",
      "22/10/19 12:33:50 WARN DAGScheduler: Broadcasting large task binary with size 1275.0 KiB\n",
      "22/10/19 12:33:50 WARN DAGScheduler: Broadcasting large task binary with size 1276.4 KiB\n",
      "22/10/19 12:33:50 WARN DAGScheduler: Broadcasting large task binary with size 1277.7 KiB\n",
      "22/10/19 12:33:50 WARN DAGScheduler: Broadcasting large task binary with size 1279.1 KiB\n",
      "22/10/19 12:33:51 WARN DAGScheduler: Broadcasting large task binary with size 1280.5 KiB\n",
      "22/10/19 12:33:51 WARN DAGScheduler: Broadcasting large task binary with size 1281.9 KiB\n",
      "22/10/19 12:33:51 WARN DAGScheduler: Broadcasting large task binary with size 1283.3 KiB\n",
      "22/10/19 12:33:51 WARN DAGScheduler: Broadcasting large task binary with size 1284.7 KiB\n",
      "22/10/19 12:33:51 WARN DAGScheduler: Broadcasting large task binary with size 1286.6 KiB\n",
      "22/10/19 12:33:51 WARN DAGScheduler: Broadcasting large task binary with size 1285.3 KiB\n",
      "22/10/19 12:33:51 WARN DAGScheduler: Broadcasting large task binary with size 1228.6 KiB\n",
      "22/10/19 12:33:52 WARN DAGScheduler: Broadcasting large task binary with size 1294.3 KiB\n",
      "22/10/19 12:33:52 WARN DAGScheduler: Broadcasting large task binary with size 1292.9 KiB\n"
     ]
    },
    {
     "name": "stderr",
     "output_type": "stream",
     "text": [
      "                                                                                \r"
     ]
    },
    {
     "name": "stdout",
     "output_type": "stream",
     "text": [
      "22/10/19 12:33:53 WARN DAGScheduler: Broadcasting large task binary with size 1355.9 KiB\n",
      "22/10/19 12:33:53 WARN DAGScheduler: Broadcasting large task binary with size 1237.5 KiB\n",
      "22/10/19 12:33:53 WARN DAGScheduler: Broadcasting large task binary with size 1238.9 KiB\n"
     ]
    },
    {
     "name": "stderr",
     "output_type": "stream",
     "text": [
      "[Stage 5725:===========================================>        (167 + 8) / 200]\r"
     ]
    },
    {
     "name": "stdout",
     "output_type": "stream",
     "text": [
      "22/10/19 12:33:55 WARN DAGScheduler: Broadcasting large task binary with size 1240.4 KiB\n"
     ]
    },
    {
     "name": "stderr",
     "output_type": "stream",
     "text": [
      "                                                                                \r"
     ]
    },
    {
     "name": "stdout",
     "output_type": "stream",
     "text": [
      "22/10/19 12:33:55 WARN DAGScheduler: Broadcasting large task binary with size 1241.7 KiB\n",
      "22/10/19 12:33:55 WARN DAGScheduler: Broadcasting large task binary with size 1240.7 KiB\n",
      "22/10/19 12:33:56 WARN DAGScheduler: Broadcasting large task binary with size 1242.0 KiB\n",
      "22/10/19 12:33:56 WARN DAGScheduler: Broadcasting large task binary with size 1242.7 KiB\n",
      "22/10/19 12:33:56 WARN DAGScheduler: Broadcasting large task binary with size 1245.8 KiB\n",
      "22/10/19 12:33:56 WARN DAGScheduler: Broadcasting large task binary with size 1247.2 KiB\n",
      "22/10/19 12:33:56 WARN DAGScheduler: Broadcasting large task binary with size 1248.6 KiB\n",
      "22/10/19 12:33:56 WARN DAGScheduler: Broadcasting large task binary with size 1250.0 KiB\n",
      "22/10/19 12:33:57 WARN DAGScheduler: Broadcasting large task binary with size 1251.4 KiB\n",
      "22/10/19 12:33:57 WARN DAGScheduler: Broadcasting large task binary with size 1252.8 KiB\n",
      "22/10/19 12:33:57 WARN DAGScheduler: Broadcasting large task binary with size 1254.2 KiB\n",
      "22/10/19 12:33:57 WARN DAGScheduler: Broadcasting large task binary with size 1255.6 KiB\n",
      "22/10/19 12:33:57 WARN DAGScheduler: Broadcasting large task binary with size 1256.9 KiB\n",
      "22/10/19 12:33:57 WARN DAGScheduler: Broadcasting large task binary with size 1258.3 KiB\n",
      "22/10/19 12:33:57 WARN DAGScheduler: Broadcasting large task binary with size 1259.7 KiB\n",
      "22/10/19 12:33:57 WARN DAGScheduler: Broadcasting large task binary with size 1261.1 KiB\n",
      "22/10/19 12:33:57 WARN DAGScheduler: Broadcasting large task binary with size 1262.5 KiB\n",
      "22/10/19 12:33:57 WARN DAGScheduler: Broadcasting large task binary with size 1263.9 KiB\n",
      "22/10/19 12:33:57 WARN DAGScheduler: Broadcasting large task binary with size 1265.3 KiB\n",
      "22/10/19 12:33:57 WARN DAGScheduler: Broadcasting large task binary with size 1266.7 KiB\n",
      "22/10/19 12:33:57 WARN DAGScheduler: Broadcasting large task binary with size 1268.0 KiB\n",
      "22/10/19 12:33:57 WARN DAGScheduler: Broadcasting large task binary with size 1269.4 KiB\n",
      "22/10/19 12:33:57 WARN DAGScheduler: Broadcasting large task binary with size 1270.8 KiB\n",
      "22/10/19 12:33:58 WARN DAGScheduler: Broadcasting large task binary with size 1272.2 KiB\n",
      "22/10/19 12:33:58 WARN DAGScheduler: Broadcasting large task binary with size 1273.6 KiB\n",
      "22/10/19 12:33:58 WARN DAGScheduler: Broadcasting large task binary with size 1275.0 KiB\n",
      "22/10/19 12:33:58 WARN DAGScheduler: Broadcasting large task binary with size 1276.4 KiB\n",
      "22/10/19 12:33:58 WARN DAGScheduler: Broadcasting large task binary with size 1277.7 KiB\n",
      "22/10/19 12:33:58 WARN DAGScheduler: Broadcasting large task binary with size 1279.1 KiB\n",
      "22/10/19 12:33:58 WARN DAGScheduler: Broadcasting large task binary with size 1280.5 KiB\n",
      "22/10/19 12:33:58 WARN DAGScheduler: Broadcasting large task binary with size 1281.9 KiB\n",
      "22/10/19 12:33:58 WARN DAGScheduler: Broadcasting large task binary with size 1283.3 KiB\n",
      "22/10/19 12:33:58 WARN DAGScheduler: Broadcasting large task binary with size 1284.7 KiB\n",
      "22/10/19 12:33:58 WARN DAGScheduler: Broadcasting large task binary with size 1286.6 KiB\n",
      "22/10/19 12:33:58 WARN DAGScheduler: Broadcasting large task binary with size 1285.3 KiB\n",
      "22/10/19 12:33:59 WARN DAGScheduler: Broadcasting large task binary with size 1228.6 KiB\n",
      "22/10/19 12:33:59 WARN DAGScheduler: Broadcasting large task binary with size 1294.3 KiB\n",
      "22/10/19 12:33:59 WARN DAGScheduler: Broadcasting large task binary with size 1292.9 KiB\n"
     ]
    },
    {
     "name": "stderr",
     "output_type": "stream",
     "text": [
      "                                                                                \r"
     ]
    },
    {
     "name": "stdout",
     "output_type": "stream",
     "text": [
      "22/10/19 12:34:02 WARN DAGScheduler: Broadcasting large task binary with size 1355.9 KiB\n",
      "22/10/19 12:34:02 WARN DAGScheduler: Broadcasting large task binary with size 1237.5 KiB\n",
      "22/10/19 12:34:02 WARN DAGScheduler: Broadcasting large task binary with size 1238.9 KiB\n"
     ]
    },
    {
     "name": "stderr",
     "output_type": "stream",
     "text": [
      "[Stage 5883:================================================>   (187 + 8) / 200]\r"
     ]
    },
    {
     "name": "stdout",
     "output_type": "stream",
     "text": [
      "22/10/19 12:34:03 WARN DAGScheduler: Broadcasting large task binary with size 1240.4 KiB\n"
     ]
    },
    {
     "name": "stderr",
     "output_type": "stream",
     "text": [
      "                                                                                \r"
     ]
    },
    {
     "name": "stdout",
     "output_type": "stream",
     "text": [
      "22/10/19 12:34:04 WARN DAGScheduler: Broadcasting large task binary with size 1241.7 KiB\n",
      "22/10/19 12:34:04 WARN DAGScheduler: Broadcasting large task binary with size 1240.7 KiB\n",
      "22/10/19 12:34:05 WARN DAGScheduler: Broadcasting large task binary with size 1242.0 KiB\n",
      "22/10/19 12:34:05 WARN DAGScheduler: Broadcasting large task binary with size 1242.7 KiB\n",
      "22/10/19 12:34:05 WARN DAGScheduler: Broadcasting large task binary with size 1245.8 KiB\n",
      "22/10/19 12:34:05 WARN DAGScheduler: Broadcasting large task binary with size 1247.2 KiB\n",
      "22/10/19 12:34:05 WARN DAGScheduler: Broadcasting large task binary with size 1248.6 KiB\n",
      "22/10/19 12:34:05 WARN DAGScheduler: Broadcasting large task binary with size 1250.0 KiB\n",
      "22/10/19 12:34:05 WARN DAGScheduler: Broadcasting large task binary with size 1251.4 KiB\n",
      "22/10/19 12:34:05 WARN DAGScheduler: Broadcasting large task binary with size 1252.8 KiB\n",
      "22/10/19 12:34:05 WARN DAGScheduler: Broadcasting large task binary with size 1254.2 KiB\n",
      "22/10/19 12:34:05 WARN DAGScheduler: Broadcasting large task binary with size 1255.6 KiB\n",
      "22/10/19 12:34:06 WARN DAGScheduler: Broadcasting large task binary with size 1256.9 KiB\n",
      "22/10/19 12:34:06 WARN DAGScheduler: Broadcasting large task binary with size 1258.3 KiB\n",
      "22/10/19 12:34:06 WARN DAGScheduler: Broadcasting large task binary with size 1259.7 KiB\n",
      "22/10/19 12:34:06 WARN DAGScheduler: Broadcasting large task binary with size 1261.1 KiB\n",
      "22/10/19 12:34:06 WARN DAGScheduler: Broadcasting large task binary with size 1262.5 KiB\n",
      "22/10/19 12:34:06 WARN DAGScheduler: Broadcasting large task binary with size 1263.9 KiB\n",
      "22/10/19 12:34:06 WARN DAGScheduler: Broadcasting large task binary with size 1265.3 KiB\n",
      "22/10/19 12:34:06 WARN DAGScheduler: Broadcasting large task binary with size 1266.7 KiB\n",
      "22/10/19 12:34:06 WARN DAGScheduler: Broadcasting large task binary with size 1268.0 KiB\n",
      "22/10/19 12:34:06 WARN DAGScheduler: Broadcasting large task binary with size 1269.4 KiB\n",
      "22/10/19 12:34:06 WARN DAGScheduler: Broadcasting large task binary with size 1270.8 KiB\n",
      "22/10/19 12:34:06 WARN DAGScheduler: Broadcasting large task binary with size 1272.2 KiB\n",
      "22/10/19 12:34:06 WARN DAGScheduler: Broadcasting large task binary with size 1273.6 KiB\n",
      "22/10/19 12:34:06 WARN DAGScheduler: Broadcasting large task binary with size 1275.0 KiB\n",
      "22/10/19 12:34:06 WARN DAGScheduler: Broadcasting large task binary with size 1276.4 KiB\n",
      "22/10/19 12:34:07 WARN DAGScheduler: Broadcasting large task binary with size 1277.7 KiB\n",
      "22/10/19 12:34:07 WARN DAGScheduler: Broadcasting large task binary with size 1279.1 KiB\n",
      "22/10/19 12:34:07 WARN DAGScheduler: Broadcasting large task binary with size 1280.5 KiB\n",
      "22/10/19 12:34:07 WARN DAGScheduler: Broadcasting large task binary with size 1281.9 KiB\n",
      "22/10/19 12:34:07 WARN DAGScheduler: Broadcasting large task binary with size 1283.3 KiB\n",
      "22/10/19 12:34:07 WARN DAGScheduler: Broadcasting large task binary with size 1284.7 KiB\n",
      "22/10/19 12:34:07 WARN DAGScheduler: Broadcasting large task binary with size 1286.6 KiB\n",
      "22/10/19 12:34:07 WARN DAGScheduler: Broadcasting large task binary with size 1285.3 KiB\n",
      "22/10/19 12:34:07 WARN DAGScheduler: Broadcasting large task binary with size 1228.6 KiB\n",
      "22/10/19 12:34:07 WARN DAGScheduler: Broadcasting large task binary with size 1294.3 KiB\n",
      "22/10/19 12:34:07 WARN DAGScheduler: Broadcasting large task binary with size 1292.9 KiB\n"
     ]
    },
    {
     "name": "stderr",
     "output_type": "stream",
     "text": [
      "                                                                                \r"
     ]
    },
    {
     "name": "stdout",
     "output_type": "stream",
     "text": [
      "22/10/19 12:34:09 WARN DAGScheduler: Broadcasting large task binary with size 1355.9 KiB\n"
     ]
    },
    {
     "name": "stderr",
     "output_type": "stream",
     "text": [
      "[Stage 6038:===================================================>(693 + 5) / 698]\r"
     ]
    },
    {
     "name": "stdout",
     "output_type": "stream",
     "text": [
      "22/10/19 12:34:35 WARN DAGScheduler: Broadcasting large task binary with size 1237.5 KiB\n"
     ]
    },
    {
     "name": "stderr",
     "output_type": "stream",
     "text": [
      "                                                                                \r"
     ]
    },
    {
     "name": "stdout",
     "output_type": "stream",
     "text": [
      "22/10/19 12:34:35 WARN DAGScheduler: Broadcasting large task binary with size 1238.9 KiB\n"
     ]
    },
    {
     "name": "stderr",
     "output_type": "stream",
     "text": [
      "[Stage 6041:==============================================>    (184 + 11) / 200]\r"
     ]
    },
    {
     "name": "stdout",
     "output_type": "stream",
     "text": [
      "22/10/19 12:34:37 WARN DAGScheduler: Broadcasting large task binary with size 1240.4 KiB\n"
     ]
    },
    {
     "name": "stderr",
     "output_type": "stream",
     "text": [
      "[Stage 6042:==================================================> (195 + 5) / 200]\r"
     ]
    },
    {
     "name": "stdout",
     "output_type": "stream",
     "text": [
      "22/10/19 12:34:38 WARN DAGScheduler: Broadcasting large task binary with size 1241.7 KiB\n",
      "22/10/19 12:34:38 WARN DAGScheduler: Broadcasting large task binary with size 1240.7 KiB\n"
     ]
    },
    {
     "name": "stderr",
     "output_type": "stream",
     "text": [
      "                                                                                \r"
     ]
    },
    {
     "name": "stdout",
     "output_type": "stream",
     "text": [
      "22/10/19 12:34:38 WARN DAGScheduler: Broadcasting large task binary with size 1242.0 KiB\n",
      "22/10/19 12:34:38 WARN DAGScheduler: Broadcasting large task binary with size 1242.7 KiB\n",
      "22/10/19 12:34:39 WARN DAGScheduler: Broadcasting large task binary with size 1245.8 KiB\n",
      "22/10/19 12:34:39 WARN DAGScheduler: Broadcasting large task binary with size 1247.2 KiB\n",
      "22/10/19 12:34:39 WARN DAGScheduler: Broadcasting large task binary with size 1248.6 KiB\n",
      "22/10/19 12:34:39 WARN DAGScheduler: Broadcasting large task binary with size 1250.0 KiB\n",
      "22/10/19 12:34:39 WARN DAGScheduler: Broadcasting large task binary with size 1251.4 KiB\n",
      "22/10/19 12:34:39 WARN DAGScheduler: Broadcasting large task binary with size 1252.8 KiB\n",
      "22/10/19 12:34:39 WARN DAGScheduler: Broadcasting large task binary with size 1254.2 KiB\n",
      "22/10/19 12:34:39 WARN DAGScheduler: Broadcasting large task binary with size 1255.6 KiB\n",
      "22/10/19 12:34:39 WARN DAGScheduler: Broadcasting large task binary with size 1256.9 KiB\n",
      "22/10/19 12:34:39 WARN DAGScheduler: Broadcasting large task binary with size 1258.9 KiB\n",
      "22/10/19 12:34:39 WARN DAGScheduler: Broadcasting large task binary with size 1257.5 KiB\n",
      "22/10/19 12:34:40 WARN DAGScheduler: Broadcasting large task binary with size 1266.5 KiB\n",
      "22/10/19 12:34:41 WARN DAGScheduler: Broadcasting large task binary with size 1265.1 KiB\n"
     ]
    },
    {
     "name": "stderr",
     "output_type": "stream",
     "text": [
      "[Stage 6094:============================================>          (8 + 2) / 10]]\r"
     ]
    },
    {
     "name": "stdout",
     "output_type": "stream",
     "text": [
      "22/10/19 12:35:05 WARN DAGScheduler: Broadcasting large task binary with size 1228.6 KiB\n"
     ]
    },
    {
     "name": "stderr",
     "output_type": "stream",
     "text": [
      "                                                                                ]\r"
     ]
    },
    {
     "name": "stdout",
     "output_type": "stream",
     "text": [
      "22/10/19 12:35:07 WARN DAGScheduler: Broadcasting large task binary with size 1328.2 KiB\n",
      "22/10/19 12:35:08 WARN DAGScheduler: Broadcasting large task binary with size 1237.5 KiB\n",
      "22/10/19 12:35:08 WARN DAGScheduler: Broadcasting large task binary with size 1238.9 KiB\n"
     ]
    },
    {
     "name": "stderr",
     "output_type": "stream",
     "text": [
      "[Stage 6119:=================================================>  (189 + 8) / 200]\r"
     ]
    },
    {
     "name": "stdout",
     "output_type": "stream",
     "text": [
      "22/10/19 12:35:09 WARN DAGScheduler: Broadcasting large task binary with size 1240.4 KiB\n"
     ]
    },
    {
     "name": "stderr",
     "output_type": "stream",
     "text": [
      "[Stage 6120:===================================>                (136 + 8) / 200]\r"
     ]
    },
    {
     "name": "stdout",
     "output_type": "stream",
     "text": [
      "22/10/19 12:35:10 WARN DAGScheduler: Broadcasting large task binary with size 1241.7 KiB\n",
      "22/10/19 12:35:10 WARN DAGScheduler: Broadcasting large task binary with size 1240.7 KiB\n"
     ]
    },
    {
     "name": "stderr",
     "output_type": "stream",
     "text": [
      "                                                                                \r"
     ]
    },
    {
     "name": "stdout",
     "output_type": "stream",
     "text": [
      "22/10/19 12:35:10 WARN DAGScheduler: Broadcasting large task binary with size 1242.0 KiB\n",
      "22/10/19 12:35:10 WARN DAGScheduler: Broadcasting large task binary with size 1242.7 KiB\n",
      "22/10/19 12:35:11 WARN DAGScheduler: Broadcasting large task binary with size 1245.8 KiB\n",
      "22/10/19 12:35:11 WARN DAGScheduler: Broadcasting large task binary with size 1247.2 KiB\n",
      "22/10/19 12:35:11 WARN DAGScheduler: Broadcasting large task binary with size 1248.6 KiB\n",
      "22/10/19 12:35:11 WARN DAGScheduler: Broadcasting large task binary with size 1250.0 KiB\n",
      "22/10/19 12:35:11 WARN DAGScheduler: Broadcasting large task binary with size 1251.4 KiB\n",
      "22/10/19 12:35:11 WARN DAGScheduler: Broadcasting large task binary with size 1252.8 KiB\n",
      "22/10/19 12:35:11 WARN DAGScheduler: Broadcasting large task binary with size 1254.2 KiB\n",
      "22/10/19 12:35:11 WARN DAGScheduler: Broadcasting large task binary with size 1255.5 KiB\n",
      "22/10/19 12:35:11 WARN DAGScheduler: Broadcasting large task binary with size 1256.9 KiB\n",
      "22/10/19 12:35:11 WARN DAGScheduler: Broadcasting large task binary with size 1258.9 KiB\n",
      "22/10/19 12:35:11 WARN DAGScheduler: Broadcasting large task binary with size 1257.5 KiB\n",
      "22/10/19 12:35:12 WARN DAGScheduler: Broadcasting large task binary with size 1228.6 KiB\n",
      "22/10/19 12:35:12 WARN DAGScheduler: Broadcasting large task binary with size 1266.5 KiB\n",
      "22/10/19 12:35:12 WARN DAGScheduler: Broadcasting large task binary with size 1265.1 KiB\n"
     ]
    },
    {
     "name": "stderr",
     "output_type": "stream",
     "text": [
      "                                                                                \r"
     ]
    },
    {
     "name": "stdout",
     "output_type": "stream",
     "text": [
      "22/10/19 12:35:13 WARN DAGScheduler: Broadcasting large task binary with size 1328.1 KiB\n",
      "22/10/19 12:35:13 WARN DAGScheduler: Broadcasting large task binary with size 1237.5 KiB\n",
      "22/10/19 12:35:13 WARN DAGScheduler: Broadcasting large task binary with size 1238.9 KiB\n"
     ]
    },
    {
     "name": "stderr",
     "output_type": "stream",
     "text": [
      "[Stage 6197:===================================================>(198 + 2) / 200]\r"
     ]
    },
    {
     "name": "stdout",
     "output_type": "stream",
     "text": [
      "22/10/19 12:35:15 WARN DAGScheduler: Broadcasting large task binary with size 1240.4 KiB\n"
     ]
    },
    {
     "name": "stderr",
     "output_type": "stream",
     "text": [
      "                                                                                \r"
     ]
    },
    {
     "name": "stdout",
     "output_type": "stream",
     "text": [
      "22/10/19 12:35:15 WARN DAGScheduler: Broadcasting large task binary with size 1241.7 KiB\n",
      "22/10/19 12:35:15 WARN DAGScheduler: Broadcasting large task binary with size 1240.7 KiB\n",
      "22/10/19 12:35:16 WARN DAGScheduler: Broadcasting large task binary with size 1242.0 KiB\n",
      "22/10/19 12:35:16 WARN DAGScheduler: Broadcasting large task binary with size 1242.7 KiB\n",
      "22/10/19 12:35:16 WARN DAGScheduler: Broadcasting large task binary with size 1245.8 KiB\n",
      "22/10/19 12:35:16 WARN DAGScheduler: Broadcasting large task binary with size 1247.2 KiB\n",
      "22/10/19 12:35:16 WARN DAGScheduler: Broadcasting large task binary with size 1248.6 KiB\n",
      "22/10/19 12:35:16 WARN DAGScheduler: Broadcasting large task binary with size 1250.0 KiB\n",
      "22/10/19 12:35:16 WARN DAGScheduler: Broadcasting large task binary with size 1251.4 KiB\n",
      "22/10/19 12:35:16 WARN DAGScheduler: Broadcasting large task binary with size 1252.8 KiB\n",
      "22/10/19 12:35:17 WARN DAGScheduler: Broadcasting large task binary with size 1254.2 KiB\n",
      "22/10/19 12:35:17 WARN DAGScheduler: Broadcasting large task binary with size 1255.5 KiB\n",
      "22/10/19 12:35:17 WARN DAGScheduler: Broadcasting large task binary with size 1256.9 KiB\n",
      "22/10/19 12:35:17 WARN DAGScheduler: Broadcasting large task binary with size 1258.9 KiB\n",
      "22/10/19 12:35:17 WARN DAGScheduler: Broadcasting large task binary with size 1257.5 KiB\n",
      "22/10/19 12:35:17 WARN DAGScheduler: Broadcasting large task binary with size 1228.6 KiB\n",
      "22/10/19 12:35:17 WARN DAGScheduler: Broadcasting large task binary with size 1266.5 KiB\n",
      "22/10/19 12:35:17 WARN DAGScheduler: Broadcasting large task binary with size 1265.1 KiB\n"
     ]
    },
    {
     "name": "stderr",
     "output_type": "stream",
     "text": [
      "                                                                                \r"
     ]
    },
    {
     "name": "stdout",
     "output_type": "stream",
     "text": [
      "22/10/19 12:35:19 WARN DAGScheduler: Broadcasting large task binary with size 1327.9 KiB\n",
      "22/10/19 12:35:19 WARN DAGScheduler: Broadcasting large task binary with size 1237.5 KiB\n",
      "22/10/19 12:35:19 WARN DAGScheduler: Broadcasting large task binary with size 1238.9 KiB\n"
     ]
    },
    {
     "name": "stderr",
     "output_type": "stream",
     "text": [
      "[Stage 6279:============================================>       (173 + 8) / 200]\r"
     ]
    },
    {
     "name": "stdout",
     "output_type": "stream",
     "text": [
      "22/10/19 12:35:21 WARN DAGScheduler: Broadcasting large task binary with size 1240.4 KiB\n"
     ]
    },
    {
     "name": "stderr",
     "output_type": "stream",
     "text": [
      "                                                                                \r"
     ]
    },
    {
     "name": "stdout",
     "output_type": "stream",
     "text": [
      "22/10/19 12:35:21 WARN DAGScheduler: Broadcasting large task binary with size 1241.7 KiB\n",
      "22/10/19 12:35:21 WARN DAGScheduler: Broadcasting large task binary with size 1240.7 KiB\n"
     ]
    },
    {
     "name": "stderr",
     "output_type": "stream",
     "text": [
      "                                                                                \r"
     ]
    },
    {
     "name": "stdout",
     "output_type": "stream",
     "text": [
      "22/10/19 12:35:22 WARN DAGScheduler: Broadcasting large task binary with size 1242.0 KiB\n",
      "22/10/19 12:35:22 WARN DAGScheduler: Broadcasting large task binary with size 1242.7 KiB\n",
      "22/10/19 12:35:22 WARN DAGScheduler: Broadcasting large task binary with size 1245.8 KiB\n",
      "22/10/19 12:35:22 WARN DAGScheduler: Broadcasting large task binary with size 1247.2 KiB\n",
      "22/10/19 12:35:22 WARN DAGScheduler: Broadcasting large task binary with size 1248.6 KiB\n",
      "22/10/19 12:35:22 WARN DAGScheduler: Broadcasting large task binary with size 1250.0 KiB\n",
      "22/10/19 12:35:22 WARN DAGScheduler: Broadcasting large task binary with size 1251.4 KiB\n",
      "22/10/19 12:35:22 WARN DAGScheduler: Broadcasting large task binary with size 1252.8 KiB\n",
      "22/10/19 12:35:23 WARN DAGScheduler: Broadcasting large task binary with size 1254.2 KiB\n",
      "22/10/19 12:35:23 WARN DAGScheduler: Broadcasting large task binary with size 1255.5 KiB\n",
      "22/10/19 12:35:23 WARN DAGScheduler: Broadcasting large task binary with size 1256.9 KiB\n",
      "22/10/19 12:35:23 WARN DAGScheduler: Broadcasting large task binary with size 1258.3 KiB\n",
      "22/10/19 12:35:23 WARN DAGScheduler: Broadcasting large task binary with size 1259.7 KiB\n",
      "22/10/19 12:35:23 WARN DAGScheduler: Broadcasting large task binary with size 1261.1 KiB\n",
      "22/10/19 12:35:23 WARN DAGScheduler: Broadcasting large task binary with size 1262.5 KiB\n",
      "22/10/19 12:35:23 WARN DAGScheduler: Broadcasting large task binary with size 1263.9 KiB\n",
      "22/10/19 12:35:23 WARN DAGScheduler: Broadcasting large task binary with size 1265.3 KiB\n",
      "22/10/19 12:35:23 WARN DAGScheduler: Broadcasting large task binary with size 1266.6 KiB\n",
      "22/10/19 12:35:23 WARN DAGScheduler: Broadcasting large task binary with size 1268.0 KiB\n",
      "22/10/19 12:35:23 WARN DAGScheduler: Broadcasting large task binary with size 1269.4 KiB\n",
      "22/10/19 12:35:23 WARN DAGScheduler: Broadcasting large task binary with size 1270.8 KiB\n",
      "22/10/19 12:35:23 WARN DAGScheduler: Broadcasting large task binary with size 1272.8 KiB\n",
      "22/10/19 12:35:23 WARN DAGScheduler: Broadcasting large task binary with size 1271.4 KiB\n",
      "22/10/19 12:35:24 WARN DAGScheduler: Broadcasting large task binary with size 1228.6 KiB\n",
      "22/10/19 12:35:24 WARN DAGScheduler: Broadcasting large task binary with size 1280.4 KiB\n",
      "22/10/19 12:35:24 WARN DAGScheduler: Broadcasting large task binary with size 1279.0 KiB\n"
     ]
    },
    {
     "name": "stderr",
     "output_type": "stream",
     "text": [
      "                                                                                \r"
     ]
    },
    {
     "name": "stdout",
     "output_type": "stream",
     "text": [
      "22/10/19 12:35:25 WARN DAGScheduler: Broadcasting large task binary with size 1342.0 KiB\n",
      "22/10/19 12:35:26 WARN DAGScheduler: Broadcasting large task binary with size 1237.5 KiB\n",
      "22/10/19 12:35:26 WARN DAGScheduler: Broadcasting large task binary with size 1238.9 KiB\n"
     ]
    },
    {
     "name": "stderr",
     "output_type": "stream",
     "text": [
      "[Stage 6397:============================================>       (172 + 8) / 200]\r"
     ]
    },
    {
     "name": "stdout",
     "output_type": "stream",
     "text": [
      "22/10/19 12:35:27 WARN DAGScheduler: Broadcasting large task binary with size 1240.4 KiB\n"
     ]
    },
    {
     "name": "stderr",
     "output_type": "stream",
     "text": [
      "                                                                                \r"
     ]
    },
    {
     "name": "stdout",
     "output_type": "stream",
     "text": [
      "22/10/19 12:35:28 WARN DAGScheduler: Broadcasting large task binary with size 1241.7 KiB\n",
      "22/10/19 12:35:28 WARN DAGScheduler: Broadcasting large task binary with size 1240.7 KiB\n"
     ]
    },
    {
     "name": "stderr",
     "output_type": "stream",
     "text": [
      "                                                                                \r"
     ]
    },
    {
     "name": "stdout",
     "output_type": "stream",
     "text": [
      "22/10/19 12:35:28 WARN DAGScheduler: Broadcasting large task binary with size 1242.0 KiB\n",
      "22/10/19 12:35:29 WARN DAGScheduler: Broadcasting large task binary with size 1242.7 KiB\n",
      "22/10/19 12:35:29 WARN DAGScheduler: Broadcasting large task binary with size 1245.8 KiB\n",
      "22/10/19 12:35:29 WARN DAGScheduler: Broadcasting large task binary with size 1247.2 KiB\n",
      "22/10/19 12:35:29 WARN DAGScheduler: Broadcasting large task binary with size 1248.6 KiB\n"
     ]
    },
    {
     "name": "stderr",
     "output_type": "stream",
     "text": [
      "[Stage 6411:======================================>                (7 + 3) / 10]\r"
     ]
    },
    {
     "name": "stdout",
     "output_type": "stream",
     "text": [
      "22/10/19 12:35:29 WARN DAGScheduler: Broadcasting large task binary with size 1250.0 KiB\n",
      "22/10/19 12:35:30 WARN DAGScheduler: Broadcasting large task binary with size 1251.4 KiB\n",
      "22/10/19 12:35:30 WARN DAGScheduler: Broadcasting large task binary with size 1252.8 KiB\n",
      "22/10/19 12:35:30 WARN DAGScheduler: Broadcasting large task binary with size 1254.2 KiB\n",
      "22/10/19 12:35:30 WARN DAGScheduler: Broadcasting large task binary with size 1255.5 KiB\n",
      "22/10/19 12:35:30 WARN DAGScheduler: Broadcasting large task binary with size 1256.9 KiB\n",
      "22/10/19 12:35:30 WARN DAGScheduler: Broadcasting large task binary with size 1258.3 KiB\n",
      "22/10/19 12:35:30 WARN DAGScheduler: Broadcasting large task binary with size 1259.7 KiB\n",
      "22/10/19 12:35:30 WARN DAGScheduler: Broadcasting large task binary with size 1261.1 KiB\n",
      "22/10/19 12:35:30 WARN DAGScheduler: Broadcasting large task binary with size 1262.5 KiB\n",
      "22/10/19 12:35:30 WARN DAGScheduler: Broadcasting large task binary with size 1263.9 KiB\n",
      "22/10/19 12:35:30 WARN DAGScheduler: Broadcasting large task binary with size 1265.3 KiB\n",
      "22/10/19 12:35:30 WARN DAGScheduler: Broadcasting large task binary with size 1266.6 KiB\n",
      "22/10/19 12:35:30 WARN DAGScheduler: Broadcasting large task binary with size 1268.0 KiB\n",
      "22/10/19 12:35:30 WARN DAGScheduler: Broadcasting large task binary with size 1269.4 KiB\n",
      "22/10/19 12:35:30 WARN DAGScheduler: Broadcasting large task binary with size 1270.8 KiB\n",
      "22/10/19 12:35:30 WARN DAGScheduler: Broadcasting large task binary with size 1272.8 KiB\n"
     ]
    },
    {
     "name": "stderr",
     "output_type": "stream",
     "text": [
      "                                                                                \r"
     ]
    },
    {
     "name": "stdout",
     "output_type": "stream",
     "text": [
      "22/10/19 12:35:31 WARN DAGScheduler: Broadcasting large task binary with size 1271.4 KiB\n",
      "22/10/19 12:35:31 WARN DAGScheduler: Broadcasting large task binary with size 1228.6 KiB\n",
      "22/10/19 12:35:31 WARN DAGScheduler: Broadcasting large task binary with size 1280.4 KiB\n",
      "22/10/19 12:35:31 WARN DAGScheduler: Broadcasting large task binary with size 1279.0 KiB\n"
     ]
    },
    {
     "name": "stderr",
     "output_type": "stream",
     "text": [
      "                                                                                \r"
     ]
    },
    {
     "name": "stdout",
     "output_type": "stream",
     "text": [
      "22/10/19 12:35:33 WARN DAGScheduler: Broadcasting large task binary with size 1342.0 KiB\n",
      "22/10/19 12:35:33 WARN DAGScheduler: Broadcasting large task binary with size 1237.5 KiB\n",
      "22/10/19 12:35:33 WARN DAGScheduler: Broadcasting large task binary with size 1238.9 KiB\n"
     ]
    },
    {
     "name": "stderr",
     "output_type": "stream",
     "text": [
      "[Stage 6492:===================================================>(198 + 2) / 200]\r"
     ]
    },
    {
     "name": "stdout",
     "output_type": "stream",
     "text": [
      "22/10/19 12:35:35 WARN DAGScheduler: Broadcasting large task binary with size 1240.4 KiB\n"
     ]
    },
    {
     "name": "stderr",
     "output_type": "stream",
     "text": [
      "                                                                                \r"
     ]
    },
    {
     "name": "stdout",
     "output_type": "stream",
     "text": [
      "22/10/19 12:35:35 WARN DAGScheduler: Broadcasting large task binary with size 1241.7 KiB\n",
      "22/10/19 12:35:35 WARN DAGScheduler: Broadcasting large task binary with size 1240.7 KiB\n",
      "22/10/19 12:35:36 WARN DAGScheduler: Broadcasting large task binary with size 1242.0 KiB\n",
      "22/10/19 12:35:36 WARN DAGScheduler: Broadcasting large task binary with size 1242.7 KiB\n",
      "22/10/19 12:35:36 WARN DAGScheduler: Broadcasting large task binary with size 1245.8 KiB\n",
      "22/10/19 12:35:36 WARN DAGScheduler: Broadcasting large task binary with size 1247.2 KiB\n",
      "22/10/19 12:35:36 WARN DAGScheduler: Broadcasting large task binary with size 1248.6 KiB\n",
      "22/10/19 12:35:36 WARN DAGScheduler: Broadcasting large task binary with size 1250.0 KiB\n",
      "22/10/19 12:35:36 WARN DAGScheduler: Broadcasting large task binary with size 1251.4 KiB\n",
      "22/10/19 12:35:36 WARN DAGScheduler: Broadcasting large task binary with size 1252.8 KiB\n",
      "22/10/19 12:35:36 WARN DAGScheduler: Broadcasting large task binary with size 1254.2 KiB\n",
      "22/10/19 12:35:37 WARN DAGScheduler: Broadcasting large task binary with size 1255.5 KiB\n",
      "22/10/19 12:35:37 WARN DAGScheduler: Broadcasting large task binary with size 1256.9 KiB\n",
      "22/10/19 12:35:37 WARN DAGScheduler: Broadcasting large task binary with size 1258.3 KiB\n",
      "22/10/19 12:35:37 WARN DAGScheduler: Broadcasting large task binary with size 1259.7 KiB\n",
      "22/10/19 12:35:37 WARN DAGScheduler: Broadcasting large task binary with size 1261.1 KiB\n",
      "22/10/19 12:35:37 WARN DAGScheduler: Broadcasting large task binary with size 1262.5 KiB\n",
      "22/10/19 12:35:37 WARN DAGScheduler: Broadcasting large task binary with size 1263.9 KiB\n",
      "22/10/19 12:35:37 WARN DAGScheduler: Broadcasting large task binary with size 1265.3 KiB\n",
      "22/10/19 12:35:37 WARN DAGScheduler: Broadcasting large task binary with size 1266.6 KiB\n",
      "22/10/19 12:35:37 WARN DAGScheduler: Broadcasting large task binary with size 1268.0 KiB\n",
      "22/10/19 12:35:37 WARN DAGScheduler: Broadcasting large task binary with size 1269.4 KiB\n",
      "22/10/19 12:35:37 WARN DAGScheduler: Broadcasting large task binary with size 1270.8 KiB\n",
      "22/10/19 12:35:37 WARN DAGScheduler: Broadcasting large task binary with size 1272.8 KiB\n",
      "22/10/19 12:35:37 WARN DAGScheduler: Broadcasting large task binary with size 1271.4 KiB\n",
      "22/10/19 12:35:38 WARN DAGScheduler: Broadcasting large task binary with size 1228.6 KiB\n",
      "22/10/19 12:35:38 WARN DAGScheduler: Broadcasting large task binary with size 1280.4 KiB\n",
      "22/10/19 12:35:38 WARN DAGScheduler: Broadcasting large task binary with size 1279.0 KiB\n"
     ]
    },
    {
     "name": "stderr",
     "output_type": "stream",
     "text": [
      "                                                                                \r"
     ]
    },
    {
     "name": "stdout",
     "output_type": "stream",
     "text": [
      "22/10/19 12:35:39 WARN DAGScheduler: Broadcasting large task binary with size 1342.0 KiB\n",
      "22/10/19 12:35:40 WARN DAGScheduler: Broadcasting large task binary with size 1237.5 KiB\n",
      "22/10/19 12:35:40 WARN DAGScheduler: Broadcasting large task binary with size 1238.9 KiB\n"
     ]
    },
    {
     "name": "stderr",
     "output_type": "stream",
     "text": [
      "[Stage 6587:===================================================>(199 + 1) / 200]\r"
     ]
    },
    {
     "name": "stdout",
     "output_type": "stream",
     "text": [
      "22/10/19 12:35:41 WARN DAGScheduler: Broadcasting large task binary with size 1240.4 KiB\n"
     ]
    },
    {
     "name": "stderr",
     "output_type": "stream",
     "text": [
      "                                                                                \r"
     ]
    },
    {
     "name": "stdout",
     "output_type": "stream",
     "text": [
      "22/10/19 12:35:42 WARN DAGScheduler: Broadcasting large task binary with size 1241.7 KiB\n",
      "22/10/19 12:35:42 WARN DAGScheduler: Broadcasting large task binary with size 1240.7 KiB\n",
      "22/10/19 12:35:42 WARN DAGScheduler: Broadcasting large task binary with size 1242.0 KiB\n",
      "22/10/19 12:35:42 WARN DAGScheduler: Broadcasting large task binary with size 1242.7 KiB\n",
      "22/10/19 12:35:43 WARN DAGScheduler: Broadcasting large task binary with size 1245.8 KiB\n",
      "22/10/19 12:35:43 WARN DAGScheduler: Broadcasting large task binary with size 1247.2 KiB\n",
      "22/10/19 12:35:43 WARN DAGScheduler: Broadcasting large task binary with size 1248.6 KiB\n",
      "22/10/19 12:35:43 WARN DAGScheduler: Broadcasting large task binary with size 1250.0 KiB\n",
      "22/10/19 12:35:43 WARN DAGScheduler: Broadcasting large task binary with size 1251.4 KiB\n",
      "22/10/19 12:35:43 WARN DAGScheduler: Broadcasting large task binary with size 1252.8 KiB\n",
      "22/10/19 12:35:43 WARN DAGScheduler: Broadcasting large task binary with size 1254.2 KiB\n",
      "22/10/19 12:35:43 WARN DAGScheduler: Broadcasting large task binary with size 1255.5 KiB\n",
      "22/10/19 12:35:43 WARN DAGScheduler: Broadcasting large task binary with size 1256.9 KiB\n",
      "22/10/19 12:35:43 WARN DAGScheduler: Broadcasting large task binary with size 1258.3 KiB\n",
      "22/10/19 12:35:43 WARN DAGScheduler: Broadcasting large task binary with size 1259.7 KiB\n",
      "22/10/19 12:35:43 WARN DAGScheduler: Broadcasting large task binary with size 1261.1 KiB\n",
      "22/10/19 12:35:43 WARN DAGScheduler: Broadcasting large task binary with size 1262.5 KiB\n",
      "22/10/19 12:35:43 WARN DAGScheduler: Broadcasting large task binary with size 1263.9 KiB\n",
      "22/10/19 12:35:43 WARN DAGScheduler: Broadcasting large task binary with size 1265.3 KiB\n",
      "22/10/19 12:35:43 WARN DAGScheduler: Broadcasting large task binary with size 1266.6 KiB\n",
      "22/10/19 12:35:44 WARN DAGScheduler: Broadcasting large task binary with size 1268.0 KiB\n",
      "22/10/19 12:35:44 WARN DAGScheduler: Broadcasting large task binary with size 1269.4 KiB\n",
      "22/10/19 12:35:44 WARN DAGScheduler: Broadcasting large task binary with size 1270.8 KiB\n",
      "22/10/19 12:35:44 WARN DAGScheduler: Broadcasting large task binary with size 1272.2 KiB\n",
      "22/10/19 12:35:44 WARN DAGScheduler: Broadcasting large task binary with size 1273.6 KiB\n",
      "22/10/19 12:35:44 WARN DAGScheduler: Broadcasting large task binary with size 1275.0 KiB\n",
      "22/10/19 12:35:44 WARN DAGScheduler: Broadcasting large task binary with size 1276.3 KiB\n",
      "22/10/19 12:35:44 WARN DAGScheduler: Broadcasting large task binary with size 1277.7 KiB\n",
      "22/10/19 12:35:44 WARN DAGScheduler: Broadcasting large task binary with size 1279.1 KiB\n",
      "22/10/19 12:35:44 WARN DAGScheduler: Broadcasting large task binary with size 1280.5 KiB\n",
      "22/10/19 12:35:44 WARN DAGScheduler: Broadcasting large task binary with size 1281.9 KiB\n",
      "22/10/19 12:35:44 WARN DAGScheduler: Broadcasting large task binary with size 1283.3 KiB\n",
      "22/10/19 12:35:44 WARN DAGScheduler: Broadcasting large task binary with size 1284.7 KiB\n",
      "22/10/19 12:35:44 WARN DAGScheduler: Broadcasting large task binary with size 1286.6 KiB\n",
      "22/10/19 12:35:44 WARN DAGScheduler: Broadcasting large task binary with size 1285.2 KiB\n",
      "22/10/19 12:35:45 WARN DAGScheduler: Broadcasting large task binary with size 1228.6 KiB\n",
      "22/10/19 12:35:45 WARN DAGScheduler: Broadcasting large task binary with size 1294.2 KiB\n",
      "22/10/19 12:35:45 WARN DAGScheduler: Broadcasting large task binary with size 1292.9 KiB\n"
     ]
    },
    {
     "name": "stderr",
     "output_type": "stream",
     "text": [
      "                                                                                \r"
     ]
    },
    {
     "name": "stdout",
     "output_type": "stream",
     "text": [
      "22/10/19 12:35:47 WARN DAGScheduler: Broadcasting large task binary with size 1355.9 KiB\n",
      "22/10/19 12:35:47 WARN DAGScheduler: Broadcasting large task binary with size 1237.5 KiB\n",
      "22/10/19 12:35:47 WARN DAGScheduler: Broadcasting large task binary with size 1238.9 KiB\n"
     ]
    },
    {
     "name": "stderr",
     "output_type": "stream",
     "text": [
      "[Stage 6712:==============================================>     (177 + 8) / 200]\r"
     ]
    },
    {
     "name": "stdout",
     "output_type": "stream",
     "text": [
      "22/10/19 12:35:48 WARN DAGScheduler: Broadcasting large task binary with size 1240.4 KiB\n",
      "22/10/19 12:35:49 WARN DAGScheduler: Broadcasting large task binary with size 1241.7 KiB\n",
      "22/10/19 12:35:49 WARN DAGScheduler: Broadcasting large task binary with size 1240.7 KiB\n"
     ]
    },
    {
     "name": "stderr",
     "output_type": "stream",
     "text": [
      "                                                                                \r"
     ]
    },
    {
     "name": "stdout",
     "output_type": "stream",
     "text": [
      "22/10/19 12:35:50 WARN DAGScheduler: Broadcasting large task binary with size 1242.0 KiB\n",
      "22/10/19 12:35:50 WARN DAGScheduler: Broadcasting large task binary with size 1242.7 KiB\n",
      "22/10/19 12:35:50 WARN DAGScheduler: Broadcasting large task binary with size 1245.8 KiB\n",
      "22/10/19 12:35:50 WARN DAGScheduler: Broadcasting large task binary with size 1247.2 KiB\n",
      "22/10/19 12:35:50 WARN DAGScheduler: Broadcasting large task binary with size 1248.6 KiB\n",
      "22/10/19 12:35:50 WARN DAGScheduler: Broadcasting large task binary with size 1250.0 KiB\n",
      "22/10/19 12:35:50 WARN DAGScheduler: Broadcasting large task binary with size 1251.4 KiB\n",
      "22/10/19 12:35:50 WARN DAGScheduler: Broadcasting large task binary with size 1252.8 KiB\n",
      "22/10/19 12:35:50 WARN DAGScheduler: Broadcasting large task binary with size 1254.2 KiB\n",
      "22/10/19 12:35:50 WARN DAGScheduler: Broadcasting large task binary with size 1255.5 KiB\n",
      "22/10/19 12:35:50 WARN DAGScheduler: Broadcasting large task binary with size 1256.9 KiB\n",
      "22/10/19 12:35:51 WARN DAGScheduler: Broadcasting large task binary with size 1258.3 KiB\n",
      "22/10/19 12:35:51 WARN DAGScheduler: Broadcasting large task binary with size 1259.7 KiB\n",
      "22/10/19 12:35:51 WARN DAGScheduler: Broadcasting large task binary with size 1261.1 KiB\n",
      "22/10/19 12:35:51 WARN DAGScheduler: Broadcasting large task binary with size 1262.5 KiB\n",
      "22/10/19 12:35:51 WARN DAGScheduler: Broadcasting large task binary with size 1263.9 KiB\n",
      "22/10/19 12:35:51 WARN DAGScheduler: Broadcasting large task binary with size 1265.3 KiB\n",
      "22/10/19 12:35:51 WARN DAGScheduler: Broadcasting large task binary with size 1266.6 KiB\n",
      "22/10/19 12:35:51 WARN DAGScheduler: Broadcasting large task binary with size 1268.0 KiB\n",
      "22/10/19 12:35:51 WARN DAGScheduler: Broadcasting large task binary with size 1269.4 KiB\n",
      "22/10/19 12:35:51 WARN DAGScheduler: Broadcasting large task binary with size 1270.8 KiB\n",
      "22/10/19 12:35:51 WARN DAGScheduler: Broadcasting large task binary with size 1272.2 KiB\n",
      "22/10/19 12:35:51 WARN DAGScheduler: Broadcasting large task binary with size 1273.6 KiB\n",
      "22/10/19 12:35:51 WARN DAGScheduler: Broadcasting large task binary with size 1275.0 KiB\n",
      "22/10/19 12:35:51 WARN DAGScheduler: Broadcasting large task binary with size 1276.3 KiB\n",
      "22/10/19 12:35:51 WARN DAGScheduler: Broadcasting large task binary with size 1277.7 KiB\n",
      "22/10/19 12:35:51 WARN DAGScheduler: Broadcasting large task binary with size 1279.1 KiB\n",
      "22/10/19 12:35:52 WARN DAGScheduler: Broadcasting large task binary with size 1280.5 KiB\n",
      "22/10/19 12:35:52 WARN DAGScheduler: Broadcasting large task binary with size 1281.9 KiB\n",
      "22/10/19 12:35:52 WARN DAGScheduler: Broadcasting large task binary with size 1283.3 KiB\n",
      "22/10/19 12:35:52 WARN DAGScheduler: Broadcasting large task binary with size 1284.7 KiB\n",
      "22/10/19 12:35:52 WARN DAGScheduler: Broadcasting large task binary with size 1286.6 KiB\n",
      "22/10/19 12:35:52 WARN DAGScheduler: Broadcasting large task binary with size 1285.2 KiB\n",
      "22/10/19 12:35:52 WARN DAGScheduler: Broadcasting large task binary with size 1228.6 KiB\n",
      "22/10/19 12:35:53 WARN DAGScheduler: Broadcasting large task binary with size 1294.2 KiB\n",
      "22/10/19 12:35:53 WARN DAGScheduler: Broadcasting large task binary with size 1292.9 KiB\n"
     ]
    },
    {
     "name": "stderr",
     "output_type": "stream",
     "text": [
      "                                                                                \r"
     ]
    },
    {
     "name": "stdout",
     "output_type": "stream",
     "text": [
      "22/10/19 12:35:55 WARN DAGScheduler: Broadcasting large task binary with size 1355.9 KiB\n",
      "22/10/19 12:35:56 WARN DAGScheduler: Broadcasting large task binary with size 1237.5 KiB\n",
      "22/10/19 12:35:56 WARN DAGScheduler: Broadcasting large task binary with size 1238.9 KiB\n"
     ]
    },
    {
     "name": "stderr",
     "output_type": "stream",
     "text": [
      "[Stage 6870:===========================================>        (166 + 8) / 200]\r"
     ]
    },
    {
     "name": "stdout",
     "output_type": "stream",
     "text": [
      "22/10/19 12:35:57 WARN DAGScheduler: Broadcasting large task binary with size 1240.4 KiB\n"
     ]
    },
    {
     "name": "stderr",
     "output_type": "stream",
     "text": [
      "                                                                                \r"
     ]
    },
    {
     "name": "stdout",
     "output_type": "stream",
     "text": [
      "22/10/19 12:35:58 WARN DAGScheduler: Broadcasting large task binary with size 1241.7 KiB\n",
      "22/10/19 12:35:58 WARN DAGScheduler: Broadcasting large task binary with size 1240.7 KiB\n",
      "22/10/19 12:35:58 WARN DAGScheduler: Broadcasting large task binary with size 1242.0 KiB\n",
      "22/10/19 12:35:59 WARN DAGScheduler: Broadcasting large task binary with size 1242.7 KiB\n",
      "22/10/19 12:35:59 WARN DAGScheduler: Broadcasting large task binary with size 1245.8 KiB\n",
      "22/10/19 12:35:59 WARN DAGScheduler: Broadcasting large task binary with size 1247.2 KiB\n",
      "22/10/19 12:35:59 WARN DAGScheduler: Broadcasting large task binary with size 1248.6 KiB\n",
      "22/10/19 12:35:59 WARN DAGScheduler: Broadcasting large task binary with size 1250.0 KiB\n",
      "22/10/19 12:35:59 WARN DAGScheduler: Broadcasting large task binary with size 1251.4 KiB\n",
      "22/10/19 12:35:59 WARN DAGScheduler: Broadcasting large task binary with size 1252.8 KiB\n",
      "22/10/19 12:35:59 WARN DAGScheduler: Broadcasting large task binary with size 1254.2 KiB\n",
      "22/10/19 12:35:59 WARN DAGScheduler: Broadcasting large task binary with size 1255.5 KiB\n",
      "22/10/19 12:35:59 WARN DAGScheduler: Broadcasting large task binary with size 1256.9 KiB\n",
      "22/10/19 12:35:59 WARN DAGScheduler: Broadcasting large task binary with size 1258.3 KiB\n",
      "22/10/19 12:35:59 WARN DAGScheduler: Broadcasting large task binary with size 1259.7 KiB\n",
      "22/10/19 12:35:59 WARN DAGScheduler: Broadcasting large task binary with size 1261.1 KiB\n",
      "22/10/19 12:35:59 WARN DAGScheduler: Broadcasting large task binary with size 1262.5 KiB\n",
      "22/10/19 12:36:00 WARN DAGScheduler: Broadcasting large task binary with size 1263.9 KiB\n",
      "22/10/19 12:36:00 WARN DAGScheduler: Broadcasting large task binary with size 1265.3 KiB\n",
      "22/10/19 12:36:00 WARN DAGScheduler: Broadcasting large task binary with size 1266.6 KiB\n",
      "22/10/19 12:36:00 WARN DAGScheduler: Broadcasting large task binary with size 1268.0 KiB\n",
      "22/10/19 12:36:00 WARN DAGScheduler: Broadcasting large task binary with size 1269.4 KiB\n",
      "22/10/19 12:36:00 WARN DAGScheduler: Broadcasting large task binary with size 1270.8 KiB\n",
      "22/10/19 12:36:00 WARN DAGScheduler: Broadcasting large task binary with size 1272.2 KiB\n",
      "22/10/19 12:36:00 WARN DAGScheduler: Broadcasting large task binary with size 1273.6 KiB\n",
      "22/10/19 12:36:00 WARN DAGScheduler: Broadcasting large task binary with size 1275.0 KiB\n",
      "22/10/19 12:36:00 WARN DAGScheduler: Broadcasting large task binary with size 1276.3 KiB\n",
      "22/10/19 12:36:00 WARN DAGScheduler: Broadcasting large task binary with size 1277.7 KiB\n",
      "22/10/19 12:36:00 WARN DAGScheduler: Broadcasting large task binary with size 1279.1 KiB\n",
      "22/10/19 12:36:00 WARN DAGScheduler: Broadcasting large task binary with size 1280.5 KiB\n",
      "22/10/19 12:36:00 WARN DAGScheduler: Broadcasting large task binary with size 1281.9 KiB\n",
      "22/10/19 12:36:00 WARN DAGScheduler: Broadcasting large task binary with size 1283.3 KiB\n",
      "22/10/19 12:36:00 WARN DAGScheduler: Broadcasting large task binary with size 1284.7 KiB\n",
      "22/10/19 12:36:01 WARN DAGScheduler: Broadcasting large task binary with size 1286.6 KiB\n",
      "22/10/19 12:36:01 WARN DAGScheduler: Broadcasting large task binary with size 1285.2 KiB\n",
      "22/10/19 12:36:01 WARN DAGScheduler: Broadcasting large task binary with size 1228.6 KiB\n",
      "22/10/19 12:36:01 WARN DAGScheduler: Broadcasting large task binary with size 1294.2 KiB\n",
      "22/10/19 12:36:01 WARN DAGScheduler: Broadcasting large task binary with size 1292.9 KiB\n"
     ]
    },
    {
     "name": "stderr",
     "output_type": "stream",
     "text": [
      "                                                                                \r"
     ]
    },
    {
     "name": "stdout",
     "output_type": "stream",
     "text": [
      "22/10/19 12:36:03 WARN DAGScheduler: Broadcasting large task binary with size 1355.9 KiB\n",
      "22/10/19 12:36:03 WARN DAGScheduler: Broadcasting large task binary with size 1237.5 KiB\n",
      "22/10/19 12:36:03 WARN DAGScheduler: Broadcasting large task binary with size 1238.9 KiB\n"
     ]
    },
    {
     "name": "stderr",
     "output_type": "stream",
     "text": [
      "[Stage 7028:===========================================>        (169 + 8) / 200]\r"
     ]
    },
    {
     "name": "stdout",
     "output_type": "stream",
     "text": [
      "22/10/19 12:36:05 WARN DAGScheduler: Broadcasting large task binary with size 1240.4 KiB\n"
     ]
    },
    {
     "name": "stderr",
     "output_type": "stream",
     "text": [
      "                                                                                \r"
     ]
    },
    {
     "name": "stdout",
     "output_type": "stream",
     "text": [
      "22/10/19 12:36:05 WARN DAGScheduler: Broadcasting large task binary with size 1241.7 KiB\n",
      "22/10/19 12:36:05 WARN DAGScheduler: Broadcasting large task binary with size 1240.7 KiB\n",
      "22/10/19 12:36:06 WARN DAGScheduler: Broadcasting large task binary with size 1242.0 KiB\n",
      "22/10/19 12:36:06 WARN DAGScheduler: Broadcasting large task binary with size 1242.7 KiB\n",
      "22/10/19 12:36:06 WARN DAGScheduler: Broadcasting large task binary with size 1245.8 KiB\n",
      "22/10/19 12:36:06 WARN DAGScheduler: Broadcasting large task binary with size 1247.2 KiB\n",
      "22/10/19 12:36:06 WARN DAGScheduler: Broadcasting large task binary with size 1248.6 KiB\n",
      "22/10/19 12:36:06 WARN DAGScheduler: Broadcasting large task binary with size 1250.0 KiB\n",
      "22/10/19 12:36:06 WARN DAGScheduler: Broadcasting large task binary with size 1251.4 KiB\n",
      "22/10/19 12:36:06 WARN DAGScheduler: Broadcasting large task binary with size 1252.8 KiB\n",
      "22/10/19 12:36:06 WARN DAGScheduler: Broadcasting large task binary with size 1254.2 KiB\n",
      "22/10/19 12:36:07 WARN DAGScheduler: Broadcasting large task binary with size 1255.5 KiB\n",
      "22/10/19 12:36:07 WARN DAGScheduler: Broadcasting large task binary with size 1256.9 KiB\n",
      "22/10/19 12:36:07 WARN DAGScheduler: Broadcasting large task binary with size 1258.9 KiB\n",
      "22/10/19 12:36:07 WARN DAGScheduler: Broadcasting large task binary with size 1257.5 KiB\n",
      "22/10/19 12:36:07 WARN DAGScheduler: Broadcasting large task binary with size 1228.6 KiB\n",
      "22/10/19 12:36:07 WARN DAGScheduler: Broadcasting large task binary with size 1266.5 KiB\n",
      "22/10/19 12:36:07 WARN DAGScheduler: Broadcasting large task binary with size 1265.1 KiB\n"
     ]
    },
    {
     "name": "stderr",
     "output_type": "stream",
     "text": [
      "                                                                                \r"
     ]
    },
    {
     "name": "stdout",
     "output_type": "stream",
     "text": [
      "22/10/19 12:36:09 WARN DAGScheduler: Broadcasting large task binary with size 1328.1 KiB\n",
      "22/10/19 12:36:09 WARN DAGScheduler: Broadcasting large task binary with size 1237.5 KiB\n",
      "22/10/19 12:36:09 WARN DAGScheduler: Broadcasting large task binary with size 1238.9 KiB\n"
     ]
    },
    {
     "name": "stderr",
     "output_type": "stream",
     "text": [
      "[Stage 7093:============================================>       (172 + 8) / 200]\r"
     ]
    },
    {
     "name": "stdout",
     "output_type": "stream",
     "text": [
      "22/10/19 12:36:10 WARN DAGScheduler: Broadcasting large task binary with size 1240.4 KiB\n"
     ]
    },
    {
     "name": "stderr",
     "output_type": "stream",
     "text": [
      "                                                                                \r"
     ]
    },
    {
     "name": "stdout",
     "output_type": "stream",
     "text": [
      "22/10/19 12:36:11 WARN DAGScheduler: Broadcasting large task binary with size 1241.7 KiB\n",
      "22/10/19 12:36:11 WARN DAGScheduler: Broadcasting large task binary with size 1240.7 KiB\n",
      "22/10/19 12:36:12 WARN DAGScheduler: Broadcasting large task binary with size 1242.0 KiB\n",
      "22/10/19 12:36:12 WARN DAGScheduler: Broadcasting large task binary with size 1242.7 KiB\n",
      "22/10/19 12:36:12 WARN DAGScheduler: Broadcasting large task binary with size 1245.8 KiB\n",
      "22/10/19 12:36:12 WARN DAGScheduler: Broadcasting large task binary with size 1247.2 KiB\n",
      "22/10/19 12:36:12 WARN DAGScheduler: Broadcasting large task binary with size 1248.6 KiB\n",
      "22/10/19 12:36:12 WARN DAGScheduler: Broadcasting large task binary with size 1250.0 KiB\n",
      "22/10/19 12:36:12 WARN DAGScheduler: Broadcasting large task binary with size 1251.4 KiB\n",
      "22/10/19 12:36:12 WARN DAGScheduler: Broadcasting large task binary with size 1252.8 KiB\n",
      "22/10/19 12:36:12 WARN DAGScheduler: Broadcasting large task binary with size 1254.2 KiB\n",
      "22/10/19 12:36:12 WARN DAGScheduler: Broadcasting large task binary with size 1255.5 KiB\n",
      "22/10/19 12:36:12 WARN DAGScheduler: Broadcasting large task binary with size 1256.9 KiB\n",
      "22/10/19 12:36:12 WARN DAGScheduler: Broadcasting large task binary with size 1258.9 KiB\n",
      "22/10/19 12:36:12 WARN DAGScheduler: Broadcasting large task binary with size 1257.5 KiB\n",
      "22/10/19 12:36:13 WARN DAGScheduler: Broadcasting large task binary with size 1228.6 KiB\n",
      "22/10/19 12:36:13 WARN DAGScheduler: Broadcasting large task binary with size 1266.5 KiB\n",
      "22/10/19 12:36:13 WARN DAGScheduler: Broadcasting large task binary with size 1265.1 KiB\n"
     ]
    },
    {
     "name": "stderr",
     "output_type": "stream",
     "text": [
      "                                                                                \r"
     ]
    },
    {
     "name": "stdout",
     "output_type": "stream",
     "text": [
      "22/10/19 12:36:16 WARN DAGScheduler: Broadcasting large task binary with size 1328.1 KiB\n",
      "22/10/19 12:36:16 WARN DAGScheduler: Broadcasting large task binary with size 1237.5 KiB\n",
      "22/10/19 12:36:16 WARN DAGScheduler: Broadcasting large task binary with size 1238.9 KiB\n"
     ]
    },
    {
     "name": "stderr",
     "output_type": "stream",
     "text": [
      "[Stage 7171:==========================================>         (165 + 8) / 200]\r"
     ]
    },
    {
     "name": "stdout",
     "output_type": "stream",
     "text": [
      "22/10/19 12:36:18 WARN DAGScheduler: Broadcasting large task binary with size 1240.4 KiB\n"
     ]
    },
    {
     "name": "stderr",
     "output_type": "stream",
     "text": [
      "                                                                                \r"
     ]
    },
    {
     "name": "stdout",
     "output_type": "stream",
     "text": [
      "22/10/19 12:36:18 WARN DAGScheduler: Broadcasting large task binary with size 1241.7 KiB\n",
      "22/10/19 12:36:18 WARN DAGScheduler: Broadcasting large task binary with size 1240.7 KiB\n",
      "22/10/19 12:36:19 WARN DAGScheduler: Broadcasting large task binary with size 1242.0 KiB\n",
      "22/10/19 12:36:19 WARN DAGScheduler: Broadcasting large task binary with size 1242.7 KiB\n",
      "22/10/19 12:36:19 WARN DAGScheduler: Broadcasting large task binary with size 1245.8 KiB\n",
      "22/10/19 12:36:19 WARN DAGScheduler: Broadcasting large task binary with size 1247.2 KiB\n",
      "22/10/19 12:36:19 WARN DAGScheduler: Broadcasting large task binary with size 1248.6 KiB\n",
      "22/10/19 12:36:19 WARN DAGScheduler: Broadcasting large task binary with size 1250.0 KiB\n",
      "22/10/19 12:36:19 WARN DAGScheduler: Broadcasting large task binary with size 1251.4 KiB\n",
      "22/10/19 12:36:19 WARN DAGScheduler: Broadcasting large task binary with size 1252.8 KiB\n",
      "22/10/19 12:36:19 WARN DAGScheduler: Broadcasting large task binary with size 1254.2 KiB\n",
      "22/10/19 12:36:20 WARN DAGScheduler: Broadcasting large task binary with size 1255.5 KiB\n",
      "22/10/19 12:36:20 WARN DAGScheduler: Broadcasting large task binary with size 1256.9 KiB\n",
      "22/10/19 12:36:20 WARN DAGScheduler: Broadcasting large task binary with size 1258.9 KiB\n",
      "22/10/19 12:36:20 WARN DAGScheduler: Broadcasting large task binary with size 1257.5 KiB\n",
      "22/10/19 12:36:20 WARN DAGScheduler: Broadcasting large task binary with size 1228.6 KiB\n",
      "22/10/19 12:36:20 WARN DAGScheduler: Broadcasting large task binary with size 1266.5 KiB\n",
      "22/10/19 12:36:20 WARN DAGScheduler: Broadcasting large task binary with size 1265.1 KiB\n"
     ]
    },
    {
     "name": "stderr",
     "output_type": "stream",
     "text": [
      "                                                                                \r"
     ]
    },
    {
     "name": "stdout",
     "output_type": "stream",
     "text": [
      "22/10/19 12:36:22 WARN DAGScheduler: Broadcasting large task binary with size 1328.1 KiB\n",
      "22/10/19 12:36:22 WARN DAGScheduler: Broadcasting large task binary with size 1237.5 KiB\n",
      "22/10/19 12:36:22 WARN DAGScheduler: Broadcasting large task binary with size 1238.9 KiB\n"
     ]
    },
    {
     "name": "stderr",
     "output_type": "stream",
     "text": [
      "[Stage 7249:============================================>       (170 + 8) / 200]\r"
     ]
    },
    {
     "name": "stdout",
     "output_type": "stream",
     "text": [
      "22/10/19 12:36:23 WARN DAGScheduler: Broadcasting large task binary with size 1240.4 KiB\n"
     ]
    },
    {
     "name": "stderr",
     "output_type": "stream",
     "text": [
      "                                                                                \r"
     ]
    },
    {
     "name": "stdout",
     "output_type": "stream",
     "text": [
      "22/10/19 12:36:24 WARN DAGScheduler: Broadcasting large task binary with size 1241.7 KiB\n",
      "22/10/19 12:36:24 WARN DAGScheduler: Broadcasting large task binary with size 1240.7 KiB\n"
     ]
    },
    {
     "name": "stderr",
     "output_type": "stream",
     "text": [
      "                                                                                \r"
     ]
    },
    {
     "name": "stdout",
     "output_type": "stream",
     "text": [
      "22/10/19 12:36:25 WARN DAGScheduler: Broadcasting large task binary with size 1242.0 KiB\n",
      "22/10/19 12:36:25 WARN DAGScheduler: Broadcasting large task binary with size 1242.7 KiB\n",
      "22/10/19 12:36:25 WARN DAGScheduler: Broadcasting large task binary with size 1245.8 KiB\n",
      "22/10/19 12:36:25 WARN DAGScheduler: Broadcasting large task binary with size 1247.2 KiB\n",
      "22/10/19 12:36:25 WARN DAGScheduler: Broadcasting large task binary with size 1248.6 KiB\n",
      "22/10/19 12:36:25 WARN DAGScheduler: Broadcasting large task binary with size 1250.0 KiB\n",
      "22/10/19 12:36:25 WARN DAGScheduler: Broadcasting large task binary with size 1251.4 KiB\n",
      "22/10/19 12:36:25 WARN DAGScheduler: Broadcasting large task binary with size 1252.8 KiB\n",
      "22/10/19 12:36:25 WARN DAGScheduler: Broadcasting large task binary with size 1254.2 KiB\n",
      "22/10/19 12:36:25 WARN DAGScheduler: Broadcasting large task binary with size 1255.5 KiB\n",
      "22/10/19 12:36:25 WARN DAGScheduler: Broadcasting large task binary with size 1256.9 KiB\n",
      "22/10/19 12:36:26 WARN DAGScheduler: Broadcasting large task binary with size 1258.3 KiB\n",
      "22/10/19 12:36:26 WARN DAGScheduler: Broadcasting large task binary with size 1259.7 KiB\n",
      "22/10/19 12:36:26 WARN DAGScheduler: Broadcasting large task binary with size 1261.1 KiB\n",
      "22/10/19 12:36:26 WARN DAGScheduler: Broadcasting large task binary with size 1262.5 KiB\n",
      "22/10/19 12:36:26 WARN DAGScheduler: Broadcasting large task binary with size 1263.9 KiB\n",
      "22/10/19 12:36:26 WARN DAGScheduler: Broadcasting large task binary with size 1265.3 KiB\n",
      "22/10/19 12:36:26 WARN DAGScheduler: Broadcasting large task binary with size 1266.6 KiB\n",
      "22/10/19 12:36:26 WARN DAGScheduler: Broadcasting large task binary with size 1268.0 KiB\n",
      "22/10/19 12:36:26 WARN DAGScheduler: Broadcasting large task binary with size 1269.4 KiB\n",
      "22/10/19 12:36:26 WARN DAGScheduler: Broadcasting large task binary with size 1270.8 KiB\n",
      "22/10/19 12:36:26 WARN DAGScheduler: Broadcasting large task binary with size 1272.8 KiB\n",
      "22/10/19 12:36:26 WARN DAGScheduler: Broadcasting large task binary with size 1271.4 KiB\n",
      "22/10/19 12:36:27 WARN DAGScheduler: Broadcasting large task binary with size 1228.6 KiB\n",
      "22/10/19 12:36:27 WARN DAGScheduler: Broadcasting large task binary with size 1280.4 KiB\n",
      "22/10/19 12:36:27 WARN DAGScheduler: Broadcasting large task binary with size 1279.0 KiB\n"
     ]
    },
    {
     "name": "stderr",
     "output_type": "stream",
     "text": [
      "                                                                                \r"
     ]
    },
    {
     "name": "stdout",
     "output_type": "stream",
     "text": [
      "22/10/19 12:36:28 WARN DAGScheduler: Broadcasting large task binary with size 1342.0 KiB\n",
      "22/10/19 12:36:28 WARN DAGScheduler: Broadcasting large task binary with size 1237.5 KiB\n",
      "22/10/19 12:36:28 WARN DAGScheduler: Broadcasting large task binary with size 1238.9 KiB\n"
     ]
    },
    {
     "name": "stderr",
     "output_type": "stream",
     "text": [
      "[Stage 7367:====================================================(200 + 0) / 200]\r"
     ]
    },
    {
     "name": "stdout",
     "output_type": "stream",
     "text": [
      "22/10/19 12:36:30 WARN DAGScheduler: Broadcasting large task binary with size 1240.4 KiB\n"
     ]
    },
    {
     "name": "stderr",
     "output_type": "stream",
     "text": [
      "                                                                                \r"
     ]
    },
    {
     "name": "stdout",
     "output_type": "stream",
     "text": [
      "22/10/19 12:36:30 WARN DAGScheduler: Broadcasting large task binary with size 1241.7 KiB\n",
      "22/10/19 12:36:30 WARN DAGScheduler: Broadcasting large task binary with size 1240.7 KiB\n",
      "22/10/19 12:36:31 WARN DAGScheduler: Broadcasting large task binary with size 1242.0 KiB\n",
      "22/10/19 12:36:31 WARN DAGScheduler: Broadcasting large task binary with size 1242.7 KiB\n",
      "22/10/19 12:36:31 WARN DAGScheduler: Broadcasting large task binary with size 1245.8 KiB\n",
      "22/10/19 12:36:31 WARN DAGScheduler: Broadcasting large task binary with size 1247.2 KiB\n",
      "22/10/19 12:36:31 WARN DAGScheduler: Broadcasting large task binary with size 1248.6 KiB\n",
      "22/10/19 12:36:31 WARN DAGScheduler: Broadcasting large task binary with size 1250.0 KiB\n",
      "22/10/19 12:36:31 WARN DAGScheduler: Broadcasting large task binary with size 1251.4 KiB\n",
      "22/10/19 12:36:31 WARN DAGScheduler: Broadcasting large task binary with size 1252.8 KiB\n",
      "22/10/19 12:36:32 WARN DAGScheduler: Broadcasting large task binary with size 1254.2 KiB\n",
      "22/10/19 12:36:32 WARN DAGScheduler: Broadcasting large task binary with size 1255.5 KiB\n",
      "22/10/19 12:36:32 WARN DAGScheduler: Broadcasting large task binary with size 1256.9 KiB\n",
      "22/10/19 12:36:32 WARN DAGScheduler: Broadcasting large task binary with size 1258.3 KiB\n",
      "22/10/19 12:36:32 WARN DAGScheduler: Broadcasting large task binary with size 1259.7 KiB\n",
      "22/10/19 12:36:32 WARN DAGScheduler: Broadcasting large task binary with size 1261.1 KiB\n",
      "22/10/19 12:36:32 WARN DAGScheduler: Broadcasting large task binary with size 1262.5 KiB\n",
      "22/10/19 12:36:32 WARN DAGScheduler: Broadcasting large task binary with size 1263.9 KiB\n",
      "22/10/19 12:36:32 WARN DAGScheduler: Broadcasting large task binary with size 1265.3 KiB\n",
      "22/10/19 12:36:32 WARN DAGScheduler: Broadcasting large task binary with size 1266.6 KiB\n",
      "22/10/19 12:36:32 WARN DAGScheduler: Broadcasting large task binary with size 1268.0 KiB\n",
      "22/10/19 12:36:32 WARN DAGScheduler: Broadcasting large task binary with size 1269.4 KiB\n",
      "22/10/19 12:36:32 WARN DAGScheduler: Broadcasting large task binary with size 1270.8 KiB\n",
      "22/10/19 12:36:32 WARN DAGScheduler: Broadcasting large task binary with size 1272.8 KiB\n",
      "22/10/19 12:36:32 WARN DAGScheduler: Broadcasting large task binary with size 1271.4 KiB\n",
      "22/10/19 12:36:33 WARN DAGScheduler: Broadcasting large task binary with size 1228.6 KiB\n",
      "22/10/19 12:36:33 WARN DAGScheduler: Broadcasting large task binary with size 1280.4 KiB\n",
      "22/10/19 12:36:33 WARN DAGScheduler: Broadcasting large task binary with size 1279.0 KiB\n"
     ]
    },
    {
     "name": "stderr",
     "output_type": "stream",
     "text": [
      "                                                                                \r"
     ]
    },
    {
     "name": "stdout",
     "output_type": "stream",
     "text": [
      "22/10/19 12:36:34 WARN DAGScheduler: Broadcasting large task binary with size 1342.0 KiB\n",
      "22/10/19 12:36:35 WARN DAGScheduler: Broadcasting large task binary with size 1237.5 KiB\n",
      "22/10/19 12:36:35 WARN DAGScheduler: Broadcasting large task binary with size 1238.9 KiB\n"
     ]
    },
    {
     "name": "stderr",
     "output_type": "stream",
     "text": [
      "[Stage 7485:===================================================>(197 + 3) / 200]\r"
     ]
    },
    {
     "name": "stdout",
     "output_type": "stream",
     "text": [
      "22/10/19 12:36:36 WARN DAGScheduler: Broadcasting large task binary with size 1240.4 KiB\n"
     ]
    },
    {
     "name": "stderr",
     "output_type": "stream",
     "text": [
      "                                                                                \r"
     ]
    },
    {
     "name": "stdout",
     "output_type": "stream",
     "text": [
      "22/10/19 12:36:37 WARN DAGScheduler: Broadcasting large task binary with size 1241.7 KiB\n",
      "22/10/19 12:36:37 WARN DAGScheduler: Broadcasting large task binary with size 1240.7 KiB\n",
      "22/10/19 12:36:37 WARN DAGScheduler: Broadcasting large task binary with size 1242.0 KiB\n",
      "22/10/19 12:36:38 WARN DAGScheduler: Broadcasting large task binary with size 1242.7 KiB\n",
      "22/10/19 12:36:38 WARN DAGScheduler: Broadcasting large task binary with size 1245.8 KiB\n",
      "22/10/19 12:36:38 WARN DAGScheduler: Broadcasting large task binary with size 1247.2 KiB\n",
      "22/10/19 12:36:38 WARN DAGScheduler: Broadcasting large task binary with size 1248.6 KiB\n",
      "22/10/19 12:36:38 WARN DAGScheduler: Broadcasting large task binary with size 1250.0 KiB\n",
      "22/10/19 12:36:38 WARN DAGScheduler: Broadcasting large task binary with size 1251.4 KiB\n",
      "22/10/19 12:36:38 WARN DAGScheduler: Broadcasting large task binary with size 1252.8 KiB\n",
      "22/10/19 12:36:38 WARN DAGScheduler: Broadcasting large task binary with size 1254.2 KiB\n",
      "22/10/19 12:36:38 WARN DAGScheduler: Broadcasting large task binary with size 1255.5 KiB\n",
      "22/10/19 12:36:38 WARN DAGScheduler: Broadcasting large task binary with size 1256.9 KiB\n",
      "22/10/19 12:36:38 WARN DAGScheduler: Broadcasting large task binary with size 1258.3 KiB\n",
      "22/10/19 12:36:38 WARN DAGScheduler: Broadcasting large task binary with size 1259.7 KiB\n",
      "22/10/19 12:36:38 WARN DAGScheduler: Broadcasting large task binary with size 1261.1 KiB\n",
      "22/10/19 12:36:38 WARN DAGScheduler: Broadcasting large task binary with size 1262.5 KiB\n",
      "22/10/19 12:36:38 WARN DAGScheduler: Broadcasting large task binary with size 1263.9 KiB\n",
      "22/10/19 12:36:38 WARN DAGScheduler: Broadcasting large task binary with size 1265.3 KiB\n",
      "22/10/19 12:36:38 WARN DAGScheduler: Broadcasting large task binary with size 1266.6 KiB\n",
      "22/10/19 12:36:39 WARN DAGScheduler: Broadcasting large task binary with size 1268.0 KiB\n",
      "22/10/19 12:36:39 WARN DAGScheduler: Broadcasting large task binary with size 1269.4 KiB\n"
     ]
    },
    {
     "name": "stderr",
     "output_type": "stream",
     "text": [
      "[Stage 7514:>                                                      (0 + 8) / 10]\r"
     ]
    },
    {
     "name": "stdout",
     "output_type": "stream",
     "text": [
      "22/10/19 12:36:40 WARN DAGScheduler: Broadcasting large task binary with size 1270.8 KiB\n",
      "22/10/19 12:36:40 WARN DAGScheduler: Broadcasting large task binary with size 1272.8 KiB\n"
     ]
    },
    {
     "name": "stderr",
     "output_type": "stream",
     "text": [
      "                                                                                \r"
     ]
    },
    {
     "name": "stdout",
     "output_type": "stream",
     "text": [
      "22/10/19 12:36:40 WARN DAGScheduler: Broadcasting large task binary with size 1271.4 KiB\n",
      "22/10/19 12:36:41 WARN DAGScheduler: Broadcasting large task binary with size 1228.6 KiB\n",
      "22/10/19 12:36:41 WARN DAGScheduler: Broadcasting large task binary with size 1280.4 KiB\n",
      "22/10/19 12:36:41 WARN DAGScheduler: Broadcasting large task binary with size 1279.0 KiB\n"
     ]
    },
    {
     "name": "stderr",
     "output_type": "stream",
     "text": [
      "                                                                                \r"
     ]
    },
    {
     "name": "stdout",
     "output_type": "stream",
     "text": [
      "22/10/19 12:36:43 WARN DAGScheduler: Broadcasting large task binary with size 1342.0 KiB\n",
      "22/10/19 12:36:43 WARN DAGScheduler: Broadcasting large task binary with size 1237.5 KiB\n",
      "22/10/19 12:36:43 WARN DAGScheduler: Broadcasting large task binary with size 1238.9 KiB\n"
     ]
    },
    {
     "name": "stderr",
     "output_type": "stream",
     "text": [
      "[Stage 7603:==============================================>     (178 + 8) / 200]\r"
     ]
    },
    {
     "name": "stdout",
     "output_type": "stream",
     "text": [
      "22/10/19 12:36:44 WARN DAGScheduler: Broadcasting large task binary with size 1240.4 KiB\n"
     ]
    },
    {
     "name": "stderr",
     "output_type": "stream",
     "text": [
      "                                                                                \r"
     ]
    },
    {
     "name": "stdout",
     "output_type": "stream",
     "text": [
      "22/10/19 12:36:45 WARN DAGScheduler: Broadcasting large task binary with size 1241.7 KiB\n",
      "22/10/19 12:36:45 WARN DAGScheduler: Broadcasting large task binary with size 1240.7 KiB\n"
     ]
    },
    {
     "name": "stderr",
     "output_type": "stream",
     "text": [
      "                                                                                \r"
     ]
    },
    {
     "name": "stdout",
     "output_type": "stream",
     "text": [
      "22/10/19 12:36:45 WARN DAGScheduler: Broadcasting large task binary with size 1242.0 KiB\n",
      "22/10/19 12:36:46 WARN DAGScheduler: Broadcasting large task binary with size 1242.7 KiB\n",
      "22/10/19 12:36:46 WARN DAGScheduler: Broadcasting large task binary with size 1245.8 KiB\n",
      "22/10/19 12:36:46 WARN DAGScheduler: Broadcasting large task binary with size 1247.2 KiB\n",
      "22/10/19 12:36:46 WARN DAGScheduler: Broadcasting large task binary with size 1248.6 KiB\n",
      "22/10/19 12:36:46 WARN DAGScheduler: Broadcasting large task binary with size 1250.0 KiB\n",
      "22/10/19 12:36:46 WARN DAGScheduler: Broadcasting large task binary with size 1251.4 KiB\n",
      "22/10/19 12:36:46 WARN DAGScheduler: Broadcasting large task binary with size 1252.8 KiB\n",
      "22/10/19 12:36:46 WARN DAGScheduler: Broadcasting large task binary with size 1254.2 KiB\n",
      "22/10/19 12:36:46 WARN DAGScheduler: Broadcasting large task binary with size 1255.5 KiB\n",
      "22/10/19 12:36:46 WARN DAGScheduler: Broadcasting large task binary with size 1256.9 KiB\n",
      "22/10/19 12:36:46 WARN DAGScheduler: Broadcasting large task binary with size 1258.3 KiB\n",
      "22/10/19 12:36:46 WARN DAGScheduler: Broadcasting large task binary with size 1259.7 KiB\n",
      "22/10/19 12:36:46 WARN DAGScheduler: Broadcasting large task binary with size 1261.1 KiB\n",
      "22/10/19 12:36:47 WARN DAGScheduler: Broadcasting large task binary with size 1262.5 KiB\n",
      "22/10/19 12:36:47 WARN DAGScheduler: Broadcasting large task binary with size 1263.9 KiB\n",
      "22/10/19 12:36:47 WARN DAGScheduler: Broadcasting large task binary with size 1265.3 KiB\n",
      "22/10/19 12:36:47 WARN DAGScheduler: Broadcasting large task binary with size 1266.6 KiB\n",
      "22/10/19 12:36:47 WARN DAGScheduler: Broadcasting large task binary with size 1268.0 KiB\n",
      "22/10/19 12:36:47 WARN DAGScheduler: Broadcasting large task binary with size 1269.4 KiB\n",
      "22/10/19 12:36:47 WARN DAGScheduler: Broadcasting large task binary with size 1270.8 KiB\n",
      "22/10/19 12:36:47 WARN DAGScheduler: Broadcasting large task binary with size 1272.2 KiB\n",
      "22/10/19 12:36:47 WARN DAGScheduler: Broadcasting large task binary with size 1273.6 KiB\n",
      "22/10/19 12:36:47 WARN DAGScheduler: Broadcasting large task binary with size 1275.0 KiB\n",
      "22/10/19 12:36:47 WARN DAGScheduler: Broadcasting large task binary with size 1276.3 KiB\n",
      "22/10/19 12:36:47 WARN DAGScheduler: Broadcasting large task binary with size 1277.7 KiB\n",
      "22/10/19 12:36:47 WARN DAGScheduler: Broadcasting large task binary with size 1279.1 KiB\n",
      "22/10/19 12:36:47 WARN DAGScheduler: Broadcasting large task binary with size 1280.5 KiB\n",
      "22/10/19 12:36:47 WARN DAGScheduler: Broadcasting large task binary with size 1281.9 KiB\n",
      "22/10/19 12:36:48 WARN DAGScheduler: Broadcasting large task binary with size 1283.3 KiB\n",
      "22/10/19 12:36:48 WARN DAGScheduler: Broadcasting large task binary with size 1284.7 KiB\n",
      "22/10/19 12:36:48 WARN DAGScheduler: Broadcasting large task binary with size 1286.6 KiB\n",
      "22/10/19 12:36:48 WARN DAGScheduler: Broadcasting large task binary with size 1285.2 KiB\n",
      "22/10/19 12:36:48 WARN DAGScheduler: Broadcasting large task binary with size 1228.6 KiB\n",
      "22/10/19 12:36:48 WARN DAGScheduler: Broadcasting large task binary with size 1294.2 KiB\n",
      "22/10/19 12:36:48 WARN DAGScheduler: Broadcasting large task binary with size 1292.9 KiB\n"
     ]
    },
    {
     "name": "stderr",
     "output_type": "stream",
     "text": [
      "                                                                                \r"
     ]
    },
    {
     "name": "stdout",
     "output_type": "stream",
     "text": [
      "22/10/19 12:36:50 WARN DAGScheduler: Broadcasting large task binary with size 1355.9 KiB\n",
      "22/10/19 12:36:50 WARN DAGScheduler: Broadcasting large task binary with size 1237.5 KiB\n",
      "22/10/19 12:36:50 WARN DAGScheduler: Broadcasting large task binary with size 1238.9 KiB\n"
     ]
    },
    {
     "name": "stderr",
     "output_type": "stream",
     "text": [
      "[Stage 7761:==================================================> (193 + 7) / 200]\r"
     ]
    },
    {
     "name": "stdout",
     "output_type": "stream",
     "text": [
      "22/10/19 12:36:51 WARN DAGScheduler: Broadcasting large task binary with size 1240.4 KiB\n"
     ]
    },
    {
     "name": "stderr",
     "output_type": "stream",
     "text": [
      "                                                                                \r"
     ]
    },
    {
     "name": "stdout",
     "output_type": "stream",
     "text": [
      "22/10/19 12:36:52 WARN DAGScheduler: Broadcasting large task binary with size 1241.7 KiB\n",
      "22/10/19 12:36:52 WARN DAGScheduler: Broadcasting large task binary with size 1240.7 KiB\n",
      "22/10/19 12:36:53 WARN DAGScheduler: Broadcasting large task binary with size 1242.0 KiB\n",
      "22/10/19 12:36:53 WARN DAGScheduler: Broadcasting large task binary with size 1242.7 KiB\n",
      "22/10/19 12:36:53 WARN DAGScheduler: Broadcasting large task binary with size 1245.8 KiB\n",
      "22/10/19 12:36:53 WARN DAGScheduler: Broadcasting large task binary with size 1247.2 KiB\n",
      "22/10/19 12:36:53 WARN DAGScheduler: Broadcasting large task binary with size 1248.6 KiB\n",
      "22/10/19 12:36:53 WARN DAGScheduler: Broadcasting large task binary with size 1250.0 KiB\n",
      "22/10/19 12:36:53 WARN DAGScheduler: Broadcasting large task binary with size 1251.4 KiB\n",
      "22/10/19 12:36:53 WARN DAGScheduler: Broadcasting large task binary with size 1252.8 KiB\n",
      "22/10/19 12:36:53 WARN DAGScheduler: Broadcasting large task binary with size 1254.2 KiB\n",
      "22/10/19 12:36:53 WARN DAGScheduler: Broadcasting large task binary with size 1255.5 KiB\n",
      "22/10/19 12:36:53 WARN DAGScheduler: Broadcasting large task binary with size 1256.9 KiB\n",
      "22/10/19 12:36:53 WARN DAGScheduler: Broadcasting large task binary with size 1258.3 KiB\n",
      "22/10/19 12:36:53 WARN DAGScheduler: Broadcasting large task binary with size 1259.7 KiB\n",
      "22/10/19 12:36:54 WARN DAGScheduler: Broadcasting large task binary with size 1261.1 KiB\n",
      "22/10/19 12:36:54 WARN DAGScheduler: Broadcasting large task binary with size 1262.5 KiB\n",
      "22/10/19 12:36:54 WARN DAGScheduler: Broadcasting large task binary with size 1263.9 KiB\n",
      "22/10/19 12:36:54 WARN DAGScheduler: Broadcasting large task binary with size 1265.3 KiB\n",
      "22/10/19 12:36:54 WARN DAGScheduler: Broadcasting large task binary with size 1266.6 KiB\n",
      "22/10/19 12:36:54 WARN DAGScheduler: Broadcasting large task binary with size 1268.0 KiB\n",
      "22/10/19 12:36:54 WARN DAGScheduler: Broadcasting large task binary with size 1269.4 KiB\n",
      "22/10/19 12:36:54 WARN DAGScheduler: Broadcasting large task binary with size 1270.8 KiB\n",
      "22/10/19 12:36:54 WARN DAGScheduler: Broadcasting large task binary with size 1272.2 KiB\n",
      "22/10/19 12:36:54 WARN DAGScheduler: Broadcasting large task binary with size 1273.6 KiB\n",
      "22/10/19 12:36:54 WARN DAGScheduler: Broadcasting large task binary with size 1275.0 KiB\n",
      "22/10/19 12:36:54 WARN DAGScheduler: Broadcasting large task binary with size 1276.3 KiB\n",
      "22/10/19 12:36:54 WARN DAGScheduler: Broadcasting large task binary with size 1277.7 KiB\n",
      "22/10/19 12:36:54 WARN DAGScheduler: Broadcasting large task binary with size 1279.1 KiB\n",
      "22/10/19 12:36:54 WARN DAGScheduler: Broadcasting large task binary with size 1280.5 KiB\n",
      "22/10/19 12:36:54 WARN DAGScheduler: Broadcasting large task binary with size 1281.9 KiB\n",
      "22/10/19 12:36:55 WARN DAGScheduler: Broadcasting large task binary with size 1283.3 KiB\n",
      "22/10/19 12:36:55 WARN DAGScheduler: Broadcasting large task binary with size 1284.7 KiB\n",
      "22/10/19 12:36:55 WARN DAGScheduler: Broadcasting large task binary with size 1286.6 KiB\n",
      "22/10/19 12:36:55 WARN DAGScheduler: Broadcasting large task binary with size 1285.2 KiB\n",
      "22/10/19 12:36:55 WARN DAGScheduler: Broadcasting large task binary with size 1228.6 KiB\n",
      "22/10/19 12:36:55 WARN DAGScheduler: Broadcasting large task binary with size 1294.2 KiB\n",
      "22/10/19 12:36:55 WARN DAGScheduler: Broadcasting large task binary with size 1292.9 KiB\n"
     ]
    },
    {
     "name": "stderr",
     "output_type": "stream",
     "text": [
      "                                                                                \r"
     ]
    },
    {
     "name": "stdout",
     "output_type": "stream",
     "text": [
      "22/10/19 12:36:57 WARN DAGScheduler: Broadcasting large task binary with size 1355.9 KiB\n",
      "22/10/19 12:36:57 WARN DAGScheduler: Broadcasting large task binary with size 1237.5 KiB\n",
      "22/10/19 12:36:57 WARN DAGScheduler: Broadcasting large task binary with size 1238.9 KiB\n"
     ]
    },
    {
     "name": "stderr",
     "output_type": "stream",
     "text": [
      "[Stage 7919:===============================================>    (184 + 8) / 200]\r"
     ]
    },
    {
     "name": "stdout",
     "output_type": "stream",
     "text": [
      "22/10/19 12:36:58 WARN DAGScheduler: Broadcasting large task binary with size 1240.4 KiB\n"
     ]
    },
    {
     "name": "stderr",
     "output_type": "stream",
     "text": [
      "[Stage 7920:=================================>                  (128 + 8) / 200]\r"
     ]
    },
    {
     "name": "stdout",
     "output_type": "stream",
     "text": [
      "22/10/19 12:37:00 WARN DAGScheduler: Broadcasting large task binary with size 1241.7 KiB\n",
      "22/10/19 12:37:00 WARN DAGScheduler: Broadcasting large task binary with size 1240.7 KiB\n"
     ]
    },
    {
     "name": "stderr",
     "output_type": "stream",
     "text": [
      "                                                                                \r"
     ]
    },
    {
     "name": "stdout",
     "output_type": "stream",
     "text": [
      "22/10/19 12:37:01 WARN DAGScheduler: Broadcasting large task binary with size 1242.0 KiB\n",
      "22/10/19 12:37:01 WARN DAGScheduler: Broadcasting large task binary with size 1242.7 KiB\n",
      "22/10/19 12:37:01 WARN DAGScheduler: Broadcasting large task binary with size 1245.8 KiB\n",
      "22/10/19 12:37:01 WARN DAGScheduler: Broadcasting large task binary with size 1247.2 KiB\n",
      "22/10/19 12:37:01 WARN DAGScheduler: Broadcasting large task binary with size 1248.6 KiB\n",
      "22/10/19 12:37:01 WARN DAGScheduler: Broadcasting large task binary with size 1250.0 KiB\n",
      "22/10/19 12:37:01 WARN DAGScheduler: Broadcasting large task binary with size 1251.4 KiB\n",
      "22/10/19 12:37:01 WARN DAGScheduler: Broadcasting large task binary with size 1252.8 KiB\n",
      "22/10/19 12:37:02 WARN DAGScheduler: Broadcasting large task binary with size 1254.2 KiB\n",
      "22/10/19 12:37:02 WARN DAGScheduler: Broadcasting large task binary with size 1255.5 KiB\n",
      "22/10/19 12:37:02 WARN DAGScheduler: Broadcasting large task binary with size 1256.9 KiB\n",
      "22/10/19 12:37:02 WARN DAGScheduler: Broadcasting large task binary with size 1258.3 KiB\n",
      "22/10/19 12:37:02 WARN DAGScheduler: Broadcasting large task binary with size 1259.7 KiB\n",
      "22/10/19 12:37:02 WARN DAGScheduler: Broadcasting large task binary with size 1261.1 KiB\n",
      "22/10/19 12:37:02 WARN DAGScheduler: Broadcasting large task binary with size 1262.5 KiB\n",
      "22/10/19 12:37:02 WARN DAGScheduler: Broadcasting large task binary with size 1263.9 KiB\n",
      "22/10/19 12:37:02 WARN DAGScheduler: Broadcasting large task binary with size 1265.3 KiB\n",
      "22/10/19 12:37:02 WARN DAGScheduler: Broadcasting large task binary with size 1266.6 KiB\n",
      "22/10/19 12:37:02 WARN DAGScheduler: Broadcasting large task binary with size 1268.0 KiB\n",
      "22/10/19 12:37:02 WARN DAGScheduler: Broadcasting large task binary with size 1269.4 KiB\n",
      "22/10/19 12:37:02 WARN DAGScheduler: Broadcasting large task binary with size 1270.8 KiB\n",
      "22/10/19 12:37:02 WARN DAGScheduler: Broadcasting large task binary with size 1272.2 KiB\n",
      "22/10/19 12:37:02 WARN DAGScheduler: Broadcasting large task binary with size 1273.6 KiB\n",
      "22/10/19 12:37:02 WARN DAGScheduler: Broadcasting large task binary with size 1275.0 KiB\n",
      "22/10/19 12:37:02 WARN DAGScheduler: Broadcasting large task binary with size 1276.3 KiB\n",
      "22/10/19 12:37:03 WARN DAGScheduler: Broadcasting large task binary with size 1277.7 KiB\n",
      "22/10/19 12:37:03 WARN DAGScheduler: Broadcasting large task binary with size 1279.1 KiB\n",
      "22/10/19 12:37:03 WARN DAGScheduler: Broadcasting large task binary with size 1280.5 KiB\n",
      "22/10/19 12:37:03 WARN DAGScheduler: Broadcasting large task binary with size 1281.9 KiB\n",
      "22/10/19 12:37:03 WARN DAGScheduler: Broadcasting large task binary with size 1283.3 KiB\n",
      "22/10/19 12:37:03 WARN DAGScheduler: Broadcasting large task binary with size 1284.7 KiB\n",
      "22/10/19 12:37:03 WARN DAGScheduler: Broadcasting large task binary with size 1286.6 KiB\n",
      "22/10/19 12:37:03 WARN DAGScheduler: Broadcasting large task binary with size 1285.2 KiB\n",
      "22/10/19 12:37:04 WARN DAGScheduler: Broadcasting large task binary with size 1228.6 KiB\n",
      "22/10/19 12:37:04 WARN DAGScheduler: Broadcasting large task binary with size 1294.2 KiB\n",
      "22/10/19 12:37:04 WARN DAGScheduler: Broadcasting large task binary with size 1292.9 KiB\n"
     ]
    },
    {
     "name": "stderr",
     "output_type": "stream",
     "text": [
      "                                                                                \r"
     ]
    },
    {
     "name": "stdout",
     "output_type": "stream",
     "text": [
      "22/10/19 12:37:05 WARN DAGScheduler: Broadcasting large task binary with size 1355.9 KiB\n",
      "22/10/19 12:37:05 WARN DAGScheduler: Broadcasting large task binary with size 1237.5 KiB\n",
      "22/10/19 12:37:05 WARN DAGScheduler: Broadcasting large task binary with size 1238.9 KiB\n"
     ]
    },
    {
     "name": "stderr",
     "output_type": "stream",
     "text": [
      "[Stage 8044:================================================>   (185 + 8) / 200]\r"
     ]
    },
    {
     "name": "stdout",
     "output_type": "stream",
     "text": [
      "22/10/19 12:37:07 WARN DAGScheduler: Broadcasting large task binary with size 1240.4 KiB\n"
     ]
    },
    {
     "name": "stderr",
     "output_type": "stream",
     "text": [
      "                                                                                \r"
     ]
    },
    {
     "name": "stdout",
     "output_type": "stream",
     "text": [
      "22/10/19 12:37:07 WARN DAGScheduler: Broadcasting large task binary with size 1241.7 KiB\n",
      "22/10/19 12:37:07 WARN DAGScheduler: Broadcasting large task binary with size 1240.7 KiB\n",
      "22/10/19 12:37:08 WARN DAGScheduler: Broadcasting large task binary with size 1242.0 KiB\n",
      "22/10/19 12:37:08 WARN DAGScheduler: Broadcasting large task binary with size 1242.7 KiB\n",
      "22/10/19 12:37:08 WARN DAGScheduler: Broadcasting large task binary with size 1245.8 KiB\n",
      "22/10/19 12:37:08 WARN DAGScheduler: Broadcasting large task binary with size 1247.2 KiB\n",
      "22/10/19 12:37:08 WARN DAGScheduler: Broadcasting large task binary with size 1248.6 KiB\n",
      "22/10/19 12:37:08 WARN DAGScheduler: Broadcasting large task binary with size 1250.0 KiB\n",
      "22/10/19 12:37:08 WARN DAGScheduler: Broadcasting large task binary with size 1251.4 KiB\n",
      "22/10/19 12:37:09 WARN DAGScheduler: Broadcasting large task binary with size 1252.8 KiB\n",
      "22/10/19 12:37:09 WARN DAGScheduler: Broadcasting large task binary with size 1254.2 KiB\n",
      "22/10/19 12:37:09 WARN DAGScheduler: Broadcasting large task binary with size 1255.5 KiB\n",
      "22/10/19 12:37:09 WARN DAGScheduler: Broadcasting large task binary with size 1256.9 KiB\n",
      "22/10/19 12:37:09 WARN DAGScheduler: Broadcasting large task binary with size 1258.9 KiB\n",
      "22/10/19 12:37:09 WARN DAGScheduler: Broadcasting large task binary with size 1257.5 KiB\n",
      "22/10/19 12:37:09 WARN DAGScheduler: Broadcasting large task binary with size 1228.6 KiB\n",
      "22/10/19 12:37:09 WARN DAGScheduler: Broadcasting large task binary with size 1266.5 KiB\n",
      "22/10/19 12:37:09 WARN DAGScheduler: Broadcasting large task binary with size 1265.1 KiB\n"
     ]
    },
    {
     "name": "stderr",
     "output_type": "stream",
     "text": [
      "                                                                                \r"
     ]
    },
    {
     "name": "stdout",
     "output_type": "stream",
     "text": [
      "22/10/19 12:37:11 WARN DAGScheduler: Broadcasting large task binary with size 1328.1 KiB\n",
      "22/10/19 12:37:11 WARN DAGScheduler: Broadcasting large task binary with size 1237.5 KiB\n",
      "22/10/19 12:37:11 WARN DAGScheduler: Broadcasting large task binary with size 1238.9 KiB\n"
     ]
    },
    {
     "name": "stderr",
     "output_type": "stream",
     "text": [
      "[Stage 8122:==============================================>     (179 + 8) / 200]\r"
     ]
    },
    {
     "name": "stdout",
     "output_type": "stream",
     "text": [
      "22/10/19 12:37:12 WARN DAGScheduler: Broadcasting large task binary with size 1240.4 KiB\n",
      "22/10/19 12:37:13 WARN DAGScheduler: Broadcasting large task binary with size 1241.7 KiB\n",
      "22/10/19 12:37:13 WARN DAGScheduler: Broadcasting large task binary with size 1240.7 KiB\n"
     ]
    },
    {
     "name": "stderr",
     "output_type": "stream",
     "text": [
      "                                                                                \r"
     ]
    },
    {
     "name": "stdout",
     "output_type": "stream",
     "text": [
      "22/10/19 12:37:14 WARN DAGScheduler: Broadcasting large task binary with size 1242.0 KiB\n",
      "22/10/19 12:37:14 WARN DAGScheduler: Broadcasting large task binary with size 1242.7 KiB\n",
      "22/10/19 12:37:14 WARN DAGScheduler: Broadcasting large task binary with size 1245.8 KiB\n",
      "22/10/19 12:37:14 WARN DAGScheduler: Broadcasting large task binary with size 1247.2 KiB\n",
      "22/10/19 12:37:14 WARN DAGScheduler: Broadcasting large task binary with size 1248.6 KiB\n",
      "22/10/19 12:37:14 WARN DAGScheduler: Broadcasting large task binary with size 1250.0 KiB\n",
      "22/10/19 12:37:14 WARN DAGScheduler: Broadcasting large task binary with size 1251.4 KiB\n",
      "22/10/19 12:37:14 WARN DAGScheduler: Broadcasting large task binary with size 1252.8 KiB\n",
      "22/10/19 12:37:14 WARN DAGScheduler: Broadcasting large task binary with size 1254.2 KiB\n",
      "22/10/19 12:37:14 WARN DAGScheduler: Broadcasting large task binary with size 1255.5 KiB\n",
      "22/10/19 12:37:14 WARN DAGScheduler: Broadcasting large task binary with size 1256.9 KiB\n",
      "22/10/19 12:37:14 WARN DAGScheduler: Broadcasting large task binary with size 1258.9 KiB\n",
      "22/10/19 12:37:14 WARN DAGScheduler: Broadcasting large task binary with size 1257.5 KiB\n",
      "22/10/19 12:37:15 WARN DAGScheduler: Broadcasting large task binary with size 1228.6 KiB\n",
      "22/10/19 12:37:15 WARN DAGScheduler: Broadcasting large task binary with size 1266.5 KiB\n",
      "22/10/19 12:37:15 WARN DAGScheduler: Broadcasting large task binary with size 1265.1 KiB\n"
     ]
    },
    {
     "name": "stderr",
     "output_type": "stream",
     "text": [
      "                                                                                \r"
     ]
    },
    {
     "name": "stdout",
     "output_type": "stream",
     "text": [
      "22/10/19 12:37:17 WARN DAGScheduler: Broadcasting large task binary with size 1328.1 KiB\n",
      "22/10/19 12:37:17 WARN DAGScheduler: Broadcasting large task binary with size 1237.5 KiB\n",
      "22/10/19 12:37:17 WARN DAGScheduler: Broadcasting large task binary with size 1238.9 KiB\n"
     ]
    },
    {
     "name": "stderr",
     "output_type": "stream",
     "text": [
      "[Stage 8200:=================================================>  (190 + 8) / 200]\r"
     ]
    },
    {
     "name": "stdout",
     "output_type": "stream",
     "text": [
      "22/10/19 12:37:18 WARN DAGScheduler: Broadcasting large task binary with size 1240.4 KiB\n"
     ]
    },
    {
     "name": "stderr",
     "output_type": "stream",
     "text": [
      "[Stage 8201:======================================>             (147 + 8) / 200]\r"
     ]
    },
    {
     "name": "stdout",
     "output_type": "stream",
     "text": [
      "22/10/19 12:37:19 WARN DAGScheduler: Broadcasting large task binary with size 1241.7 KiB\n",
      "22/10/19 12:37:19 WARN DAGScheduler: Broadcasting large task binary with size 1240.7 KiB\n"
     ]
    },
    {
     "name": "stderr",
     "output_type": "stream",
     "text": [
      "                                                                                \r"
     ]
    },
    {
     "name": "stdout",
     "output_type": "stream",
     "text": [
      "22/10/19 12:37:19 WARN DAGScheduler: Broadcasting large task binary with size 1242.0 KiB\n",
      "22/10/19 12:37:20 WARN DAGScheduler: Broadcasting large task binary with size 1242.7 KiB\n",
      "22/10/19 12:37:20 WARN DAGScheduler: Broadcasting large task binary with size 1245.8 KiB\n",
      "22/10/19 12:37:20 WARN DAGScheduler: Broadcasting large task binary with size 1247.2 KiB\n",
      "22/10/19 12:37:20 WARN DAGScheduler: Broadcasting large task binary with size 1248.6 KiB\n",
      "22/10/19 12:37:20 WARN DAGScheduler: Broadcasting large task binary with size 1250.0 KiB\n",
      "22/10/19 12:37:20 WARN DAGScheduler: Broadcasting large task binary with size 1251.4 KiB\n",
      "22/10/19 12:37:20 WARN DAGScheduler: Broadcasting large task binary with size 1252.8 KiB\n",
      "22/10/19 12:37:20 WARN DAGScheduler: Broadcasting large task binary with size 1254.2 KiB\n",
      "22/10/19 12:37:20 WARN DAGScheduler: Broadcasting large task binary with size 1255.5 KiB\n",
      "22/10/19 12:37:20 WARN DAGScheduler: Broadcasting large task binary with size 1256.9 KiB\n",
      "22/10/19 12:37:20 WARN DAGScheduler: Broadcasting large task binary with size 1258.9 KiB\n",
      "22/10/19 12:37:20 WARN DAGScheduler: Broadcasting large task binary with size 1257.5 KiB\n",
      "22/10/19 12:37:21 WARN DAGScheduler: Broadcasting large task binary with size 1228.6 KiB\n",
      "22/10/19 12:37:21 WARN DAGScheduler: Broadcasting large task binary with size 1266.5 KiB\n",
      "22/10/19 12:37:21 WARN DAGScheduler: Broadcasting large task binary with size 1265.1 KiB\n"
     ]
    },
    {
     "name": "stderr",
     "output_type": "stream",
     "text": [
      "                                                                                \r"
     ]
    },
    {
     "name": "stdout",
     "output_type": "stream",
     "text": [
      "22/10/19 12:37:22 WARN DAGScheduler: Broadcasting large task binary with size 1328.1 KiB\n",
      "22/10/19 12:37:23 WARN DAGScheduler: Broadcasting large task binary with size 1237.5 KiB\n",
      "22/10/19 12:37:23 WARN DAGScheduler: Broadcasting large task binary with size 1238.9 KiB\n"
     ]
    },
    {
     "name": "stderr",
     "output_type": "stream",
     "text": [
      "[Stage 8278:================================================>   (185 + 8) / 200]\r"
     ]
    },
    {
     "name": "stdout",
     "output_type": "stream",
     "text": [
      "22/10/19 12:37:24 WARN DAGScheduler: Broadcasting large task binary with size 1240.4 KiB\n"
     ]
    },
    {
     "name": "stderr",
     "output_type": "stream",
     "text": [
      "[Stage 8279:================================>                   (126 + 8) / 200]\r"
     ]
    },
    {
     "name": "stdout",
     "output_type": "stream",
     "text": [
      "22/10/19 12:37:25 WARN DAGScheduler: Broadcasting large task binary with size 1241.7 KiB\n",
      "22/10/19 12:37:25 WARN DAGScheduler: Broadcasting large task binary with size 1240.7 KiB\n"
     ]
    },
    {
     "name": "stderr",
     "output_type": "stream",
     "text": [
      "[Stage 8283:=====================>                               (81 + 8) / 200]\r"
     ]
    },
    {
     "name": "stdout",
     "output_type": "stream",
     "text": [
      "22/10/19 12:37:26 WARN DAGScheduler: Broadcasting large task binary with size 1242.0 KiB\n"
     ]
    },
    {
     "name": "stderr",
     "output_type": "stream",
     "text": [
      "                                                                                \r"
     ]
    },
    {
     "name": "stdout",
     "output_type": "stream",
     "text": [
      "22/10/19 12:37:26 WARN DAGScheduler: Broadcasting large task binary with size 1242.7 KiB\n",
      "22/10/19 12:37:26 WARN DAGScheduler: Broadcasting large task binary with size 1245.8 KiB\n",
      "22/10/19 12:37:26 WARN DAGScheduler: Broadcasting large task binary with size 1247.2 KiB\n",
      "22/10/19 12:37:26 WARN DAGScheduler: Broadcasting large task binary with size 1248.6 KiB\n",
      "22/10/19 12:37:27 WARN DAGScheduler: Broadcasting large task binary with size 1250.0 KiB\n",
      "22/10/19 12:37:27 WARN DAGScheduler: Broadcasting large task binary with size 1251.4 KiB\n",
      "22/10/19 12:37:27 WARN DAGScheduler: Broadcasting large task binary with size 1252.8 KiB\n",
      "22/10/19 12:37:27 WARN DAGScheduler: Broadcasting large task binary with size 1254.2 KiB\n",
      "22/10/19 12:37:27 WARN DAGScheduler: Broadcasting large task binary with size 1255.5 KiB\n",
      "22/10/19 12:37:27 WARN DAGScheduler: Broadcasting large task binary with size 1256.9 KiB\n",
      "22/10/19 12:37:27 WARN DAGScheduler: Broadcasting large task binary with size 1258.3 KiB\n",
      "22/10/19 12:37:27 WARN DAGScheduler: Broadcasting large task binary with size 1259.7 KiB\n",
      "22/10/19 12:37:27 WARN DAGScheduler: Broadcasting large task binary with size 1261.1 KiB\n",
      "22/10/19 12:37:27 WARN DAGScheduler: Broadcasting large task binary with size 1262.5 KiB\n",
      "22/10/19 12:37:27 WARN DAGScheduler: Broadcasting large task binary with size 1263.9 KiB\n",
      "22/10/19 12:37:27 WARN DAGScheduler: Broadcasting large task binary with size 1265.3 KiB\n",
      "22/10/19 12:37:27 WARN DAGScheduler: Broadcasting large task binary with size 1266.6 KiB\n",
      "22/10/19 12:37:28 WARN DAGScheduler: Broadcasting large task binary with size 1268.0 KiB\n",
      "22/10/19 12:37:28 WARN DAGScheduler: Broadcasting large task binary with size 1269.4 KiB\n",
      "22/10/19 12:37:28 WARN DAGScheduler: Broadcasting large task binary with size 1270.8 KiB\n",
      "22/10/19 12:37:28 WARN DAGScheduler: Broadcasting large task binary with size 1272.8 KiB\n",
      "22/10/19 12:37:28 WARN DAGScheduler: Broadcasting large task binary with size 1271.4 KiB\n",
      "22/10/19 12:37:28 WARN DAGScheduler: Broadcasting large task binary with size 1228.6 KiB\n",
      "22/10/19 12:37:29 WARN DAGScheduler: Broadcasting large task binary with size 1280.4 KiB\n",
      "22/10/19 12:37:29 WARN DAGScheduler: Broadcasting large task binary with size 1279.0 KiB\n"
     ]
    },
    {
     "name": "stderr",
     "output_type": "stream",
     "text": [
      "                                                                                \r"
     ]
    },
    {
     "name": "stdout",
     "output_type": "stream",
     "text": [
      "22/10/19 12:37:30 WARN DAGScheduler: Broadcasting large task binary with size 1342.0 KiB\n",
      "22/10/19 12:37:31 WARN DAGScheduler: Broadcasting large task binary with size 1237.5 KiB\n",
      "22/10/19 12:37:31 WARN DAGScheduler: Broadcasting large task binary with size 1238.9 KiB\n"
     ]
    },
    {
     "name": "stderr",
     "output_type": "stream",
     "text": [
      "[Stage 8373:==============================================>     (179 + 8) / 200]\r"
     ]
    },
    {
     "name": "stdout",
     "output_type": "stream",
     "text": [
      "22/10/19 12:37:32 WARN DAGScheduler: Broadcasting large task binary with size 1240.4 KiB\n",
      "22/10/19 12:37:33 WARN DAGScheduler: Broadcasting large task binary with size 1241.7 KiB\n",
      "22/10/19 12:37:33 WARN DAGScheduler: Broadcasting large task binary with size 1240.7 KiB\n"
     ]
    },
    {
     "name": "stderr",
     "output_type": "stream",
     "text": [
      "                                                                                \r"
     ]
    },
    {
     "name": "stdout",
     "output_type": "stream",
     "text": [
      "22/10/19 12:37:33 WARN DAGScheduler: Broadcasting large task binary with size 1242.0 KiB\n",
      "22/10/19 12:37:33 WARN DAGScheduler: Broadcasting large task binary with size 1242.7 KiB\n",
      "22/10/19 12:37:33 WARN DAGScheduler: Broadcasting large task binary with size 1245.8 KiB\n",
      "22/10/19 12:37:34 WARN DAGScheduler: Broadcasting large task binary with size 1247.2 KiB\n",
      "22/10/19 12:37:34 WARN DAGScheduler: Broadcasting large task binary with size 1248.6 KiB\n",
      "22/10/19 12:37:34 WARN DAGScheduler: Broadcasting large task binary with size 1250.0 KiB\n",
      "22/10/19 12:37:34 WARN DAGScheduler: Broadcasting large task binary with size 1251.4 KiB\n",
      "22/10/19 12:37:34 WARN DAGScheduler: Broadcasting large task binary with size 1252.8 KiB\n",
      "22/10/19 12:37:34 WARN DAGScheduler: Broadcasting large task binary with size 1254.2 KiB\n",
      "22/10/19 12:37:34 WARN DAGScheduler: Broadcasting large task binary with size 1255.5 KiB\n",
      "22/10/19 12:37:34 WARN DAGScheduler: Broadcasting large task binary with size 1256.9 KiB\n",
      "22/10/19 12:37:34 WARN DAGScheduler: Broadcasting large task binary with size 1258.3 KiB\n",
      "22/10/19 12:37:34 WARN DAGScheduler: Broadcasting large task binary with size 1259.7 KiB\n",
      "22/10/19 12:37:34 WARN DAGScheduler: Broadcasting large task binary with size 1261.1 KiB\n",
      "22/10/19 12:37:34 WARN DAGScheduler: Broadcasting large task binary with size 1262.5 KiB\n",
      "22/10/19 12:37:34 WARN DAGScheduler: Broadcasting large task binary with size 1263.9 KiB\n",
      "22/10/19 12:37:34 WARN DAGScheduler: Broadcasting large task binary with size 1265.3 KiB\n",
      "22/10/19 12:37:34 WARN DAGScheduler: Broadcasting large task binary with size 1266.6 KiB\n",
      "22/10/19 12:37:34 WARN DAGScheduler: Broadcasting large task binary with size 1268.0 KiB\n",
      "22/10/19 12:37:35 WARN DAGScheduler: Broadcasting large task binary with size 1269.4 KiB\n",
      "22/10/19 12:37:35 WARN DAGScheduler: Broadcasting large task binary with size 1270.8 KiB\n",
      "22/10/19 12:37:35 WARN DAGScheduler: Broadcasting large task binary with size 1272.8 KiB\n",
      "22/10/19 12:37:35 WARN DAGScheduler: Broadcasting large task binary with size 1271.4 KiB\n",
      "22/10/19 12:37:35 WARN DAGScheduler: Broadcasting large task binary with size 1228.6 KiB\n",
      "22/10/19 12:37:35 WARN DAGScheduler: Broadcasting large task binary with size 1280.4 KiB\n",
      "22/10/19 12:37:35 WARN DAGScheduler: Broadcasting large task binary with size 1279.0 KiB\n"
     ]
    },
    {
     "name": "stderr",
     "output_type": "stream",
     "text": [
      "                                                                                \r"
     ]
    },
    {
     "name": "stdout",
     "output_type": "stream",
     "text": [
      "22/10/19 12:37:37 WARN DAGScheduler: Broadcasting large task binary with size 1342.0 KiB\n",
      "22/10/19 12:37:37 WARN DAGScheduler: Broadcasting large task binary with size 1237.5 KiB\n",
      "22/10/19 12:37:37 WARN DAGScheduler: Broadcasting large task binary with size 1238.9 KiB\n"
     ]
    },
    {
     "name": "stderr",
     "output_type": "stream",
     "text": [
      "[Stage 8491:===============================================>    (183 + 8) / 200]\r"
     ]
    },
    {
     "name": "stdout",
     "output_type": "stream",
     "text": [
      "22/10/19 12:37:39 WARN DAGScheduler: Broadcasting large task binary with size 1240.4 KiB\n"
     ]
    },
    {
     "name": "stderr",
     "output_type": "stream",
     "text": [
      "[Stage 8492:=================================>                  (128 + 8) / 200]\r"
     ]
    },
    {
     "name": "stdout",
     "output_type": "stream",
     "text": [
      "22/10/19 12:37:39 WARN DAGScheduler: Broadcasting large task binary with size 1241.7 KiB\n",
      "22/10/19 12:37:39 WARN DAGScheduler: Broadcasting large task binary with size 1240.7 KiB\n"
     ]
    },
    {
     "name": "stderr",
     "output_type": "stream",
     "text": [
      "                                                                                \r"
     ]
    },
    {
     "name": "stdout",
     "output_type": "stream",
     "text": [
      "22/10/19 12:37:40 WARN DAGScheduler: Broadcasting large task binary with size 1242.0 KiB\n",
      "22/10/19 12:37:40 WARN DAGScheduler: Broadcasting large task binary with size 1242.7 KiB\n",
      "22/10/19 12:37:40 WARN DAGScheduler: Broadcasting large task binary with size 1245.8 KiB\n",
      "22/10/19 12:37:40 WARN DAGScheduler: Broadcasting large task binary with size 1247.2 KiB\n",
      "22/10/19 12:37:40 WARN DAGScheduler: Broadcasting large task binary with size 1248.6 KiB\n",
      "22/10/19 12:37:40 WARN DAGScheduler: Broadcasting large task binary with size 1250.0 KiB\n",
      "22/10/19 12:37:41 WARN DAGScheduler: Broadcasting large task binary with size 1251.4 KiB\n",
      "22/10/19 12:37:41 WARN DAGScheduler: Broadcasting large task binary with size 1252.8 KiB\n",
      "22/10/19 12:37:41 WARN DAGScheduler: Broadcasting large task binary with size 1254.2 KiB\n",
      "22/10/19 12:37:41 WARN DAGScheduler: Broadcasting large task binary with size 1255.5 KiB\n",
      "22/10/19 12:37:41 WARN DAGScheduler: Broadcasting large task binary with size 1256.9 KiB\n",
      "22/10/19 12:37:41 WARN DAGScheduler: Broadcasting large task binary with size 1258.3 KiB\n",
      "22/10/19 12:37:41 WARN DAGScheduler: Broadcasting large task binary with size 1259.7 KiB\n",
      "22/10/19 12:37:41 WARN DAGScheduler: Broadcasting large task binary with size 1261.1 KiB\n",
      "22/10/19 12:37:41 WARN DAGScheduler: Broadcasting large task binary with size 1262.5 KiB\n",
      "22/10/19 12:37:41 WARN DAGScheduler: Broadcasting large task binary with size 1263.9 KiB\n",
      "22/10/19 12:37:41 WARN DAGScheduler: Broadcasting large task binary with size 1265.3 KiB\n",
      "22/10/19 12:37:41 WARN DAGScheduler: Broadcasting large task binary with size 1266.6 KiB\n",
      "22/10/19 12:37:41 WARN DAGScheduler: Broadcasting large task binary with size 1268.0 KiB\n",
      "22/10/19 12:37:41 WARN DAGScheduler: Broadcasting large task binary with size 1269.4 KiB\n",
      "22/10/19 12:37:41 WARN DAGScheduler: Broadcasting large task binary with size 1270.8 KiB\n",
      "22/10/19 12:37:41 WARN DAGScheduler: Broadcasting large task binary with size 1272.8 KiB\n",
      "22/10/19 12:37:42 WARN DAGScheduler: Broadcasting large task binary with size 1271.4 KiB\n",
      "22/10/19 12:37:42 WARN DAGScheduler: Broadcasting large task binary with size 1228.6 KiB\n",
      "22/10/19 12:37:42 WARN DAGScheduler: Broadcasting large task binary with size 1280.4 KiB\n",
      "22/10/19 12:37:42 WARN DAGScheduler: Broadcasting large task binary with size 1279.0 KiB\n"
     ]
    },
    {
     "name": "stderr",
     "output_type": "stream",
     "text": [
      "                                                                                \r"
     ]
    },
    {
     "name": "stdout",
     "output_type": "stream",
     "text": [
      "22/10/19 12:37:44 WARN DAGScheduler: Broadcasting large task binary with size 1342.0 KiB\n",
      "22/10/19 12:37:44 WARN DAGScheduler: Broadcasting large task binary with size 1237.5 KiB\n",
      "22/10/19 12:37:44 WARN DAGScheduler: Broadcasting large task binary with size 1238.9 KiB\n"
     ]
    },
    {
     "name": "stderr",
     "output_type": "stream",
     "text": [
      "[Stage 8586:===============================================>    (183 + 8) / 200]\r"
     ]
    },
    {
     "name": "stdout",
     "output_type": "stream",
     "text": [
      "22/10/19 12:37:45 WARN DAGScheduler: Broadcasting large task binary with size 1240.4 KiB\n"
     ]
    },
    {
     "name": "stderr",
     "output_type": "stream",
     "text": [
      "[Stage 8587:===============================>                    (123 + 8) / 200]\r"
     ]
    },
    {
     "name": "stdout",
     "output_type": "stream",
     "text": [
      "22/10/19 12:37:46 WARN DAGScheduler: Broadcasting large task binary with size 1241.7 KiB\n",
      "22/10/19 12:37:46 WARN DAGScheduler: Broadcasting large task binary with size 1240.7 KiB\n"
     ]
    },
    {
     "name": "stderr",
     "output_type": "stream",
     "text": [
      "                                                                                \r"
     ]
    },
    {
     "name": "stdout",
     "output_type": "stream",
     "text": [
      "22/10/19 12:37:46 WARN DAGScheduler: Broadcasting large task binary with size 1242.0 KiB\n",
      "22/10/19 12:37:47 WARN DAGScheduler: Broadcasting large task binary with size 1242.7 KiB\n",
      "22/10/19 12:37:47 WARN DAGScheduler: Broadcasting large task binary with size 1245.8 KiB\n",
      "22/10/19 12:37:47 WARN DAGScheduler: Broadcasting large task binary with size 1247.2 KiB\n",
      "22/10/19 12:37:47 WARN DAGScheduler: Broadcasting large task binary with size 1248.6 KiB\n",
      "22/10/19 12:37:47 WARN DAGScheduler: Broadcasting large task binary with size 1250.0 KiB\n",
      "22/10/19 12:37:47 WARN DAGScheduler: Broadcasting large task binary with size 1251.4 KiB\n"
     ]
    },
    {
     "name": "stderr",
     "output_type": "stream",
     "text": [
      "[Stage 8602:============================================>          (8 + 2) / 10]\r"
     ]
    },
    {
     "name": "stdout",
     "output_type": "stream",
     "text": [
      "22/10/19 12:37:48 WARN DAGScheduler: Broadcasting large task binary with size 1252.8 KiB\n",
      "22/10/19 12:37:48 WARN DAGScheduler: Broadcasting large task binary with size 1254.2 KiB\n",
      "22/10/19 12:37:48 WARN DAGScheduler: Broadcasting large task binary with size 1255.5 KiB\n",
      "22/10/19 12:37:48 WARN DAGScheduler: Broadcasting large task binary with size 1256.9 KiB\n",
      "22/10/19 12:37:48 WARN DAGScheduler: Broadcasting large task binary with size 1258.3 KiB\n",
      "22/10/19 12:37:49 WARN DAGScheduler: Broadcasting large task binary with size 1259.7 KiB\n",
      "22/10/19 12:37:49 WARN DAGScheduler: Broadcasting large task binary with size 1261.1 KiB\n",
      "22/10/19 12:37:49 WARN DAGScheduler: Broadcasting large task binary with size 1262.5 KiB\n",
      "22/10/19 12:37:49 WARN DAGScheduler: Broadcasting large task binary with size 1263.9 KiB\n",
      "22/10/19 12:37:49 WARN DAGScheduler: Broadcasting large task binary with size 1265.3 KiB\n",
      "22/10/19 12:37:49 WARN DAGScheduler: Broadcasting large task binary with size 1266.6 KiB\n",
      "22/10/19 12:37:49 WARN DAGScheduler: Broadcasting large task binary with size 1268.0 KiB\n",
      "22/10/19 12:37:49 WARN DAGScheduler: Broadcasting large task binary with size 1269.4 KiB\n",
      "22/10/19 12:37:49 WARN DAGScheduler: Broadcasting large task binary with size 1270.8 KiB\n",
      "22/10/19 12:37:49 WARN DAGScheduler: Broadcasting large task binary with size 1272.2 KiB\n",
      "22/10/19 12:37:49 WARN DAGScheduler: Broadcasting large task binary with size 1273.6 KiB\n",
      "22/10/19 12:37:49 WARN DAGScheduler: Broadcasting large task binary with size 1275.0 KiB\n",
      "22/10/19 12:37:49 WARN DAGScheduler: Broadcasting large task binary with size 1276.3 KiB\n",
      "22/10/19 12:37:49 WARN DAGScheduler: Broadcasting large task binary with size 1277.7 KiB\n",
      "22/10/19 12:37:49 WARN DAGScheduler: Broadcasting large task binary with size 1279.1 KiB\n",
      "22/10/19 12:37:50 WARN DAGScheduler: Broadcasting large task binary with size 1280.5 KiB\n",
      "22/10/19 12:37:50 WARN DAGScheduler: Broadcasting large task binary with size 1281.9 KiB\n",
      "22/10/19 12:37:50 WARN DAGScheduler: Broadcasting large task binary with size 1283.3 KiB\n",
      "22/10/19 12:37:50 WARN DAGScheduler: Broadcasting large task binary with size 1284.7 KiB\n",
      "22/10/19 12:37:50 WARN DAGScheduler: Broadcasting large task binary with size 1286.6 KiB\n"
     ]
    },
    {
     "name": "stderr",
     "output_type": "stream",
     "text": [
      "                                                                                \r"
     ]
    },
    {
     "name": "stdout",
     "output_type": "stream",
     "text": [
      "22/10/19 12:37:50 WARN DAGScheduler: Broadcasting large task binary with size 1285.2 KiB\n",
      "22/10/19 12:37:51 WARN DAGScheduler: Broadcasting large task binary with size 1228.6 KiB\n",
      "22/10/19 12:37:51 WARN DAGScheduler: Broadcasting large task binary with size 1294.2 KiB\n",
      "22/10/19 12:37:51 WARN DAGScheduler: Broadcasting large task binary with size 1292.9 KiB\n"
     ]
    },
    {
     "name": "stderr",
     "output_type": "stream",
     "text": [
      "                                                                                \r"
     ]
    },
    {
     "name": "stdout",
     "output_type": "stream",
     "text": [
      "22/10/19 12:37:53 WARN DAGScheduler: Broadcasting large task binary with size 1355.9 KiB\n",
      "22/10/19 12:37:53 WARN DAGScheduler: Broadcasting large task binary with size 1237.5 KiB\n",
      "22/10/19 12:37:53 WARN DAGScheduler: Broadcasting large task binary with size 1238.9 KiB\n"
     ]
    },
    {
     "name": "stderr",
     "output_type": "stream",
     "text": [
      "[Stage 8744:===========================================>        (169 + 9) / 200]\r"
     ]
    },
    {
     "name": "stdout",
     "output_type": "stream",
     "text": [
      "22/10/19 12:37:55 WARN DAGScheduler: Broadcasting large task binary with size 1240.4 KiB\n"
     ]
    },
    {
     "name": "stderr",
     "output_type": "stream",
     "text": [
      "                                                                                \r"
     ]
    },
    {
     "name": "stdout",
     "output_type": "stream",
     "text": [
      "22/10/19 12:37:55 WARN DAGScheduler: Broadcasting large task binary with size 1241.7 KiB\n",
      "22/10/19 12:37:55 WARN DAGScheduler: Broadcasting large task binary with size 1240.7 KiB\n",
      "22/10/19 12:37:56 WARN DAGScheduler: Broadcasting large task binary with size 1242.0 KiB\n",
      "22/10/19 12:37:56 WARN DAGScheduler: Broadcasting large task binary with size 1242.7 KiB\n",
      "22/10/19 12:37:56 WARN DAGScheduler: Broadcasting large task binary with size 1245.8 KiB\n",
      "22/10/19 12:37:56 WARN DAGScheduler: Broadcasting large task binary with size 1247.2 KiB\n",
      "22/10/19 12:37:56 WARN DAGScheduler: Broadcasting large task binary with size 1248.6 KiB\n",
      "22/10/19 12:37:56 WARN DAGScheduler: Broadcasting large task binary with size 1250.0 KiB\n",
      "22/10/19 12:37:56 WARN DAGScheduler: Broadcasting large task binary with size 1251.4 KiB\n",
      "22/10/19 12:37:57 WARN DAGScheduler: Broadcasting large task binary with size 1252.8 KiB\n",
      "22/10/19 12:37:57 WARN DAGScheduler: Broadcasting large task binary with size 1254.2 KiB\n",
      "22/10/19 12:37:57 WARN DAGScheduler: Broadcasting large task binary with size 1255.5 KiB\n",
      "22/10/19 12:37:57 WARN DAGScheduler: Broadcasting large task binary with size 1256.9 KiB\n",
      "22/10/19 12:37:57 WARN DAGScheduler: Broadcasting large task binary with size 1258.3 KiB\n",
      "22/10/19 12:37:57 WARN DAGScheduler: Broadcasting large task binary with size 1259.7 KiB\n",
      "22/10/19 12:37:57 WARN DAGScheduler: Broadcasting large task binary with size 1261.1 KiB\n",
      "22/10/19 12:37:57 WARN DAGScheduler: Broadcasting large task binary with size 1262.5 KiB\n",
      "22/10/19 12:37:57 WARN DAGScheduler: Broadcasting large task binary with size 1263.9 KiB\n",
      "22/10/19 12:37:57 WARN DAGScheduler: Broadcasting large task binary with size 1265.3 KiB\n",
      "22/10/19 12:37:57 WARN DAGScheduler: Broadcasting large task binary with size 1266.6 KiB\n",
      "22/10/19 12:37:57 WARN DAGScheduler: Broadcasting large task binary with size 1268.0 KiB\n",
      "22/10/19 12:37:57 WARN DAGScheduler: Broadcasting large task binary with size 1269.4 KiB\n",
      "22/10/19 12:37:57 WARN DAGScheduler: Broadcasting large task binary with size 1270.8 KiB\n",
      "22/10/19 12:37:57 WARN DAGScheduler: Broadcasting large task binary with size 1272.2 KiB\n",
      "22/10/19 12:37:58 WARN DAGScheduler: Broadcasting large task binary with size 1273.6 KiB\n",
      "22/10/19 12:37:58 WARN DAGScheduler: Broadcasting large task binary with size 1275.0 KiB\n",
      "22/10/19 12:37:58 WARN DAGScheduler: Broadcasting large task binary with size 1276.3 KiB\n",
      "22/10/19 12:37:58 WARN DAGScheduler: Broadcasting large task binary with size 1277.7 KiB\n",
      "22/10/19 12:37:58 WARN DAGScheduler: Broadcasting large task binary with size 1279.1 KiB\n",
      "22/10/19 12:37:58 WARN DAGScheduler: Broadcasting large task binary with size 1280.5 KiB\n",
      "22/10/19 12:37:58 WARN DAGScheduler: Broadcasting large task binary with size 1281.9 KiB\n",
      "22/10/19 12:37:58 WARN DAGScheduler: Broadcasting large task binary with size 1283.3 KiB\n",
      "22/10/19 12:37:58 WARN DAGScheduler: Broadcasting large task binary with size 1284.7 KiB\n",
      "22/10/19 12:37:58 WARN DAGScheduler: Broadcasting large task binary with size 1286.6 KiB\n",
      "22/10/19 12:37:58 WARN DAGScheduler: Broadcasting large task binary with size 1285.2 KiB\n",
      "22/10/19 12:37:59 WARN DAGScheduler: Broadcasting large task binary with size 1228.6 KiB\n",
      "22/10/19 12:37:59 WARN DAGScheduler: Broadcasting large task binary with size 1294.2 KiB\n",
      "22/10/19 12:37:59 WARN DAGScheduler: Broadcasting large task binary with size 1292.9 KiB\n"
     ]
    },
    {
     "name": "stderr",
     "output_type": "stream",
     "text": [
      "                                                                                \r"
     ]
    },
    {
     "name": "stdout",
     "output_type": "stream",
     "text": [
      "22/10/19 12:38:00 WARN DAGScheduler: Broadcasting large task binary with size 1355.9 KiB\n",
      "22/10/19 12:38:01 WARN DAGScheduler: Broadcasting large task binary with size 1237.5 KiB\n",
      "22/10/19 12:38:01 WARN DAGScheduler: Broadcasting large task binary with size 1238.9 KiB\n"
     ]
    },
    {
     "name": "stderr",
     "output_type": "stream",
     "text": [
      "[Stage 8902:====================================================(200 + 0) / 200]\r"
     ]
    },
    {
     "name": "stdout",
     "output_type": "stream",
     "text": [
      "22/10/19 12:38:02 WARN DAGScheduler: Broadcasting large task binary with size 1240.4 KiB\n"
     ]
    },
    {
     "name": "stderr",
     "output_type": "stream",
     "text": [
      "[Stage 8903:=========================================>          (160 + 8) / 200]\r"
     ]
    },
    {
     "name": "stdout",
     "output_type": "stream",
     "text": [
      "22/10/19 12:38:03 WARN DAGScheduler: Broadcasting large task binary with size 1241.7 KiB\n",
      "22/10/19 12:38:03 WARN DAGScheduler: Broadcasting large task binary with size 1240.7 KiB\n"
     ]
    },
    {
     "name": "stderr",
     "output_type": "stream",
     "text": [
      "                                                                                \r"
     ]
    },
    {
     "name": "stdout",
     "output_type": "stream",
     "text": [
      "22/10/19 12:38:03 WARN DAGScheduler: Broadcasting large task binary with size 1242.0 KiB\n",
      "22/10/19 12:38:04 WARN DAGScheduler: Broadcasting large task binary with size 1242.7 KiB\n",
      "22/10/19 12:38:04 WARN DAGScheduler: Broadcasting large task binary with size 1245.8 KiB\n",
      "22/10/19 12:38:04 WARN DAGScheduler: Broadcasting large task binary with size 1247.2 KiB\n",
      "22/10/19 12:38:04 WARN DAGScheduler: Broadcasting large task binary with size 1248.6 KiB\n",
      "22/10/19 12:38:04 WARN DAGScheduler: Broadcasting large task binary with size 1250.0 KiB\n",
      "22/10/19 12:38:04 WARN DAGScheduler: Broadcasting large task binary with size 1251.4 KiB\n",
      "22/10/19 12:38:04 WARN DAGScheduler: Broadcasting large task binary with size 1252.8 KiB\n",
      "22/10/19 12:38:04 WARN DAGScheduler: Broadcasting large task binary with size 1254.2 KiB\n",
      "22/10/19 12:38:04 WARN DAGScheduler: Broadcasting large task binary with size 1255.5 KiB\n",
      "22/10/19 12:38:04 WARN DAGScheduler: Broadcasting large task binary with size 1256.9 KiB\n",
      "22/10/19 12:38:04 WARN DAGScheduler: Broadcasting large task binary with size 1258.3 KiB\n",
      "22/10/19 12:38:04 WARN DAGScheduler: Broadcasting large task binary with size 1259.7 KiB\n",
      "22/10/19 12:38:04 WARN DAGScheduler: Broadcasting large task binary with size 1261.1 KiB\n",
      "22/10/19 12:38:04 WARN DAGScheduler: Broadcasting large task binary with size 1262.5 KiB\n",
      "22/10/19 12:38:05 WARN DAGScheduler: Broadcasting large task binary with size 1263.9 KiB\n",
      "22/10/19 12:38:05 WARN DAGScheduler: Broadcasting large task binary with size 1265.3 KiB\n",
      "22/10/19 12:38:05 WARN DAGScheduler: Broadcasting large task binary with size 1266.6 KiB\n",
      "22/10/19 12:38:05 WARN DAGScheduler: Broadcasting large task binary with size 1268.0 KiB\n",
      "22/10/19 12:38:05 WARN DAGScheduler: Broadcasting large task binary with size 1269.4 KiB\n",
      "22/10/19 12:38:05 WARN DAGScheduler: Broadcasting large task binary with size 1270.8 KiB\n",
      "22/10/19 12:38:05 WARN DAGScheduler: Broadcasting large task binary with size 1272.2 KiB\n",
      "22/10/19 12:38:05 WARN DAGScheduler: Broadcasting large task binary with size 1273.6 KiB\n",
      "22/10/19 12:38:05 WARN DAGScheduler: Broadcasting large task binary with size 1275.0 KiB\n",
      "22/10/19 12:38:05 WARN DAGScheduler: Broadcasting large task binary with size 1276.3 KiB\n",
      "22/10/19 12:38:05 WARN DAGScheduler: Broadcasting large task binary with size 1277.7 KiB\n",
      "22/10/19 12:38:05 WARN DAGScheduler: Broadcasting large task binary with size 1279.1 KiB\n",
      "22/10/19 12:38:05 WARN DAGScheduler: Broadcasting large task binary with size 1280.5 KiB\n",
      "22/10/19 12:38:05 WARN DAGScheduler: Broadcasting large task binary with size 1281.9 KiB\n",
      "22/10/19 12:38:06 WARN DAGScheduler: Broadcasting large task binary with size 1283.3 KiB\n",
      "22/10/19 12:38:06 WARN DAGScheduler: Broadcasting large task binary with size 1284.7 KiB\n",
      "22/10/19 12:38:06 WARN DAGScheduler: Broadcasting large task binary with size 1286.6 KiB\n",
      "22/10/19 12:38:06 WARN DAGScheduler: Broadcasting large task binary with size 1285.2 KiB\n",
      "22/10/19 12:38:06 WARN DAGScheduler: Broadcasting large task binary with size 1228.6 KiB\n",
      "22/10/19 12:38:06 WARN DAGScheduler: Broadcasting large task binary with size 1294.2 KiB\n",
      "22/10/19 12:38:06 WARN DAGScheduler: Broadcasting large task binary with size 1292.9 KiB\n"
     ]
    },
    {
     "name": "stderr",
     "output_type": "stream",
     "text": [
      "                                                                                \r"
     ]
    },
    {
     "name": "stdout",
     "output_type": "stream",
     "text": [
      "22/10/19 12:38:09 WARN DAGScheduler: Broadcasting large task binary with size 1355.9 KiB\n"
     ]
    },
    {
     "name": "stderr",
     "output_type": "stream",
     "text": [
      "[Stage 9058:===================================================>(696 + 2) / 698]\r"
     ]
    },
    {
     "name": "stdout",
     "output_type": "stream",
     "text": [
      "22/10/19 12:39:04 WARN DAGScheduler: Broadcasting large task binary with size 1227.4 KiB\n"
     ]
    },
    {
     "name": "stderr",
     "output_type": "stream",
     "text": [
      "                                                                                \r"
     ]
    },
    {
     "name": "stdout",
     "output_type": "stream",
     "text": [
      "22/10/19 12:39:04 WARN DAGScheduler: Broadcasting large task binary with size 1228.8 KiB\n",
      "22/10/19 12:39:05 WARN DAGScheduler: Broadcasting large task binary with size 1230.3 KiB\n",
      "22/10/19 12:39:05 WARN DAGScheduler: Broadcasting large task binary with size 1231.6 KiB\n",
      "22/10/19 12:39:05 WARN DAGScheduler: Broadcasting large task binary with size 1230.6 KiB\n",
      "22/10/19 12:39:05 WARN DAGScheduler: Broadcasting large task binary with size 1231.9 KiB\n",
      "22/10/19 12:39:05 WARN DAGScheduler: Broadcasting large task binary with size 1232.6 KiB\n",
      "22/10/19 12:39:05 WARN DAGScheduler: Broadcasting large task binary with size 1235.7 KiB\n",
      "22/10/19 12:39:05 WARN DAGScheduler: Broadcasting large task binary with size 1237.1 KiB\n",
      "22/10/19 12:39:05 WARN DAGScheduler: Broadcasting large task binary with size 1238.5 KiB\n",
      "22/10/19 12:39:06 WARN DAGScheduler: Broadcasting large task binary with size 1239.9 KiB\n",
      "22/10/19 12:39:06 WARN DAGScheduler: Broadcasting large task binary with size 1241.3 KiB\n",
      "22/10/19 12:39:06 WARN DAGScheduler: Broadcasting large task binary with size 1242.7 KiB\n",
      "22/10/19 12:39:06 WARN DAGScheduler: Broadcasting large task binary with size 1244.1 KiB\n",
      "22/10/19 12:39:06 WARN DAGScheduler: Broadcasting large task binary with size 1245.4 KiB\n",
      "22/10/19 12:39:06 WARN DAGScheduler: Broadcasting large task binary with size 1246.8 KiB\n",
      "22/10/19 12:39:06 WARN DAGScheduler: Broadcasting large task binary with size 1248.2 KiB\n",
      "22/10/19 12:39:06 WARN DAGScheduler: Broadcasting large task binary with size 1249.6 KiB\n",
      "22/10/19 12:39:06 WARN DAGScheduler: Broadcasting large task binary with size 1251.0 KiB\n",
      "22/10/19 12:39:06 WARN DAGScheduler: Broadcasting large task binary with size 1252.4 KiB\n",
      "22/10/19 12:39:06 WARN DAGScheduler: Broadcasting large task binary with size 1253.8 KiB\n",
      "22/10/19 12:39:06 WARN DAGScheduler: Broadcasting large task binary with size 1255.1 KiB\n",
      "22/10/19 12:39:06 WARN DAGScheduler: Broadcasting large task binary with size 1256.5 KiB\n",
      "22/10/19 12:39:06 WARN DAGScheduler: Broadcasting large task binary with size 1257.9 KiB\n",
      "22/10/19 12:39:06 WARN DAGScheduler: Broadcasting large task binary with size 1259.3 KiB\n",
      "22/10/19 12:39:07 WARN DAGScheduler: Broadcasting large task binary with size 1260.7 KiB\n",
      "22/10/19 12:39:07 WARN DAGScheduler: Broadcasting large task binary with size 1262.1 KiB\n",
      "22/10/19 12:39:07 WARN DAGScheduler: Broadcasting large task binary with size 1263.5 KiB\n",
      "22/10/19 12:39:07 WARN DAGScheduler: Broadcasting large task binary with size 1264.9 KiB\n",
      "22/10/19 12:39:07 WARN DAGScheduler: Broadcasting large task binary with size 1266.2 KiB\n",
      "22/10/19 12:39:07 WARN DAGScheduler: Broadcasting large task binary with size 1267.6 KiB\n",
      "22/10/19 12:39:07 WARN DAGScheduler: Broadcasting large task binary with size 1269.0 KiB\n",
      "22/10/19 12:39:07 WARN DAGScheduler: Broadcasting large task binary with size 1270.4 KiB\n",
      "22/10/19 12:39:07 WARN DAGScheduler: Broadcasting large task binary with size 1271.8 KiB\n",
      "22/10/19 12:39:07 WARN DAGScheduler: Broadcasting large task binary with size 1273.2 KiB\n",
      "22/10/19 12:39:07 WARN DAGScheduler: Broadcasting large task binary with size 1274.6 KiB\n",
      "22/10/19 12:39:07 WARN DAGScheduler: Broadcasting large task binary with size 1276.5 KiB\n",
      "22/10/19 12:39:07 WARN DAGScheduler: Broadcasting large task binary with size 1275.1 KiB\n"
     ]
    }
   ],
   "source": [
    "from pyspark.ml.evaluation import RegressionEvaluator\n",
    "from pyspark.ml.recommendation import ALS\n",
    "from pyspark.ml.tuning import CrossValidator, ParamGridBuilder\n",
    "\n",
    "\n",
    "#create ALS model\n",
    "als=ALS(userCol=\"customer_id_index\",itemCol=\"article_id_index\",ratingCol=\"count\",coldStartStrategy=\"drop\",nonnegative=True)\n",
    "\n",
    "#tune model using ParamGridBuilder\n",
    "param_grid = ParamGridBuilder()\\\n",
    "            .addGrid(als.rank, [15,20,25])\\\n",
    "            .addGrid(als.maxIter,[5,10,15])\\\n",
    "            .addGrid(als.regParam,[0.09,0.14,0.19])\\\n",
    "            .build()\n",
    "#define evaluator as RMSE\n",
    "evaluator = RegressionEvaluator(metricName = \"rmse\",labelCol = 'count', predictionCol = 'prediction')\n",
    "\n",
    "#Build cross validation using CrossValidator\n",
    "crossvalidate = CrossValidator(estimator=als,estimatorParamMaps=param_grid, evaluator=evaluator,numFolds=3)\n",
    "\n",
    "#load the crovalidator into the model\n",
    "model = crossvalidate.fit(training)\n"
   ]
  },
  {
   "cell_type": "code",
   "execution_count": 10,
   "id": "eba36604",
   "metadata": {},
   "outputs": [
    {
     "name": "stderr",
     "output_type": "stream",
     "text": [
      "[Stage 9138:===================================================>(697 + 1) / 698]\r"
     ]
    },
    {
     "name": "stdout",
     "output_type": "stream",
     "text": [
      "22/10/19 12:39:36 WARN DAGScheduler: Broadcasting large task binary with size 1227.4 KiB\n"
     ]
    },
    {
     "name": "stderr",
     "output_type": "stream",
     "text": [
      "                                                                                \r"
     ]
    },
    {
     "name": "stdout",
     "output_type": "stream",
     "text": [
      "22/10/19 12:39:37 WARN DAGScheduler: Broadcasting large task binary with size 1228.8 KiB\n",
      "22/10/19 12:39:37 WARN DAGScheduler: Broadcasting large task binary with size 1230.3 KiB\n",
      "22/10/19 12:39:37 WARN DAGScheduler: Broadcasting large task binary with size 1231.6 KiB\n",
      "22/10/19 12:39:37 WARN DAGScheduler: Broadcasting large task binary with size 1230.6 KiB\n",
      "22/10/19 12:39:37 WARN DAGScheduler: Broadcasting large task binary with size 1231.9 KiB\n",
      "22/10/19 12:39:37 WARN DAGScheduler: Broadcasting large task binary with size 1232.6 KiB\n",
      "22/10/19 12:39:37 WARN DAGScheduler: Broadcasting large task binary with size 1235.7 KiB\n",
      "22/10/19 12:39:37 WARN DAGScheduler: Broadcasting large task binary with size 1237.1 KiB\n",
      "22/10/19 12:39:37 WARN DAGScheduler: Broadcasting large task binary with size 1238.5 KiB\n",
      "22/10/19 12:39:38 WARN DAGScheduler: Broadcasting large task binary with size 1239.9 KiB\n",
      "22/10/19 12:39:38 WARN DAGScheduler: Broadcasting large task binary with size 1241.3 KiB\n",
      "22/10/19 12:39:38 WARN DAGScheduler: Broadcasting large task binary with size 1242.7 KiB\n",
      "22/10/19 12:39:38 WARN DAGScheduler: Broadcasting large task binary with size 1244.1 KiB\n",
      "22/10/19 12:39:38 WARN DAGScheduler: Broadcasting large task binary with size 1245.4 KiB\n",
      "22/10/19 12:39:38 WARN DAGScheduler: Broadcasting large task binary with size 1246.8 KiB\n",
      "22/10/19 12:39:38 WARN DAGScheduler: Broadcasting large task binary with size 1248.8 KiB\n",
      "22/10/19 12:39:38 WARN DAGScheduler: Broadcasting large task binary with size 1247.4 KiB\n"
     ]
    }
   ],
   "source": [
    "als=ALS(maxIter=5,regParam=0.09,rank=25,userCol=\"customer_id_index\",itemCol=\"article_id_index\",ratingCol=\"count\",coldStartStrategy=\"drop\",nonnegative=True)\n",
    "model=als.fit(training)"
   ]
  },
  {
   "cell_type": "markdown",
   "id": "f0e643c0",
   "metadata": {},
   "source": [
    "## **4.Prediction & Evaluate**"
   ]
  },
  {
   "cell_type": "code",
   "execution_count": 11,
   "id": "12d9036e",
   "metadata": {},
   "outputs": [
    {
     "name": "stdout",
     "output_type": "stream",
     "text": [
      "22/10/19 12:39:39 WARN DAGScheduler: Broadcasting large task binary with size 1256.4 KiB\n"
     ]
    },
    {
     "name": "stderr",
     "output_type": "stream",
     "text": [
      "[Stage 9178:>            (16 + 8) / 698][Stage 9193:>              (0 + 0) / 10]\r"
     ]
    },
    {
     "name": "stdout",
     "output_type": "stream",
     "text": [
      "22/10/19 12:39:40 WARN DAGScheduler: Broadcasting large task binary with size 1255.1 KiB\n"
     ]
    },
    {
     "name": "stderr",
     "output_type": "stream",
     "text": [
      "                                                                                \r"
     ]
    },
    {
     "name": "stdout",
     "output_type": "stream",
     "text": [
      "22/10/19 12:40:09 WARN DAGScheduler: Broadcasting large task binary with size 1308.5 KiB\n"
     ]
    }
   ],
   "source": [
    "#Generate predictions and evaluate using RMSE\n",
    "predictions = model.transform(test)\n",
    "rmse = evaluator.evaluate(predictions)"
   ]
  },
  {
   "cell_type": "code",
   "execution_count": 12,
   "id": "fa657ec9",
   "metadata": {},
   "outputs": [
    {
     "name": "stdout",
     "output_type": "stream",
     "text": [
      "RMSE =0.47437555346437627\n"
     ]
    }
   ],
   "source": [
    "#print evaluation metrics and model parameters\n",
    "print(\"RMSE =\" + str(rmse))"
   ]
  },
  {
   "cell_type": "code",
   "execution_count": null,
   "id": "d3dee9d1",
   "metadata": {},
   "outputs": [],
   "source": []
  }
 ],
 "metadata": {
  "kernelspec": {
   "display_name": "Python 3 (ipykernel)",
   "language": "python",
   "name": "python3"
  },
  "language_info": {
   "codemirror_mode": {
    "name": "ipython",
    "version": 3
   },
   "file_extension": ".py",
   "mimetype": "text/x-python",
   "name": "python",
   "nbconvert_exporter": "python",
   "pygments_lexer": "ipython3",
   "version": "3.9.12"
  }
 },
 "nbformat": 4,
 "nbformat_minor": 5
}
