{
 "cells": [
  {
   "cell_type": "code",
   "execution_count": 6,
   "id": "511ad695-e868-4197-8293-8c9ad2705c1e",
   "metadata": {
    "execution": {
     "iopub.execute_input": "2022-11-01T08:23:46.250747Z",
     "iopub.status.busy": "2022-11-01T08:23:46.250420Z",
     "iopub.status.idle": "2022-11-01T08:23:53.602509Z",
     "shell.execute_reply": "2022-11-01T08:23:53.601698Z",
     "shell.execute_reply.started": "2022-11-01T08:23:46.250708Z"
    },
    "tags": []
   },
   "outputs": [
    {
     "data": {
      "application/vnd.jupyter.widget-view+json": {
       "model_id": "40e5e3f9406b4d73babbb3007ebb3e19",
       "version_major": 2,
       "version_minor": 0
      },
      "text/plain": [
       "VBox()"
      ]
     },
     "metadata": {},
     "output_type": "display_data"
    },
    {
     "data": {
      "application/vnd.jupyter.widget-view+json": {
       "model_id": "",
       "version_major": 2,
       "version_minor": 0
      },
      "text/plain": [
       "FloatProgress(value=0.0, bar_style='info', description='Progress:', layout=Layout(height='25px', width='50%'),…"
      ]
     },
     "metadata": {},
     "output_type": "display_data"
    }
   ],
   "source": [
    "transaction = spark.read.option(\"header\",\"true\").csv(\"s3://hmrecomm/transactions_train.csv\")"
   ]
  },
  {
   "cell_type": "code",
   "execution_count": 7,
   "id": "6325f502-35b4-4769-8c4c-12ad220f32e8",
   "metadata": {
    "execution": {
     "iopub.execute_input": "2022-11-01T08:23:53.604240Z",
     "iopub.status.busy": "2022-11-01T08:23:53.603972Z",
     "iopub.status.idle": "2022-11-01T08:23:53.703304Z",
     "shell.execute_reply": "2022-11-01T08:23:53.702526Z",
     "shell.execute_reply.started": "2022-11-01T08:23:53.604204Z"
    },
    "tags": []
   },
   "outputs": [
    {
     "data": {
      "application/vnd.jupyter.widget-view+json": {
       "model_id": "5e176b0f742d4c32989ced74af1ca91b",
       "version_major": 2,
       "version_minor": 0
      },
      "text/plain": [
       "VBox()"
      ]
     },
     "metadata": {},
     "output_type": "display_data"
    },
    {
     "data": {
      "application/vnd.jupyter.widget-view+json": {
       "model_id": "",
       "version_major": 2,
       "version_minor": 0
      },
      "text/plain": [
       "FloatProgress(value=0.0, bar_style='info', description='Progress:', layout=Layout(height='25px', width='50%'),…"
      ]
     },
     "metadata": {},
     "output_type": "display_data"
    },
    {
     "name": "stdout",
     "output_type": "stream",
     "text": [
      "root\n",
      " |-- t_dat: string (nullable = true)\n",
      " |-- customer_id: string (nullable = true)\n",
      " |-- article_id: string (nullable = true)\n",
      " |-- price: string (nullable = true)\n",
      " |-- sales_channel_id: string (nullable = true)"
     ]
    }
   ],
   "source": [
    "transaction.printSchema()"
   ]
  },
  {
   "cell_type": "code",
   "execution_count": 8,
   "id": "691f783a-40e4-4fbc-99df-59374c0a380d",
   "metadata": {
    "execution": {
     "iopub.execute_input": "2022-11-01T08:23:53.705601Z",
     "iopub.status.busy": "2022-11-01T08:23:53.705033Z",
     "iopub.status.idle": "2022-11-01T08:24:17.161051Z",
     "shell.execute_reply": "2022-11-01T08:24:17.160330Z",
     "shell.execute_reply.started": "2022-11-01T08:23:53.705559Z"
    },
    "tags": []
   },
   "outputs": [
    {
     "data": {
      "application/vnd.jupyter.widget-view+json": {
       "model_id": "eca73698e4704f64b85978818889aab4",
       "version_major": 2,
       "version_minor": 0
      },
      "text/plain": [
       "VBox()"
      ]
     },
     "metadata": {},
     "output_type": "display_data"
    },
    {
     "data": {
      "application/vnd.jupyter.widget-view+json": {
       "model_id": "",
       "version_major": 2,
       "version_minor": 0
      },
      "text/plain": [
       "FloatProgress(value=0.0, bar_style='info', description='Progress:', layout=Layout(height='25px', width='50%'),…"
      ]
     },
     "metadata": {},
     "output_type": "display_data"
    },
    {
     "name": "stdout",
     "output_type": "stream",
     "text": [
      "2018-09-20 2020-09-22\n",
      "DataFrame[t_dat: string, customer_id: string, article_id: string, price: string, sales_channel_id: string]"
     ]
    }
   ],
   "source": [
    "from pyspark.sql.functions import *\n",
    "from pyspark.sql.functions import min, max\n",
    "from pyspark.sql.functions import unix_timestamp, lit\n",
    "\n",
    "min_date, max_date = transaction.select(min(\"t_dat\"), max(\"t_dat\")).first()\n",
    "print(min_date, max_date)\n",
    "datahm =  transaction.withColumn('t_dat', transaction['t_dat'].cast('string'))\n",
    "datahm = datahm.withColumn('date', from_unixtime(unix_timestamp('t_dat', 'yyyy-MM-dd')))\n",
    "datahm = datahm.withColumn('year', year(col('date')))\n",
    "datahm = datahm.withColumn('month', month(col('date')))\n",
    "datahm = datahm.withColumn('day', date_format(col('date'), \"d\"))\n",
    "\n",
    "datahm = datahm[datahm['year'] == 2020]\n",
    "datahm = datahm[datahm['month'] == 9]\n",
    "datahm = datahm[datahm['day'] == 22]\n",
    "transaction.unpersist()"
   ]
  },
  {
   "cell_type": "code",
   "execution_count": 9,
   "id": "408201e3-af73-459c-978e-4f44a6d41c0f",
   "metadata": {
    "execution": {
     "iopub.execute_input": "2022-11-01T08:24:17.162793Z",
     "iopub.status.busy": "2022-11-01T08:24:17.162538Z",
     "iopub.status.idle": "2022-11-01T08:25:00.613783Z",
     "shell.execute_reply": "2022-11-01T08:25:00.613116Z",
     "shell.execute_reply.started": "2022-11-01T08:24:17.162758Z"
    },
    "tags": []
   },
   "outputs": [
    {
     "data": {
      "application/vnd.jupyter.widget-view+json": {
       "model_id": "59e7b524cd4142499e3a177f98fa69b0",
       "version_major": 2,
       "version_minor": 0
      },
      "text/plain": [
       "VBox()"
      ]
     },
     "metadata": {},
     "output_type": "display_data"
    },
    {
     "data": {
      "application/vnd.jupyter.widget-view+json": {
       "model_id": "",
       "version_major": 2,
       "version_minor": 0
      },
      "text/plain": [
       "FloatProgress(value=0.0, bar_style='info', description='Progress:', layout=Layout(height='25px', width='50%'),…"
      ]
     },
     "metadata": {},
     "output_type": "display_data"
    },
    {
     "name": "stdout",
     "output_type": "stream",
     "text": [
      "+--------------------+----------+-----+\n",
      "|         customer_id|article_id|count|\n",
      "+--------------------+----------+-----+\n",
      "|0333e5dda0257e9f4...|0839332002|    2|\n",
      "|1601fa3c3f39aa623...|0730683001|    1|\n",
      "|164e1a251f0e3d764...|0831267001|    1|\n",
      "|166546028742fe655...|0767423013|    1|\n",
      "|2a5d52077398d99a5...|0768931002|    2|\n",
      "|2b02d26a952ca69ad...|0695803009|    1|\n",
      "|2dbee384d53ac4e8d...|0829054005|    1|\n",
      "|476976af7b5a03fa8...|0754238023|    1|\n",
      "|5840d651a26936daf...|0573085057|    1|\n",
      "|5dc21abea76c66e34...|0759465001|    1|\n",
      "|63f608a6c76ea08df...|0598515022|    1|\n",
      "|63f8173b620eff63f...|0756322009|    1|\n",
      "|65fc15a91310772fe...|0898918007|    1|\n",
      "|6f5e8efa459c8d26d...|0888908001|    1|\n",
      "|86730c52576c3f24f...|0855793001|    1|\n",
      "|8827264dd69d9c1fa...|0610776105|    1|\n",
      "|9bd9a0895458fa858...|0768912001|    1|\n",
      "|9cc571b49c11b8f3c...|0896169002|    2|\n",
      "|a1bed5192c2ff9db5...|0912095005|    1|\n",
      "|b5ae6677e1f1ebb6f...|0905957007|    1|\n",
      "+--------------------+----------+-----+\n",
      "only showing top 20 rows"
     ]
    }
   ],
   "source": [
    "datahm = datahm.groupby('customer_id', 'article_id').count()\n",
    "datahm.show()"
   ]
  },
  {
   "cell_type": "code",
   "execution_count": 10,
   "id": "c086e768-c981-45c0-aaeb-2d2cd4d5f44b",
   "metadata": {
    "execution": {
     "iopub.execute_input": "2022-11-01T08:25:00.614891Z",
     "iopub.status.busy": "2022-11-01T08:25:00.614716Z",
     "iopub.status.idle": "2022-11-01T08:25:42.060936Z",
     "shell.execute_reply": "2022-11-01T08:25:42.060212Z",
     "shell.execute_reply.started": "2022-11-01T08:25:00.614870Z"
    },
    "tags": []
   },
   "outputs": [
    {
     "data": {
      "application/vnd.jupyter.widget-view+json": {
       "model_id": "44816c18973f43fab8165931b13d2ded",
       "version_major": 2,
       "version_minor": 0
      },
      "text/plain": [
       "VBox()"
      ]
     },
     "metadata": {},
     "output_type": "display_data"
    },
    {
     "data": {
      "application/vnd.jupyter.widget-view+json": {
       "model_id": "",
       "version_major": 2,
       "version_minor": 0
      },
      "text/plain": [
       "FloatProgress(value=0.0, bar_style='info', description='Progress:', layout=Layout(height='25px', width='50%'),…"
      ]
     },
     "metadata": {},
     "output_type": "display_data"
    },
    {
     "name": "stdout",
     "output_type": "stream",
     "text": [
      "+--------------------+-----+\n",
      "|         customer_id|count|\n",
      "+--------------------+-----+\n",
      "|30b6056bacc5f5c9d...|   28|\n",
      "|5e8fb4d457fdffc61...|   28|\n",
      "|dc1b173e541f8d3c1...|   27|\n",
      "|1796e87fd2e88932b...|   25|\n",
      "|6335d496ef463bc40...|   25|\n",
      "|f50287d9cf052d4b4...|   24|\n",
      "|fd5ce8716faf00f6a...|   23|\n",
      "|54e8ebd39543b5a4d...|   23|\n",
      "|850ec77661a417d27...|   22|\n",
      "|298523b6637340717...|   21|\n",
      "|a08e284bb18add2d7...|   21|\n",
      "|383e1b07e2c1fe169...|   21|\n",
      "|b49647f84a99ced53...|   21|\n",
      "|b606fe5786c00151a...|   21|\n",
      "|32f3a6a7ce63d302c...|   21|\n",
      "|fc783381f1ea2174c...|   21|\n",
      "|ad3663a848dccbdda...|   21|\n",
      "|3ca77aab50ae4532b...|   20|\n",
      "|2a721767cd9864ed5...|   20|\n",
      "|af5166e0f89b0d433...|   19|\n",
      "+--------------------+-----+\n",
      "only showing top 20 rows"
     ]
    }
   ],
   "source": [
    "userId_count = datahm.groupBy(\"customer_id\").count().orderBy('count', ascending=False)\n",
    "userId_count.show()"
   ]
  },
  {
   "cell_type": "code",
   "execution_count": 11,
   "id": "fa16a692-0cab-4286-b28f-7733833d38bc",
   "metadata": {
    "execution": {
     "iopub.execute_input": "2022-11-01T08:25:42.062142Z",
     "iopub.status.busy": "2022-11-01T08:25:42.061940Z",
     "iopub.status.idle": "2022-11-01T08:26:23.504689Z",
     "shell.execute_reply": "2022-11-01T08:26:23.503929Z",
     "shell.execute_reply.started": "2022-11-01T08:25:42.062111Z"
    },
    "tags": []
   },
   "outputs": [
    {
     "data": {
      "application/vnd.jupyter.widget-view+json": {
       "model_id": "7503861420e94af6a33836c65cf3c9a6",
       "version_major": 2,
       "version_minor": 0
      },
      "text/plain": [
       "VBox()"
      ]
     },
     "metadata": {},
     "output_type": "display_data"
    },
    {
     "data": {
      "application/vnd.jupyter.widget-view+json": {
       "model_id": "",
       "version_major": 2,
       "version_minor": 0
      },
      "text/plain": [
       "FloatProgress(value=0.0, bar_style='info', description='Progress:', layout=Layout(height='25px', width='50%'),…"
      ]
     },
     "metadata": {},
     "output_type": "display_data"
    },
    {
     "name": "stdout",
     "output_type": "stream",
     "text": [
      "+----------+-----+\n",
      "|article_id|count|\n",
      "+----------+-----+\n",
      "|0924243002|   91|\n",
      "|0918522001|   88|\n",
      "|0866731001|   78|\n",
      "|0751471001|   75|\n",
      "|0448509014|   73|\n",
      "|0714790020|   72|\n",
      "|0762846027|   68|\n",
      "|0928206001|   67|\n",
      "|0893432002|   66|\n",
      "|0918292001|   65|\n",
      "|0915529005|   64|\n",
      "|0915529003|   63|\n",
      "|0788575004|   63|\n",
      "|0863583001|   60|\n",
      "|0573085028|   59|\n",
      "|0930380001|   59|\n",
      "|0919273002|   58|\n",
      "|0850917001|   57|\n",
      "|0573085042|   56|\n",
      "|0874110016|   53|\n",
      "+----------+-----+\n",
      "only showing top 20 rows"
     ]
    }
   ],
   "source": [
    "articleId_count = datahm.groupBy(\"article_id\").count().orderBy('count', ascending=False)\n",
    "articleId_count.show()"
   ]
  },
  {
   "cell_type": "code",
   "execution_count": 12,
   "id": "f97218c2-744e-42fe-8a4a-4fb466022084",
   "metadata": {
    "execution": {
     "iopub.execute_input": "2022-11-01T08:26:23.506229Z",
     "iopub.status.busy": "2022-11-01T08:26:23.505843Z",
     "iopub.status.idle": "2022-11-01T08:28:33.279706Z",
     "shell.execute_reply": "2022-11-01T08:28:33.279117Z",
     "shell.execute_reply.started": "2022-11-01T08:26:23.506192Z"
    },
    "tags": []
   },
   "outputs": [
    {
     "data": {
      "application/vnd.jupyter.widget-view+json": {
       "model_id": "661177eccf714b29a5078fe4bdfcfb9f",
       "version_major": 2,
       "version_minor": 0
      },
      "text/plain": [
       "VBox()"
      ]
     },
     "metadata": {},
     "output_type": "display_data"
    },
    {
     "data": {
      "application/vnd.jupyter.widget-view+json": {
       "model_id": "",
       "version_major": 2,
       "version_minor": 0
      },
      "text/plain": [
       "FloatProgress(value=0.0, bar_style='info', description='Progress:', layout=Layout(height='25px', width='50%'),…"
      ]
     },
     "metadata": {},
     "output_type": "display_data"
    },
    {
     "name": "stdout",
     "output_type": "stream",
     "text": [
      "+--------------------+----------+-----+----------------+-----------------+\n",
      "|         customer_id|article_id|count|article_id_index|customer_id_index|\n",
      "+--------------------+----------+-----+----------------+-----------------+\n",
      "|0333e5dda0257e9f4...|0839332002|    2|           732.0|           6082.0|\n",
      "|1601fa3c3f39aa623...|0730683001|    1|          3565.0|           4483.0|\n",
      "|164e1a251f0e3d764...|0831267001|    1|          7941.0|           4206.0|\n",
      "|166546028742fe655...|0767423013|    1|          1017.0|            982.0|\n",
      "|2a5d52077398d99a5...|0768931002|    2|           454.0|           2825.0|\n",
      "|2b02d26a952ca69ad...|0695803009|    1|          7407.0|            886.0|\n",
      "|2dbee384d53ac4e8d...|0829054005|    1|          1677.0|            208.0|\n",
      "|476976af7b5a03fa8...|0754238023|    1|           699.0|            138.0|\n",
      "|5840d651a26936daf...|0573085057|    1|            66.0|           1250.0|\n",
      "|5dc21abea76c66e34...|0759465001|    1|           318.0|           1600.0|\n",
      "|63f608a6c76ea08df...|0598515022|    1|          1199.0|           2470.0|\n",
      "|63f8173b620eff63f...|0756322009|    1|          1623.0|           4035.0|\n",
      "|65fc15a91310772fe...|0898918007|    1|           523.0|            319.0|\n",
      "|6f5e8efa459c8d26d...|0888908001|    1|          2013.0|           2190.0|\n",
      "|86730c52576c3f24f...|0855793001|    1|          4143.0|            196.0|\n",
      "|8827264dd69d9c1fa...|0610776105|    1|           638.0|             53.0|\n",
      "|9bd9a0895458fa858...|0768912001|    1|            46.0|            616.0|\n",
      "|9cc571b49c11b8f3c...|0896169002|    2|            73.0|           2335.0|\n",
      "|a1bed5192c2ff9db5...|0912095005|    1|          1083.0|           2212.0|\n",
      "|b5ae6677e1f1ebb6f...|0905957007|    1|           144.0|            458.0|\n",
      "+--------------------+----------+-----+----------------+-----------------+\n",
      "only showing top 20 rows"
     ]
    }
   ],
   "source": [
    "from pyspark.ml.evaluation import RegressionEvaluator\n",
    "from pyspark.ml.recommendation import ALS\n",
    "from pyspark.ml.feature import StringIndexer\n",
    "from pyspark.ml import Pipeline\n",
    "from pyspark.sql.functions import col\n",
    "\n",
    "indexer = [StringIndexer(inputCol=column, outputCol=column+\"_index\") for column in list(set(datahm.columns)-set(['count'])) ]\n",
    "pipeline = Pipeline(stages=indexer)\n",
    "transformed = pipeline.fit(datahm).transform(datahm)\n",
    "transformed.show()"
   ]
  },
  {
   "cell_type": "code",
   "execution_count": 13,
   "id": "26a8fdaf-bdc8-45f6-a668-fcc785df971d",
   "metadata": {
    "execution": {
     "iopub.execute_input": "2022-11-01T08:28:33.281418Z",
     "iopub.status.busy": "2022-11-01T08:28:33.281235Z",
     "iopub.status.idle": "2022-11-01T08:28:33.548379Z",
     "shell.execute_reply": "2022-11-01T08:28:33.547729Z",
     "shell.execute_reply.started": "2022-11-01T08:28:33.281396Z"
    },
    "tags": []
   },
   "outputs": [
    {
     "data": {
      "application/vnd.jupyter.widget-view+json": {
       "model_id": "860af38e1620439daed353c61cb01e7c",
       "version_major": 2,
       "version_minor": 0
      },
      "text/plain": [
       "VBox()"
      ]
     },
     "metadata": {},
     "output_type": "display_data"
    },
    {
     "data": {
      "application/vnd.jupyter.widget-view+json": {
       "model_id": "",
       "version_major": 2,
       "version_minor": 0
      },
      "text/plain": [
       "FloatProgress(value=0.0, bar_style='info', description='Progress:', layout=Layout(height='25px', width='50%'),…"
      ]
     },
     "metadata": {},
     "output_type": "display_data"
    }
   ],
   "source": [
    "(training,test)=transformed.randomSplit([0.8, 0.2])"
   ]
  },
  {
   "cell_type": "code",
   "execution_count": 14,
   "id": "130e19f0-03ed-43b6-b875-08106d1a6438",
   "metadata": {
    "execution": {
     "iopub.execute_input": "2022-11-01T08:28:33.550026Z",
     "iopub.status.busy": "2022-11-01T08:28:33.549769Z",
     "iopub.status.idle": "2022-11-01T08:28:33.816424Z",
     "shell.execute_reply": "2022-11-01T08:28:33.815797Z",
     "shell.execute_reply.started": "2022-11-01T08:28:33.549991Z"
    },
    "tags": []
   },
   "outputs": [
    {
     "data": {
      "application/vnd.jupyter.widget-view+json": {
       "model_id": "e3b9d31da74c498e9cf15123b386c793",
       "version_major": 2,
       "version_minor": 0
      },
      "text/plain": [
       "VBox()"
      ]
     },
     "metadata": {},
     "output_type": "display_data"
    },
    {
     "data": {
      "application/vnd.jupyter.widget-view+json": {
       "model_id": "",
       "version_major": 2,
       "version_minor": 0
      },
      "text/plain": [
       "FloatProgress(value=0.0, bar_style='info', description='Progress:', layout=Layout(height='25px', width='50%'),…"
      ]
     },
     "metadata": {},
     "output_type": "display_data"
    }
   ],
   "source": [
    "from pyspark.ml.evaluation import RegressionEvaluator\n",
    "from pyspark.ml.recommendation import ALS\n",
    "from pyspark.ml.tuning import CrossValidator, ParamGridBuilder\n",
    "\n",
    "\n",
    "#create ALS model\n",
    "als=ALS(userCol=\"customer_id_index\",itemCol=\"article_id_index\",ratingCol=\"count\",coldStartStrategy=\"drop\",nonnegative=True)\n",
    "#define evaluator as RMSE\n",
    "evaluator = RegressionEvaluator(metricName = \"rmse\",labelCol = 'count', predictionCol = 'prediction')"
   ]
  },
  {
   "cell_type": "code",
   "execution_count": 15,
   "id": "047088f0-c4c0-4d20-b0d5-c19f6de54ba6",
   "metadata": {
    "execution": {
     "iopub.execute_input": "2022-11-01T08:28:33.817769Z",
     "iopub.status.busy": "2022-11-01T08:28:33.817515Z",
     "iopub.status.idle": "2022-11-01T08:42:54.964395Z",
     "shell.execute_reply": "2022-11-01T08:42:54.963725Z",
     "shell.execute_reply.started": "2022-11-01T08:28:33.817734Z"
    },
    "tags": []
   },
   "outputs": [
    {
     "data": {
      "application/vnd.jupyter.widget-view+json": {
       "model_id": "284230dda32b45d0b26873376320fa0c",
       "version_major": 2,
       "version_minor": 0
      },
      "text/plain": [
       "VBox()"
      ]
     },
     "metadata": {},
     "output_type": "display_data"
    },
    {
     "data": {
      "application/vnd.jupyter.widget-view+json": {
       "model_id": "",
       "version_major": 2,
       "version_minor": 0
      },
      "text/plain": [
       "FloatProgress(value=0.0, bar_style='info', description='Progress:', layout=Layout(height='25px', width='50%'),…"
      ]
     },
     "metadata": {},
     "output_type": "display_data"
    },
    {
     "name": "stderr",
     "output_type": "stream",
     "text": [
      "Exception in thread cell_monitor-15:\n",
      "Traceback (most recent call last):\n",
      "  File \"/mnt/notebook-env/lib/python3.7/threading.py\", line 926, in _bootstrap_inner\n",
      "    self.run()\n",
      "  File \"/mnt/notebook-env/lib/python3.7/threading.py\", line 870, in run\n",
      "    self._target(*self._args, **self._kwargs)\n",
      "  File \"/mnt/notebook-env/lib/python3.7/site-packages/awseditorssparkmonitoringwidget-1.0-py3.7.egg/awseditorssparkmonitoringwidget/cellmonitor.py\", line 178, in cell_monitor\n",
      "    job_binned_stages[job_id][stage_id] = all_stages[stage_id]\n",
      "KeyError: 2114\n",
      "\n"
     ]
    }
   ],
   "source": [
    "#tune model using ParamGridBuilder\n",
    "param_grid = ParamGridBuilder()\\\n",
    "            .addGrid(als.rank, [15,20,25])\\\n",
    "            .addGrid(als.maxIter,[5,10,15])\\\n",
    "            .addGrid(als.regParam,[0.05])\\\n",
    "            .build()\n",
    "#Build cross validation using CrossValidator\n",
    "crossvalidate = CrossValidator(estimator=als,estimatorParamMaps=param_grid, evaluator=evaluator,numFolds=5)\n",
    "\n",
    "#load the crovalidator into the model\n",
    "tuned_model = crossvalidate.fit(training)"
   ]
  },
  {
   "cell_type": "code",
   "execution_count": 16,
   "id": "40dd808d-084e-4fb0-a289-658192ed251d",
   "metadata": {
    "execution": {
     "iopub.execute_input": "2022-11-01T08:42:54.965862Z",
     "iopub.status.busy": "2022-11-01T08:42:54.965488Z",
     "iopub.status.idle": "2022-11-01T08:42:55.029030Z",
     "shell.execute_reply": "2022-11-01T08:42:55.028349Z",
     "shell.execute_reply.started": "2022-11-01T08:42:54.965823Z"
    },
    "tags": []
   },
   "outputs": [
    {
     "data": {
      "application/vnd.jupyter.widget-view+json": {
       "model_id": "a2c2fb70c6f94e3e9d75c2e47034cb8a",
       "version_major": 2,
       "version_minor": 0
      },
      "text/plain": [
       "VBox()"
      ]
     },
     "metadata": {},
     "output_type": "display_data"
    },
    {
     "data": {
      "application/vnd.jupyter.widget-view+json": {
       "model_id": "",
       "version_major": 2,
       "version_minor": 0
      },
      "text/plain": [
       "FloatProgress(value=0.0, bar_style='info', description='Progress:', layout=Layout(height='25px', width='50%'),…"
      ]
     },
     "metadata": {},
     "output_type": "display_data"
    }
   ],
   "source": [
    "model = tuned_model.bestModel"
   ]
  },
  {
   "cell_type": "code",
   "execution_count": 17,
   "id": "2d25ec6f-d42f-4e61-b576-52aee6d538c8",
   "metadata": {
    "execution": {
     "iopub.execute_input": "2022-11-01T08:42:55.030329Z",
     "iopub.status.busy": "2022-11-01T08:42:55.030077Z",
     "iopub.status.idle": "2022-11-01T08:43:38.799280Z",
     "shell.execute_reply": "2022-11-01T08:43:38.798482Z",
     "shell.execute_reply.started": "2022-11-01T08:42:55.030294Z"
    },
    "tags": []
   },
   "outputs": [
    {
     "data": {
      "application/vnd.jupyter.widget-view+json": {
       "model_id": "37ab86fc6e7e48b3a0c34d6be91a8a36",
       "version_major": 2,
       "version_minor": 0
      },
      "text/plain": [
       "VBox()"
      ]
     },
     "metadata": {},
     "output_type": "display_data"
    },
    {
     "data": {
      "application/vnd.jupyter.widget-view+json": {
       "model_id": "",
       "version_major": 2,
       "version_minor": 0
      },
      "text/plain": [
       "FloatProgress(value=0.0, bar_style='info', description='Progress:', layout=Layout(height='25px', width='50%'),…"
      ]
     },
     "metadata": {},
     "output_type": "display_data"
    }
   ],
   "source": [
    "predictions = model.transform(test)\n",
    "rmse = evaluator.evaluate(predictions)"
   ]
  },
  {
   "cell_type": "code",
   "execution_count": 18,
   "id": "96ac9207-2d3c-432f-8ee7-08156afed0f2",
   "metadata": {
    "execution": {
     "iopub.execute_input": "2022-11-01T08:43:38.800917Z",
     "iopub.status.busy": "2022-11-01T08:43:38.800473Z",
     "iopub.status.idle": "2022-11-01T08:43:38.881684Z",
     "shell.execute_reply": "2022-11-01T08:43:38.881063Z",
     "shell.execute_reply.started": "2022-11-01T08:43:38.800877Z"
    },
    "tags": []
   },
   "outputs": [
    {
     "data": {
      "application/vnd.jupyter.widget-view+json": {
       "model_id": "6646fb737f0f4e2a8aa8314e84984498",
       "version_major": 2,
       "version_minor": 0
      },
      "text/plain": [
       "VBox()"
      ]
     },
     "metadata": {},
     "output_type": "display_data"
    },
    {
     "data": {
      "application/vnd.jupyter.widget-view+json": {
       "model_id": "",
       "version_major": 2,
       "version_minor": 0
      },
      "text/plain": [
       "FloatProgress(value=0.0, bar_style='info', description='Progress:', layout=Layout(height='25px', width='50%'),…"
      ]
     },
     "metadata": {},
     "output_type": "display_data"
    },
    {
     "name": "stdout",
     "output_type": "stream",
     "text": [
      "RMSE =0.43664054214548154"
     ]
    }
   ],
   "source": [
    "#print evaluation metrics and model parameters\n",
    "print(\"RMSE =\" + str(rmse))"
   ]
  },
  {
   "cell_type": "code",
   "execution_count": 19,
   "id": "14346301-5758-46fd-bda4-738cb7be9dec",
   "metadata": {
    "execution": {
     "iopub.execute_input": "2022-11-01T08:43:38.882742Z",
     "iopub.status.busy": "2022-11-01T08:43:38.882572Z",
     "iopub.status.idle": "2022-11-01T08:43:44.322375Z",
     "shell.execute_reply": "2022-11-01T08:43:44.321763Z",
     "shell.execute_reply.started": "2022-11-01T08:43:38.882720Z"
    },
    "tags": []
   },
   "outputs": [
    {
     "data": {
      "application/vnd.jupyter.widget-view+json": {
       "model_id": "debd997061894bc982741b7d722beca6",
       "version_major": 2,
       "version_minor": 0
      },
      "text/plain": [
       "VBox()"
      ]
     },
     "metadata": {},
     "output_type": "display_data"
    },
    {
     "data": {
      "application/vnd.jupyter.widget-view+json": {
       "model_id": "",
       "version_major": 2,
       "version_minor": 0
      },
      "text/plain": [
       "FloatProgress(value=0.0, bar_style='info', description='Progress:', layout=Layout(height='25px', width='50%'),…"
      ]
     },
     "metadata": {},
     "output_type": "display_data"
    },
    {
     "name": "stdout",
     "output_type": "stream",
     "text": [
      "+-----------------+--------------------+\n",
      "|customer_id_index|     recommendations|\n",
      "+-----------------+--------------------+\n",
      "|               12|[[1867, 2.726563]...|\n",
      "|               65|[[3503, 2.6587913...|\n",
      "|               76|[[1867, 2.628014]...|\n",
      "|               81|[[1867, 2.9240685...|\n",
      "|              122|[[1867, 2.275898]...|\n",
      "|              126|[[1867, 2.404537]...|\n",
      "|              133|[[1867, 2.2347238...|\n",
      "|              140|[[6599, 2.5554457...|\n",
      "|              148|[[1938, 3.5521169...|\n",
      "|              177|[[1938, 2.3279598...|\n",
      "|              192|[[1867, 4.88021],...|\n",
      "|              209|[[1867, 2.1306722...|\n",
      "|              243|[[1867, 2.241063]...|\n",
      "|              300|[[1867, 2.3830864...|\n",
      "|              333|[[1867, 2.3220134...|\n",
      "|              406|[[1867, 2.249863]...|\n",
      "|              417|[[1867, 2.7465048...|\n",
      "|              444|[[1867, 2.4268873...|\n",
      "|              481|[[1938, 2.206344]...|\n",
      "|              496|[[1867, 2.2705157...|\n",
      "+-----------------+--------------------+\n",
      "only showing top 20 rows"
     ]
    }
   ],
   "source": [
    "recommendation_customer = model.recommendForAllUsers(20)\n",
    "recommendation_customer.show(20)"
   ]
  },
  {
   "cell_type": "code",
   "execution_count": 20,
   "id": "5827c9eb-5e18-4036-a90f-2b3018389c0e",
   "metadata": {
    "execution": {
     "iopub.execute_input": "2022-11-01T08:43:44.323500Z",
     "iopub.status.busy": "2022-11-01T08:43:44.323322Z",
     "iopub.status.idle": "2022-11-01T08:43:50.941247Z",
     "shell.execute_reply": "2022-11-01T08:43:50.920930Z",
     "shell.execute_reply.started": "2022-11-01T08:43:44.323477Z"
    },
    "tags": []
   },
   "outputs": [
    {
     "data": {
      "application/vnd.jupyter.widget-view+json": {
       "model_id": "dcaf354d8cd0451abcf1db6844574ba1",
       "version_major": 2,
       "version_minor": 0
      },
      "text/plain": [
       "VBox()"
      ]
     },
     "metadata": {},
     "output_type": "display_data"
    },
    {
     "data": {
      "application/vnd.jupyter.widget-view+json": {
       "model_id": "",
       "version_major": 2,
       "version_minor": 0
      },
      "text/plain": [
       "FloatProgress(value=0.0, bar_style='info', description='Progress:', layout=Layout(height='25px', width='50%'),…"
      ]
     },
     "metadata": {},
     "output_type": "display_data"
    },
    {
     "name": "stdout",
     "output_type": "stream",
     "text": [
      "+-----------------+--------------------+\n",
      "|customer_id_index|    article_id_index|\n",
      "+-----------------+--------------------+\n",
      "|               12|[1867, 7955, 5605...|\n",
      "|               65|[3503, 5605, 1867...|\n",
      "|               76|[1867, 5620, 2891...|\n",
      "|               81|[1867, 5605, 2891...|\n",
      "|              122|[1867, 5605, 5662...|\n",
      "|              126|[1867, 1938, 5782...|\n",
      "|              133|[1867, 5605, 1938...|\n",
      "|              140|[6599, 4817, 2891...|\n",
      "|              148|[1938, 1867, 5620...|\n",
      "|              177|[1938, 1867, 5605...|\n",
      "|              192|[1867, 5605, 1938...|\n",
      "|              209|[1867, 5782, 6289...|\n",
      "|              243|[1867, 5605, 1938...|\n",
      "|              300|[1867, 2891, 5782...|\n",
      "|              333|[1867, 5605, 1938...|\n",
      "|              406|[1867, 5605, 3503...|\n",
      "|              417|[1867, 7955, 6036...|\n",
      "|              444|[1867, 5605, 1938...|\n",
      "|              481|[1938, 1867, 5605...|\n",
      "|              496|[1867, 5605, 5620...|\n",
      "+-----------------+--------------------+\n",
      "only showing top 20 rows"
     ]
    }
   ],
   "source": [
    "recommendation_customer = recommendation_customer.select(\"customer_id_index\",\"recommendations.article_id_index\")\n",
    "recommendation_customer.show(20)"
   ]
  },
  {
   "cell_type": "code",
   "execution_count": 22,
   "id": "8f80def5-1dd2-4dc7-a0eb-51aa0e75e9e3",
   "metadata": {
    "execution": {
     "iopub.execute_input": "2022-11-01T08:43:51.746572Z",
     "iopub.status.busy": "2022-11-01T08:43:51.746318Z",
     "iopub.status.idle": "2022-11-01T08:43:59.463493Z",
     "shell.execute_reply": "2022-11-01T08:43:59.462842Z",
     "shell.execute_reply.started": "2022-11-01T08:43:51.746538Z"
    }
   },
   "outputs": [
    {
     "data": {
      "application/vnd.jupyter.widget-view+json": {
       "model_id": "d9c81e913a9d405d939f8aa05b256850",
       "version_major": 2,
       "version_minor": 0
      },
      "text/plain": [
       "VBox()"
      ]
     },
     "metadata": {},
     "output_type": "display_data"
    },
    {
     "data": {
      "application/vnd.jupyter.widget-view+json": {
       "model_id": "",
       "version_major": 2,
       "version_minor": 0
      },
      "text/plain": [
       "FloatProgress(value=0.0, bar_style='info', description='Progress:', layout=Layout(height='25px', width='50%'),…"
      ]
     },
     "metadata": {},
     "output_type": "display_data"
    },
    {
     "name": "stderr",
     "output_type": "stream",
     "text": [
      "Exception in thread cell_monitor-20:\n",
      "Traceback (most recent call last):\n",
      "  File \"/mnt/notebook-env/lib/python3.7/threading.py\", line 926, in _bootstrap_inner\n",
      "    self.run()\n",
      "  File \"/mnt/notebook-env/lib/python3.7/threading.py\", line 870, in run\n",
      "    self._target(*self._args, **self._kwargs)\n",
      "  File \"/mnt/notebook-env/lib/python3.7/site-packages/awseditorssparkmonitoringwidget-1.0-py3.7.egg/awseditorssparkmonitoringwidget/cellmonitor.py\", line 178, in cell_monitor\n",
      "    job_binned_stages[job_id][stage_id] = all_stages[stage_id]\n",
      "KeyError: 4465\n",
      "\n"
     ]
    }
   ],
   "source": [
    "recommendation_customer.write.parquet(\"s3://hmrecomm/transactions_train2\")"
   ]
  },
  {
   "cell_type": "code",
   "execution_count": null,
   "id": "9ba0eda9-e868-486a-84aa-1d9dc987fd54",
   "metadata": {},
   "outputs": [],
   "source": []
  }
 ],
 "metadata": {
  "kernelspec": {
   "display_name": "Python 3 (ipykernel)",
   "language": "python",
   "name": "python3"
  },
  "language_info": {
   "codemirror_mode": {
    "name": "ipython",
    "version": 3
   },
   "file_extension": ".py",
   "mimetype": "text/x-python",
   "name": "python",
   "nbconvert_exporter": "python",
   "pygments_lexer": "ipython3",
   "version": "3.9.7"
  }
 },
 "nbformat": 4,
 "nbformat_minor": 5
}
