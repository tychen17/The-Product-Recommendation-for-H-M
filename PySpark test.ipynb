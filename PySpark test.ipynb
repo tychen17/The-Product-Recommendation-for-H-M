{
 "cells": [
  {
   "cell_type": "code",
   "execution_count": 18,
   "id": "9ad2d48a",
   "metadata": {},
   "outputs": [],
   "source": [
    "import pyspark\n",
    "from pyspark.sql import SparkSession\n",
    "from pyspark.sql.types import StructType,StructField, StringType, IntegerType \n",
    "from pyspark.sql.types import ArrayType, DoubleType, BooleanType\n",
    "from pyspark.sql.functions import col,array_contains\n",
    "from pyspark.sql import SQLContext \n",
    "from pyspark.ml.recommendation import ALS\n",
    "from pyspark.sql.functions import udf,col,when\n",
    "from pyspark.sql.functions import to_timestamp,date_format\n",
    "import numpy as np\n",
    "import pandas as pd\n",
    "from pyspark.mllib.stat import Statistics \n",
    "from math import sqrt \n",
    "from pyspark.ml.regression import LinearRegression\n",
    "from pyspark.mllib.evaluation import RegressionMetrics\n",
    "from pyspark.ml.feature import VectorAssembler, StandardScaler\n",
    "from pyspark.ml.linalg import Vectors, VectorUDT\n",
    "from pyspark.sql.functions import udf"
   ]
  },
  {
   "cell_type": "code",
   "execution_count": 2,
   "id": "4d170622",
   "metadata": {},
   "outputs": [
    {
     "name": "stderr",
     "output_type": "stream",
     "text": [
      "Setting default log level to \"WARN\".\n",
      "To adjust logging level use sc.setLogLevel(newLevel). For SparkR, use setLogLevel(newLevel).\n"
     ]
    },
    {
     "name": "stdout",
     "output_type": "stream",
     "text": [
      "22/10/18 20:18:18 WARN NativeCodeLoader: Unable to load native-hadoop library for your platform... using builtin-java classes where applicable\n"
     ]
    }
   ],
   "source": [
    "spark = SparkSession.builder.master(\"local[1]\").appName(\"Recommendations\").getOrCreate()"
   ]
  },
  {
   "cell_type": "code",
   "execution_count": 3,
   "id": "c4260973",
   "metadata": {},
   "outputs": [
    {
     "name": "stdout",
     "output_type": "stream",
     "text": [
      "root\n",
      " |-- t_dat: string (nullable = true)\n",
      " |-- customer_id: string (nullable = true)\n",
      " |-- article_id: string (nullable = true)\n",
      " |-- price: string (nullable = true)\n",
      " |-- sales_channel_id: string (nullable = true)\n",
      "\n"
     ]
    }
   ],
   "source": [
    "transaction = spark.read.option(\"header\",True) \\\n",
    "              .csv(\"transactions_train.csv\")\n",
    "transaction.printSchema()"
   ]
  },
  {
   "cell_type": "code",
   "execution_count": 4,
   "id": "682bc984",
   "metadata": {},
   "outputs": [
    {
     "name": "stdout",
     "output_type": "stream",
     "text": [
      "+----------+--------------------+----------+--------------------+----------------+\n",
      "|     t_dat|         customer_id|article_id|               price|sales_channel_id|\n",
      "+----------+--------------------+----------+--------------------+----------------+\n",
      "|2018-09-20|000058a12d5b43e67...|0663713001|0.050830508474576264|               2|\n",
      "|2018-09-20|000058a12d5b43e67...|0541518023| 0.03049152542372881|               2|\n",
      "|2018-09-20|00007d2de826758b6...|0505221004| 0.01523728813559322|               2|\n",
      "|2018-09-20|00007d2de826758b6...|0685687003|0.016932203389830508|               2|\n",
      "|2018-09-20|00007d2de826758b6...|0685687004|0.016932203389830508|               2|\n",
      "|2018-09-20|00007d2de826758b6...|0685687001|0.016932203389830508|               2|\n",
      "|2018-09-20|00007d2de826758b6...|0505221001|0.020322033898305086|               2|\n",
      "|2018-09-20|00083cda041544b2f...|0688873012| 0.03049152542372881|               1|\n",
      "|2018-09-20|00083cda041544b2f...|0501323011|0.053372881355932204|               1|\n",
      "|2018-09-20|00083cda041544b2f...|0598859003|  0.0457457627118644|               2|\n",
      "|2018-09-20|00083cda041544b2f...|0688873020| 0.03049152542372881|               1|\n",
      "|2018-09-20|00083cda041544b2f...|0688873011| 0.03049152542372881|               1|\n",
      "|2018-09-20|0008968c0d451dbc5...|0531310002| 0.02252542372881356|               2|\n",
      "|2018-09-20|0008968c0d451dbc5...|0529841001|0.020322033898305086|               2|\n",
      "|2018-09-20|000aa7f0dc06cd717...|0501820043|0.016932203389830508|               2|\n",
      "|2018-09-20|000aa7f0dc06cd717...|0501820043|0.016932203389830508|               2|\n",
      "|2018-09-20|000aa7f0dc06cd717...|0674681001|0.008457627118644067|               2|\n",
      "|2018-09-20|000aa7f0dc06cd717...|0671505001|0.033881355932203386|               2|\n",
      "|2018-09-20|000aa7f0dc06cd717...|0671505001|0.033881355932203386|               2|\n",
      "|2018-09-20|000aa7f0dc06cd717...|0631848002|0.033881355932203386|               2|\n",
      "+----------+--------------------+----------+--------------------+----------------+\n",
      "only showing top 20 rows\n",
      "\n"
     ]
    }
   ],
   "source": [
    "transaction.show()"
   ]
  },
  {
   "cell_type": "code",
   "execution_count": 6,
   "id": "5ac70770",
   "metadata": {},
   "outputs": [
    {
     "name": "stderr",
     "output_type": "stream",
     "text": [
      "[Stage 2:======================================================>  (25 + 1) / 26]\r"
     ]
    },
    {
     "name": "stdout",
     "output_type": "stream",
     "text": [
      "+--------------------+----------+-----+\n",
      "|         customer_id|article_id|count|\n",
      "+--------------------+----------+-----+\n",
      "|00d781e94d9a533dc...|0616708004|    1|\n",
      "|0164840429884bbb4...|0578589001|    1|\n",
      "|01c8cb2f730cd7253...|0537688014|    1|\n",
      "|0247a4cfbe56ac5e1...|0618840005|    1|\n",
      "|0745af85843f2d073...|0674492001|    1|\n",
      "|0849f9bb66e8d4695...|0684010001|    1|\n",
      "|09e1f56b250e4a78b...|0525932002|    1|\n",
      "|0a8e062f9162d6bab...|0643217002|    1|\n",
      "|0ae14ec796c207d31...|0522398023|    1|\n",
      "|0bb8f46440abf3d28...|0637515010|    1|\n",
      "+--------------------+----------+-----+\n",
      "only showing top 10 rows\n",
      "\n"
     ]
    },
    {
     "name": "stderr",
     "output_type": "stream",
     "text": [
      "\r",
      "[Stage 4:>                                                          (0 + 1) / 1]\r",
      "\r",
      "                                                                                \r"
     ]
    }
   ],
   "source": [
    "df1 =  transaction.withColumn('t_dat', transaction['t_dat'].cast('string'))\n",
    "df1 = df1.groupby('customer_id', 'article_id').count()\n",
    "df1.show(10)"
   ]
  },
  {
   "cell_type": "code",
   "execution_count": 7,
   "id": "ed04d3cd",
   "metadata": {
    "scrolled": false
   },
   "outputs": [
    {
     "name": "stderr",
     "output_type": "stream",
     "text": [
      "[Stage 10:=================================================>      (14 + 1) / 16]\r"
     ]
    },
    {
     "name": "stdout",
     "output_type": "stream",
     "text": [
      "+--------------------+-----+\n",
      "|         customer_id|count|\n",
      "+--------------------+-----+\n",
      "|be1981ab818cf4ef6...| 1346|\n",
      "|cd04ec2726dd58a8c...| 1121|\n",
      "|49beaacac0c7801c2...| 1088|\n",
      "|b4db5e5259234574e...| 1068|\n",
      "|55d15396193dfd458...|  972|\n",
      "|a65f77281a528bf5c...|  906|\n",
      "|6cc121e5cc202d2bf...|  877|\n",
      "|a76cf5ea515d09f22...|  874|\n",
      "|d80ed4ababfa96812...|  859|\n",
      "|689f4eda82fdf3d9b...|  840|\n",
      "|c140410d72a41ee5e...|  836|\n",
      "|3493c55a7fe252c84...|  834|\n",
      "|03d0011487606c37c...|  807|\n",
      "|1df07f916d7f64845...|  784|\n",
      "|898ede9fb639eb2ae...|  765|\n",
      "|0d4fb6fb46dfe2759...|  765|\n",
      "|6980555e2eaa19a3f...|  742|\n",
      "|77db96923d20d4053...|  723|\n",
      "|e238725cbff3774b7...|  719|\n",
      "|8df45859ccd71ef1e...|  718|\n",
      "+--------------------+-----+\n",
      "only showing top 20 rows\n",
      "\n"
     ]
    },
    {
     "name": "stderr",
     "output_type": "stream",
     "text": [
      "\r",
      "[Stage 10:====================================================>   (15 + 1) / 16]\r",
      "\r",
      "                                                                                \r"
     ]
    }
   ],
   "source": [
    "userId_count = df1.groupBy(\"customer_id\").count().orderBy('count', ascending=False)\n",
    "userId_count.show()"
   ]
  },
  {
   "cell_type": "code",
   "execution_count": 8,
   "id": "0c002c2e",
   "metadata": {},
   "outputs": [
    {
     "name": "stdout",
     "output_type": "stream",
     "text": [
      "root\n",
      " |-- _c0: string (nullable = true)\n",
      " |-- article_id: string (nullable = true)\n",
      " |-- product_code: string (nullable = true)\n",
      " |-- prod_name: string (nullable = true)\n",
      " |-- product_type_no: string (nullable = true)\n",
      " |-- product_type_name: string (nullable = true)\n",
      " |-- product_group_name: string (nullable = true)\n",
      " |-- graphical_appearance_no: string (nullable = true)\n",
      " |-- graphical_appearance_name: string (nullable = true)\n",
      " |-- colour_group_code: string (nullable = true)\n",
      " |-- colour_group_name: string (nullable = true)\n",
      " |-- perceived_colour_value_id: string (nullable = true)\n",
      " |-- perceived_colour_value_name: string (nullable = true)\n",
      " |-- perceived_colour_master_id: string (nullable = true)\n",
      " |-- perceived_colour_master_name: string (nullable = true)\n",
      " |-- department_no: string (nullable = true)\n",
      " |-- department_name: string (nullable = true)\n",
      " |-- index_code: string (nullable = true)\n",
      " |-- index_name: string (nullable = true)\n",
      " |-- index_group_no: string (nullable = true)\n",
      " |-- index_group_name: string (nullable = true)\n",
      " |-- section_no: string (nullable = true)\n",
      " |-- section_name: string (nullable = true)\n",
      " |-- garment_group_no: string (nullable = true)\n",
      " |-- garment_group_name: string (nullable = true)\n",
      " |-- detail_desc: string (nullable = true)\n",
      " |-- t_dat: string (nullable = true)\n",
      " |-- customer_id: string (nullable = true)\n",
      " |-- price: string (nullable = true)\n",
      " |-- sales_channel_id: string (nullable = true)\n",
      " |-- Total customer: string (nullable = true)\n",
      "\n"
     ]
    }
   ],
   "source": [
    "df_article = spark.read.option(\"header\",True) \\\n",
    "              .csv(\"df_article.csv\")\n",
    "df_article.printSchema()"
   ]
  },
  {
   "cell_type": "code",
   "execution_count": 26,
   "id": "2bf7ec6e",
   "metadata": {},
   "outputs": [
    {
     "data": {
      "text/plain": [
       "['_c0',\n",
       " 'article_id',\n",
       " 'product_code',\n",
       " 'prod_name',\n",
       " 'product_type_no',\n",
       " 'product_type_name',\n",
       " 'product_group_name',\n",
       " 'graphical_appearance_no',\n",
       " 'graphical_appearance_name',\n",
       " 'colour_group_code',\n",
       " 'colour_group_name',\n",
       " 'perceived_colour_value_id',\n",
       " 'perceived_colour_value_name',\n",
       " 'perceived_colour_master_id',\n",
       " 'perceived_colour_master_name',\n",
       " 'department_no',\n",
       " 'department_name',\n",
       " 'index_code',\n",
       " 'index_name',\n",
       " 'index_group_no',\n",
       " 'index_group_name',\n",
       " 'section_no',\n",
       " 'section_name',\n",
       " 'garment_group_no',\n",
       " 'garment_group_name',\n",
       " 'detail_desc',\n",
       " 't_dat',\n",
       " 'customer_id',\n",
       " 'price',\n",
       " 'sales_channel_id',\n",
       " 'Total customer']"
      ]
     },
     "execution_count": 26,
     "metadata": {},
     "output_type": "execute_result"
    }
   ],
   "source": [
    "df_article.columns"
   ]
  },
  {
   "cell_type": "code",
   "execution_count": null,
   "id": "8ee168cb",
   "metadata": {},
   "outputs": [],
   "source": []
  }
 ],
 "metadata": {
  "kernelspec": {
   "display_name": "Python 3 (ipykernel)",
   "language": "python",
   "name": "python3"
  },
  "language_info": {
   "codemirror_mode": {
    "name": "ipython",
    "version": 3
   },
   "file_extension": ".py",
   "mimetype": "text/x-python",
   "name": "python",
   "nbconvert_exporter": "python",
   "pygments_lexer": "ipython3",
   "version": "3.9.7"
  }
 },
 "nbformat": 4,
 "nbformat_minor": 5
}
