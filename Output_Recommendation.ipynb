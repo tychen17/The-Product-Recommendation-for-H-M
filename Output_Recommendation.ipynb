{
 "cells": [
  {
   "cell_type": "code",
   "execution_count": 1,
   "id": "b1b6fc68",
   "metadata": {},
   "outputs": [],
   "source": [
    "import pyarrow.parquet as pa\n",
    "import pandas as pd\n",
    "import pyarrow.csv as csv\n",
    "import numpy as np"
   ]
  },
  {
   "cell_type": "code",
   "execution_count": 2,
   "id": "c1511a09",
   "metadata": {},
   "outputs": [],
   "source": [
    "## read parquet\n",
    "dataset = pa.ParquetDataset('recomm/')\n",
    "table = dataset.read()"
   ]
  },
  {
   "cell_type": "code",
   "execution_count": 3,
   "id": "ec78ee30",
   "metadata": {},
   "outputs": [
    {
     "data": {
      "text/plain": [
       "pyarrow.Table\n",
       "customer_id_index: int32 not null\n",
       "article_id_index: list<element: int32>\n",
       "  child 0, element: int32\n",
       "----\n",
       "customer_id_index: [[12,65,76,81,122,...,10345,10362,10433,10502,10506],[12,65,76,81,122,...,10345,10362,10416,10502,10506],...,[32,106,116,198,203,...,10337,10353,10386,10491,10521],[67,138,172,180,315,...,10189,10275,10324,10383,10399]]\n",
       "article_id_index: [[[1867,7955,5605,6036,5662,...,6855,5908,7367,4912,7479],[3503,5605,1867,2891,5620,...,2550,7930,4209,2467,2726],...,[2891,1867,5782,6289,5605,...,7789,4326,6599,4817,3741],[5620,5605,2891,1867,5662,...,4817,6599,7789,6855,7008]],[[1938,7955,1867,5662,6722,...,6965,4912,7479,7814,2726],[1938,1867,5782,6289,5662,...,6036,6599,4038,6965,1509],...,[1938,7955,5662,6722,1867,...,6965,4912,7479,1434,334],[1938,1867,7955,5662,6289,...,6964,7814,6888,7040,737]],...,[[1867,5605,5620,1938,2891,...,5782,6289,5778,6965,6599],[1867,5605,1938,5662,5620,...,4326,6964,5908,2868,5778],...,[1867,5605,5662,1938,2891,...,5371,2868,5058,5908,4999],[1867,5605,1938,7955,5620,...,5778,6964,2467,6965,6855]],[[1867,6036,5605,7955,5782,...,2550,5371,5620,6964,5778],[1867,1938,5605,2891,5620,...,2868,6722,5908,5778,7008],...,[1938,1867,6036,5605,5620,...,5058,7958,2151,5371,6964],[1867,1938,5605,382,5620,...,3992,6923,6765,5662,2868]]]"
      ]
     },
     "execution_count": 3,
     "metadata": {},
     "output_type": "execute_result"
    }
   ],
   "source": [
    "table"
   ]
  },
  {
   "cell_type": "code",
   "execution_count": 4,
   "id": "c6090f22",
   "metadata": {},
   "outputs": [],
   "source": [
    "## transform parquet to pandas\n",
    "recommendation_customer = table.to_pandas()"
   ]
  },
  {
   "cell_type": "code",
   "execution_count": 5,
   "id": "c35f0760",
   "metadata": {},
   "outputs": [
    {
     "data": {
      "text/html": [
       "<div>\n",
       "<style scoped>\n",
       "    .dataframe tbody tr th:only-of-type {\n",
       "        vertical-align: middle;\n",
       "    }\n",
       "\n",
       "    .dataframe tbody tr th {\n",
       "        vertical-align: top;\n",
       "    }\n",
       "\n",
       "    .dataframe thead th {\n",
       "        text-align: right;\n",
       "    }\n",
       "</style>\n",
       "<table border=\"1\" class=\"dataframe\">\n",
       "  <thead>\n",
       "    <tr style=\"text-align: right;\">\n",
       "      <th></th>\n",
       "      <th>customer_id_index</th>\n",
       "      <th>article_id_index</th>\n",
       "    </tr>\n",
       "  </thead>\n",
       "  <tbody>\n",
       "    <tr>\n",
       "      <th>0</th>\n",
       "      <td>12</td>\n",
       "      <td>[1867, 7955, 5605, 6036, 5662, 4699, 6722, 246...</td>\n",
       "    </tr>\n",
       "    <tr>\n",
       "      <th>1</th>\n",
       "      <td>65</td>\n",
       "      <td>[3503, 5605, 1867, 2891, 5620, 1938, 6017, 696...</td>\n",
       "    </tr>\n",
       "    <tr>\n",
       "      <th>2</th>\n",
       "      <td>76</td>\n",
       "      <td>[1867, 5620, 2891, 5782, 6289, 5605, 3503, 246...</td>\n",
       "    </tr>\n",
       "    <tr>\n",
       "      <th>3</th>\n",
       "      <td>81</td>\n",
       "      <td>[1867, 5605, 2891, 4817, 6599, 3503, 5662, 469...</td>\n",
       "    </tr>\n",
       "    <tr>\n",
       "      <th>4</th>\n",
       "      <td>122</td>\n",
       "      <td>[1867, 5605, 5662, 1938, 3503, 2891, 5620, 469...</td>\n",
       "    </tr>\n",
       "    <tr>\n",
       "      <th>...</th>\n",
       "      <td>...</td>\n",
       "      <td>...</td>\n",
       "    </tr>\n",
       "    <tr>\n",
       "      <th>10037</th>\n",
       "      <td>10189</td>\n",
       "      <td>[1867, 1938, 5662, 5605, 5782, 6289, 5620, 795...</td>\n",
       "    </tr>\n",
       "    <tr>\n",
       "      <th>10038</th>\n",
       "      <td>10275</td>\n",
       "      <td>[1867, 5662, 2467, 5605, 5620, 5908, 7955, 469...</td>\n",
       "    </tr>\n",
       "    <tr>\n",
       "      <th>10039</th>\n",
       "      <td>10324</td>\n",
       "      <td>[1938, 7955, 5605, 2891, 3503, 5620, 5662, 186...</td>\n",
       "    </tr>\n",
       "    <tr>\n",
       "      <th>10040</th>\n",
       "      <td>10383</td>\n",
       "      <td>[1938, 1867, 6036, 5605, 5620, 3503, 7008, 289...</td>\n",
       "    </tr>\n",
       "    <tr>\n",
       "      <th>10041</th>\n",
       "      <td>10399</td>\n",
       "      <td>[1867, 1938, 5605, 382, 5620, 737, 3420, 7883,...</td>\n",
       "    </tr>\n",
       "  </tbody>\n",
       "</table>\n",
       "<p>10042 rows × 2 columns</p>\n",
       "</div>"
      ],
      "text/plain": [
       "       customer_id_index                                   article_id_index\n",
       "0                     12  [1867, 7955, 5605, 6036, 5662, 4699, 6722, 246...\n",
       "1                     65  [3503, 5605, 1867, 2891, 5620, 1938, 6017, 696...\n",
       "2                     76  [1867, 5620, 2891, 5782, 6289, 5605, 3503, 246...\n",
       "3                     81  [1867, 5605, 2891, 4817, 6599, 3503, 5662, 469...\n",
       "4                    122  [1867, 5605, 5662, 1938, 3503, 2891, 5620, 469...\n",
       "...                  ...                                                ...\n",
       "10037              10189  [1867, 1938, 5662, 5605, 5782, 6289, 5620, 795...\n",
       "10038              10275  [1867, 5662, 2467, 5605, 5620, 5908, 7955, 469...\n",
       "10039              10324  [1938, 7955, 5605, 2891, 3503, 5620, 5662, 186...\n",
       "10040              10383  [1938, 1867, 6036, 5605, 5620, 3503, 7008, 289...\n",
       "10041              10399  [1867, 1938, 5605, 382, 5620, 737, 3420, 7883,...\n",
       "\n",
       "[10042 rows x 2 columns]"
      ]
     },
     "execution_count": 5,
     "metadata": {},
     "output_type": "execute_result"
    }
   ],
   "source": [
    "recommendation_customer"
   ]
  },
  {
   "cell_type": "code",
   "execution_count": 6,
   "id": "03e56c3a",
   "metadata": {},
   "outputs": [
    {
     "name": "stderr",
     "output_type": "stream",
     "text": [
      "Setting default log level to \"WARN\".\n",
      "To adjust logging level use sc.setLogLevel(newLevel). For SparkR, use setLogLevel(newLevel).\n"
     ]
    },
    {
     "name": "stdout",
     "output_type": "stream",
     "text": [
      "22/11/01 10:41:09 WARN NativeCodeLoader: Unable to load native-hadoop library for your platform... using builtin-java classes where applicable\n"
     ]
    }
   ],
   "source": [
    "import pyspark\n",
    "import numpy as np\n",
    "import pandas as pd\n",
    "from pyspark.sql import SparkSession\n",
    "from pyspark.sql import SQLContext \n",
    "from pyspark.sql.types import *\n",
    "from pyspark.sql.functions import *\n",
    "from pyspark.sql.window import *\n",
    "\n",
    "groupproject = SparkSession.builder.appName(\"HM_Recommendations\").config(\"spark.sql.files.maxPartitionBytes\", 5000000).getOrCreate()\n",
    "spark = SparkSession(groupproject)"
   ]
  },
  {
   "cell_type": "code",
   "execution_count": 7,
   "id": "f4b8ab0e",
   "metadata": {},
   "outputs": [
    {
     "name": "stdout",
     "output_type": "stream",
     "text": [
      "root\n",
      " |-- t_dat: string (nullable = true)\n",
      " |-- customer_id: string (nullable = true)\n",
      " |-- article_id: string (nullable = true)\n",
      " |-- price: string (nullable = true)\n",
      " |-- sales_channel_id: string (nullable = true)\n",
      "\n"
     ]
    }
   ],
   "source": [
    "transaction = spark.read.option(\"header\",True) \\\n",
    "              .csv(\"transactions_train.csv\")\n",
    "transaction.printSchema()"
   ]
  },
  {
   "cell_type": "code",
   "execution_count": 8,
   "id": "a2f3b70d",
   "metadata": {},
   "outputs": [
    {
     "name": "stderr",
     "output_type": "stream",
     "text": [
      "                                                                                \r"
     ]
    },
    {
     "name": "stdout",
     "output_type": "stream",
     "text": [
      "2018-09-20 2020-09-22\n"
     ]
    },
    {
     "name": "stderr",
     "output_type": "stream",
     "text": [
      "                                                                                \r"
     ]
    },
    {
     "name": "stdout",
     "output_type": "stream",
     "text": [
      "+--------------------+----------+-----+\n",
      "|         customer_id|article_id|count|\n",
      "+--------------------+----------+-----+\n",
      "|00f7bc5c0df4c615b...|0780418013|    1|\n",
      "|02094817e46f3b692...|0791587001|    1|\n",
      "|0333e5dda0257e9f4...|0839332002|    2|\n",
      "|07c7a1172caf8fb97...|0573085043|    1|\n",
      "|081373184e601470c...|0714790020|    1|\n",
      "|09bec2a61046ccbea...|0860336002|    1|\n",
      "|0be4f1ecce204ee32...|0573085028|    1|\n",
      "|0c4b30343292b5101...|0918522001|    1|\n",
      "|0e10e02358875468b...|0579541001|    1|\n",
      "|0fc371e67e61a31d7...|0907170001|    1|\n",
      "|10817b19177f6a53e...|0718278019|    1|\n",
      "|10ac90988da6052dd...|0934212003|    1|\n",
      "|14a298482fa7f9d52...|0894353002|    1|\n",
      "|14f4b1b17991c32d2...|0803685001|    1|\n",
      "|1601fa3c3f39aa623...|0730683001|    1|\n",
      "|164e1a251f0e3d764...|0831267001|    1|\n",
      "|165d2c0b0128d5619...|0909081004|    1|\n",
      "|166546028742fe655...|0767423013|    1|\n",
      "|189b7275c513a84c8...|0877711001|    1|\n",
      "|1918933afff08e955...|0914672001|    1|\n",
      "+--------------------+----------+-----+\n",
      "only showing top 20 rows\n",
      "\n"
     ]
    }
   ],
   "source": [
    "## To prevent data problems, repeat the Dataset check and data choose steps in PySpark\n",
    "from pyspark.sql.functions import min, max\n",
    "from pyspark.sql.functions import unix_timestamp, lit\n",
    "min_date, max_date = transaction.select(min(\"t_dat\"), max(\"t_dat\")).first()\n",
    "print(min_date, max_date)\n",
    "\n",
    "datahm =  transaction.withColumn('t_dat', transaction['t_dat'].cast('string'))\n",
    "datahm = datahm.withColumn('date', from_unixtime(unix_timestamp('t_dat', 'yyyy-MM-dd')))\n",
    "datahm = datahm.withColumn('year', year(col('date')))\n",
    "datahm = datahm.withColumn('month', month(col('date')))\n",
    "datahm = datahm.withColumn('day', date_format(col('date'), \"d\"))\n",
    "\n",
    "datahm = datahm[datahm['year'] == 2020]\n",
    "datahm = datahm[datahm['month'] == 9]\n",
    "datahm = datahm[datahm['day'] == 22]\n",
    "transaction.unpersist()\n",
    "\n",
    "# Prepare the dataset\n",
    "datahm = datahm.groupby('customer_id', 'article_id').count()\n",
    "datahm.show()"
   ]
  },
  {
   "cell_type": "code",
   "execution_count": 9,
   "id": "7491e8f5",
   "metadata": {},
   "outputs": [
    {
     "name": "stderr",
     "output_type": "stream",
     "text": [
      "[Stage 7:======================================================>(697 + 1) / 698]\r"
     ]
    },
    {
     "name": "stdout",
     "output_type": "stream",
     "text": [
      "+--------------------+-----+\n",
      "|         customer_id|count|\n",
      "+--------------------+-----+\n",
      "|30b6056bacc5f5c9d...|   28|\n",
      "|5e8fb4d457fdffc61...|   28|\n",
      "|dc1b173e541f8d3c1...|   27|\n",
      "|6335d496ef463bc40...|   25|\n",
      "|1796e87fd2e88932b...|   25|\n",
      "|f50287d9cf052d4b4...|   24|\n",
      "|54e8ebd39543b5a4d...|   23|\n",
      "|fd5ce8716faf00f6a...|   23|\n",
      "|850ec77661a417d27...|   22|\n",
      "|ad3663a848dccbdda...|   21|\n",
      "|32f3a6a7ce63d302c...|   21|\n",
      "|b606fe5786c00151a...|   21|\n",
      "|298523b6637340717...|   21|\n",
      "|b49647f84a99ced53...|   21|\n",
      "|fc783381f1ea2174c...|   21|\n",
      "|a08e284bb18add2d7...|   21|\n",
      "|383e1b07e2c1fe169...|   21|\n",
      "|3ca77aab50ae4532b...|   20|\n",
      "|2a721767cd9864ed5...|   20|\n",
      "|af5166e0f89b0d433...|   19|\n",
      "+--------------------+-----+\n",
      "only showing top 20 rows\n",
      "\n"
     ]
    },
    {
     "name": "stderr",
     "output_type": "stream",
     "text": [
      "\r",
      "                                                                                \r"
     ]
    }
   ],
   "source": [
    "userId_count = datahm.groupBy(\"customer_id\").count().orderBy('count', ascending=False)\n",
    "userId_count.show()"
   ]
  },
  {
   "cell_type": "code",
   "execution_count": 10,
   "id": "f8848872",
   "metadata": {},
   "outputs": [
    {
     "name": "stderr",
     "output_type": "stream",
     "text": [
      "[Stage 13:=====================================================>(697 + 1) / 698]\r"
     ]
    },
    {
     "name": "stdout",
     "output_type": "stream",
     "text": [
      "+----------+-----+\n",
      "|article_id|count|\n",
      "+----------+-----+\n",
      "|0924243002|   91|\n",
      "|0918522001|   88|\n",
      "|0866731001|   78|\n",
      "|0751471001|   75|\n",
      "|0448509014|   73|\n",
      "|0714790020|   72|\n",
      "|0762846027|   68|\n",
      "|0928206001|   67|\n",
      "|0893432002|   66|\n",
      "|0918292001|   65|\n",
      "|0915529005|   64|\n",
      "|0788575004|   63|\n",
      "|0915529003|   63|\n",
      "|0863583001|   60|\n",
      "|0930380001|   59|\n",
      "|0573085028|   59|\n",
      "|0919273002|   58|\n",
      "|0850917001|   57|\n",
      "|0573085042|   56|\n",
      "|0874110016|   53|\n",
      "+----------+-----+\n",
      "only showing top 20 rows\n",
      "\n"
     ]
    },
    {
     "name": "stderr",
     "output_type": "stream",
     "text": [
      "\r",
      "                                                                                \r"
     ]
    }
   ],
   "source": [
    "articleId_count = datahm.groupBy(\"article_id\").count().orderBy('count', ascending=False)\n",
    "articleId_count.show()"
   ]
  },
  {
   "cell_type": "code",
   "execution_count": 11,
   "id": "0d4b0424",
   "metadata": {},
   "outputs": [
    {
     "name": "stderr",
     "output_type": "stream",
     "text": [
      "[Stage 31:=====================================================>(696 + 2) / 698]\r"
     ]
    },
    {
     "name": "stdout",
     "output_type": "stream",
     "text": [
      "22/11/01 10:44:33 WARN DAGScheduler: Broadcasting large task binary with size 1210.8 KiB\n",
      "+--------------------+----------+-----+----------------+-----------------+\n",
      "|         customer_id|article_id|count|article_id_index|customer_id_index|\n",
      "+--------------------+----------+-----+----------------+-----------------+\n",
      "|00f7bc5c0df4c615b...|0780418013|    1|          2237.0|            783.0|\n",
      "|02094817e46f3b692...|0791587001|    1|            35.0|            785.0|\n",
      "|0333e5dda0257e9f4...|0839332002|    2|           732.0|           4098.0|\n",
      "|07c7a1172caf8fb97...|0573085043|    1|            44.0|           1702.0|\n",
      "|081373184e601470c...|0714790020|    1|             5.0|           4146.0|\n",
      "|09bec2a61046ccbea...|0860336002|    1|          2368.0|           6792.0|\n",
      "|0be4f1ecce204ee32...|0573085028|    1|            14.0|            799.0|\n",
      "|0c4b30343292b5101...|0918522001|    1|             1.0|           6825.0|\n",
      "|0e10e02358875468b...|0579541001|    1|            53.0|           2689.0|\n",
      "|0fc371e67e61a31d7...|0907170001|    1|          1978.0|           1737.0|\n",
      "|10817b19177f6a53e...|0718278019|    1|           419.0|            805.0|\n",
      "|10ac90988da6052dd...|0934212003|    1|          2058.0|            806.0|\n",
      "|14a298482fa7f9d52...|0894353002|    1|          3772.0|             87.0|\n",
      "|14f4b1b17991c32d2...|0803685001|    1|           725.0|           1184.0|\n",
      "|1601fa3c3f39aa623...|0730683001|    1|          2994.0|           4284.0|\n",
      "|164e1a251f0e3d764...|0831267001|    1|          5979.0|           4287.0|\n",
      "|165d2c0b0128d5619...|0909081004|    1|          1293.0|             88.0|\n",
      "|166546028742fe655...|0767423013|    1|           974.0|            814.0|\n",
      "|189b7275c513a84c8...|0877711001|    1|          6890.0|            204.0|\n",
      "|1918933afff08e955...|0914672001|    1|          7685.0|            285.0|\n",
      "+--------------------+----------+-----+----------------+-----------------+\n",
      "only showing top 20 rows\n",
      "\n"
     ]
    },
    {
     "name": "stderr",
     "output_type": "stream",
     "text": [
      "\r",
      "                                                                                \r"
     ]
    }
   ],
   "source": [
    "from pyspark.ml.evaluation import RegressionEvaluator\n",
    "from pyspark.ml.feature import StringIndexer\n",
    "from pyspark.ml import Pipeline\n",
    "from pyspark.sql.functions import col\n",
    "\n",
    "indexer = [StringIndexer(inputCol=column, outputCol=column+\"_index\") for column in list(set(datahm.columns)-set(['count'])) ]\n",
    "pipeline = Pipeline(stages=indexer)\n",
    "transformed = pipeline.fit(datahm).transform(datahm)\n",
    "transformed.show()"
   ]
  },
  {
   "cell_type": "code",
   "execution_count": 12,
   "id": "d146ad95",
   "metadata": {},
   "outputs": [
    {
     "name": "stderr",
     "output_type": "stream",
     "text": [
      "[Stage 34:=====================================================>(696 + 2) / 698]\r"
     ]
    },
    {
     "name": "stdout",
     "output_type": "stream",
     "text": [
      "22/11/01 10:45:03 WARN DAGScheduler: Broadcasting large task binary with size 1207.7 KiB\n"
     ]
    },
    {
     "name": "stderr",
     "output_type": "stream",
     "text": [
      "\r",
      "                                                                                \r"
     ]
    },
    {
     "data": {
      "text/html": [
       "<div>\n",
       "<style scoped>\n",
       "    .dataframe tbody tr th:only-of-type {\n",
       "        vertical-align: middle;\n",
       "    }\n",
       "\n",
       "    .dataframe tbody tr th {\n",
       "        vertical-align: top;\n",
       "    }\n",
       "\n",
       "    .dataframe thead th {\n",
       "        text-align: right;\n",
       "    }\n",
       "</style>\n",
       "<table border=\"1\" class=\"dataframe\">\n",
       "  <thead>\n",
       "    <tr style=\"text-align: right;\">\n",
       "      <th></th>\n",
       "      <th>article_id</th>\n",
       "      <th>article_id_index</th>\n",
       "      <th>customer_id</th>\n",
       "      <th>customer_id_index</th>\n",
       "    </tr>\n",
       "  </thead>\n",
       "  <tbody>\n",
       "    <tr>\n",
       "      <th>0</th>\n",
       "      <td>0780418013</td>\n",
       "      <td>2237.0</td>\n",
       "      <td>00f7bc5c0df4c615b2502a2c2e9ef9eff988c81dec2e5e...</td>\n",
       "      <td>783.0</td>\n",
       "    </tr>\n",
       "    <tr>\n",
       "      <th>1</th>\n",
       "      <td>0791587001</td>\n",
       "      <td>35.0</td>\n",
       "      <td>02094817e46f3b692149b06cf9577e42848c2294e78598...</td>\n",
       "      <td>785.0</td>\n",
       "    </tr>\n",
       "    <tr>\n",
       "      <th>2</th>\n",
       "      <td>0839332002</td>\n",
       "      <td>732.0</td>\n",
       "      <td>0333e5dda0257e9f498be52f1e569bfae576caed0cbdcd...</td>\n",
       "      <td>4098.0</td>\n",
       "    </tr>\n",
       "    <tr>\n",
       "      <th>3</th>\n",
       "      <td>0573085043</td>\n",
       "      <td>44.0</td>\n",
       "      <td>07c7a1172caf8fb9784b28e51b25b985ab6a1ec7ce923e...</td>\n",
       "      <td>1702.0</td>\n",
       "    </tr>\n",
       "    <tr>\n",
       "      <th>4</th>\n",
       "      <td>0714790020</td>\n",
       "      <td>5.0</td>\n",
       "      <td>081373184e601470cc9911f33d3eeebc6f33ed79222573...</td>\n",
       "      <td>4146.0</td>\n",
       "    </tr>\n",
       "    <tr>\n",
       "      <th>...</th>\n",
       "      <td>...</td>\n",
       "      <td>...</td>\n",
       "      <td>...</td>\n",
       "      <td>...</td>\n",
       "    </tr>\n",
       "    <tr>\n",
       "      <th>29481</th>\n",
       "      <td>0817150004</td>\n",
       "      <td>851.0</td>\n",
       "      <td>f8156f726aeaf44e90c1988837e13c9c9974ee19009e5b...</td>\n",
       "      <td>2594.0</td>\n",
       "    </tr>\n",
       "    <tr>\n",
       "      <th>29482</th>\n",
       "      <td>0893432005</td>\n",
       "      <td>96.0</td>\n",
       "      <td>f825202d015506981dc42c53afb7b56a36e05c85b67886...</td>\n",
       "      <td>1657.0</td>\n",
       "    </tr>\n",
       "    <tr>\n",
       "      <th>29483</th>\n",
       "      <td>0799754001</td>\n",
       "      <td>5499.0</td>\n",
       "      <td>faed38aaccd80db66f5a1581fe99af84e79fe398c91899...</td>\n",
       "      <td>10465.0</td>\n",
       "    </tr>\n",
       "    <tr>\n",
       "      <th>29484</th>\n",
       "      <td>0928206001</td>\n",
       "      <td>7.0</td>\n",
       "      <td>fcffcb9777aab7a53e3b382a840958d800e6d53bdd8a20...</td>\n",
       "      <td>4052.0</td>\n",
       "    </tr>\n",
       "    <tr>\n",
       "      <th>29485</th>\n",
       "      <td>0920610002</td>\n",
       "      <td>1083.0</td>\n",
       "      <td>fd2656196657c7f6a9aedf5361f813ed589b7cc5a116ca...</td>\n",
       "      <td>6636.0</td>\n",
       "    </tr>\n",
       "  </tbody>\n",
       "</table>\n",
       "<p>29486 rows × 4 columns</p>\n",
       "</div>"
      ],
      "text/plain": [
       "       article_id  article_id_index  \\\n",
       "0      0780418013            2237.0   \n",
       "1      0791587001              35.0   \n",
       "2      0839332002             732.0   \n",
       "3      0573085043              44.0   \n",
       "4      0714790020               5.0   \n",
       "...           ...               ...   \n",
       "29481  0817150004             851.0   \n",
       "29482  0893432005              96.0   \n",
       "29483  0799754001            5499.0   \n",
       "29484  0928206001               7.0   \n",
       "29485  0920610002            1083.0   \n",
       "\n",
       "                                             customer_id  customer_id_index  \n",
       "0      00f7bc5c0df4c615b2502a2c2e9ef9eff988c81dec2e5e...              783.0  \n",
       "1      02094817e46f3b692149b06cf9577e42848c2294e78598...              785.0  \n",
       "2      0333e5dda0257e9f498be52f1e569bfae576caed0cbdcd...             4098.0  \n",
       "3      07c7a1172caf8fb9784b28e51b25b985ab6a1ec7ce923e...             1702.0  \n",
       "4      081373184e601470cc9911f33d3eeebc6f33ed79222573...             4146.0  \n",
       "...                                                  ...                ...  \n",
       "29481  f8156f726aeaf44e90c1988837e13c9c9974ee19009e5b...             2594.0  \n",
       "29482  f825202d015506981dc42c53afb7b56a36e05c85b67886...             1657.0  \n",
       "29483  faed38aaccd80db66f5a1581fe99af84e79fe398c91899...            10465.0  \n",
       "29484  fcffcb9777aab7a53e3b382a840958d800e6d53bdd8a20...             4052.0  \n",
       "29485  fd2656196657c7f6a9aedf5361f813ed589b7cc5a116ca...             6636.0  \n",
       "\n",
       "[29486 rows x 4 columns]"
      ]
     },
     "execution_count": 12,
     "metadata": {},
     "output_type": "execute_result"
    }
   ],
   "source": [
    "## select the column from the original dataset\n",
    "df_trans = transformed.select(transformed['article_id'],transformed['article_id_index']\n",
    "                        ,transformed['customer_id'],transformed['customer_id_index'])\n",
    "df_trans = df_trans.toPandas()\n",
    "df_trans"
   ]
  },
  {
   "cell_type": "code",
   "execution_count": 13,
   "id": "b739102a",
   "metadata": {},
   "outputs": [
    {
     "data": {
      "text/html": [
       "<div>\n",
       "<style scoped>\n",
       "    .dataframe tbody tr th:only-of-type {\n",
       "        vertical-align: middle;\n",
       "    }\n",
       "\n",
       "    .dataframe tbody tr th {\n",
       "        vertical-align: top;\n",
       "    }\n",
       "\n",
       "    .dataframe thead th {\n",
       "        text-align: right;\n",
       "    }\n",
       "</style>\n",
       "<table border=\"1\" class=\"dataframe\">\n",
       "  <thead>\n",
       "    <tr style=\"text-align: right;\">\n",
       "      <th></th>\n",
       "      <th>customer_id</th>\n",
       "      <th>article_id</th>\n",
       "    </tr>\n",
       "  </thead>\n",
       "  <tbody>\n",
       "    <tr>\n",
       "      <th>0</th>\n",
       "      <td>a08e284bb18add2d71129f0c9bf6a1b4e7a16ae4af54a4...</td>\n",
       "      <td>[0857030003, 0942955002, 0807362001, 083437800...</td>\n",
       "    </tr>\n",
       "    <tr>\n",
       "      <th>1</th>\n",
       "      <td>012611429367ef74cb9008dcf0069284501071e90717e5...</td>\n",
       "      <td>[0860820001, 0807362001, 0857030003, 067405201...</td>\n",
       "    </tr>\n",
       "    <tr>\n",
       "      <th>2</th>\n",
       "      <td>b082866c41c9301903250bb9b1a93083bbd741ec4bfcb5...</td>\n",
       "      <td>[0857030003, 0808628001, 0674052013, 081741600...</td>\n",
       "    </tr>\n",
       "    <tr>\n",
       "      <th>3</th>\n",
       "      <td>071462f2e395227659c39d35f6692bbf2854cd78cf53c9...</td>\n",
       "      <td>[0857030003, 0807362001, 0674052013, 071139900...</td>\n",
       "    </tr>\n",
       "    <tr>\n",
       "      <th>4</th>\n",
       "      <td>4ebaab0fab59c10a4aebc458de70477499a356716e606e...</td>\n",
       "      <td>[0857030003, 0807362001, 0810818001, 089421000...</td>\n",
       "    </tr>\n",
       "    <tr>\n",
       "      <th>...</th>\n",
       "      <td>...</td>\n",
       "      <td>...</td>\n",
       "    </tr>\n",
       "    <tr>\n",
       "      <th>10037</th>\n",
       "      <td>e8e625a95270f99feadfd45242b504d0f2e57facb956d3...</td>\n",
       "      <td>[0857030003, 0894210001, 0810818001, 080736200...</td>\n",
       "    </tr>\n",
       "    <tr>\n",
       "      <th>10038</th>\n",
       "      <td>eeed0202a669f67ba050545db289842e9a9f24d1c62308...</td>\n",
       "      <td>[0857030003, 0810818001, 0883684002, 080736200...</td>\n",
       "    </tr>\n",
       "    <tr>\n",
       "      <th>10039</th>\n",
       "      <td>f1e5da9d758bc02250442977641796133c6018c2474eb2...</td>\n",
       "      <td>[0894210001, 0942955002, 0807362001, 067405201...</td>\n",
       "    </tr>\n",
       "    <tr>\n",
       "      <th>10040</th>\n",
       "      <td>f5bd9cb67bcd2bdf3358fdf52c5afba8d8574571faf0f8...</td>\n",
       "      <td>[0894210001, 0857030003, 0834378002, 080736200...</td>\n",
       "    </tr>\n",
       "    <tr>\n",
       "      <th>10041</th>\n",
       "      <td>f70588b8e99bda6b240b8ff381deff5fc1333ccffdb5e1...</td>\n",
       "      <td>[0857030003, 0894210001, 0807362001, 086592600...</td>\n",
       "    </tr>\n",
       "  </tbody>\n",
       "</table>\n",
       "<p>10042 rows × 2 columns</p>\n",
       "</div>"
      ],
      "text/plain": [
       "                                             customer_id  \\\n",
       "0      a08e284bb18add2d71129f0c9bf6a1b4e7a16ae4af54a4...   \n",
       "1      012611429367ef74cb9008dcf0069284501071e90717e5...   \n",
       "2      b082866c41c9301903250bb9b1a93083bbd741ec4bfcb5...   \n",
       "3      071462f2e395227659c39d35f6692bbf2854cd78cf53c9...   \n",
       "4      4ebaab0fab59c10a4aebc458de70477499a356716e606e...   \n",
       "...                                                  ...   \n",
       "10037  e8e625a95270f99feadfd45242b504d0f2e57facb956d3...   \n",
       "10038  eeed0202a669f67ba050545db289842e9a9f24d1c62308...   \n",
       "10039  f1e5da9d758bc02250442977641796133c6018c2474eb2...   \n",
       "10040  f5bd9cb67bcd2bdf3358fdf52c5afba8d8574571faf0f8...   \n",
       "10041  f70588b8e99bda6b240b8ff381deff5fc1333ccffdb5e1...   \n",
       "\n",
       "                                              article_id  \n",
       "0      [0857030003, 0942955002, 0807362001, 083437800...  \n",
       "1      [0860820001, 0807362001, 0857030003, 067405201...  \n",
       "2      [0857030003, 0808628001, 0674052013, 081741600...  \n",
       "3      [0857030003, 0807362001, 0674052013, 071139900...  \n",
       "4      [0857030003, 0807362001, 0810818001, 089421000...  \n",
       "...                                                  ...  \n",
       "10037  [0857030003, 0894210001, 0810818001, 080736200...  \n",
       "10038  [0857030003, 0810818001, 0883684002, 080736200...  \n",
       "10039  [0894210001, 0942955002, 0807362001, 067405201...  \n",
       "10040  [0894210001, 0857030003, 0834378002, 080736200...  \n",
       "10041  [0857030003, 0894210001, 0807362001, 086592600...  \n",
       "\n",
       "[10042 rows x 2 columns]"
      ]
     },
     "execution_count": 13,
     "metadata": {},
     "output_type": "execute_result"
    }
   ],
   "source": [
    "dict1 =dict(zip(df_trans['article_id_index'],df_trans['article_id']))\n",
    "dict2 = dict(zip(df_trans['customer_id_index'],df_trans['customer_id']))\n",
    "## select 5 articles for each customer\n",
    "recommendation_customer['article_id'] = recommendation_customer['article_id_index'].map(\n",
    "    lambda x: [dict1[y] for y in x if y in dict1][:5])\n",
    "recommendation_customer['customer_id']=recommendation_customer['customer_id_index'].map(dict2)\n",
    "recommendation_customer.drop(['customer_id_index','article_id_index'], axis = 1)\n",
    "recommendation = recommendation_customer[['customer_id','article_id']]\n",
    "recommendation"
   ]
  },
  {
   "cell_type": "code",
   "execution_count": 15,
   "id": "9ad2e9a5",
   "metadata": {},
   "outputs": [],
   "source": [
    "recommendation.to_csv('recommendation.csv',index=False)"
   ]
  },
  {
   "cell_type": "code",
   "execution_count": null,
   "id": "6def0594",
   "metadata": {},
   "outputs": [],
   "source": []
  }
 ],
 "metadata": {
  "kernelspec": {
   "display_name": "Python 3 (ipykernel)",
   "language": "python",
   "name": "python3"
  },
  "language_info": {
   "codemirror_mode": {
    "name": "ipython",
    "version": 3
   },
   "file_extension": ".py",
   "mimetype": "text/x-python",
   "name": "python",
   "nbconvert_exporter": "python",
   "pygments_lexer": "ipython3",
   "version": "3.9.7"
  }
 },
 "nbformat": 4,
 "nbformat_minor": 5
}
